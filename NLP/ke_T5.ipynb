{
  "nbformat": 4,
  "nbformat_minor": 0,
  "metadata": {
    "colab": {
      "name": "ke-T5",
      "provenance": [],
      "collapsed_sections": [],
      "machine_shape": "hm",
      "background_execution": "on",
      "toc_visible": true
    },
    "kernelspec": {
      "name": "python3",
      "display_name": "Python 3"
    },
    "language_info": {
      "name": "python"
    },
    "accelerator": "GPU",
    "widgets": {
      "application/vnd.jupyter.widget-state+json": {
        "bd8eae9c1e3b4be980c6a03ebd553d1a": {
          "model_module": "@jupyter-widgets/controls",
          "model_name": "HBoxModel",
          "model_module_version": "1.5.0",
          "state": {
            "_dom_classes": [],
            "_model_module": "@jupyter-widgets/controls",
            "_model_module_version": "1.5.0",
            "_model_name": "HBoxModel",
            "_view_count": null,
            "_view_module": "@jupyter-widgets/controls",
            "_view_module_version": "1.5.0",
            "_view_name": "HBoxView",
            "box_style": "",
            "children": [
              "IPY_MODEL_92d6fdaab60847c090d4f748457a4d10",
              "IPY_MODEL_8c0ed00230e5432898fe0270b0ee99d2",
              "IPY_MODEL_5596c051221d4b1689b0a989b5d07bc5"
            ],
            "layout": "IPY_MODEL_d1c141e9d4f144a487f7ad72ea0d0442"
          }
        },
        "92d6fdaab60847c090d4f748457a4d10": {
          "model_module": "@jupyter-widgets/controls",
          "model_name": "HTMLModel",
          "model_module_version": "1.5.0",
          "state": {
            "_dom_classes": [],
            "_model_module": "@jupyter-widgets/controls",
            "_model_module_version": "1.5.0",
            "_model_name": "HTMLModel",
            "_view_count": null,
            "_view_module": "@jupyter-widgets/controls",
            "_view_module_version": "1.5.0",
            "_view_name": "HTMLView",
            "description": "",
            "description_tooltip": null,
            "layout": "IPY_MODEL_30de5dabf74c4b0c96de39d68ec7e696",
            "placeholder": "​",
            "style": "IPY_MODEL_f9678196ccd945e0b6d1732458ca780d",
            "value": "Downloading: 100%"
          }
        },
        "8c0ed00230e5432898fe0270b0ee99d2": {
          "model_module": "@jupyter-widgets/controls",
          "model_name": "FloatProgressModel",
          "model_module_version": "1.5.0",
          "state": {
            "_dom_classes": [],
            "_model_module": "@jupyter-widgets/controls",
            "_model_module_version": "1.5.0",
            "_model_name": "FloatProgressModel",
            "_view_count": null,
            "_view_module": "@jupyter-widgets/controls",
            "_view_module_version": "1.5.0",
            "_view_name": "ProgressView",
            "bar_style": "success",
            "description": "",
            "description_tooltip": null,
            "layout": "IPY_MODEL_b03094db3de6446c888bc75579f91685",
            "max": 599,
            "min": 0,
            "orientation": "horizontal",
            "style": "IPY_MODEL_755d915232c2428689a531dd68f9a634",
            "value": 599
          }
        },
        "5596c051221d4b1689b0a989b5d07bc5": {
          "model_module": "@jupyter-widgets/controls",
          "model_name": "HTMLModel",
          "model_module_version": "1.5.0",
          "state": {
            "_dom_classes": [],
            "_model_module": "@jupyter-widgets/controls",
            "_model_module_version": "1.5.0",
            "_model_name": "HTMLModel",
            "_view_count": null,
            "_view_module": "@jupyter-widgets/controls",
            "_view_module_version": "1.5.0",
            "_view_name": "HTMLView",
            "description": "",
            "description_tooltip": null,
            "layout": "IPY_MODEL_744347932f50468886602ba138348d90",
            "placeholder": "​",
            "style": "IPY_MODEL_caeb9a961f60473a83c29c298601b034",
            "value": " 599/599 [00:00&lt;00:00, 19.8kB/s]"
          }
        },
        "d1c141e9d4f144a487f7ad72ea0d0442": {
          "model_module": "@jupyter-widgets/base",
          "model_name": "LayoutModel",
          "model_module_version": "1.2.0",
          "state": {
            "_model_module": "@jupyter-widgets/base",
            "_model_module_version": "1.2.0",
            "_model_name": "LayoutModel",
            "_view_count": null,
            "_view_module": "@jupyter-widgets/base",
            "_view_module_version": "1.2.0",
            "_view_name": "LayoutView",
            "align_content": null,
            "align_items": null,
            "align_self": null,
            "border": null,
            "bottom": null,
            "display": null,
            "flex": null,
            "flex_flow": null,
            "grid_area": null,
            "grid_auto_columns": null,
            "grid_auto_flow": null,
            "grid_auto_rows": null,
            "grid_column": null,
            "grid_gap": null,
            "grid_row": null,
            "grid_template_areas": null,
            "grid_template_columns": null,
            "grid_template_rows": null,
            "height": null,
            "justify_content": null,
            "justify_items": null,
            "left": null,
            "margin": null,
            "max_height": null,
            "max_width": null,
            "min_height": null,
            "min_width": null,
            "object_fit": null,
            "object_position": null,
            "order": null,
            "overflow": null,
            "overflow_x": null,
            "overflow_y": null,
            "padding": null,
            "right": null,
            "top": null,
            "visibility": null,
            "width": null
          }
        },
        "30de5dabf74c4b0c96de39d68ec7e696": {
          "model_module": "@jupyter-widgets/base",
          "model_name": "LayoutModel",
          "model_module_version": "1.2.0",
          "state": {
            "_model_module": "@jupyter-widgets/base",
            "_model_module_version": "1.2.0",
            "_model_name": "LayoutModel",
            "_view_count": null,
            "_view_module": "@jupyter-widgets/base",
            "_view_module_version": "1.2.0",
            "_view_name": "LayoutView",
            "align_content": null,
            "align_items": null,
            "align_self": null,
            "border": null,
            "bottom": null,
            "display": null,
            "flex": null,
            "flex_flow": null,
            "grid_area": null,
            "grid_auto_columns": null,
            "grid_auto_flow": null,
            "grid_auto_rows": null,
            "grid_column": null,
            "grid_gap": null,
            "grid_row": null,
            "grid_template_areas": null,
            "grid_template_columns": null,
            "grid_template_rows": null,
            "height": null,
            "justify_content": null,
            "justify_items": null,
            "left": null,
            "margin": null,
            "max_height": null,
            "max_width": null,
            "min_height": null,
            "min_width": null,
            "object_fit": null,
            "object_position": null,
            "order": null,
            "overflow": null,
            "overflow_x": null,
            "overflow_y": null,
            "padding": null,
            "right": null,
            "top": null,
            "visibility": null,
            "width": null
          }
        },
        "f9678196ccd945e0b6d1732458ca780d": {
          "model_module": "@jupyter-widgets/controls",
          "model_name": "DescriptionStyleModel",
          "model_module_version": "1.5.0",
          "state": {
            "_model_module": "@jupyter-widgets/controls",
            "_model_module_version": "1.5.0",
            "_model_name": "DescriptionStyleModel",
            "_view_count": null,
            "_view_module": "@jupyter-widgets/base",
            "_view_module_version": "1.2.0",
            "_view_name": "StyleView",
            "description_width": ""
          }
        },
        "b03094db3de6446c888bc75579f91685": {
          "model_module": "@jupyter-widgets/base",
          "model_name": "LayoutModel",
          "model_module_version": "1.2.0",
          "state": {
            "_model_module": "@jupyter-widgets/base",
            "_model_module_version": "1.2.0",
            "_model_name": "LayoutModel",
            "_view_count": null,
            "_view_module": "@jupyter-widgets/base",
            "_view_module_version": "1.2.0",
            "_view_name": "LayoutView",
            "align_content": null,
            "align_items": null,
            "align_self": null,
            "border": null,
            "bottom": null,
            "display": null,
            "flex": null,
            "flex_flow": null,
            "grid_area": null,
            "grid_auto_columns": null,
            "grid_auto_flow": null,
            "grid_auto_rows": null,
            "grid_column": null,
            "grid_gap": null,
            "grid_row": null,
            "grid_template_areas": null,
            "grid_template_columns": null,
            "grid_template_rows": null,
            "height": null,
            "justify_content": null,
            "justify_items": null,
            "left": null,
            "margin": null,
            "max_height": null,
            "max_width": null,
            "min_height": null,
            "min_width": null,
            "object_fit": null,
            "object_position": null,
            "order": null,
            "overflow": null,
            "overflow_x": null,
            "overflow_y": null,
            "padding": null,
            "right": null,
            "top": null,
            "visibility": null,
            "width": null
          }
        },
        "755d915232c2428689a531dd68f9a634": {
          "model_module": "@jupyter-widgets/controls",
          "model_name": "ProgressStyleModel",
          "model_module_version": "1.5.0",
          "state": {
            "_model_module": "@jupyter-widgets/controls",
            "_model_module_version": "1.5.0",
            "_model_name": "ProgressStyleModel",
            "_view_count": null,
            "_view_module": "@jupyter-widgets/base",
            "_view_module_version": "1.2.0",
            "_view_name": "StyleView",
            "bar_color": null,
            "description_width": ""
          }
        },
        "744347932f50468886602ba138348d90": {
          "model_module": "@jupyter-widgets/base",
          "model_name": "LayoutModel",
          "model_module_version": "1.2.0",
          "state": {
            "_model_module": "@jupyter-widgets/base",
            "_model_module_version": "1.2.0",
            "_model_name": "LayoutModel",
            "_view_count": null,
            "_view_module": "@jupyter-widgets/base",
            "_view_module_version": "1.2.0",
            "_view_name": "LayoutView",
            "align_content": null,
            "align_items": null,
            "align_self": null,
            "border": null,
            "bottom": null,
            "display": null,
            "flex": null,
            "flex_flow": null,
            "grid_area": null,
            "grid_auto_columns": null,
            "grid_auto_flow": null,
            "grid_auto_rows": null,
            "grid_column": null,
            "grid_gap": null,
            "grid_row": null,
            "grid_template_areas": null,
            "grid_template_columns": null,
            "grid_template_rows": null,
            "height": null,
            "justify_content": null,
            "justify_items": null,
            "left": null,
            "margin": null,
            "max_height": null,
            "max_width": null,
            "min_height": null,
            "min_width": null,
            "object_fit": null,
            "object_position": null,
            "order": null,
            "overflow": null,
            "overflow_x": null,
            "overflow_y": null,
            "padding": null,
            "right": null,
            "top": null,
            "visibility": null,
            "width": null
          }
        },
        "caeb9a961f60473a83c29c298601b034": {
          "model_module": "@jupyter-widgets/controls",
          "model_name": "DescriptionStyleModel",
          "model_module_version": "1.5.0",
          "state": {
            "_model_module": "@jupyter-widgets/controls",
            "_model_module_version": "1.5.0",
            "_model_name": "DescriptionStyleModel",
            "_view_count": null,
            "_view_module": "@jupyter-widgets/base",
            "_view_module_version": "1.2.0",
            "_view_name": "StyleView",
            "description_width": ""
          }
        },
        "cb658ba1b5934d98bb1ccab471b1c01f": {
          "model_module": "@jupyter-widgets/controls",
          "model_name": "HBoxModel",
          "model_module_version": "1.5.0",
          "state": {
            "_dom_classes": [],
            "_model_module": "@jupyter-widgets/controls",
            "_model_module_version": "1.5.0",
            "_model_name": "HBoxModel",
            "_view_count": null,
            "_view_module": "@jupyter-widgets/controls",
            "_view_module_version": "1.5.0",
            "_view_name": "HBoxView",
            "box_style": "",
            "children": [
              "IPY_MODEL_ce590432ed4a44f5a058e80e823b8ab2",
              "IPY_MODEL_3ad44cff822649e28724d9fe1ee65932",
              "IPY_MODEL_95ccb4238e284a55a1068ae55a001ca6"
            ],
            "layout": "IPY_MODEL_b0f713f898e0406cadbce0eeb04f5615"
          }
        },
        "ce590432ed4a44f5a058e80e823b8ab2": {
          "model_module": "@jupyter-widgets/controls",
          "model_name": "HTMLModel",
          "model_module_version": "1.5.0",
          "state": {
            "_dom_classes": [],
            "_model_module": "@jupyter-widgets/controls",
            "_model_module_version": "1.5.0",
            "_model_name": "HTMLModel",
            "_view_count": null,
            "_view_module": "@jupyter-widgets/controls",
            "_view_module_version": "1.5.0",
            "_view_name": "HTMLView",
            "description": "",
            "description_tooltip": null,
            "layout": "IPY_MODEL_39f009e457bf41b893537ac296895711",
            "placeholder": "​",
            "style": "IPY_MODEL_83d0052d95334dd49fd0e5f4b123e593",
            "value": "Downloading: 100%"
          }
        },
        "3ad44cff822649e28724d9fe1ee65932": {
          "model_module": "@jupyter-widgets/controls",
          "model_name": "FloatProgressModel",
          "model_module_version": "1.5.0",
          "state": {
            "_dom_classes": [],
            "_model_module": "@jupyter-widgets/controls",
            "_model_module_version": "1.5.0",
            "_model_name": "FloatProgressModel",
            "_view_count": null,
            "_view_module": "@jupyter-widgets/controls",
            "_view_module_version": "1.5.0",
            "_view_name": "ProgressView",
            "bar_style": "success",
            "description": "",
            "description_tooltip": null,
            "layout": "IPY_MODEL_05912c507efe493197793fabd6301d32",
            "max": 990048016,
            "min": 0,
            "orientation": "horizontal",
            "style": "IPY_MODEL_e6c097d2189f44a99bdf3e91129b9f97",
            "value": 990048016
          }
        },
        "95ccb4238e284a55a1068ae55a001ca6": {
          "model_module": "@jupyter-widgets/controls",
          "model_name": "HTMLModel",
          "model_module_version": "1.5.0",
          "state": {
            "_dom_classes": [],
            "_model_module": "@jupyter-widgets/controls",
            "_model_module_version": "1.5.0",
            "_model_name": "HTMLModel",
            "_view_count": null,
            "_view_module": "@jupyter-widgets/controls",
            "_view_module_version": "1.5.0",
            "_view_name": "HTMLView",
            "description": "",
            "description_tooltip": null,
            "layout": "IPY_MODEL_ba259e303d544d9f842b981ad1c41912",
            "placeholder": "​",
            "style": "IPY_MODEL_c0765ecccefa4583bddb823e75fd261a",
            "value": " 990M/990M [00:30&lt;00:00, 40.2MB/s]"
          }
        },
        "b0f713f898e0406cadbce0eeb04f5615": {
          "model_module": "@jupyter-widgets/base",
          "model_name": "LayoutModel",
          "model_module_version": "1.2.0",
          "state": {
            "_model_module": "@jupyter-widgets/base",
            "_model_module_version": "1.2.0",
            "_model_name": "LayoutModel",
            "_view_count": null,
            "_view_module": "@jupyter-widgets/base",
            "_view_module_version": "1.2.0",
            "_view_name": "LayoutView",
            "align_content": null,
            "align_items": null,
            "align_self": null,
            "border": null,
            "bottom": null,
            "display": null,
            "flex": null,
            "flex_flow": null,
            "grid_area": null,
            "grid_auto_columns": null,
            "grid_auto_flow": null,
            "grid_auto_rows": null,
            "grid_column": null,
            "grid_gap": null,
            "grid_row": null,
            "grid_template_areas": null,
            "grid_template_columns": null,
            "grid_template_rows": null,
            "height": null,
            "justify_content": null,
            "justify_items": null,
            "left": null,
            "margin": null,
            "max_height": null,
            "max_width": null,
            "min_height": null,
            "min_width": null,
            "object_fit": null,
            "object_position": null,
            "order": null,
            "overflow": null,
            "overflow_x": null,
            "overflow_y": null,
            "padding": null,
            "right": null,
            "top": null,
            "visibility": null,
            "width": null
          }
        },
        "39f009e457bf41b893537ac296895711": {
          "model_module": "@jupyter-widgets/base",
          "model_name": "LayoutModel",
          "model_module_version": "1.2.0",
          "state": {
            "_model_module": "@jupyter-widgets/base",
            "_model_module_version": "1.2.0",
            "_model_name": "LayoutModel",
            "_view_count": null,
            "_view_module": "@jupyter-widgets/base",
            "_view_module_version": "1.2.0",
            "_view_name": "LayoutView",
            "align_content": null,
            "align_items": null,
            "align_self": null,
            "border": null,
            "bottom": null,
            "display": null,
            "flex": null,
            "flex_flow": null,
            "grid_area": null,
            "grid_auto_columns": null,
            "grid_auto_flow": null,
            "grid_auto_rows": null,
            "grid_column": null,
            "grid_gap": null,
            "grid_row": null,
            "grid_template_areas": null,
            "grid_template_columns": null,
            "grid_template_rows": null,
            "height": null,
            "justify_content": null,
            "justify_items": null,
            "left": null,
            "margin": null,
            "max_height": null,
            "max_width": null,
            "min_height": null,
            "min_width": null,
            "object_fit": null,
            "object_position": null,
            "order": null,
            "overflow": null,
            "overflow_x": null,
            "overflow_y": null,
            "padding": null,
            "right": null,
            "top": null,
            "visibility": null,
            "width": null
          }
        },
        "83d0052d95334dd49fd0e5f4b123e593": {
          "model_module": "@jupyter-widgets/controls",
          "model_name": "DescriptionStyleModel",
          "model_module_version": "1.5.0",
          "state": {
            "_model_module": "@jupyter-widgets/controls",
            "_model_module_version": "1.5.0",
            "_model_name": "DescriptionStyleModel",
            "_view_count": null,
            "_view_module": "@jupyter-widgets/base",
            "_view_module_version": "1.2.0",
            "_view_name": "StyleView",
            "description_width": ""
          }
        },
        "05912c507efe493197793fabd6301d32": {
          "model_module": "@jupyter-widgets/base",
          "model_name": "LayoutModel",
          "model_module_version": "1.2.0",
          "state": {
            "_model_module": "@jupyter-widgets/base",
            "_model_module_version": "1.2.0",
            "_model_name": "LayoutModel",
            "_view_count": null,
            "_view_module": "@jupyter-widgets/base",
            "_view_module_version": "1.2.0",
            "_view_name": "LayoutView",
            "align_content": null,
            "align_items": null,
            "align_self": null,
            "border": null,
            "bottom": null,
            "display": null,
            "flex": null,
            "flex_flow": null,
            "grid_area": null,
            "grid_auto_columns": null,
            "grid_auto_flow": null,
            "grid_auto_rows": null,
            "grid_column": null,
            "grid_gap": null,
            "grid_row": null,
            "grid_template_areas": null,
            "grid_template_columns": null,
            "grid_template_rows": null,
            "height": null,
            "justify_content": null,
            "justify_items": null,
            "left": null,
            "margin": null,
            "max_height": null,
            "max_width": null,
            "min_height": null,
            "min_width": null,
            "object_fit": null,
            "object_position": null,
            "order": null,
            "overflow": null,
            "overflow_x": null,
            "overflow_y": null,
            "padding": null,
            "right": null,
            "top": null,
            "visibility": null,
            "width": null
          }
        },
        "e6c097d2189f44a99bdf3e91129b9f97": {
          "model_module": "@jupyter-widgets/controls",
          "model_name": "ProgressStyleModel",
          "model_module_version": "1.5.0",
          "state": {
            "_model_module": "@jupyter-widgets/controls",
            "_model_module_version": "1.5.0",
            "_model_name": "ProgressStyleModel",
            "_view_count": null,
            "_view_module": "@jupyter-widgets/base",
            "_view_module_version": "1.2.0",
            "_view_name": "StyleView",
            "bar_color": null,
            "description_width": ""
          }
        },
        "ba259e303d544d9f842b981ad1c41912": {
          "model_module": "@jupyter-widgets/base",
          "model_name": "LayoutModel",
          "model_module_version": "1.2.0",
          "state": {
            "_model_module": "@jupyter-widgets/base",
            "_model_module_version": "1.2.0",
            "_model_name": "LayoutModel",
            "_view_count": null,
            "_view_module": "@jupyter-widgets/base",
            "_view_module_version": "1.2.0",
            "_view_name": "LayoutView",
            "align_content": null,
            "align_items": null,
            "align_self": null,
            "border": null,
            "bottom": null,
            "display": null,
            "flex": null,
            "flex_flow": null,
            "grid_area": null,
            "grid_auto_columns": null,
            "grid_auto_flow": null,
            "grid_auto_rows": null,
            "grid_column": null,
            "grid_gap": null,
            "grid_row": null,
            "grid_template_areas": null,
            "grid_template_columns": null,
            "grid_template_rows": null,
            "height": null,
            "justify_content": null,
            "justify_items": null,
            "left": null,
            "margin": null,
            "max_height": null,
            "max_width": null,
            "min_height": null,
            "min_width": null,
            "object_fit": null,
            "object_position": null,
            "order": null,
            "overflow": null,
            "overflow_x": null,
            "overflow_y": null,
            "padding": null,
            "right": null,
            "top": null,
            "visibility": null,
            "width": null
          }
        },
        "c0765ecccefa4583bddb823e75fd261a": {
          "model_module": "@jupyter-widgets/controls",
          "model_name": "DescriptionStyleModel",
          "model_module_version": "1.5.0",
          "state": {
            "_model_module": "@jupyter-widgets/controls",
            "_model_module_version": "1.5.0",
            "_model_name": "DescriptionStyleModel",
            "_view_count": null,
            "_view_module": "@jupyter-widgets/base",
            "_view_module_version": "1.2.0",
            "_view_name": "StyleView",
            "description_width": ""
          }
        },
        "6e14890995f943fa88f834af606db707": {
          "model_module": "@jupyter-widgets/controls",
          "model_name": "HBoxModel",
          "model_module_version": "1.5.0",
          "state": {
            "_dom_classes": [],
            "_model_module": "@jupyter-widgets/controls",
            "_model_module_version": "1.5.0",
            "_model_name": "HBoxModel",
            "_view_count": null,
            "_view_module": "@jupyter-widgets/controls",
            "_view_module_version": "1.5.0",
            "_view_name": "HBoxView",
            "box_style": "",
            "children": [
              "IPY_MODEL_7e944f3f8ee44d17a988a41bf93ee8ba",
              "IPY_MODEL_8924d61f33db402db4f2c14a67d624f7",
              "IPY_MODEL_672adeee422d4548a70f3ad3b406df9b"
            ],
            "layout": "IPY_MODEL_53b1f5ab3c224314a0b7c0dbf2066712"
          }
        },
        "7e944f3f8ee44d17a988a41bf93ee8ba": {
          "model_module": "@jupyter-widgets/controls",
          "model_name": "HTMLModel",
          "model_module_version": "1.5.0",
          "state": {
            "_dom_classes": [],
            "_model_module": "@jupyter-widgets/controls",
            "_model_module_version": "1.5.0",
            "_model_name": "HTMLModel",
            "_view_count": null,
            "_view_module": "@jupyter-widgets/controls",
            "_view_module_version": "1.5.0",
            "_view_name": "HTMLView",
            "description": "",
            "description_tooltip": null,
            "layout": "IPY_MODEL_1100ea1117ef495f9160021e00780117",
            "placeholder": "​",
            "style": "IPY_MODEL_01dbe2af27f14c3993857b5dd0a79cca",
            "value": "Downloading: 100%"
          }
        },
        "8924d61f33db402db4f2c14a67d624f7": {
          "model_module": "@jupyter-widgets/controls",
          "model_name": "FloatProgressModel",
          "model_module_version": "1.5.0",
          "state": {
            "_dom_classes": [],
            "_model_module": "@jupyter-widgets/controls",
            "_model_module_version": "1.5.0",
            "_model_name": "FloatProgressModel",
            "_view_count": null,
            "_view_module": "@jupyter-widgets/controls",
            "_view_module_version": "1.5.0",
            "_view_name": "ProgressView",
            "bar_style": "success",
            "description": "",
            "description_tooltip": null,
            "layout": "IPY_MODEL_001a9056049649edad7cdfe1dffef621",
            "max": 1466734,
            "min": 0,
            "orientation": "horizontal",
            "style": "IPY_MODEL_ce9b4feb06ef408abd03c41a661cc683",
            "value": 1466734
          }
        },
        "672adeee422d4548a70f3ad3b406df9b": {
          "model_module": "@jupyter-widgets/controls",
          "model_name": "HTMLModel",
          "model_module_version": "1.5.0",
          "state": {
            "_dom_classes": [],
            "_model_module": "@jupyter-widgets/controls",
            "_model_module_version": "1.5.0",
            "_model_name": "HTMLModel",
            "_view_count": null,
            "_view_module": "@jupyter-widgets/controls",
            "_view_module_version": "1.5.0",
            "_view_name": "HTMLView",
            "description": "",
            "description_tooltip": null,
            "layout": "IPY_MODEL_697d588fa7784cc3a6f8ff042e7802b3",
            "placeholder": "​",
            "style": "IPY_MODEL_09921fb537ee4ee9b470b1094fc9bebe",
            "value": " 1.47M/1.47M [00:00&lt;00:00, 2.49MB/s]"
          }
        },
        "53b1f5ab3c224314a0b7c0dbf2066712": {
          "model_module": "@jupyter-widgets/base",
          "model_name": "LayoutModel",
          "model_module_version": "1.2.0",
          "state": {
            "_model_module": "@jupyter-widgets/base",
            "_model_module_version": "1.2.0",
            "_model_name": "LayoutModel",
            "_view_count": null,
            "_view_module": "@jupyter-widgets/base",
            "_view_module_version": "1.2.0",
            "_view_name": "LayoutView",
            "align_content": null,
            "align_items": null,
            "align_self": null,
            "border": null,
            "bottom": null,
            "display": null,
            "flex": null,
            "flex_flow": null,
            "grid_area": null,
            "grid_auto_columns": null,
            "grid_auto_flow": null,
            "grid_auto_rows": null,
            "grid_column": null,
            "grid_gap": null,
            "grid_row": null,
            "grid_template_areas": null,
            "grid_template_columns": null,
            "grid_template_rows": null,
            "height": null,
            "justify_content": null,
            "justify_items": null,
            "left": null,
            "margin": null,
            "max_height": null,
            "max_width": null,
            "min_height": null,
            "min_width": null,
            "object_fit": null,
            "object_position": null,
            "order": null,
            "overflow": null,
            "overflow_x": null,
            "overflow_y": null,
            "padding": null,
            "right": null,
            "top": null,
            "visibility": null,
            "width": null
          }
        },
        "1100ea1117ef495f9160021e00780117": {
          "model_module": "@jupyter-widgets/base",
          "model_name": "LayoutModel",
          "model_module_version": "1.2.0",
          "state": {
            "_model_module": "@jupyter-widgets/base",
            "_model_module_version": "1.2.0",
            "_model_name": "LayoutModel",
            "_view_count": null,
            "_view_module": "@jupyter-widgets/base",
            "_view_module_version": "1.2.0",
            "_view_name": "LayoutView",
            "align_content": null,
            "align_items": null,
            "align_self": null,
            "border": null,
            "bottom": null,
            "display": null,
            "flex": null,
            "flex_flow": null,
            "grid_area": null,
            "grid_auto_columns": null,
            "grid_auto_flow": null,
            "grid_auto_rows": null,
            "grid_column": null,
            "grid_gap": null,
            "grid_row": null,
            "grid_template_areas": null,
            "grid_template_columns": null,
            "grid_template_rows": null,
            "height": null,
            "justify_content": null,
            "justify_items": null,
            "left": null,
            "margin": null,
            "max_height": null,
            "max_width": null,
            "min_height": null,
            "min_width": null,
            "object_fit": null,
            "object_position": null,
            "order": null,
            "overflow": null,
            "overflow_x": null,
            "overflow_y": null,
            "padding": null,
            "right": null,
            "top": null,
            "visibility": null,
            "width": null
          }
        },
        "01dbe2af27f14c3993857b5dd0a79cca": {
          "model_module": "@jupyter-widgets/controls",
          "model_name": "DescriptionStyleModel",
          "model_module_version": "1.5.0",
          "state": {
            "_model_module": "@jupyter-widgets/controls",
            "_model_module_version": "1.5.0",
            "_model_name": "DescriptionStyleModel",
            "_view_count": null,
            "_view_module": "@jupyter-widgets/base",
            "_view_module_version": "1.2.0",
            "_view_name": "StyleView",
            "description_width": ""
          }
        },
        "001a9056049649edad7cdfe1dffef621": {
          "model_module": "@jupyter-widgets/base",
          "model_name": "LayoutModel",
          "model_module_version": "1.2.0",
          "state": {
            "_model_module": "@jupyter-widgets/base",
            "_model_module_version": "1.2.0",
            "_model_name": "LayoutModel",
            "_view_count": null,
            "_view_module": "@jupyter-widgets/base",
            "_view_module_version": "1.2.0",
            "_view_name": "LayoutView",
            "align_content": null,
            "align_items": null,
            "align_self": null,
            "border": null,
            "bottom": null,
            "display": null,
            "flex": null,
            "flex_flow": null,
            "grid_area": null,
            "grid_auto_columns": null,
            "grid_auto_flow": null,
            "grid_auto_rows": null,
            "grid_column": null,
            "grid_gap": null,
            "grid_row": null,
            "grid_template_areas": null,
            "grid_template_columns": null,
            "grid_template_rows": null,
            "height": null,
            "justify_content": null,
            "justify_items": null,
            "left": null,
            "margin": null,
            "max_height": null,
            "max_width": null,
            "min_height": null,
            "min_width": null,
            "object_fit": null,
            "object_position": null,
            "order": null,
            "overflow": null,
            "overflow_x": null,
            "overflow_y": null,
            "padding": null,
            "right": null,
            "top": null,
            "visibility": null,
            "width": null
          }
        },
        "ce9b4feb06ef408abd03c41a661cc683": {
          "model_module": "@jupyter-widgets/controls",
          "model_name": "ProgressStyleModel",
          "model_module_version": "1.5.0",
          "state": {
            "_model_module": "@jupyter-widgets/controls",
            "_model_module_version": "1.5.0",
            "_model_name": "ProgressStyleModel",
            "_view_count": null,
            "_view_module": "@jupyter-widgets/base",
            "_view_module_version": "1.2.0",
            "_view_name": "StyleView",
            "bar_color": null,
            "description_width": ""
          }
        },
        "697d588fa7784cc3a6f8ff042e7802b3": {
          "model_module": "@jupyter-widgets/base",
          "model_name": "LayoutModel",
          "model_module_version": "1.2.0",
          "state": {
            "_model_module": "@jupyter-widgets/base",
            "_model_module_version": "1.2.0",
            "_model_name": "LayoutModel",
            "_view_count": null,
            "_view_module": "@jupyter-widgets/base",
            "_view_module_version": "1.2.0",
            "_view_name": "LayoutView",
            "align_content": null,
            "align_items": null,
            "align_self": null,
            "border": null,
            "bottom": null,
            "display": null,
            "flex": null,
            "flex_flow": null,
            "grid_area": null,
            "grid_auto_columns": null,
            "grid_auto_flow": null,
            "grid_auto_rows": null,
            "grid_column": null,
            "grid_gap": null,
            "grid_row": null,
            "grid_template_areas": null,
            "grid_template_columns": null,
            "grid_template_rows": null,
            "height": null,
            "justify_content": null,
            "justify_items": null,
            "left": null,
            "margin": null,
            "max_height": null,
            "max_width": null,
            "min_height": null,
            "min_width": null,
            "object_fit": null,
            "object_position": null,
            "order": null,
            "overflow": null,
            "overflow_x": null,
            "overflow_y": null,
            "padding": null,
            "right": null,
            "top": null,
            "visibility": null,
            "width": null
          }
        },
        "09921fb537ee4ee9b470b1094fc9bebe": {
          "model_module": "@jupyter-widgets/controls",
          "model_name": "DescriptionStyleModel",
          "model_module_version": "1.5.0",
          "state": {
            "_model_module": "@jupyter-widgets/controls",
            "_model_module_version": "1.5.0",
            "_model_name": "DescriptionStyleModel",
            "_view_count": null,
            "_view_module": "@jupyter-widgets/base",
            "_view_module_version": "1.2.0",
            "_view_name": "StyleView",
            "description_width": ""
          }
        },
        "538f3674a931495ca9c879b0c712becb": {
          "model_module": "@jupyter-widgets/controls",
          "model_name": "HBoxModel",
          "model_module_version": "1.5.0",
          "state": {
            "_dom_classes": [],
            "_model_module": "@jupyter-widgets/controls",
            "_model_module_version": "1.5.0",
            "_model_name": "HBoxModel",
            "_view_count": null,
            "_view_module": "@jupyter-widgets/controls",
            "_view_module_version": "1.5.0",
            "_view_name": "HBoxView",
            "box_style": "",
            "children": [
              "IPY_MODEL_c8385bc8e8fe4f2bbba1f3a49a676b7c",
              "IPY_MODEL_0bb038a9a2f6463e85380dae131f7988",
              "IPY_MODEL_24332d2b802e4cb88382cbbc6e97576a"
            ],
            "layout": "IPY_MODEL_856341bbd44f41ccaff1b4aab8fb1397"
          }
        },
        "c8385bc8e8fe4f2bbba1f3a49a676b7c": {
          "model_module": "@jupyter-widgets/controls",
          "model_name": "HTMLModel",
          "model_module_version": "1.5.0",
          "state": {
            "_dom_classes": [],
            "_model_module": "@jupyter-widgets/controls",
            "_model_module_version": "1.5.0",
            "_model_name": "HTMLModel",
            "_view_count": null,
            "_view_module": "@jupyter-widgets/controls",
            "_view_module_version": "1.5.0",
            "_view_name": "HTMLView",
            "description": "",
            "description_tooltip": null,
            "layout": "IPY_MODEL_4b9cd74b970c42ca8b8b06679066425f",
            "placeholder": "​",
            "style": "IPY_MODEL_74a38bdefeb5427eab58396f7952a203",
            "value": "Downloading: 100%"
          }
        },
        "0bb038a9a2f6463e85380dae131f7988": {
          "model_module": "@jupyter-widgets/controls",
          "model_name": "FloatProgressModel",
          "model_module_version": "1.5.0",
          "state": {
            "_dom_classes": [],
            "_model_module": "@jupyter-widgets/controls",
            "_model_module_version": "1.5.0",
            "_model_name": "FloatProgressModel",
            "_view_count": null,
            "_view_module": "@jupyter-widgets/controls",
            "_view_module_version": "1.5.0",
            "_view_name": "ProgressView",
            "bar_style": "success",
            "description": "",
            "description_tooltip": null,
            "layout": "IPY_MODEL_bb155cb59ac94693870005ca9c94988d",
            "max": 1786,
            "min": 0,
            "orientation": "horizontal",
            "style": "IPY_MODEL_33d994c317564d659a7f2e520309c330",
            "value": 1786
          }
        },
        "24332d2b802e4cb88382cbbc6e97576a": {
          "model_module": "@jupyter-widgets/controls",
          "model_name": "HTMLModel",
          "model_module_version": "1.5.0",
          "state": {
            "_dom_classes": [],
            "_model_module": "@jupyter-widgets/controls",
            "_model_module_version": "1.5.0",
            "_model_name": "HTMLModel",
            "_view_count": null,
            "_view_module": "@jupyter-widgets/controls",
            "_view_module_version": "1.5.0",
            "_view_name": "HTMLView",
            "description": "",
            "description_tooltip": null,
            "layout": "IPY_MODEL_99eb1077c12f45759bcaab6f54e9bb14",
            "placeholder": "​",
            "style": "IPY_MODEL_43901bd5c4f64a18844264ea4746e2ee",
            "value": " 1.79k/1.79k [00:00&lt;00:00, 62.6kB/s]"
          }
        },
        "856341bbd44f41ccaff1b4aab8fb1397": {
          "model_module": "@jupyter-widgets/base",
          "model_name": "LayoutModel",
          "model_module_version": "1.2.0",
          "state": {
            "_model_module": "@jupyter-widgets/base",
            "_model_module_version": "1.2.0",
            "_model_name": "LayoutModel",
            "_view_count": null,
            "_view_module": "@jupyter-widgets/base",
            "_view_module_version": "1.2.0",
            "_view_name": "LayoutView",
            "align_content": null,
            "align_items": null,
            "align_self": null,
            "border": null,
            "bottom": null,
            "display": null,
            "flex": null,
            "flex_flow": null,
            "grid_area": null,
            "grid_auto_columns": null,
            "grid_auto_flow": null,
            "grid_auto_rows": null,
            "grid_column": null,
            "grid_gap": null,
            "grid_row": null,
            "grid_template_areas": null,
            "grid_template_columns": null,
            "grid_template_rows": null,
            "height": null,
            "justify_content": null,
            "justify_items": null,
            "left": null,
            "margin": null,
            "max_height": null,
            "max_width": null,
            "min_height": null,
            "min_width": null,
            "object_fit": null,
            "object_position": null,
            "order": null,
            "overflow": null,
            "overflow_x": null,
            "overflow_y": null,
            "padding": null,
            "right": null,
            "top": null,
            "visibility": null,
            "width": null
          }
        },
        "4b9cd74b970c42ca8b8b06679066425f": {
          "model_module": "@jupyter-widgets/base",
          "model_name": "LayoutModel",
          "model_module_version": "1.2.0",
          "state": {
            "_model_module": "@jupyter-widgets/base",
            "_model_module_version": "1.2.0",
            "_model_name": "LayoutModel",
            "_view_count": null,
            "_view_module": "@jupyter-widgets/base",
            "_view_module_version": "1.2.0",
            "_view_name": "LayoutView",
            "align_content": null,
            "align_items": null,
            "align_self": null,
            "border": null,
            "bottom": null,
            "display": null,
            "flex": null,
            "flex_flow": null,
            "grid_area": null,
            "grid_auto_columns": null,
            "grid_auto_flow": null,
            "grid_auto_rows": null,
            "grid_column": null,
            "grid_gap": null,
            "grid_row": null,
            "grid_template_areas": null,
            "grid_template_columns": null,
            "grid_template_rows": null,
            "height": null,
            "justify_content": null,
            "justify_items": null,
            "left": null,
            "margin": null,
            "max_height": null,
            "max_width": null,
            "min_height": null,
            "min_width": null,
            "object_fit": null,
            "object_position": null,
            "order": null,
            "overflow": null,
            "overflow_x": null,
            "overflow_y": null,
            "padding": null,
            "right": null,
            "top": null,
            "visibility": null,
            "width": null
          }
        },
        "74a38bdefeb5427eab58396f7952a203": {
          "model_module": "@jupyter-widgets/controls",
          "model_name": "DescriptionStyleModel",
          "model_module_version": "1.5.0",
          "state": {
            "_model_module": "@jupyter-widgets/controls",
            "_model_module_version": "1.5.0",
            "_model_name": "DescriptionStyleModel",
            "_view_count": null,
            "_view_module": "@jupyter-widgets/base",
            "_view_module_version": "1.2.0",
            "_view_name": "StyleView",
            "description_width": ""
          }
        },
        "bb155cb59ac94693870005ca9c94988d": {
          "model_module": "@jupyter-widgets/base",
          "model_name": "LayoutModel",
          "model_module_version": "1.2.0",
          "state": {
            "_model_module": "@jupyter-widgets/base",
            "_model_module_version": "1.2.0",
            "_model_name": "LayoutModel",
            "_view_count": null,
            "_view_module": "@jupyter-widgets/base",
            "_view_module_version": "1.2.0",
            "_view_name": "LayoutView",
            "align_content": null,
            "align_items": null,
            "align_self": null,
            "border": null,
            "bottom": null,
            "display": null,
            "flex": null,
            "flex_flow": null,
            "grid_area": null,
            "grid_auto_columns": null,
            "grid_auto_flow": null,
            "grid_auto_rows": null,
            "grid_column": null,
            "grid_gap": null,
            "grid_row": null,
            "grid_template_areas": null,
            "grid_template_columns": null,
            "grid_template_rows": null,
            "height": null,
            "justify_content": null,
            "justify_items": null,
            "left": null,
            "margin": null,
            "max_height": null,
            "max_width": null,
            "min_height": null,
            "min_width": null,
            "object_fit": null,
            "object_position": null,
            "order": null,
            "overflow": null,
            "overflow_x": null,
            "overflow_y": null,
            "padding": null,
            "right": null,
            "top": null,
            "visibility": null,
            "width": null
          }
        },
        "33d994c317564d659a7f2e520309c330": {
          "model_module": "@jupyter-widgets/controls",
          "model_name": "ProgressStyleModel",
          "model_module_version": "1.5.0",
          "state": {
            "_model_module": "@jupyter-widgets/controls",
            "_model_module_version": "1.5.0",
            "_model_name": "ProgressStyleModel",
            "_view_count": null,
            "_view_module": "@jupyter-widgets/base",
            "_view_module_version": "1.2.0",
            "_view_name": "StyleView",
            "bar_color": null,
            "description_width": ""
          }
        },
        "99eb1077c12f45759bcaab6f54e9bb14": {
          "model_module": "@jupyter-widgets/base",
          "model_name": "LayoutModel",
          "model_module_version": "1.2.0",
          "state": {
            "_model_module": "@jupyter-widgets/base",
            "_model_module_version": "1.2.0",
            "_model_name": "LayoutModel",
            "_view_count": null,
            "_view_module": "@jupyter-widgets/base",
            "_view_module_version": "1.2.0",
            "_view_name": "LayoutView",
            "align_content": null,
            "align_items": null,
            "align_self": null,
            "border": null,
            "bottom": null,
            "display": null,
            "flex": null,
            "flex_flow": null,
            "grid_area": null,
            "grid_auto_columns": null,
            "grid_auto_flow": null,
            "grid_auto_rows": null,
            "grid_column": null,
            "grid_gap": null,
            "grid_row": null,
            "grid_template_areas": null,
            "grid_template_columns": null,
            "grid_template_rows": null,
            "height": null,
            "justify_content": null,
            "justify_items": null,
            "left": null,
            "margin": null,
            "max_height": null,
            "max_width": null,
            "min_height": null,
            "min_width": null,
            "object_fit": null,
            "object_position": null,
            "order": null,
            "overflow": null,
            "overflow_x": null,
            "overflow_y": null,
            "padding": null,
            "right": null,
            "top": null,
            "visibility": null,
            "width": null
          }
        },
        "43901bd5c4f64a18844264ea4746e2ee": {
          "model_module": "@jupyter-widgets/controls",
          "model_name": "DescriptionStyleModel",
          "model_module_version": "1.5.0",
          "state": {
            "_model_module": "@jupyter-widgets/controls",
            "_model_module_version": "1.5.0",
            "_model_name": "DescriptionStyleModel",
            "_view_count": null,
            "_view_module": "@jupyter-widgets/base",
            "_view_module_version": "1.2.0",
            "_view_name": "StyleView",
            "description_width": ""
          }
        },
        "1e52625593994442a3ac8219187bfb3a": {
          "model_module": "@jupyter-widgets/controls",
          "model_name": "HBoxModel",
          "model_module_version": "1.5.0",
          "state": {
            "_dom_classes": [],
            "_model_module": "@jupyter-widgets/controls",
            "_model_module_version": "1.5.0",
            "_model_name": "HBoxModel",
            "_view_count": null,
            "_view_module": "@jupyter-widgets/controls",
            "_view_module_version": "1.5.0",
            "_view_name": "HBoxView",
            "box_style": "",
            "children": [
              "IPY_MODEL_466953841a64468597efb2ae5c96ffb4",
              "IPY_MODEL_8b874f04521b4f63b30199b33898a225",
              "IPY_MODEL_ef62ea72117a439888a55973c55b570e"
            ],
            "layout": "IPY_MODEL_df83af4f220546f286afcc167610ce70"
          }
        },
        "466953841a64468597efb2ae5c96ffb4": {
          "model_module": "@jupyter-widgets/controls",
          "model_name": "HTMLModel",
          "model_module_version": "1.5.0",
          "state": {
            "_dom_classes": [],
            "_model_module": "@jupyter-widgets/controls",
            "_model_module_version": "1.5.0",
            "_model_name": "HTMLModel",
            "_view_count": null,
            "_view_module": "@jupyter-widgets/controls",
            "_view_module_version": "1.5.0",
            "_view_name": "HTMLView",
            "description": "",
            "description_tooltip": null,
            "layout": "IPY_MODEL_f97dd1b55adb42c694c4933098fe3db4",
            "placeholder": "​",
            "style": "IPY_MODEL_a13557f1bf614e54b007b2668673f6e5",
            "value": "Downloading: 100%"
          }
        },
        "8b874f04521b4f63b30199b33898a225": {
          "model_module": "@jupyter-widgets/controls",
          "model_name": "FloatProgressModel",
          "model_module_version": "1.5.0",
          "state": {
            "_dom_classes": [],
            "_model_module": "@jupyter-widgets/controls",
            "_model_module_version": "1.5.0",
            "_model_name": "FloatProgressModel",
            "_view_count": null,
            "_view_module": "@jupyter-widgets/controls",
            "_view_module_version": "1.5.0",
            "_view_name": "ProgressView",
            "bar_style": "success",
            "description": "",
            "description_tooltip": null,
            "layout": "IPY_MODEL_1b4956122e744db3ba755c104fdd56cc",
            "max": 1964,
            "min": 0,
            "orientation": "horizontal",
            "style": "IPY_MODEL_0e748ac6afa64c84ab784f2a22e8517e",
            "value": 1964
          }
        },
        "ef62ea72117a439888a55973c55b570e": {
          "model_module": "@jupyter-widgets/controls",
          "model_name": "HTMLModel",
          "model_module_version": "1.5.0",
          "state": {
            "_dom_classes": [],
            "_model_module": "@jupyter-widgets/controls",
            "_model_module_version": "1.5.0",
            "_model_name": "HTMLModel",
            "_view_count": null,
            "_view_module": "@jupyter-widgets/controls",
            "_view_module_version": "1.5.0",
            "_view_name": "HTMLView",
            "description": "",
            "description_tooltip": null,
            "layout": "IPY_MODEL_59a72e28419a47b0b32f894b08f12355",
            "placeholder": "​",
            "style": "IPY_MODEL_ccd31a9bc9954c8e82e0399e084bdb7c",
            "value": " 1.96k/1.96k [00:00&lt;00:00, 65.0kB/s]"
          }
        },
        "df83af4f220546f286afcc167610ce70": {
          "model_module": "@jupyter-widgets/base",
          "model_name": "LayoutModel",
          "model_module_version": "1.2.0",
          "state": {
            "_model_module": "@jupyter-widgets/base",
            "_model_module_version": "1.2.0",
            "_model_name": "LayoutModel",
            "_view_count": null,
            "_view_module": "@jupyter-widgets/base",
            "_view_module_version": "1.2.0",
            "_view_name": "LayoutView",
            "align_content": null,
            "align_items": null,
            "align_self": null,
            "border": null,
            "bottom": null,
            "display": null,
            "flex": null,
            "flex_flow": null,
            "grid_area": null,
            "grid_auto_columns": null,
            "grid_auto_flow": null,
            "grid_auto_rows": null,
            "grid_column": null,
            "grid_gap": null,
            "grid_row": null,
            "grid_template_areas": null,
            "grid_template_columns": null,
            "grid_template_rows": null,
            "height": null,
            "justify_content": null,
            "justify_items": null,
            "left": null,
            "margin": null,
            "max_height": null,
            "max_width": null,
            "min_height": null,
            "min_width": null,
            "object_fit": null,
            "object_position": null,
            "order": null,
            "overflow": null,
            "overflow_x": null,
            "overflow_y": null,
            "padding": null,
            "right": null,
            "top": null,
            "visibility": null,
            "width": null
          }
        },
        "f97dd1b55adb42c694c4933098fe3db4": {
          "model_module": "@jupyter-widgets/base",
          "model_name": "LayoutModel",
          "model_module_version": "1.2.0",
          "state": {
            "_model_module": "@jupyter-widgets/base",
            "_model_module_version": "1.2.0",
            "_model_name": "LayoutModel",
            "_view_count": null,
            "_view_module": "@jupyter-widgets/base",
            "_view_module_version": "1.2.0",
            "_view_name": "LayoutView",
            "align_content": null,
            "align_items": null,
            "align_self": null,
            "border": null,
            "bottom": null,
            "display": null,
            "flex": null,
            "flex_flow": null,
            "grid_area": null,
            "grid_auto_columns": null,
            "grid_auto_flow": null,
            "grid_auto_rows": null,
            "grid_column": null,
            "grid_gap": null,
            "grid_row": null,
            "grid_template_areas": null,
            "grid_template_columns": null,
            "grid_template_rows": null,
            "height": null,
            "justify_content": null,
            "justify_items": null,
            "left": null,
            "margin": null,
            "max_height": null,
            "max_width": null,
            "min_height": null,
            "min_width": null,
            "object_fit": null,
            "object_position": null,
            "order": null,
            "overflow": null,
            "overflow_x": null,
            "overflow_y": null,
            "padding": null,
            "right": null,
            "top": null,
            "visibility": null,
            "width": null
          }
        },
        "a13557f1bf614e54b007b2668673f6e5": {
          "model_module": "@jupyter-widgets/controls",
          "model_name": "DescriptionStyleModel",
          "model_module_version": "1.5.0",
          "state": {
            "_model_module": "@jupyter-widgets/controls",
            "_model_module_version": "1.5.0",
            "_model_name": "DescriptionStyleModel",
            "_view_count": null,
            "_view_module": "@jupyter-widgets/base",
            "_view_module_version": "1.2.0",
            "_view_name": "StyleView",
            "description_width": ""
          }
        },
        "1b4956122e744db3ba755c104fdd56cc": {
          "model_module": "@jupyter-widgets/base",
          "model_name": "LayoutModel",
          "model_module_version": "1.2.0",
          "state": {
            "_model_module": "@jupyter-widgets/base",
            "_model_module_version": "1.2.0",
            "_model_name": "LayoutModel",
            "_view_count": null,
            "_view_module": "@jupyter-widgets/base",
            "_view_module_version": "1.2.0",
            "_view_name": "LayoutView",
            "align_content": null,
            "align_items": null,
            "align_self": null,
            "border": null,
            "bottom": null,
            "display": null,
            "flex": null,
            "flex_flow": null,
            "grid_area": null,
            "grid_auto_columns": null,
            "grid_auto_flow": null,
            "grid_auto_rows": null,
            "grid_column": null,
            "grid_gap": null,
            "grid_row": null,
            "grid_template_areas": null,
            "grid_template_columns": null,
            "grid_template_rows": null,
            "height": null,
            "justify_content": null,
            "justify_items": null,
            "left": null,
            "margin": null,
            "max_height": null,
            "max_width": null,
            "min_height": null,
            "min_width": null,
            "object_fit": null,
            "object_position": null,
            "order": null,
            "overflow": null,
            "overflow_x": null,
            "overflow_y": null,
            "padding": null,
            "right": null,
            "top": null,
            "visibility": null,
            "width": null
          }
        },
        "0e748ac6afa64c84ab784f2a22e8517e": {
          "model_module": "@jupyter-widgets/controls",
          "model_name": "ProgressStyleModel",
          "model_module_version": "1.5.0",
          "state": {
            "_model_module": "@jupyter-widgets/controls",
            "_model_module_version": "1.5.0",
            "_model_name": "ProgressStyleModel",
            "_view_count": null,
            "_view_module": "@jupyter-widgets/base",
            "_view_module_version": "1.2.0",
            "_view_name": "StyleView",
            "bar_color": null,
            "description_width": ""
          }
        },
        "59a72e28419a47b0b32f894b08f12355": {
          "model_module": "@jupyter-widgets/base",
          "model_name": "LayoutModel",
          "model_module_version": "1.2.0",
          "state": {
            "_model_module": "@jupyter-widgets/base",
            "_model_module_version": "1.2.0",
            "_model_name": "LayoutModel",
            "_view_count": null,
            "_view_module": "@jupyter-widgets/base",
            "_view_module_version": "1.2.0",
            "_view_name": "LayoutView",
            "align_content": null,
            "align_items": null,
            "align_self": null,
            "border": null,
            "bottom": null,
            "display": null,
            "flex": null,
            "flex_flow": null,
            "grid_area": null,
            "grid_auto_columns": null,
            "grid_auto_flow": null,
            "grid_auto_rows": null,
            "grid_column": null,
            "grid_gap": null,
            "grid_row": null,
            "grid_template_areas": null,
            "grid_template_columns": null,
            "grid_template_rows": null,
            "height": null,
            "justify_content": null,
            "justify_items": null,
            "left": null,
            "margin": null,
            "max_height": null,
            "max_width": null,
            "min_height": null,
            "min_width": null,
            "object_fit": null,
            "object_position": null,
            "order": null,
            "overflow": null,
            "overflow_x": null,
            "overflow_y": null,
            "padding": null,
            "right": null,
            "top": null,
            "visibility": null,
            "width": null
          }
        },
        "ccd31a9bc9954c8e82e0399e084bdb7c": {
          "model_module": "@jupyter-widgets/controls",
          "model_name": "DescriptionStyleModel",
          "model_module_version": "1.5.0",
          "state": {
            "_model_module": "@jupyter-widgets/controls",
            "_model_module_version": "1.5.0",
            "_model_name": "DescriptionStyleModel",
            "_view_count": null,
            "_view_module": "@jupyter-widgets/base",
            "_view_module_version": "1.2.0",
            "_view_name": "StyleView",
            "description_width": ""
          }
        },
        "9b5f4447bd8949e18ff8ee5fc8204bfc": {
          "model_module": "@jupyter-widgets/controls",
          "model_name": "HBoxModel",
          "model_module_version": "1.5.0",
          "state": {
            "_dom_classes": [],
            "_model_module": "@jupyter-widgets/controls",
            "_model_module_version": "1.5.0",
            "_model_name": "HBoxModel",
            "_view_count": null,
            "_view_module": "@jupyter-widgets/controls",
            "_view_module_version": "1.5.0",
            "_view_name": "HBoxView",
            "box_style": "",
            "children": [
              "IPY_MODEL_e4b1f94557384926b8b5ac86f66f6a7c",
              "IPY_MODEL_cd248f92eef54acf9332763176aedebf",
              "IPY_MODEL_b34b552bdd854e73a1b8baadeafeacb7"
            ],
            "layout": "IPY_MODEL_66a559f633ce405c84966be1331abce5"
          }
        },
        "e4b1f94557384926b8b5ac86f66f6a7c": {
          "model_module": "@jupyter-widgets/controls",
          "model_name": "HTMLModel",
          "model_module_version": "1.5.0",
          "state": {
            "_dom_classes": [],
            "_model_module": "@jupyter-widgets/controls",
            "_model_module_version": "1.5.0",
            "_model_name": "HTMLModel",
            "_view_count": null,
            "_view_module": "@jupyter-widgets/controls",
            "_view_module_version": "1.5.0",
            "_view_name": "HTMLView",
            "description": "",
            "description_tooltip": null,
            "layout": "IPY_MODEL_e84505a645494735920edef08d0393df",
            "placeholder": "​",
            "style": "IPY_MODEL_758faf7417244ef3bfc76769c5db4b38",
            "value": "Downloading: 100%"
          }
        },
        "cd248f92eef54acf9332763176aedebf": {
          "model_module": "@jupyter-widgets/controls",
          "model_name": "FloatProgressModel",
          "model_module_version": "1.5.0",
          "state": {
            "_dom_classes": [],
            "_model_module": "@jupyter-widgets/controls",
            "_model_module_version": "1.5.0",
            "_model_name": "FloatProgressModel",
            "_view_count": null,
            "_view_module": "@jupyter-widgets/controls",
            "_view_module_version": "1.5.0",
            "_view_name": "ProgressView",
            "bar_style": "success",
            "description": "",
            "description_tooltip": null,
            "layout": "IPY_MODEL_c8cc1ca6888c42d3be72348f9a487fe1",
            "max": 599,
            "min": 0,
            "orientation": "horizontal",
            "style": "IPY_MODEL_dceab56aa0d1470eba556309cf6f294f",
            "value": 599
          }
        },
        "b34b552bdd854e73a1b8baadeafeacb7": {
          "model_module": "@jupyter-widgets/controls",
          "model_name": "HTMLModel",
          "model_module_version": "1.5.0",
          "state": {
            "_dom_classes": [],
            "_model_module": "@jupyter-widgets/controls",
            "_model_module_version": "1.5.0",
            "_model_name": "HTMLModel",
            "_view_count": null,
            "_view_module": "@jupyter-widgets/controls",
            "_view_module_version": "1.5.0",
            "_view_name": "HTMLView",
            "description": "",
            "description_tooltip": null,
            "layout": "IPY_MODEL_9f31b5a28d394315b64c8b26860e105b",
            "placeholder": "​",
            "style": "IPY_MODEL_ff505ba6a5da40eeac26d47b8b7e0624",
            "value": " 599/599 [00:00&lt;00:00, 21.3kB/s]"
          }
        },
        "66a559f633ce405c84966be1331abce5": {
          "model_module": "@jupyter-widgets/base",
          "model_name": "LayoutModel",
          "model_module_version": "1.2.0",
          "state": {
            "_model_module": "@jupyter-widgets/base",
            "_model_module_version": "1.2.0",
            "_model_name": "LayoutModel",
            "_view_count": null,
            "_view_module": "@jupyter-widgets/base",
            "_view_module_version": "1.2.0",
            "_view_name": "LayoutView",
            "align_content": null,
            "align_items": null,
            "align_self": null,
            "border": null,
            "bottom": null,
            "display": null,
            "flex": null,
            "flex_flow": null,
            "grid_area": null,
            "grid_auto_columns": null,
            "grid_auto_flow": null,
            "grid_auto_rows": null,
            "grid_column": null,
            "grid_gap": null,
            "grid_row": null,
            "grid_template_areas": null,
            "grid_template_columns": null,
            "grid_template_rows": null,
            "height": null,
            "justify_content": null,
            "justify_items": null,
            "left": null,
            "margin": null,
            "max_height": null,
            "max_width": null,
            "min_height": null,
            "min_width": null,
            "object_fit": null,
            "object_position": null,
            "order": null,
            "overflow": null,
            "overflow_x": null,
            "overflow_y": null,
            "padding": null,
            "right": null,
            "top": null,
            "visibility": null,
            "width": null
          }
        },
        "e84505a645494735920edef08d0393df": {
          "model_module": "@jupyter-widgets/base",
          "model_name": "LayoutModel",
          "model_module_version": "1.2.0",
          "state": {
            "_model_module": "@jupyter-widgets/base",
            "_model_module_version": "1.2.0",
            "_model_name": "LayoutModel",
            "_view_count": null,
            "_view_module": "@jupyter-widgets/base",
            "_view_module_version": "1.2.0",
            "_view_name": "LayoutView",
            "align_content": null,
            "align_items": null,
            "align_self": null,
            "border": null,
            "bottom": null,
            "display": null,
            "flex": null,
            "flex_flow": null,
            "grid_area": null,
            "grid_auto_columns": null,
            "grid_auto_flow": null,
            "grid_auto_rows": null,
            "grid_column": null,
            "grid_gap": null,
            "grid_row": null,
            "grid_template_areas": null,
            "grid_template_columns": null,
            "grid_template_rows": null,
            "height": null,
            "justify_content": null,
            "justify_items": null,
            "left": null,
            "margin": null,
            "max_height": null,
            "max_width": null,
            "min_height": null,
            "min_width": null,
            "object_fit": null,
            "object_position": null,
            "order": null,
            "overflow": null,
            "overflow_x": null,
            "overflow_y": null,
            "padding": null,
            "right": null,
            "top": null,
            "visibility": null,
            "width": null
          }
        },
        "758faf7417244ef3bfc76769c5db4b38": {
          "model_module": "@jupyter-widgets/controls",
          "model_name": "DescriptionStyleModel",
          "model_module_version": "1.5.0",
          "state": {
            "_model_module": "@jupyter-widgets/controls",
            "_model_module_version": "1.5.0",
            "_model_name": "DescriptionStyleModel",
            "_view_count": null,
            "_view_module": "@jupyter-widgets/base",
            "_view_module_version": "1.2.0",
            "_view_name": "StyleView",
            "description_width": ""
          }
        },
        "c8cc1ca6888c42d3be72348f9a487fe1": {
          "model_module": "@jupyter-widgets/base",
          "model_name": "LayoutModel",
          "model_module_version": "1.2.0",
          "state": {
            "_model_module": "@jupyter-widgets/base",
            "_model_module_version": "1.2.0",
            "_model_name": "LayoutModel",
            "_view_count": null,
            "_view_module": "@jupyter-widgets/base",
            "_view_module_version": "1.2.0",
            "_view_name": "LayoutView",
            "align_content": null,
            "align_items": null,
            "align_self": null,
            "border": null,
            "bottom": null,
            "display": null,
            "flex": null,
            "flex_flow": null,
            "grid_area": null,
            "grid_auto_columns": null,
            "grid_auto_flow": null,
            "grid_auto_rows": null,
            "grid_column": null,
            "grid_gap": null,
            "grid_row": null,
            "grid_template_areas": null,
            "grid_template_columns": null,
            "grid_template_rows": null,
            "height": null,
            "justify_content": null,
            "justify_items": null,
            "left": null,
            "margin": null,
            "max_height": null,
            "max_width": null,
            "min_height": null,
            "min_width": null,
            "object_fit": null,
            "object_position": null,
            "order": null,
            "overflow": null,
            "overflow_x": null,
            "overflow_y": null,
            "padding": null,
            "right": null,
            "top": null,
            "visibility": null,
            "width": null
          }
        },
        "dceab56aa0d1470eba556309cf6f294f": {
          "model_module": "@jupyter-widgets/controls",
          "model_name": "ProgressStyleModel",
          "model_module_version": "1.5.0",
          "state": {
            "_model_module": "@jupyter-widgets/controls",
            "_model_module_version": "1.5.0",
            "_model_name": "ProgressStyleModel",
            "_view_count": null,
            "_view_module": "@jupyter-widgets/base",
            "_view_module_version": "1.2.0",
            "_view_name": "StyleView",
            "bar_color": null,
            "description_width": ""
          }
        },
        "9f31b5a28d394315b64c8b26860e105b": {
          "model_module": "@jupyter-widgets/base",
          "model_name": "LayoutModel",
          "model_module_version": "1.2.0",
          "state": {
            "_model_module": "@jupyter-widgets/base",
            "_model_module_version": "1.2.0",
            "_model_name": "LayoutModel",
            "_view_count": null,
            "_view_module": "@jupyter-widgets/base",
            "_view_module_version": "1.2.0",
            "_view_name": "LayoutView",
            "align_content": null,
            "align_items": null,
            "align_self": null,
            "border": null,
            "bottom": null,
            "display": null,
            "flex": null,
            "flex_flow": null,
            "grid_area": null,
            "grid_auto_columns": null,
            "grid_auto_flow": null,
            "grid_auto_rows": null,
            "grid_column": null,
            "grid_gap": null,
            "grid_row": null,
            "grid_template_areas": null,
            "grid_template_columns": null,
            "grid_template_rows": null,
            "height": null,
            "justify_content": null,
            "justify_items": null,
            "left": null,
            "margin": null,
            "max_height": null,
            "max_width": null,
            "min_height": null,
            "min_width": null,
            "object_fit": null,
            "object_position": null,
            "order": null,
            "overflow": null,
            "overflow_x": null,
            "overflow_y": null,
            "padding": null,
            "right": null,
            "top": null,
            "visibility": null,
            "width": null
          }
        },
        "ff505ba6a5da40eeac26d47b8b7e0624": {
          "model_module": "@jupyter-widgets/controls",
          "model_name": "DescriptionStyleModel",
          "model_module_version": "1.5.0",
          "state": {
            "_model_module": "@jupyter-widgets/controls",
            "_model_module_version": "1.5.0",
            "_model_name": "DescriptionStyleModel",
            "_view_count": null,
            "_view_module": "@jupyter-widgets/base",
            "_view_module_version": "1.2.0",
            "_view_name": "StyleView",
            "description_width": ""
          }
        },
        "94c17b7abd464ccaace5915c60d19334": {
          "model_module": "@jupyter-widgets/controls",
          "model_name": "HBoxModel",
          "model_module_version": "1.5.0",
          "state": {
            "_dom_classes": [],
            "_model_module": "@jupyter-widgets/controls",
            "_model_module_version": "1.5.0",
            "_model_name": "HBoxModel",
            "_view_count": null,
            "_view_module": "@jupyter-widgets/controls",
            "_view_module_version": "1.5.0",
            "_view_name": "HBoxView",
            "box_style": "",
            "children": [
              "IPY_MODEL_bc6a64dcc1dc4a3db81918475331fd50",
              "IPY_MODEL_9fc68e70a9d24c95a738ec2f23d3d650",
              "IPY_MODEL_4e16e9e30e674d608c47f4a1080217d8"
            ],
            "layout": "IPY_MODEL_4f06463611314fc7afd698e247d8adbb"
          }
        },
        "bc6a64dcc1dc4a3db81918475331fd50": {
          "model_module": "@jupyter-widgets/controls",
          "model_name": "HTMLModel",
          "model_module_version": "1.5.0",
          "state": {
            "_dom_classes": [],
            "_model_module": "@jupyter-widgets/controls",
            "_model_module_version": "1.5.0",
            "_model_name": "HTMLModel",
            "_view_count": null,
            "_view_module": "@jupyter-widgets/controls",
            "_view_module_version": "1.5.0",
            "_view_name": "HTMLView",
            "description": "",
            "description_tooltip": null,
            "layout": "IPY_MODEL_875e3deaec184130bc9828a66c84c90c",
            "placeholder": "​",
            "style": "IPY_MODEL_3678a68f0a06485ca9f0963ea922b73b",
            "value": "Downloading: 100%"
          }
        },
        "9fc68e70a9d24c95a738ec2f23d3d650": {
          "model_module": "@jupyter-widgets/controls",
          "model_name": "FloatProgressModel",
          "model_module_version": "1.5.0",
          "state": {
            "_dom_classes": [],
            "_model_module": "@jupyter-widgets/controls",
            "_model_module_version": "1.5.0",
            "_model_name": "FloatProgressModel",
            "_view_count": null,
            "_view_module": "@jupyter-widgets/controls",
            "_view_module_version": "1.5.0",
            "_view_name": "ProgressView",
            "bar_style": "success",
            "description": "",
            "description_tooltip": null,
            "layout": "IPY_MODEL_775a461decfe4e1399d160c502fce7f8",
            "max": 990048016,
            "min": 0,
            "orientation": "horizontal",
            "style": "IPY_MODEL_0670d06470dc4c2c950606b5b75aa814",
            "value": 990048016
          }
        },
        "4e16e9e30e674d608c47f4a1080217d8": {
          "model_module": "@jupyter-widgets/controls",
          "model_name": "HTMLModel",
          "model_module_version": "1.5.0",
          "state": {
            "_dom_classes": [],
            "_model_module": "@jupyter-widgets/controls",
            "_model_module_version": "1.5.0",
            "_model_name": "HTMLModel",
            "_view_count": null,
            "_view_module": "@jupyter-widgets/controls",
            "_view_module_version": "1.5.0",
            "_view_name": "HTMLView",
            "description": "",
            "description_tooltip": null,
            "layout": "IPY_MODEL_e8a0a24af29f480f92801fce7faa5fe2",
            "placeholder": "​",
            "style": "IPY_MODEL_ff82afd5039c47dba5b97fde538fbef2",
            "value": " 990M/990M [00:36&lt;00:00, 33.9MB/s]"
          }
        },
        "4f06463611314fc7afd698e247d8adbb": {
          "model_module": "@jupyter-widgets/base",
          "model_name": "LayoutModel",
          "model_module_version": "1.2.0",
          "state": {
            "_model_module": "@jupyter-widgets/base",
            "_model_module_version": "1.2.0",
            "_model_name": "LayoutModel",
            "_view_count": null,
            "_view_module": "@jupyter-widgets/base",
            "_view_module_version": "1.2.0",
            "_view_name": "LayoutView",
            "align_content": null,
            "align_items": null,
            "align_self": null,
            "border": null,
            "bottom": null,
            "display": null,
            "flex": null,
            "flex_flow": null,
            "grid_area": null,
            "grid_auto_columns": null,
            "grid_auto_flow": null,
            "grid_auto_rows": null,
            "grid_column": null,
            "grid_gap": null,
            "grid_row": null,
            "grid_template_areas": null,
            "grid_template_columns": null,
            "grid_template_rows": null,
            "height": null,
            "justify_content": null,
            "justify_items": null,
            "left": null,
            "margin": null,
            "max_height": null,
            "max_width": null,
            "min_height": null,
            "min_width": null,
            "object_fit": null,
            "object_position": null,
            "order": null,
            "overflow": null,
            "overflow_x": null,
            "overflow_y": null,
            "padding": null,
            "right": null,
            "top": null,
            "visibility": null,
            "width": null
          }
        },
        "875e3deaec184130bc9828a66c84c90c": {
          "model_module": "@jupyter-widgets/base",
          "model_name": "LayoutModel",
          "model_module_version": "1.2.0",
          "state": {
            "_model_module": "@jupyter-widgets/base",
            "_model_module_version": "1.2.0",
            "_model_name": "LayoutModel",
            "_view_count": null,
            "_view_module": "@jupyter-widgets/base",
            "_view_module_version": "1.2.0",
            "_view_name": "LayoutView",
            "align_content": null,
            "align_items": null,
            "align_self": null,
            "border": null,
            "bottom": null,
            "display": null,
            "flex": null,
            "flex_flow": null,
            "grid_area": null,
            "grid_auto_columns": null,
            "grid_auto_flow": null,
            "grid_auto_rows": null,
            "grid_column": null,
            "grid_gap": null,
            "grid_row": null,
            "grid_template_areas": null,
            "grid_template_columns": null,
            "grid_template_rows": null,
            "height": null,
            "justify_content": null,
            "justify_items": null,
            "left": null,
            "margin": null,
            "max_height": null,
            "max_width": null,
            "min_height": null,
            "min_width": null,
            "object_fit": null,
            "object_position": null,
            "order": null,
            "overflow": null,
            "overflow_x": null,
            "overflow_y": null,
            "padding": null,
            "right": null,
            "top": null,
            "visibility": null,
            "width": null
          }
        },
        "3678a68f0a06485ca9f0963ea922b73b": {
          "model_module": "@jupyter-widgets/controls",
          "model_name": "DescriptionStyleModel",
          "model_module_version": "1.5.0",
          "state": {
            "_model_module": "@jupyter-widgets/controls",
            "_model_module_version": "1.5.0",
            "_model_name": "DescriptionStyleModel",
            "_view_count": null,
            "_view_module": "@jupyter-widgets/base",
            "_view_module_version": "1.2.0",
            "_view_name": "StyleView",
            "description_width": ""
          }
        },
        "775a461decfe4e1399d160c502fce7f8": {
          "model_module": "@jupyter-widgets/base",
          "model_name": "LayoutModel",
          "model_module_version": "1.2.0",
          "state": {
            "_model_module": "@jupyter-widgets/base",
            "_model_module_version": "1.2.0",
            "_model_name": "LayoutModel",
            "_view_count": null,
            "_view_module": "@jupyter-widgets/base",
            "_view_module_version": "1.2.0",
            "_view_name": "LayoutView",
            "align_content": null,
            "align_items": null,
            "align_self": null,
            "border": null,
            "bottom": null,
            "display": null,
            "flex": null,
            "flex_flow": null,
            "grid_area": null,
            "grid_auto_columns": null,
            "grid_auto_flow": null,
            "grid_auto_rows": null,
            "grid_column": null,
            "grid_gap": null,
            "grid_row": null,
            "grid_template_areas": null,
            "grid_template_columns": null,
            "grid_template_rows": null,
            "height": null,
            "justify_content": null,
            "justify_items": null,
            "left": null,
            "margin": null,
            "max_height": null,
            "max_width": null,
            "min_height": null,
            "min_width": null,
            "object_fit": null,
            "object_position": null,
            "order": null,
            "overflow": null,
            "overflow_x": null,
            "overflow_y": null,
            "padding": null,
            "right": null,
            "top": null,
            "visibility": null,
            "width": null
          }
        },
        "0670d06470dc4c2c950606b5b75aa814": {
          "model_module": "@jupyter-widgets/controls",
          "model_name": "ProgressStyleModel",
          "model_module_version": "1.5.0",
          "state": {
            "_model_module": "@jupyter-widgets/controls",
            "_model_module_version": "1.5.0",
            "_model_name": "ProgressStyleModel",
            "_view_count": null,
            "_view_module": "@jupyter-widgets/base",
            "_view_module_version": "1.2.0",
            "_view_name": "StyleView",
            "bar_color": null,
            "description_width": ""
          }
        },
        "e8a0a24af29f480f92801fce7faa5fe2": {
          "model_module": "@jupyter-widgets/base",
          "model_name": "LayoutModel",
          "model_module_version": "1.2.0",
          "state": {
            "_model_module": "@jupyter-widgets/base",
            "_model_module_version": "1.2.0",
            "_model_name": "LayoutModel",
            "_view_count": null,
            "_view_module": "@jupyter-widgets/base",
            "_view_module_version": "1.2.0",
            "_view_name": "LayoutView",
            "align_content": null,
            "align_items": null,
            "align_self": null,
            "border": null,
            "bottom": null,
            "display": null,
            "flex": null,
            "flex_flow": null,
            "grid_area": null,
            "grid_auto_columns": null,
            "grid_auto_flow": null,
            "grid_auto_rows": null,
            "grid_column": null,
            "grid_gap": null,
            "grid_row": null,
            "grid_template_areas": null,
            "grid_template_columns": null,
            "grid_template_rows": null,
            "height": null,
            "justify_content": null,
            "justify_items": null,
            "left": null,
            "margin": null,
            "max_height": null,
            "max_width": null,
            "min_height": null,
            "min_width": null,
            "object_fit": null,
            "object_position": null,
            "order": null,
            "overflow": null,
            "overflow_x": null,
            "overflow_y": null,
            "padding": null,
            "right": null,
            "top": null,
            "visibility": null,
            "width": null
          }
        },
        "ff82afd5039c47dba5b97fde538fbef2": {
          "model_module": "@jupyter-widgets/controls",
          "model_name": "DescriptionStyleModel",
          "model_module_version": "1.5.0",
          "state": {
            "_model_module": "@jupyter-widgets/controls",
            "_model_module_version": "1.5.0",
            "_model_name": "DescriptionStyleModel",
            "_view_count": null,
            "_view_module": "@jupyter-widgets/base",
            "_view_module_version": "1.2.0",
            "_view_name": "StyleView",
            "description_width": ""
          }
        }
      }
    }
  },
  "cells": [
    {
      "cell_type": "markdown",
      "source": [
        "# Runtime -> Change Runtime -> GPU"
      ],
      "metadata": {
        "id": "cKI3XnG963iC"
      }
    },
    {
      "cell_type": "code",
      "execution_count": 1,
      "metadata": {
        "id": "L0zLl_aG6vJc",
        "colab": {
          "base_uri": "https://localhost:8080/"
        },
        "outputId": "1dff9c41-56cc-4ac6-ed5e-bf64dc720927"
      },
      "outputs": [
        {
          "output_type": "stream",
          "name": "stdout",
          "text": [
            "Sun Apr 24 07:25:59 2022       \n",
            "+-----------------------------------------------------------------------------+\n",
            "| NVIDIA-SMI 460.32.03    Driver Version: 460.32.03    CUDA Version: 11.2     |\n",
            "|-------------------------------+----------------------+----------------------+\n",
            "| GPU  Name        Persistence-M| Bus-Id        Disp.A | Volatile Uncorr. ECC |\n",
            "| Fan  Temp  Perf  Pwr:Usage/Cap|         Memory-Usage | GPU-Util  Compute M. |\n",
            "|                               |                      |               MIG M. |\n",
            "|===============================+======================+======================|\n",
            "|   0  Tesla P100-PCIE...  Off  | 00000000:00:04.0 Off |                    0 |\n",
            "| N/A   46C    P0    29W / 250W |      0MiB / 16280MiB |      0%      Default |\n",
            "|                               |                      |                  N/A |\n",
            "+-------------------------------+----------------------+----------------------+\n",
            "                                                                               \n",
            "+-----------------------------------------------------------------------------+\n",
            "| Processes:                                                                  |\n",
            "|  GPU   GI   CI        PID   Type   Process name                  GPU Memory |\n",
            "|        ID   ID                                                   Usage      |\n",
            "|=============================================================================|\n",
            "|  No running processes found                                                 |\n",
            "+-----------------------------------------------------------------------------+\n",
            "\u001b[K     |████████████████████████████████| 1.5 MB 5.2 MB/s \n",
            "\u001b[K     |████████████████████████████████| 895 kB 44.7 MB/s \n",
            "\u001b[K     |████████████████████████████████| 2.9 MB 36.5 MB/s \n",
            "\u001b[K     |████████████████████████████████| 2.0 MB 5.1 MB/s \n",
            "\u001b[?25h  Installing build dependencies ... \u001b[?25l\u001b[?25hdone\n",
            "  Getting requirements to build wheel ... \u001b[?25l\u001b[?25hdone\n",
            "    Preparing wheel metadata ... \u001b[?25l\u001b[?25hdone\n",
            "\u001b[K     |████████████████████████████████| 829 kB 5.2 MB/s \n",
            "\u001b[K     |████████████████████████████████| 596 kB 46.4 MB/s \n",
            "\u001b[K     |████████████████████████████████| 408 kB 64.3 MB/s \n",
            "\u001b[K     |████████████████████████████████| 136 kB 41.1 MB/s \n",
            "\u001b[K     |████████████████████████████████| 1.1 MB 57.4 MB/s \n",
            "\u001b[K     |████████████████████████████████| 271 kB 57.8 MB/s \n",
            "\u001b[K     |████████████████████████████████| 144 kB 64.3 MB/s \n",
            "\u001b[K     |████████████████████████████████| 94 kB 3.1 MB/s \n",
            "\u001b[?25h  Building wheel for pytorch-lightning (PEP 517) ... \u001b[?25l\u001b[?25hdone\n",
            "  Building wheel for future (setup.py) ... \u001b[?25l\u001b[?25hdone\n",
            "\u001b[K     |████████████████████████████████| 1.1 MB 5.0 MB/s \n",
            "\u001b[?25h"
          ]
        },
        {
          "output_type": "stream",
          "name": "stderr",
          "text": [
            "Global seed set to 0\n"
          ]
        },
        {
          "output_type": "stream",
          "name": "stdout",
          "text": [
            "1.2.6\n",
            "1.2.6\n"
          ]
        }
      ],
      "source": [
        "# check for the GPU provided in the runtime\n",
        "!nvidia-smi\n",
        "# using quiet method for controlling the log\n",
        "# for suppressing the colored errors and warning in the terminal\n",
        "!pip install --quiet transformers==4.1.1\n",
        "# pytorch lightning for smoother model training and data loading\n",
        "!pip install --quiet https://github.com/PyTorchLightning/pytorch-lightning/releases/download/1.2.6/pytorch-lightning-1.2.6.tar.gz \n",
        "# using HuggingFace tokenizers\n",
        "!pip install --quiet tokenizers==0.9.4\n",
        "# Google's sentencepiece\n",
        "!pip install --quiet sentencepiece==0.1.94\n",
        "# mostly pl is used while doing complex model training\n",
        "import pytorch_lightning as pl\n",
        "print(pl.__version__)\n",
        "# argparse makes it easier to write user friendly command line interfaces\n",
        "import argparse\n",
        "# package for faster file name matching\n",
        "import glob\n",
        "# makiing directories for data \n",
        "import os\n",
        "# reading json files as the data is present in json files\n",
        "import json\n",
        "# time module for calculating the model runtime\n",
        "import time\n",
        "# Allows writing status messages to a file\n",
        "import logging\n",
        "# generate random float numbers uniformly\n",
        "import random\n",
        "# regex module for text \n",
        "import re\n",
        "# module provides various functions which work on \n",
        "# iterators too produce complex iterators\n",
        "from itertools import chain\n",
        "from string import punctuation\n",
        "# pandas for data manipulation\n",
        "import pandas as pd\n",
        "# numpy for array operations\n",
        "import numpy as np\n",
        "# PyTorch\n",
        "import torch\n",
        "# provides various classes representing file system paths\n",
        "# with appropriate semantics\n",
        "from pathlib import Path\n",
        "from torch.utils.data import Dataset, DataLoader\n",
        "import pytorch_lightning as pl\n",
        "# splitting the data \n",
        "from sklearn.model_selection import train_test_split\n",
        "# ANSII color formatting for ouput in terminal\n",
        "from termcolor import colored\n",
        "# wrapping paragraphs into string\n",
        "import textwrap\n",
        "# model checkpoints in pretrained model\n",
        "from pytorch_lightning.callbacks import ModelCheckpoint\n",
        "'''\n",
        "optimizer - AdamW\n",
        "T5 Conditional Generator in which we'll give conditions\n",
        "T5 tokenizer because it is fast\n",
        "training the model without a learning rate\n",
        "'''\n",
        "from transformers import (\n",
        "    AdamW,\n",
        "    T5ForConditionalGeneration,\n",
        "    T5Tokenizer,\n",
        "    get_linear_schedule_with_warmup\n",
        ")\n",
        "# Seeds all the processes including numpy torch and other imported modules.\n",
        "pl.seed_everything(0)\n",
        "# check the version provided by Lightning\n",
        "import pytorch_lightning as pl\n",
        "print(pl.__version__)"
      ]
    },
    {
      "cell_type": "code",
      "source": [
        "# RuntimeError: CUDA out of memory. Tried to allocate 134.00 MiB (GPU 0; 15.90 GiB total capacity; 14.35 GiB already allocated; 29.75 MiB free; 14.76 GiB reserved in total by PyTorch) If reserved memory is >> allocated memory try setting max_split_size_mb to avoid fragmentation. See documentation for Memory Management and PYTORCH_CUDA_ALLOC_CONF\n",
        "# 이런 에러가 발생하는 이유는 batch size가 너무 크거나, 코드 상에서 메모리 누수가 발생했기 때문이라고 한다.\n",
        "# 출처 : https://beausty23.tistory.com/145\n",
        "\n",
        "import gc\n",
        "gc.collect()\n",
        "torch.cuda.empty_cache()"
      ],
      "metadata": {
        "id": "nIUPbUbORVrG"
      },
      "execution_count": null,
      "outputs": []
    },
    {
      "cell_type": "markdown",
      "source": [
        "# Downloading the Dataset"
      ],
      "metadata": {
        "id": "cUvcpoeH65ZS"
      }
    },
    {
      "cell_type": "code",
      "source": [
        "# # QA dataset from https://github.com/dmis-lab/bioasq-biobert\n",
        "# # which is in Zip format\n",
        "# !gdown --id 1mxVUywvKzvA9bvrUc11RYuOTy7MYcXHF\n",
        "# # Unzipping the folder\n",
        "# !unzip -q bio-QA.zip"
      ],
      "metadata": {
        "colab": {
          "base_uri": "https://localhost:8080/"
        },
        "id": "oBUbJLMoCMLb",
        "outputId": "2818e6c5-281f-4ca1-cd68-9f568a36548b"
      },
      "execution_count": null,
      "outputs": [
        {
          "output_type": "stream",
          "name": "stdout",
          "text": [
            "/usr/local/lib/python3.7/dist-packages/gdown/cli.py:131: FutureWarning: Option `--id` was deprecated in version 4.3.1 and will be removed in 5.0. You don't need to pass it anymore to use a file ID.\n",
            "  category=FutureWarning,\n",
            "Downloading...\n",
            "From: https://drive.google.com/uc?id=1mxVUywvKzvA9bvrUc11RYuOTy7MYcXHF\n",
            "To: /content/bio-QA.zip\n",
            "100% 5.48M/5.48M [00:00<00:00, 327MB/s]\n"
          ]
        }
      ]
    },
    {
      "cell_type": "code",
      "source": [
        "# # let's have a look at one of the files\n",
        "# with Path(\"BioASQ/BioASQ-train-factoid-4b.json\").open() as json_file:\n",
        "#   data_ = json.load(json_file)"
      ],
      "metadata": {
        "id": "6oychEfPWe2s"
      },
      "execution_count": null,
      "outputs": []
    },
    {
      "cell_type": "code",
      "source": [
        "# # let's have a look at one of the files\n",
        "# with Path(\"/content/drive/MyDrive/final_pjt/data/data.json\").open() as json_file:\n",
        "#   data = json.load(json_file)"
      ],
      "metadata": {
        "colab": {
          "base_uri": "https://localhost:8080/",
          "height": 363
        },
        "id": "gksECmPRCFXb",
        "outputId": "bea863fc-f4f7-44ed-859a-a4d859ceea7f"
      },
      "execution_count": null,
      "outputs": [
        {
          "output_type": "error",
          "ename": "KeyboardInterrupt",
          "evalue": "ignored",
          "traceback": [
            "\u001b[0;31m---------------------------------------------------------------------------\u001b[0m",
            "\u001b[0;31mKeyboardInterrupt\u001b[0m                         Traceback (most recent call last)",
            "\u001b[0;32m<ipython-input-4-15f8d27d233b>\u001b[0m in \u001b[0;36m<module>\u001b[0;34m()\u001b[0m\n\u001b[1;32m      1\u001b[0m \u001b[0;31m# let's have a look at one of the files\u001b[0m\u001b[0;34m\u001b[0m\u001b[0;34m\u001b[0m\u001b[0;34m\u001b[0m\u001b[0m\n\u001b[1;32m      2\u001b[0m \u001b[0;32mwith\u001b[0m \u001b[0mPath\u001b[0m\u001b[0;34m(\u001b[0m\u001b[0;34m\"/content/drive/MyDrive/final_pjt/data/data.json\"\u001b[0m\u001b[0;34m)\u001b[0m\u001b[0;34m.\u001b[0m\u001b[0mopen\u001b[0m\u001b[0;34m(\u001b[0m\u001b[0;34m)\u001b[0m \u001b[0;32mas\u001b[0m \u001b[0mjson_file\u001b[0m\u001b[0;34m:\u001b[0m\u001b[0;34m\u001b[0m\u001b[0;34m\u001b[0m\u001b[0m\n\u001b[0;32m----> 3\u001b[0;31m   \u001b[0mdata\u001b[0m \u001b[0;34m=\u001b[0m \u001b[0mjson\u001b[0m\u001b[0;34m.\u001b[0m\u001b[0mload\u001b[0m\u001b[0;34m(\u001b[0m\u001b[0mjson_file\u001b[0m\u001b[0;34m)\u001b[0m\u001b[0;34m\u001b[0m\u001b[0;34m\u001b[0m\u001b[0m\n\u001b[0m",
            "\u001b[0;32m/usr/lib/python3.7/json/__init__.py\u001b[0m in \u001b[0;36mload\u001b[0;34m(fp, cls, object_hook, parse_float, parse_int, parse_constant, object_pairs_hook, **kw)\u001b[0m\n\u001b[1;32m    291\u001b[0m     \u001b[0mkwarg\u001b[0m\u001b[0;34m;\u001b[0m \u001b[0motherwise\u001b[0m\u001b[0;31m \u001b[0m\u001b[0;31m`\u001b[0m\u001b[0;31m`\u001b[0m\u001b[0mJSONDecoder\u001b[0m\u001b[0;31m`\u001b[0m\u001b[0;31m`\u001b[0m \u001b[0;32mis\u001b[0m \u001b[0mused\u001b[0m\u001b[0;34m.\u001b[0m\u001b[0;34m\u001b[0m\u001b[0;34m\u001b[0m\u001b[0m\n\u001b[1;32m    292\u001b[0m     \"\"\"\n\u001b[0;32m--> 293\u001b[0;31m     return loads(fp.read(),\n\u001b[0m\u001b[1;32m    294\u001b[0m         \u001b[0mcls\u001b[0m\u001b[0;34m=\u001b[0m\u001b[0mcls\u001b[0m\u001b[0;34m,\u001b[0m \u001b[0mobject_hook\u001b[0m\u001b[0;34m=\u001b[0m\u001b[0mobject_hook\u001b[0m\u001b[0;34m,\u001b[0m\u001b[0;34m\u001b[0m\u001b[0;34m\u001b[0m\u001b[0m\n\u001b[1;32m    295\u001b[0m         \u001b[0mparse_float\u001b[0m\u001b[0;34m=\u001b[0m\u001b[0mparse_float\u001b[0m\u001b[0;34m,\u001b[0m \u001b[0mparse_int\u001b[0m\u001b[0;34m=\u001b[0m\u001b[0mparse_int\u001b[0m\u001b[0;34m,\u001b[0m\u001b[0;34m\u001b[0m\u001b[0;34m\u001b[0m\u001b[0m\n",
            "\u001b[0;32m/usr/lib/python3.7/codecs.py\u001b[0m in \u001b[0;36mdecode\u001b[0;34m(self, input, final)\u001b[0m\n\u001b[1;32m    320\u001b[0m         \u001b[0;31m# decode input (taking the buffer into account)\u001b[0m\u001b[0;34m\u001b[0m\u001b[0;34m\u001b[0m\u001b[0;34m\u001b[0m\u001b[0m\n\u001b[1;32m    321\u001b[0m         \u001b[0mdata\u001b[0m \u001b[0;34m=\u001b[0m \u001b[0mself\u001b[0m\u001b[0;34m.\u001b[0m\u001b[0mbuffer\u001b[0m \u001b[0;34m+\u001b[0m \u001b[0minput\u001b[0m\u001b[0;34m\u001b[0m\u001b[0;34m\u001b[0m\u001b[0m\n\u001b[0;32m--> 322\u001b[0;31m         \u001b[0;34m(\u001b[0m\u001b[0mresult\u001b[0m\u001b[0;34m,\u001b[0m \u001b[0mconsumed\u001b[0m\u001b[0;34m)\u001b[0m \u001b[0;34m=\u001b[0m \u001b[0mself\u001b[0m\u001b[0;34m.\u001b[0m\u001b[0m_buffer_decode\u001b[0m\u001b[0;34m(\u001b[0m\u001b[0mdata\u001b[0m\u001b[0;34m,\u001b[0m \u001b[0mself\u001b[0m\u001b[0;34m.\u001b[0m\u001b[0merrors\u001b[0m\u001b[0;34m,\u001b[0m \u001b[0mfinal\u001b[0m\u001b[0;34m)\u001b[0m\u001b[0;34m\u001b[0m\u001b[0;34m\u001b[0m\u001b[0m\n\u001b[0m\u001b[1;32m    323\u001b[0m         \u001b[0;31m# keep undecoded input until the next call\u001b[0m\u001b[0;34m\u001b[0m\u001b[0;34m\u001b[0m\u001b[0;34m\u001b[0m\u001b[0m\n\u001b[1;32m    324\u001b[0m         \u001b[0mself\u001b[0m\u001b[0;34m.\u001b[0m\u001b[0mbuffer\u001b[0m \u001b[0;34m=\u001b[0m \u001b[0mdata\u001b[0m\u001b[0;34m[\u001b[0m\u001b[0mconsumed\u001b[0m\u001b[0;34m:\u001b[0m\u001b[0;34m]\u001b[0m\u001b[0;34m\u001b[0m\u001b[0;34m\u001b[0m\u001b[0m\n",
            "\u001b[0;31mKeyboardInterrupt\u001b[0m: "
          ]
        }
      ]
    },
    {
      "cell_type": "code",
      "source": [
        "# # let's have a look at one of the files\n",
        "# with Path(\"/content/drive/MyDrive/final_pjt/data/KorQuAD_v1.0_train.json\").open() as json_file:\n",
        "#   data_ = json.load(json_file)"
      ],
      "metadata": {
        "id": "z9GmQTDHkIH5"
      },
      "execution_count": null,
      "outputs": []
    },
    {
      "cell_type": "code",
      "source": [
        "import os\n",
        "import json\n",
        "import numpy as np\n",
        "from tqdm.notebook import tqdm\n",
        "from pathlib import Path\n",
        "from transformers import BertTokenizerFast\n",
        "import tensorflow as tf"
      ],
      "metadata": {
        "id": "DG8WDlv1o81I"
      },
      "execution_count": 2,
      "outputs": []
    },
    {
      "cell_type": "code",
      "source": [
        "def read_squad(path):\n",
        "    path = Path(path)\n",
        "    with open(path, 'rb') as f:\n",
        "      data = json.load(f)\n",
        "    data_rows = []\n",
        "    for group in data['data']:\n",
        "      for passage in group['paragraphs']:\n",
        "        context = passage['context']\n",
        "        for qa in passage['qas']:\n",
        "          question = qa['question']\n",
        "          for answer in qa['answers']:\n",
        "            answer_text = answer['text']\n",
        "            answer_start = answer['answer_start']\n",
        "            answer_end = answer['answer_start'] + len(answer_text)  #Gets the end index of each answer in the paragraph\n",
        "            data_rows.append({\n",
        "                  \"question\" : question,\n",
        "                  \"context\"  : context,\n",
        "                  \"answer_text\" : answer_text,\n",
        "                  \"answer_start\" : answer_start,\n",
        "                  \"answer_end\" : answer_end\n",
        "              })\n",
        "\n",
        "    return pd.DataFrame(data_rows)\n",
        "\n",
        "df =read_squad('/content/drive/MyDrive/final_pjt/data/KorQuAD_v1.0_train.json')\n"
      ],
      "metadata": {
        "id": "pkAEBLHEo0dT"
      },
      "execution_count": null,
      "outputs": []
    },
    {
      "cell_type": "code",
      "source": [
        "df = pd.read_csv('/content/drive/MyDrive/6조_파이널PJT/data/ko1.0_add_ko2.0.csv')"
      ],
      "metadata": {
        "id": "zxmfGc_ooijH"
      },
      "execution_count": 3,
      "outputs": []
    },
    {
      "cell_type": "code",
      "source": [
        "df1 = df[:50000]\n",
        "df2 = df[50000:]\n",
        "# df2 = df[70000:]"
      ],
      "metadata": {
        "id": "M8EeloV_efo4"
      },
      "execution_count": null,
      "outputs": []
    },
    {
      "cell_type": "code",
      "source": [
        "df1.info()\n",
        "len(df1)"
      ],
      "metadata": {
        "id": "OMbC8lOYo-67",
        "colab": {
          "base_uri": "https://localhost:8080/"
        },
        "outputId": "af072db3-50c0-4bb6-9747-4033b7a85828"
      },
      "execution_count": null,
      "outputs": [
        {
          "output_type": "stream",
          "name": "stdout",
          "text": [
            "<class 'pandas.core.frame.DataFrame'>\n",
            "RangeIndex: 50000 entries, 0 to 49999\n",
            "Data columns (total 5 columns):\n",
            " #   Column        Non-Null Count  Dtype \n",
            "---  ------        --------------  ----- \n",
            " 0   question      50000 non-null  object\n",
            " 1   context       50000 non-null  object\n",
            " 2   answer_text   50000 non-null  object\n",
            " 3   answer_start  50000 non-null  int64 \n",
            " 4   answer_end    50000 non-null  int64 \n",
            "dtypes: int64(2), object(3)\n",
            "memory usage: 1.9+ MB\n"
          ]
        },
        {
          "output_type": "execute_result",
          "data": {
            "text/plain": [
              "50000"
            ]
          },
          "metadata": {},
          "execution_count": 36
        }
      ]
    },
    {
      "cell_type": "code",
      "source": [
        "df_t = df_t.drop(['Unnamed: 0'], axis = 1)"
      ],
      "metadata": {
        "id": "3noF1Tyj4lt8"
      },
      "execution_count": null,
      "outputs": []
    },
    {
      "cell_type": "code",
      "source": [
        "df_t = df_t[['question', 'context', 'answer_text', 'answer_start', 'answer_end']]"
      ],
      "metadata": {
        "id": "msdaLeOgpFF0"
      },
      "execution_count": null,
      "outputs": []
    },
    {
      "cell_type": "code",
      "source": [
        "df_t.dropna(inplace = True)"
      ],
      "metadata": {
        "id": "e0cdvl0krGnQ"
      },
      "execution_count": null,
      "outputs": []
    },
    {
      "cell_type": "code",
      "source": [
        "df_t = df_t.astype({'answer_start':int, 'answer_end':int})"
      ],
      "metadata": {
        "id": "bpXEe-6MqKAY"
      },
      "execution_count": null,
      "outputs": []
    },
    {
      "cell_type": "code",
      "source": [
        "df_t.info()"
      ],
      "metadata": {
        "colab": {
          "base_uri": "https://localhost:8080/"
        },
        "id": "JRi6xCqMpzrw",
        "outputId": "f843b7fc-374d-4399-d84d-a49322fc5c6c"
      },
      "execution_count": null,
      "outputs": [
        {
          "output_type": "stream",
          "name": "stdout",
          "text": [
            "<class 'pandas.core.frame.DataFrame'>\n",
            "Int64Index: 12296 entries, 0 to 12305\n",
            "Data columns (total 5 columns):\n",
            " #   Column        Non-Null Count  Dtype \n",
            "---  ------        --------------  ----- \n",
            " 0   question      12296 non-null  object\n",
            " 1   context       12296 non-null  object\n",
            " 2   answer_text   12296 non-null  object\n",
            " 3   answer_start  12296 non-null  int64 \n",
            " 4   answer_end    12296 non-null  int64 \n",
            "dtypes: int64(2), object(3)\n",
            "memory usage: 576.4+ KB\n"
          ]
        }
      ]
    },
    {
      "cell_type": "code",
      "source": [
        "# Data is a dictionary\n",
        "data.keys()\n",
        "# Let’s have a look at how the data is stored and in what format.\n",
        "Data['version']\n",
        "# len of each file\n",
        "len(data_['data'])\n",
        "# We have a list of dictionaries in the \"data\". We can explore the 0th element\n",
        "data['data'][0].keys()\n",
        "data['data'][0]['title']\n",
        "len(data['data'][0]['paragraphs'])\n",
        "questions = data['data'][0]['paragraphs']\n",
        "# datapoint sample\n",
        "questions[0]"
      ],
      "metadata": {
        "colab": {
          "base_uri": "https://localhost:8080/",
          "height": 248
        },
        "id": "2XMfLIa1CNbw",
        "outputId": "a4583f54-1ef9-4049-fb95-9f13d4356a47"
      },
      "execution_count": null,
      "outputs": [
        {
          "output_type": "error",
          "ename": "NameError",
          "evalue": "ignored",
          "traceback": [
            "\u001b[0;31m---------------------------------------------------------------------------\u001b[0m",
            "\u001b[0;31mNameError\u001b[0m                                 Traceback (most recent call last)",
            "\u001b[0;32m<ipython-input-10-359c635da1a8>\u001b[0m in \u001b[0;36m<module>\u001b[0;34m()\u001b[0m\n\u001b[1;32m      1\u001b[0m \u001b[0;31m# Data is a dictionary\u001b[0m\u001b[0;34m\u001b[0m\u001b[0;34m\u001b[0m\u001b[0;34m\u001b[0m\u001b[0m\n\u001b[0;32m----> 2\u001b[0;31m \u001b[0mdata\u001b[0m\u001b[0;34m.\u001b[0m\u001b[0mkeys\u001b[0m\u001b[0;34m(\u001b[0m\u001b[0;34m)\u001b[0m\u001b[0;34m\u001b[0m\u001b[0;34m\u001b[0m\u001b[0m\n\u001b[0m\u001b[1;32m      3\u001b[0m \u001b[0;31m# Let’s have a look at how the data is stored and in what format.\u001b[0m\u001b[0;34m\u001b[0m\u001b[0;34m\u001b[0m\u001b[0;34m\u001b[0m\u001b[0m\n\u001b[1;32m      4\u001b[0m \u001b[0mData\u001b[0m\u001b[0;34m[\u001b[0m\u001b[0;34m'version'\u001b[0m\u001b[0;34m]\u001b[0m\u001b[0;34m\u001b[0m\u001b[0;34m\u001b[0m\u001b[0m\n\u001b[1;32m      5\u001b[0m \u001b[0;31m# len of each file\u001b[0m\u001b[0;34m\u001b[0m\u001b[0;34m\u001b[0m\u001b[0;34m\u001b[0m\u001b[0m\n",
            "\u001b[0;31mNameError\u001b[0m: name 'data' is not defined"
          ]
        }
      ]
    },
    {
      "cell_type": "markdown",
      "source": [
        "# Function to Create Pandas Dataframes of Questions and Answers\n",
        "This function will help us read the data from the folder containing multiple JSON files and read them to a dataframe to run manipulation on it and proceed further. "
      ],
      "metadata": {
        "id": "1etHB3Me6-bm"
      }
    },
    {
      "cell_type": "code",
      "source": [
        "# def extract_questions_and_answers(factoid_path = Path):\n",
        "#   with factoid_path.open() as json_file:\n",
        "#     data = json.load(json_file)\n",
        "#     questions = data['data'][0]['paragraphs']\n",
        "#     data_rows = []\n",
        "#     for question in questions:\n",
        "#       context = question['context']\n",
        "#       for question_and_answers in question['qas']:\n",
        "#         question = question_and_answers['question']\n",
        "#         answers = question_and_answers['answers']\n",
        "#         for answer in answers:\n",
        "#           answer_text = answer['text']\n",
        "#           answer_start = answer['answer_start']\n",
        "#           answer_end = answer['answer_start'] + len(answer_text)  #Gets the end index of each answer in the paragraph\n",
        "#           data_rows.append({\n",
        "#                 \"question\" : question,\n",
        "#                 \"context\"  : context,\n",
        "#                 \"answer_text\" : answer_text,\n",
        "#                 \"answer_start\" : answer_start,\n",
        "#                 \"answer_end\" : answer_end\n",
        "#             })\n",
        "#     return pd.DataFrame(data_rows)\n",
        "# factoid_path = Path(\"BioASQ/BioASQ-train-factoid-4b.json\")\n",
        "# extract_questions_and_answers(factoid_path).head()      \n",
        "# factoid_paths = sorted(list(Path('BioASQ/').glob('BioASQ-train-*')))\n",
        "# factoid_paths\n",
        "# dfs = []\n",
        "# for factoid_path in factoid_paths:\n",
        "#   df = extract_questions_and_answers(factoid_path)\n",
        "#   dfs.append(df)\n",
        "# df = pd.concat(dfs)\n",
        "# df = df1\n",
        "df.head()\n",
        "df.shape\n",
        "# Dropping all the rows with repeated context and questions pairs.\n",
        "# df = df.drop_duplicates(subset=[\"context\"]).reset_index(drop=True)\n",
        "df.shape\n",
        "len(df.question.unique())\n",
        "len(df.context.unique())\n",
        "sample_question = df.iloc[243]\n",
        "sample_question\n",
        "# Using textcolor to visualize the answer within the context\n",
        "def color_answer(question):\n",
        "  answer_start, answer_end = question[\"answer_start\"],question[\"answer_end\"]\n",
        "  context = question['context']\n",
        "  return  colored(context[:answer_start], \"white\") + \\\n",
        "    colored(context[answer_start:answer_end + 1], \"green\") + \\\n",
        "    colored(context[answer_end+1:], \"white\")\n",
        "print(sample_question['question'])\n",
        "print()\n",
        "print(\"Answer: \")\n",
        "for wrap in textwrap.wrap(color_answer(sample_question), width = 100):\n",
        "  print(wrap)"
      ],
      "metadata": {
        "id": "sosg-bHj608t",
        "colab": {
          "base_uri": "https://localhost:8080/"
        },
        "outputId": "bb71fd05-1029-40c9-f01b-bef8cefe70c3"
      },
      "execution_count": 4,
      "outputs": [
        {
          "output_type": "stream",
          "name": "stdout",
          "text": [
            "악티늄족을 핵 연료로 이용할 때 사용해야 하는 방사능 차단 물질은 어떤 종류인가?\n",
            "\n",
            "Answer: \n",
            "\u001b[37m악티늄족을 핵 연료로 이용할 때는, 방사능원을 차단하거나 방사성 물질을 막을 수 있는 \u001b[0m\u001b[32m고급 광물(\u001b[0m\u001b[37m예로 들자면 큰 잠재적 이득이 있는 자체\n",
            "발광 결정 등)을 사용해야 한다. 그러나, 악티늄족의 강한 방사능독으로 인해 자연에서의 이동과 악티늄족에 깊은 우려가 있기도 하다. 혼합산화물핵연료(MOX)에서 화학적으로 불안정한\n",
            "형태를 가진 악티늄족의 사용과 방사능 원천을 차단하는 것으로는 현대 안전 기준에는 적절하지 않다. 현재 안정되고 내구성이 좋은 악티늄족과 관련된 물질을 제작하는 것에 도전하고\n",
            "있다. 이것은 안전한 창고에 들어있어야 하고, 사용하고 나서 최종 처분할 수 있어야 한다. 악티늄족 고체 용액의 적용의 열쇠는 바로 내구성이 좋은 결정체의 상이다.\u001b[0m\n"
          ]
        }
      ]
    },
    {
      "cell_type": "markdown",
      "source": [
        "# Tokenization\n",
        "In the following cells, we have instantiated the model and called its tokenizer. T5 tokenizer is pretty fast as compared to other BERT type tokenizers. We will run a sample of this on the text given below and do the decoding."
      ],
      "metadata": {
        "id": "DaPjX8817C0J"
      }
    },
    {
      "cell_type": "code",
      "source": [
        "# using the base T5 model having 222M params\n",
        "MODEL_NAME ='KETI-AIR/ke-t5-base' \n",
        "tokenizer = T5Tokenizer.from_pretrained(MODEL_NAME)\n",
        "sample_encoding = tokenizer('is the glass half empty or half full?', 'It depends on the initial state of the glass. If the glass starts out empty and liquid is added until it is half full, it is half full. If the glass starts out full and liquid is removed until it is half empty, it is half empty.')\n",
        "sample_encoding.keys()\n",
        "print(sample_encoding[\"input_ids\"])\n",
        "print(sample_encoding[\"attention_mask\"])\n",
        "print(len(sample_encoding['input_ids']), len(sample_encoding['attention_mask']))\n",
        "# Checking the decoding of the input ids\n",
        "preds = [\n",
        "        tokenizer.decode(input_id, skip_special_tokens=True, clean_up_tokenization_spaces=True)\n",
        "        for input_id in sample_encoding['input_ids']\n",
        "]\n",
        "preds= \" \".join(preds)\n",
        "for wrap in textwrap.wrap(preds, width = 80):\n",
        "  print(wrap)\n",
        "encoding = tokenizer(\n",
        "    sample_question['question'],\n",
        "    sample_question['context'],\n",
        "    max_length=396,\n",
        "    padding='max_length',\n",
        "    truncation=\"only_second\",\n",
        "    return_attention_mask=True,\n",
        "    add_special_tokens=True,\n",
        "    return_tensors=\"pt\"\n",
        ")\n",
        "encoding.keys()\n",
        "tokenizer.special_tokens_map\n",
        "tokenizer.eos_token, tokenizer.eos_token_id\n",
        "# Input id of 1 represents end of sequence token.\n",
        "# Text representation pf the input ids\n",
        "tokenizer.decode(encoding['input_ids'].squeeze()) "
      ],
      "metadata": {
        "id": "EyDH6lwI606g",
        "colab": {
          "base_uri": "https://localhost:8080/",
          "height": 390,
          "referenced_widgets": [
            "6e14890995f943fa88f834af606db707",
            "7e944f3f8ee44d17a988a41bf93ee8ba",
            "8924d61f33db402db4f2c14a67d624f7",
            "672adeee422d4548a70f3ad3b406df9b",
            "53b1f5ab3c224314a0b7c0dbf2066712",
            "1100ea1117ef495f9160021e00780117",
            "01dbe2af27f14c3993857b5dd0a79cca",
            "001a9056049649edad7cdfe1dffef621",
            "ce9b4feb06ef408abd03c41a661cc683",
            "697d588fa7784cc3a6f8ff042e7802b3",
            "09921fb537ee4ee9b470b1094fc9bebe",
            "538f3674a931495ca9c879b0c712becb",
            "c8385bc8e8fe4f2bbba1f3a49a676b7c",
            "0bb038a9a2f6463e85380dae131f7988",
            "24332d2b802e4cb88382cbbc6e97576a",
            "856341bbd44f41ccaff1b4aab8fb1397",
            "4b9cd74b970c42ca8b8b06679066425f",
            "74a38bdefeb5427eab58396f7952a203",
            "bb155cb59ac94693870005ca9c94988d",
            "33d994c317564d659a7f2e520309c330",
            "99eb1077c12f45759bcaab6f54e9bb14",
            "43901bd5c4f64a18844264ea4746e2ee",
            "1e52625593994442a3ac8219187bfb3a",
            "466953841a64468597efb2ae5c96ffb4",
            "8b874f04521b4f63b30199b33898a225",
            "ef62ea72117a439888a55973c55b570e",
            "df83af4f220546f286afcc167610ce70",
            "f97dd1b55adb42c694c4933098fe3db4",
            "a13557f1bf614e54b007b2668673f6e5",
            "1b4956122e744db3ba755c104fdd56cc",
            "0e748ac6afa64c84ab784f2a22e8517e",
            "59a72e28419a47b0b32f894b08f12355",
            "ccd31a9bc9954c8e82e0399e084bdb7c"
          ]
        },
        "outputId": "ad8f2c35-152c-4189-e478-0e739c9e92cd"
      },
      "execution_count": 5,
      "outputs": [
        {
          "output_type": "display_data",
          "data": {
            "text/plain": [
              "Downloading:   0%|          | 0.00/1.47M [00:00<?, ?B/s]"
            ],
            "application/vnd.jupyter.widget-view+json": {
              "version_major": 2,
              "version_minor": 0,
              "model_id": "6e14890995f943fa88f834af606db707"
            }
          },
          "metadata": {}
        },
        {
          "output_type": "display_data",
          "data": {
            "text/plain": [
              "Downloading:   0%|          | 0.00/1.79k [00:00<?, ?B/s]"
            ],
            "application/vnd.jupyter.widget-view+json": {
              "version_major": 2,
              "version_minor": 0,
              "model_id": "538f3674a931495ca9c879b0c712becb"
            }
          },
          "metadata": {}
        },
        {
          "output_type": "display_data",
          "data": {
            "text/plain": [
              "Downloading:   0%|          | 0.00/1.96k [00:00<?, ?B/s]"
            ],
            "application/vnd.jupyter.widget-view+json": {
              "version_major": 2,
              "version_minor": 0,
              "model_id": "1e52625593994442a3ac8219187bfb3a"
            }
          },
          "metadata": {}
        },
        {
          "output_type": "stream",
          "name": "stdout",
          "text": [
            "[43, 5, 12857, 1648, 19876, 117, 1648, 1479, 85, 1, 223, 26000, 46, 5, 9113, 604, 14, 5, 12857, 3, 799, 5, 12857, 9162, 176, 19876, 13, 24483, 43, 1586, 1429, 60, 43, 1648, 1479, 4, 60, 43, 1648, 1479, 3, 799, 5, 12857, 9162, 176, 1479, 13, 24483, 43, 11514, 1429, 60, 43, 1648, 19876, 4, 60, 43, 1648, 19876, 3, 1]\n",
            "[1, 1, 1, 1, 1, 1, 1, 1, 1, 1, 1, 1, 1, 1, 1, 1, 1, 1, 1, 1, 1, 1, 1, 1, 1, 1, 1, 1, 1, 1, 1, 1, 1, 1, 1, 1, 1, 1, 1, 1, 1, 1, 1, 1, 1, 1, 1, 1, 1, 1, 1, 1, 1, 1, 1, 1, 1, 1, 1, 1, 1, 1, 1]\n",
            "63 63\n",
            "is the glass half empty or half full ? </s> It depends on the initial state of\n",
            "the glass . If the glass starts out empty and liquid is added until it is half\n",
            "full , it is half full . If the glass starts out full and liquid is removed\n",
            "until it is half empty , it is half empty . </s>\n"
          ]
        },
        {
          "output_type": "execute_result",
          "data": {
            "text/plain": [
              "'악티늄족을 핵 연료로 이용할 때 사용해야 하는 방사능 차단 물질은 어떤 종류인가?</s> 악티늄족을 핵 연료로 이용할 때는, 방사능원을 차단하거나 방사성 물질을 막을 수 있는 고급 광물(예로 들자면 큰 잠재적 이득이 있는 자체 발광 결정 등)을 사용해야 한다. 그러나, 악티늄족의 강한 방사능독으로 인해 자연에서의 이동과 악티늄족에 깊은 우려가 있기도 하다. 혼합산화물핵연료(MOX)에서 화학적으로 불안정한 형태를 가진 악티늄족의 사용과 방사능 원천을 차단하는 것으로는 현대 안전 기준에는 적절하지 않다. 현재 안정되고 내구성이 좋은 악티늄족과 관련된 물질을 제작하는 것에 도전하고 있다. 이것은 안전한 창고에 들어있어야 하고, 사용하고 나서 최종 처분할 수 있어야 한다. 악티늄족 고체 용액의 적용의 열쇠는 바로 내구성이 좋은 결정체의 상이다.</s> <pad> <pad> <pad> <pad> <pad> <pad> <pad> <pad> <pad> <pad> <pad> <pad> <pad> <pad> <pad> <pad> <pad> <pad> <pad> <pad> <pad> <pad> <pad> <pad> <pad> <pad> <pad> <pad> <pad> <pad> <pad> <pad> <pad> <pad> <pad> <pad> <pad> <pad> <pad> <pad> <pad> <pad> <pad> <pad> <pad> <pad> <pad> <pad> <pad> <pad> <pad> <pad> <pad> <pad> <pad> <pad> <pad> <pad> <pad> <pad> <pad> <pad> <pad> <pad> <pad> <pad> <pad> <pad> <pad> <pad> <pad> <pad> <pad> <pad> <pad> <pad> <pad> <pad> <pad> <pad> <pad> <pad> <pad> <pad> <pad> <pad> <pad> <pad> <pad> <pad> <pad> <pad> <pad> <pad> <pad> <pad> <pad> <pad> <pad> <pad> <pad> <pad> <pad> <pad> <pad> <pad> <pad> <pad> <pad> <pad> <pad> <pad> <pad> <pad> <pad> <pad> <pad> <pad> <pad> <pad> <pad> <pad> <pad> <pad> <pad> <pad> <pad> <pad> <pad> <pad> <pad> <pad> <pad> <pad> <pad> <pad> <pad> <pad> <pad> <pad> <pad> <pad> <pad> <pad> <pad> <pad> <pad> <pad> <pad> <pad> <pad> <pad> <pad> <pad> <pad> <pad> <pad> <pad> <pad> <pad> <pad> <pad> <pad> <pad> <pad> <pad> <pad> <pad> <pad> <pad> <pad> <pad> <pad> <pad> <pad> <pad> <pad> <pad> <pad> <pad> <pad> <pad> <pad> <pad> <pad> <pad> <pad> <pad> <pad> <pad> <pad> <pad> <pad> <pad> <pad> <pad> <pad> <pad> <pad> <pad> <pad> <pad> <pad> <pad> <pad> <pad> <pad> <pad> <pad> <pad> <pad> <pad> <pad> <pad> <pad>'"
            ],
            "application/vnd.google.colaboratory.intrinsic+json": {
              "type": "string"
            }
          },
          "metadata": {},
          "execution_count": 5
        }
      ]
    },
    {
      "cell_type": "markdown",
      "source": [
        "# Creating labels for the answers\n",
        "In the following cells, We have to create necessary labels for the answers. This is required so that we can extract answers accordingly to the questions."
      ],
      "metadata": {
        "id": "g0pwP3Ij7Kc2"
      }
    },
    {
      "cell_type": "code",
      "source": [
        "answer_encoding = tokenizer(\n",
        "    sample_question['answer_text'],\n",
        "    max_length=32,\n",
        "    padding='max_length',\n",
        "    truncation=True,\n",
        "    return_attention_mask=True,\n",
        "    add_special_tokens=True,\n",
        "    return_tensors=\"pt\"\n",
        ")\n",
        "tokenizer.decode(answer_encoding['input_ids'].squeeze())\n",
        "labels = answer_encoding[\"input_ids\"]\n",
        "labels\n",
        "labels[labels == 0] = -100\n",
        "labels "
      ],
      "metadata": {
        "id": "O4Ecg1Mn604W",
        "colab": {
          "base_uri": "https://localhost:8080/"
        },
        "outputId": "0a7c1dab-c351-453b-b692-e0bc008ebac0"
      },
      "execution_count": 6,
      "outputs": [
        {
          "output_type": "execute_result",
          "data": {
            "text/plain": [
              "tensor([[ 4928, 42481,     1,  -100,  -100,  -100,  -100,  -100,  -100,  -100,\n",
              "          -100,  -100,  -100,  -100,  -100,  -100,  -100,  -100,  -100,  -100,\n",
              "          -100,  -100,  -100,  -100,  -100,  -100,  -100,  -100,  -100,  -100,\n",
              "          -100,  -100]])"
            ]
          },
          "metadata": {},
          "execution_count": 6
        }
      ]
    },
    {
      "cell_type": "markdown",
      "source": [
        "# Create dataset\n",
        "In the following cells, we have created the dataset for input in the model. This required setting the lengths, padding and tokenizer. The data has been taken for a BioQA dataset which is specifically for this task. "
      ],
      "metadata": {
        "id": "xXpr9q6j7OeR"
      }
    },
    {
      "cell_type": "code",
      "source": [
        "class BioQADataset(Dataset):\n",
        "  def __init__(\n",
        "      self,\n",
        "      data:pd.DataFrame,\n",
        "      tokenizer:T5Tokenizer,\n",
        "      source_max_token_len: int = 396,\n",
        "      target_max_token_len: int = 32,\n",
        "      ):\n",
        "    self.data =  data\n",
        "    self.tokenizer =  tokenizer\n",
        "    self.source_max_token_len =  source_max_token_len\n",
        "    self.target_max_token_len =  target_max_token_len\n",
        "  def __len__(self):\n",
        "    return len(self.data)\n",
        "  def __getitem__(self, index: int):\n",
        "    data_row = self.data.iloc[index]\n",
        "    source_encoding = tokenizer(\n",
        "      data_row['question'],\n",
        "      data_row['context'],\n",
        "      max_length=self.source_max_token_len,\n",
        "      padding='max_length',\n",
        "      truncation=\"only_second\",\n",
        "      return_attention_mask=True,\n",
        "      add_special_tokens=True,\n",
        "      return_tensors=\"pt\"\n",
        "      )\n",
        "    target_encoding = tokenizer(\n",
        "      data_row['answer_text'],\n",
        "      max_length=self.target_max_token_len,\n",
        "      padding='max_length',\n",
        "      truncation=True,\n",
        "      return_attention_mask=True,\n",
        "      add_special_tokens=True,\n",
        "      return_tensors=\"pt\"\n",
        "      )\n",
        "    labels = target_encoding['input_ids']\n",
        "    labels[labels==0] = -100\n",
        "    return dict(\n",
        "        question=data_row['question'],\n",
        "        context=data_row['context'],\n",
        "        answer_text=data_row['answer_text'],\n",
        "        input_ids=source_encoding[\"input_ids\"].flatten(),\n",
        "        attention_mask=source_encoding['attention_mask'].flatten(),\n",
        "        labels=labels.flatten()\n",
        "    )\n",
        "sample_dataset = BioQADataset(df, tokenizer)\n",
        "for data in sample_dataset:\n",
        "  print(\"Question: \", data['question'])\n",
        "  print(\"Answer text: \", data['answer_text'])\n",
        "  print(\"Input_ids: \", data['input_ids'][:10])\n",
        "  print(\"Labels: \", data['labels'][:10])\n",
        "  break "
      ],
      "metadata": {
        "id": "sJlosUyi602C",
        "colab": {
          "base_uri": "https://localhost:8080/"
        },
        "outputId": "35a0e7ad-37af-4f14-b095-04c8683bd584"
      },
      "execution_count": 7,
      "outputs": [
        {
          "output_type": "stream",
          "name": "stdout",
          "text": [
            "Question:  바그너는 괴테의 파우스트를 읽고 무엇을 쓰고자 했는가?\n",
            "Answer text:  교향곡\n",
            "Input_ids:  tensor([  396,   775, 21778, 63122,     6,  1649,  8643, 15171, 12022,  6937])\n",
            "Labels:  tensor([58337,     1,  -100,  -100,  -100,  -100,  -100,  -100,  -100,  -100])\n"
          ]
        }
      ]
    },
    {
      "cell_type": "markdown",
      "source": [
        "# Split Dataset into Train and Test\n",
        "In the following cells, we have split the data into two parts. Test size is small due to the heavy model needed large data for training."
      ],
      "metadata": {
        "id": "XnpLllfZ7UAj"
      }
    },
    {
      "cell_type": "code",
      "source": [
        "train_df, val_df = train_test_split(df, test_size=0.05)\n",
        "train_df.shape,  val_df.shape "
      ],
      "metadata": {
        "id": "ygEscQ_m60z7",
        "colab": {
          "base_uri": "https://localhost:8080/"
        },
        "outputId": "1f4cdd2d-06f5-43c8-c3f8-00173544d417"
      },
      "execution_count": 8,
      "outputs": [
        {
          "output_type": "execute_result",
          "data": {
            "text/plain": [
              "((96849, 5), (5098, 5))"
            ]
          },
          "metadata": {},
          "execution_count": 8
        }
      ]
    },
    {
      "cell_type": "code",
      "source": [
        "train_df[\"answer_text\"].str.len().max()"
      ],
      "metadata": {
        "colab": {
          "base_uri": "https://localhost:8080/"
        },
        "id": "-DV-fG7wkQW1",
        "outputId": "f16e84d3-1308-444f-f4b9-40b2cbc7ad2b"
      },
      "execution_count": null,
      "outputs": [
        {
          "output_type": "execute_result",
          "data": {
            "text/plain": [
              "1886"
            ]
          },
          "metadata": {},
          "execution_count": 9
        }
      ]
    },
    {
      "cell_type": "markdown",
      "source": [
        "# Create Pytorch Lightning Module\n",
        "In the following cells, we have created the lightning module. This is made when we have complex models. Hence Pytorch has introduced this to smoothen the process."
      ],
      "metadata": {
        "id": "xaQEOKYU7bO2"
      }
    },
    {
      "cell_type": "code",
      "source": [
        " class BioDataModule(pl.LightningDataModule):\n",
        "   def __init__(\n",
        "       self,\n",
        "       train_df: pd.DataFrame,\n",
        "       test_df: pd.DataFrame,\n",
        "       tokenizer:T5Tokenizer,\n",
        "       batch_size: int = 8,\n",
        "       source_max_token_len: int = 396,\n",
        "       target_max_token_len: int = 32,\n",
        "       ):\n",
        "     super().__init__()\n",
        "     self.train_df = train_df\n",
        "     self.test_df = test_df\n",
        "     self.tokenizer = tokenizer\n",
        "     self.batch_size = batch_size\n",
        "     self.source_max_token_len = source_max_token_len\n",
        "     self.target_max_token_len = target_max_token_len\n",
        "   def setup(self):\n",
        "     self.train_dataset = BioQADataset(\n",
        "         self.train_df,\n",
        "         self.tokenizer,\n",
        "         self.source_max_token_len,\n",
        "         self.target_max_token_len\n",
        "         )\n",
        "     self.test_dataset = BioQADataset(\n",
        "     self.test_df,\n",
        "     self.tokenizer,\n",
        "     self.source_max_token_len,\n",
        "     self.target_max_token_len\n",
        "     )\n",
        "   def train_dataloader(self):\n",
        "     return DataLoader(\n",
        "         self.train_dataset,\n",
        "         batch_size=self.batch_size,\n",
        "         shuffle=True,\n",
        "         num_workers=4\n",
        "         )\n",
        "   def val_dataloader(self):\n",
        "     return DataLoader(\n",
        "         self.test_dataset,\n",
        "         batch_size=self.batch_size,\n",
        "         num_workers=4\n",
        "         )\n",
        "   def test_dataloader(self):\n",
        "     return DataLoader(\n",
        "         self.test_dataset,\n",
        "         batch_size=1,\n",
        "         num_workers=4\n",
        "         )\n",
        " BATCH_SIZE = 4\n",
        " N_EPOCHS = 6\n",
        " data_module = BioDataModule(train_df, val_df, tokenizer, batch_size=BATCH_SIZE)\n",
        " data_module.setup() "
      ],
      "metadata": {
        "id": "7lbxwD9060x4"
      },
      "execution_count": 9,
      "outputs": []
    },
    {
      "cell_type": "markdown",
      "source": [
        "# Loading and Fine Tuning T5\n",
        "In the following cells, we have installed the model and fine tuned it to our application requirements. "
      ],
      "metadata": {
        "id": "bkXZEH9A7hLu"
      }
    },
    {
      "cell_type": "code",
      "source": [
        "model = T5ForConditionalGeneration.from_pretrained(MODEL_NAME, return_dict = True)\n",
        "# model.config\n",
        "# To check the translation from English to German built-in task \n",
        "# input_ids_translated = tokenizer(\n",
        "#     \"translate English to German : Oppertunity did not knock until I built a door\",\n",
        "#     return_tensors = 'pt'\n",
        "# ).input_ids\n",
        "# generated_ids = model.generate(input_ids = input_ids_translated)\n",
        "# generated_ids\n",
        "# pred_translated = [\n",
        "#         tokenizer.decode(gen_id, skip_special_tokens=True, clean_up_tokenization_spaces=True)\n",
        "#         for gen_id in generated_ids\n",
        "# ]\n",
        "# pred_translated\n",
        "# text = \"\".join(pred_translated)\n",
        "# input_ids_summary = tokenizer(\n",
        "#     text,\n",
        "#     return_tensors = 'pt'\n",
        "# ).input_ids\n",
        "# generated_ids_summary = model.generate(input_ids = input_ids_summary)\n",
        "# generated_ids_summary\n",
        "# pred_summary = [\n",
        "#         tokenizer.decode(gen_id, skip_special_tokens=True, clean_up_tokenization_spaces=True)\n",
        "#         for gen_id in generated_ids\n",
        "# ]\n",
        "# \" \".join(pred_summary)\n",
        "# Model config\n",
        "model.config"
      ],
      "metadata": {
        "id": "5ycrfuBs60vh",
        "colab": {
          "base_uri": "https://localhost:8080/",
          "height": 558,
          "referenced_widgets": [
            "bd8eae9c1e3b4be980c6a03ebd553d1a",
            "92d6fdaab60847c090d4f748457a4d10",
            "8c0ed00230e5432898fe0270b0ee99d2",
            "5596c051221d4b1689b0a989b5d07bc5",
            "d1c141e9d4f144a487f7ad72ea0d0442",
            "30de5dabf74c4b0c96de39d68ec7e696",
            "f9678196ccd945e0b6d1732458ca780d",
            "b03094db3de6446c888bc75579f91685",
            "755d915232c2428689a531dd68f9a634",
            "744347932f50468886602ba138348d90",
            "caeb9a961f60473a83c29c298601b034",
            "cb658ba1b5934d98bb1ccab471b1c01f",
            "ce590432ed4a44f5a058e80e823b8ab2",
            "3ad44cff822649e28724d9fe1ee65932",
            "95ccb4238e284a55a1068ae55a001ca6",
            "b0f713f898e0406cadbce0eeb04f5615",
            "39f009e457bf41b893537ac296895711",
            "83d0052d95334dd49fd0e5f4b123e593",
            "05912c507efe493197793fabd6301d32",
            "e6c097d2189f44a99bdf3e91129b9f97",
            "ba259e303d544d9f842b981ad1c41912",
            "c0765ecccefa4583bddb823e75fd261a"
          ]
        },
        "outputId": "eb141e5c-e9e1-477b-ec01-a4b033334c54"
      },
      "execution_count": null,
      "outputs": [
        {
          "output_type": "display_data",
          "data": {
            "text/plain": [
              "Downloading:   0%|          | 0.00/599 [00:00<?, ?B/s]"
            ],
            "application/vnd.jupyter.widget-view+json": {
              "version_major": 2,
              "version_minor": 0,
              "model_id": "bd8eae9c1e3b4be980c6a03ebd553d1a"
            }
          },
          "metadata": {}
        },
        {
          "output_type": "display_data",
          "data": {
            "text/plain": [
              "Downloading:   0%|          | 0.00/990M [00:00<?, ?B/s]"
            ],
            "application/vnd.jupyter.widget-view+json": {
              "version_major": 2,
              "version_minor": 0,
              "model_id": "cb658ba1b5934d98bb1ccab471b1c01f"
            }
          },
          "metadata": {}
        },
        {
          "output_type": "execute_result",
          "data": {
            "text/plain": [
              "T5Config {\n",
              "  \"_name_or_path\": \"KETI-AIR/ke-t5-base\",\n",
              "  \"architectures\": [\n",
              "    \"T5ForConditionalGeneration\"\n",
              "  ],\n",
              "  \"d_ff\": 2048,\n",
              "  \"d_kv\": 64,\n",
              "  \"d_model\": 768,\n",
              "  \"decoder_start_token_id\": 0,\n",
              "  \"dropout_rate\": 0.1,\n",
              "  \"eos_token_id\": 1,\n",
              "  \"feed_forward_proj\": \"gated-gelu\",\n",
              "  \"initializer_factor\": 1.0,\n",
              "  \"is_encoder_decoder\": true,\n",
              "  \"layer_norm_epsilon\": 1e-06,\n",
              "  \"model_type\": \"t5\",\n",
              "  \"n_positions\": 512,\n",
              "  \"num_decoder_layers\": 12,\n",
              "  \"num_heads\": 12,\n",
              "  \"num_layers\": 12,\n",
              "  \"pad_token_id\": 0,\n",
              "  \"relative_attention_num_buckets\": 32,\n",
              "  \"transformers_version\": \"4.4.2\",\n",
              "  \"use_cache\": true,\n",
              "  \"vocab_size\": 64128\n",
              "}"
            ]
          },
          "metadata": {},
          "execution_count": 17
        }
      ]
    },
    {
      "cell_type": "markdown",
      "source": [
        "# Building the PyTorch lightning module using T5ForConditionalGeneration model\n",
        "In the following cells, we have leveraged a T5 Conditional Generator which will produce text based on some condition (this is going to be our application task – QA)."
      ],
      "metadata": {
        "id": "EQ_pI2j-7wZW"
      }
    },
    {
      "cell_type": "code",
      "source": [
        "class BioQAModel(pl.LightningModule):\n",
        "  def __init__(self):\n",
        "    super().__init__()\n",
        "    self.model = T5ForConditionalGeneration.from_pretrained(MODEL_NAME, return_dict=True)\n",
        "  def forward(self, input_ids, attention_mask, labels=None):\n",
        "    output = self.model(\n",
        "        input_ids, \n",
        "        attention_mask=attention_mask,\n",
        "        labels=labels)\n",
        "    return output.loss, output.logits\n",
        "  def training_step(self, batch, batch_idx):\n",
        "    input_ids = batch['input_ids']\n",
        "    attention_mask=batch['attention_mask']\n",
        "    labels = batch['labels']\n",
        "    loss, outputs = self(input_ids, attention_mask, labels)\n",
        "    self.log(\"train_loss\", loss, prog_bar=True, logger=True)\n",
        "    return {\"loss\": loss, \"predictions\":outputs, \"labels\": labels}\n",
        "  def validation_step(self, batch, batch_idx):\n",
        "    input_ids = batch['input_ids']\n",
        "    attention_mask=batch['attention_mask']\n",
        "    labels = batch['labels']\n",
        "    loss, outputs = self(input_ids, attention_mask, labels)\n",
        "    self.log(\"val_loss\", loss, prog_bar=True, logger=True)\n",
        "    return loss\n",
        "  def test_step(self, batch, batch_idx):\n",
        "    input_ids = batch['input_ids']\n",
        "    attention_mask=batch['attention_mask']\n",
        "    labels = batch['labels']\n",
        "    loss, outputs = self(input_ids, attention_mask, labels)\n",
        "    self.log(\"test_loss\", loss, prog_bar=True, logger=True)\n",
        "    return loss\n",
        "  def configure_optimizers(self):\n",
        "    optimizer = AdamW(self.parameters(), lr=0.0001)\n",
        "    return optimizer\n",
        "model = BioQAModel()"
      ],
      "metadata": {
        "id": "iBcI-dJq60td",
        "colab": {
          "base_uri": "https://localhost:8080/",
          "height": 81,
          "referenced_widgets": [
            "9b5f4447bd8949e18ff8ee5fc8204bfc",
            "e4b1f94557384926b8b5ac86f66f6a7c",
            "cd248f92eef54acf9332763176aedebf",
            "b34b552bdd854e73a1b8baadeafeacb7",
            "66a559f633ce405c84966be1331abce5",
            "e84505a645494735920edef08d0393df",
            "758faf7417244ef3bfc76769c5db4b38",
            "c8cc1ca6888c42d3be72348f9a487fe1",
            "dceab56aa0d1470eba556309cf6f294f",
            "9f31b5a28d394315b64c8b26860e105b",
            "ff505ba6a5da40eeac26d47b8b7e0624",
            "94c17b7abd464ccaace5915c60d19334",
            "bc6a64dcc1dc4a3db81918475331fd50",
            "9fc68e70a9d24c95a738ec2f23d3d650",
            "4e16e9e30e674d608c47f4a1080217d8",
            "4f06463611314fc7afd698e247d8adbb",
            "875e3deaec184130bc9828a66c84c90c",
            "3678a68f0a06485ca9f0963ea922b73b",
            "775a461decfe4e1399d160c502fce7f8",
            "0670d06470dc4c2c950606b5b75aa814",
            "e8a0a24af29f480f92801fce7faa5fe2",
            "ff82afd5039c47dba5b97fde538fbef2"
          ]
        },
        "outputId": "c6eb4420-f055-4f11-c7e1-abf229317b7c"
      },
      "execution_count": 10,
      "outputs": [
        {
          "output_type": "display_data",
          "data": {
            "text/plain": [
              "Downloading:   0%|          | 0.00/599 [00:00<?, ?B/s]"
            ],
            "application/vnd.jupyter.widget-view+json": {
              "version_major": 2,
              "version_minor": 0,
              "model_id": "9b5f4447bd8949e18ff8ee5fc8204bfc"
            }
          },
          "metadata": {}
        },
        {
          "output_type": "display_data",
          "data": {
            "text/plain": [
              "Downloading:   0%|          | 0.00/990M [00:00<?, ?B/s]"
            ],
            "application/vnd.jupyter.widget-view+json": {
              "version_major": 2,
              "version_minor": 0,
              "model_id": "94c17b7abd464ccaace5915c60d19334"
            }
          },
          "metadata": {}
        }
      ]
    },
    {
      "cell_type": "markdown",
      "source": [
        "# Using Trainer from PyTorch-Lightning to Finetune Model Using our Dataset\n",
        "We have used a trainer module to test the model and fine-tune it in the following cells. This is helpful when the model is huge, and you want to get a warmup of the model without changing the learning rate. "
      ],
      "metadata": {
        "id": "NRtV7DP-725H"
      }
    },
    {
      "cell_type": "code",
      "source": [
        "model = BioQAModel()\n",
        "# To record the best performing model using checkpoint\n",
        "checkpoint_callback = ModelCheckpoint(\n",
        "    dirpath=\"/content/drive/MyDrive/final_pjt/ET5/model\",\n",
        "    filename=\"best-checkpoint-large\",\n",
        "    save_top_k=1,\n",
        "    verbose=True,\n",
        "    monitor=\"val_loss\",\n",
        "    mode=\"min\"\n",
        ")\n",
        "#logger = TensorBoardLogger(\"training-logs\", name=\"bio-qa\")\n",
        "#logger = TensorBoardLogger(\"training-logs\", name=\"bio-qa\")\n",
        "trainer = pl.Trainer(\n",
        "    #logger = logger,\n",
        "    checkpoint_callback=checkpoint_callback,\n",
        "    max_epochs=N_EPOCHS,\n",
        "    gpus=1,\n",
        "    progress_bar_refresh_rate = 30\n",
        ") "
      ],
      "metadata": {
        "id": "YbY2efAh60rG",
        "colab": {
          "base_uri": "https://localhost:8080/"
        },
        "outputId": "92daf965-60ec-410a-e6e2-34baecb094ff"
      },
      "execution_count": null,
      "outputs": [
        {
          "output_type": "stream",
          "name": "stderr",
          "text": [
            "/usr/local/lib/python3.7/dist-packages/pytorch_lightning/utilities/distributed.py:52: UserWarning: Checkpoint directory /content/drive/MyDrive/final_pjt/ET5/model exists and is not empty.\n",
            "  warnings.warn(*args, **kwargs)\n",
            "GPU available: True, used: True\n",
            "TPU available: False, using: 0 TPU cores\n"
          ]
        }
      ]
    },
    {
      "cell_type": "markdown",
      "source": [
        "# Loading Tensorboard\n",
        "In the following cells, we have used a Tensorboard for seeing how the model is progressing against time and epochs. This is very helpful when running huge models. "
      ],
      "metadata": {
        "id": "zPhiHkXq76UI"
      }
    },
    {
      "cell_type": "code",
      "source": [
        "%load_ext tensorboard\n",
        "%tensorboard --logdir ./lightning_logs\n",
        "#!rm --rf lightning_logs\n",
        "trainer.fit(model, data_module)\n",
        "trainer.test()  # evaluate the model according to the last checkpoint"
      ],
      "metadata": {
        "id": "3NrlOviV76GC"
      },
      "execution_count": null,
      "outputs": []
    },
    {
      "cell_type": "markdown",
      "source": [
        "# Predictions"
      ],
      "metadata": {
        "id": "TMMTQHrf7_7Y"
      }
    },
    {
      "cell_type": "code",
      "source": [
        "trained_model = BioQAModel.load_from_checkpoint(\"/content/drive/MyDrive/final_pjt/ET5/model/best-checkpoint-large-v1.ckpt\")\n",
        "# trained_model = BioQAModel.load_from_checkpoint('/content/drive/MyDrive/final_pjt/ET5/model/best-checkpoint.ckpt')\n",
        "trained_model.freeze() # "
      ],
      "metadata": {
        "id": "OCWi4Qwh76Df"
      },
      "execution_count": 394,
      "outputs": []
    },
    {
      "cell_type": "code",
      "source": [
        "# f1 score\n",
        "from sklearn.metrics import f1_score\n",
        "\n",
        "pred = trained_model.predict(val_df)"
      ],
      "metadata": {
        "id": "hbQXa7HxzBL3"
      },
      "execution_count": null,
      "outputs": []
    },
    {
      "cell_type": "markdown",
      "source": [
        "# Generate Answers for the Questions in the Validation Set\n",
        "In the following cells, we have tried and tested some questions whose answers were saved with us in the valid dataset against the predicted values given by the model. As you’ll notice the T5 model is so powerful that it will predict exact values."
      ],
      "metadata": {
        "id": "DAV2X1Er8DzN"
      }
    },
    {
      "cell_type": "code",
      "source": [
        "# 키워드 추출\n",
        "\n",
        "def key_generate_answer(question):\n",
        "  source_encoding=tokenizer(\n",
        "      question,\n",
        "      key_test(input('키워드 : ')),\n",
        "      max_length = 396,\n",
        "      padding=\"max_length\",\n",
        "      truncation=\"only_second\",\n",
        "      return_attention_mask=True,\n",
        "      add_special_tokens=True,\n",
        "      return_tensors=\"pt\"\n",
        "  )\n",
        "  generated_ids = trained_model.model.generate(\n",
        "      input_ids=source_encoding[\"input_ids\"],\n",
        "      attention_mask=source_encoding[\"attention_mask\"],\n",
        "      num_beams=1,  # greedy search\n",
        "      max_length=80,\n",
        "      repetition_penalty=2.5,\n",
        "      early_stopping=True,\n",
        "      use_cache=True)\n",
        "  preds = [\n",
        "          tokenizer.decode(generated_id, skip_special_tokens=True, clean_up_tokenization_spaces=True)\n",
        "          for generated_id in generated_ids\n",
        "  ]\n",
        "  return \"\".join(preds)"
      ],
      "metadata": {
        "id": "HNYHw9ZczhYm"
      },
      "execution_count": 136,
      "outputs": []
    },
    {
      "cell_type": "code",
      "source": [
        "key_generate_answer(input('질문 : '))"
      ],
      "metadata": {
        "colab": {
          "base_uri": "https://localhost:8080/",
          "height": 72
        },
        "id": "g7uun897z8OC",
        "outputId": "69beaf1a-1c33-4d35-adc1-a1c543e3b62d"
      },
      "execution_count": 137,
      "outputs": [
        {
          "name": "stdout",
          "output_type": "stream",
          "text": [
            "질문 : 남한산성을 훼손시킨 것은 누구인가?\n",
            "키워드 : 남한산성\n"
          ]
        },
        {
          "output_type": "execute_result",
          "data": {
            "text/plain": [
              "'김훈'"
            ],
            "application/vnd.google.colaboratory.intrinsic+json": {
              "type": "string"
            }
          },
          "metadata": {},
          "execution_count": 137
        }
      ]
    },
    {
      "cell_type": "code",
      "source": [
        "# 질문 토큰화 - test 함수 사용\n",
        "\n",
        "def generate_answer(question):\n",
        "  source_encoding=tokenizer(\n",
        "      question,\n",
        "      test(question),\n",
        "      max_length = 396,\n",
        "      padding=\"max_length\",\n",
        "      truncation=\"only_second\",\n",
        "      return_attention_mask=True,\n",
        "      add_special_tokens=True,\n",
        "      return_tensors=\"pt\"\n",
        "  )\n",
        "  generated_ids = trained_model.model.generate(\n",
        "      input_ids=source_encoding[\"input_ids\"],\n",
        "      attention_mask=source_encoding[\"attention_mask\"],\n",
        "      num_beams=1,  # greedy search\n",
        "      max_length=80,\n",
        "      repetition_penalty=2.5,\n",
        "      early_stopping=True,\n",
        "      use_cache=True)\n",
        "  preds = [\n",
        "          tokenizer.decode(generated_id, skip_special_tokens=True, clean_up_tokenization_spaces=True)\n",
        "          for generated_id in generated_ids\n",
        "  ]\n",
        "  return \"\".join(preds)"
      ],
      "metadata": {
        "id": "7gwozAB376BZ"
      },
      "execution_count": 108,
      "outputs": []
    },
    {
      "cell_type": "code",
      "source": [
        "# sample_question = val_df.iloc[20]\n",
        "# sample_question[\"question\"]\n",
        "# sample_question[\"answer_text\"]  # Label Answer\n",
        "# generate_answer(sample_question)  # Predicted answer\n",
        "# sample_question = val_df.iloc[7]\n",
        "# sample_question[\"answer_text\"]\n",
        "generate_answer(input('질문 : '))"
      ],
      "metadata": {
        "colab": {
          "base_uri": "https://localhost:8080/",
          "height": 565
        },
        "id": "Bl_9inbiEzC5",
        "outputId": "a92a735b-55d6-430c-a0d0-eb805d78c629"
      },
      "execution_count": 135,
      "outputs": [
        {
          "output_type": "error",
          "ename": "KeyboardInterrupt",
          "evalue": "ignored",
          "traceback": [
            "\u001b[0;31m---------------------------------------------------------------------------\u001b[0m",
            "\u001b[0;31mKeyboardInterrupt\u001b[0m                         Traceback (most recent call last)",
            "\u001b[0;32m/usr/local/lib/python3.7/dist-packages/ipykernel/kernelbase.py\u001b[0m in \u001b[0;36m_input_request\u001b[0;34m(self, prompt, ident, parent, password)\u001b[0m\n\u001b[1;32m    728\u001b[0m             \u001b[0;32mtry\u001b[0m\u001b[0;34m:\u001b[0m\u001b[0;34m\u001b[0m\u001b[0;34m\u001b[0m\u001b[0m\n\u001b[0;32m--> 729\u001b[0;31m                 \u001b[0mident\u001b[0m\u001b[0;34m,\u001b[0m \u001b[0mreply\u001b[0m \u001b[0;34m=\u001b[0m \u001b[0mself\u001b[0m\u001b[0;34m.\u001b[0m\u001b[0msession\u001b[0m\u001b[0;34m.\u001b[0m\u001b[0mrecv\u001b[0m\u001b[0;34m(\u001b[0m\u001b[0mself\u001b[0m\u001b[0;34m.\u001b[0m\u001b[0mstdin_socket\u001b[0m\u001b[0;34m,\u001b[0m \u001b[0;36m0\u001b[0m\u001b[0;34m)\u001b[0m\u001b[0;34m\u001b[0m\u001b[0;34m\u001b[0m\u001b[0m\n\u001b[0m\u001b[1;32m    730\u001b[0m             \u001b[0;32mexcept\u001b[0m \u001b[0mException\u001b[0m\u001b[0;34m:\u001b[0m\u001b[0;34m\u001b[0m\u001b[0;34m\u001b[0m\u001b[0m\n",
            "\u001b[0;32m/usr/local/lib/python3.7/dist-packages/jupyter_client/session.py\u001b[0m in \u001b[0;36mrecv\u001b[0;34m(self, socket, mode, content, copy)\u001b[0m\n\u001b[1;32m    802\u001b[0m         \u001b[0;32mtry\u001b[0m\u001b[0;34m:\u001b[0m\u001b[0;34m\u001b[0m\u001b[0;34m\u001b[0m\u001b[0m\n\u001b[0;32m--> 803\u001b[0;31m             \u001b[0mmsg_list\u001b[0m \u001b[0;34m=\u001b[0m \u001b[0msocket\u001b[0m\u001b[0;34m.\u001b[0m\u001b[0mrecv_multipart\u001b[0m\u001b[0;34m(\u001b[0m\u001b[0mmode\u001b[0m\u001b[0;34m,\u001b[0m \u001b[0mcopy\u001b[0m\u001b[0;34m=\u001b[0m\u001b[0mcopy\u001b[0m\u001b[0;34m)\u001b[0m\u001b[0;34m\u001b[0m\u001b[0;34m\u001b[0m\u001b[0m\n\u001b[0m\u001b[1;32m    804\u001b[0m         \u001b[0;32mexcept\u001b[0m \u001b[0mzmq\u001b[0m\u001b[0;34m.\u001b[0m\u001b[0mZMQError\u001b[0m \u001b[0;32mas\u001b[0m \u001b[0me\u001b[0m\u001b[0;34m:\u001b[0m\u001b[0;34m\u001b[0m\u001b[0;34m\u001b[0m\u001b[0m\n",
            "\u001b[0;32m/usr/local/lib/python3.7/dist-packages/zmq/sugar/socket.py\u001b[0m in \u001b[0;36mrecv_multipart\u001b[0;34m(self, flags, copy, track)\u001b[0m\n\u001b[1;32m    624\u001b[0m         \"\"\"\n\u001b[0;32m--> 625\u001b[0;31m         \u001b[0mparts\u001b[0m \u001b[0;34m=\u001b[0m \u001b[0;34m[\u001b[0m\u001b[0mself\u001b[0m\u001b[0;34m.\u001b[0m\u001b[0mrecv\u001b[0m\u001b[0;34m(\u001b[0m\u001b[0mflags\u001b[0m\u001b[0;34m,\u001b[0m \u001b[0mcopy\u001b[0m\u001b[0;34m=\u001b[0m\u001b[0mcopy\u001b[0m\u001b[0;34m,\u001b[0m \u001b[0mtrack\u001b[0m\u001b[0;34m=\u001b[0m\u001b[0mtrack\u001b[0m\u001b[0;34m)\u001b[0m\u001b[0;34m]\u001b[0m\u001b[0;34m\u001b[0m\u001b[0;34m\u001b[0m\u001b[0m\n\u001b[0m\u001b[1;32m    626\u001b[0m         \u001b[0;31m# have first part already, only loop while more to receive\u001b[0m\u001b[0;34m\u001b[0m\u001b[0;34m\u001b[0m\u001b[0;34m\u001b[0m\u001b[0m\n",
            "\u001b[0;32mzmq/backend/cython/socket.pyx\u001b[0m in \u001b[0;36mzmq.backend.cython.socket.Socket.recv\u001b[0;34m()\u001b[0m\n",
            "\u001b[0;32mzmq/backend/cython/socket.pyx\u001b[0m in \u001b[0;36mzmq.backend.cython.socket.Socket.recv\u001b[0;34m()\u001b[0m\n",
            "\u001b[0;32mzmq/backend/cython/socket.pyx\u001b[0m in \u001b[0;36mzmq.backend.cython.socket._recv_copy\u001b[0;34m()\u001b[0m\n",
            "\u001b[0;32m/usr/local/lib/python3.7/dist-packages/zmq/backend/cython/checkrc.pxd\u001b[0m in \u001b[0;36mzmq.backend.cython.checkrc._check_rc\u001b[0;34m()\u001b[0m\n",
            "\u001b[0;31mKeyboardInterrupt\u001b[0m: ",
            "\nDuring handling of the above exception, another exception occurred:\n",
            "\u001b[0;31mKeyboardInterrupt\u001b[0m                         Traceback (most recent call last)",
            "\u001b[0;32m<ipython-input-135-fe46a5c82fce>\u001b[0m in \u001b[0;36m<module>\u001b[0;34m()\u001b[0m\n\u001b[1;32m      5\u001b[0m \u001b[0;31m# sample_question = val_df.iloc[7]\u001b[0m\u001b[0;34m\u001b[0m\u001b[0;34m\u001b[0m\u001b[0;34m\u001b[0m\u001b[0m\n\u001b[1;32m      6\u001b[0m \u001b[0;31m# sample_question[\"answer_text\"]\u001b[0m\u001b[0;34m\u001b[0m\u001b[0;34m\u001b[0m\u001b[0;34m\u001b[0m\u001b[0m\n\u001b[0;32m----> 7\u001b[0;31m \u001b[0mgenerate_answer\u001b[0m\u001b[0;34m(\u001b[0m\u001b[0minput\u001b[0m\u001b[0;34m(\u001b[0m\u001b[0;34m'질문 : '\u001b[0m\u001b[0;34m)\u001b[0m\u001b[0;34m)\u001b[0m\u001b[0;34m\u001b[0m\u001b[0;34m\u001b[0m\u001b[0m\n\u001b[0m",
            "\u001b[0;32m/usr/local/lib/python3.7/dist-packages/ipykernel/kernelbase.py\u001b[0m in \u001b[0;36mraw_input\u001b[0;34m(self, prompt)\u001b[0m\n\u001b[1;32m    702\u001b[0m             \u001b[0mself\u001b[0m\u001b[0;34m.\u001b[0m\u001b[0m_parent_ident\u001b[0m\u001b[0;34m,\u001b[0m\u001b[0;34m\u001b[0m\u001b[0;34m\u001b[0m\u001b[0m\n\u001b[1;32m    703\u001b[0m             \u001b[0mself\u001b[0m\u001b[0;34m.\u001b[0m\u001b[0m_parent_header\u001b[0m\u001b[0;34m,\u001b[0m\u001b[0;34m\u001b[0m\u001b[0;34m\u001b[0m\u001b[0m\n\u001b[0;32m--> 704\u001b[0;31m             \u001b[0mpassword\u001b[0m\u001b[0;34m=\u001b[0m\u001b[0;32mFalse\u001b[0m\u001b[0;34m,\u001b[0m\u001b[0;34m\u001b[0m\u001b[0;34m\u001b[0m\u001b[0m\n\u001b[0m\u001b[1;32m    705\u001b[0m         )\n\u001b[1;32m    706\u001b[0m \u001b[0;34m\u001b[0m\u001b[0m\n",
            "\u001b[0;32m/usr/local/lib/python3.7/dist-packages/ipykernel/kernelbase.py\u001b[0m in \u001b[0;36m_input_request\u001b[0;34m(self, prompt, ident, parent, password)\u001b[0m\n\u001b[1;32m    732\u001b[0m             \u001b[0;32mexcept\u001b[0m \u001b[0mKeyboardInterrupt\u001b[0m\u001b[0;34m:\u001b[0m\u001b[0;34m\u001b[0m\u001b[0;34m\u001b[0m\u001b[0m\n\u001b[1;32m    733\u001b[0m                 \u001b[0;31m# re-raise KeyboardInterrupt, to truncate traceback\u001b[0m\u001b[0;34m\u001b[0m\u001b[0;34m\u001b[0m\u001b[0;34m\u001b[0m\u001b[0m\n\u001b[0;32m--> 734\u001b[0;31m                 \u001b[0;32mraise\u001b[0m \u001b[0mKeyboardInterrupt\u001b[0m\u001b[0;34m\u001b[0m\u001b[0;34m\u001b[0m\u001b[0m\n\u001b[0m\u001b[1;32m    735\u001b[0m             \u001b[0;32melse\u001b[0m\u001b[0;34m:\u001b[0m\u001b[0;34m\u001b[0m\u001b[0;34m\u001b[0m\u001b[0m\n\u001b[1;32m    736\u001b[0m                 \u001b[0;32mbreak\u001b[0m\u001b[0;34m\u001b[0m\u001b[0;34m\u001b[0m\u001b[0m\n",
            "\u001b[0;31mKeyboardInterrupt\u001b[0m: "
          ]
        }
      ]
    },
    {
      "cell_type": "code",
      "source": [
        "# 질문 토큰화 - val_test 함수 사용\n",
        "\n",
        "def val_generate_answer(question):\n",
        "  source_encoding=tokenizer(\n",
        "      question,\n",
        "      val_test(question),\n",
        "      max_length = 396,\n",
        "      padding=\"max_length\",\n",
        "      truncation=\"only_second\",\n",
        "      return_attention_mask=True,\n",
        "      add_special_tokens=True,\n",
        "      return_tensors=\"pt\"\n",
        "  )\n",
        "  generated_ids = trained_model.model.generate(\n",
        "      input_ids=source_encoding[\"input_ids\"],\n",
        "      attention_mask=source_encoding[\"attention_mask\"],\n",
        "      num_beams=1,  # greedy search\n",
        "      max_length=80,\n",
        "      repetition_penalty=2.5,\n",
        "      early_stopping=True,\n",
        "      use_cache=True)\n",
        "  preds = [\n",
        "          tokenizer.decode(generated_id, skip_special_tokens=True, clean_up_tokenization_spaces=True)\n",
        "          for generated_id in generated_ids\n",
        "  ]\n",
        "  return \"\".join(preds)"
      ],
      "metadata": {
        "id": "Xk1px95ordeR"
      },
      "execution_count": 110,
      "outputs": []
    },
    {
      "cell_type": "code",
      "source": [
        "val_generate_answer(input('질문 : '))"
      ],
      "metadata": {
        "colab": {
          "base_uri": "https://localhost:8080/",
          "height": 54
        },
        "id": "aLfnvczdrqyp",
        "outputId": "1f689c1e-f8fb-46d3-b563-6001f341bb69"
      },
      "execution_count": 115,
      "outputs": [
        {
          "name": "stdout",
          "output_type": "stream",
          "text": [
            "질문 : 남한산성을 훼손시킨 것은 누구인가?\n"
          ]
        },
        {
          "output_type": "execute_result",
          "data": {
            "text/plain": [
              "'이자영의 보고'"
            ],
            "application/vnd.google.colaboratory.intrinsic+json": {
              "type": "string"
            }
          },
          "metadata": {},
          "execution_count": 115
        }
      ]
    },
    {
      "cell_type": "code",
      "source": [
        "# 질문 토큰화 - cos유사도 추가\n",
        "\n",
        "def cos_generate_answer(question):\n",
        "  source_encoding=tokenizer(\n",
        "      question,\n",
        "      cos_test(question),\n",
        "      max_length = 396,\n",
        "      padding=\"max_length\",\n",
        "      truncation=\"only_second\",\n",
        "      return_attention_mask=True,\n",
        "      add_special_tokens=True,\n",
        "      return_tensors=\"pt\"\n",
        "  )\n",
        "  generated_ids = trained_model.model.generate(\n",
        "      input_ids=source_encoding[\"input_ids\"],\n",
        "      attention_mask=source_encoding[\"attention_mask\"],\n",
        "      num_beams=1,  # greedy search\n",
        "      max_length=80,\n",
        "      repetition_penalty=2.5,\n",
        "      early_stopping=True,\n",
        "      use_cache=True)\n",
        "  preds = [\n",
        "          tokenizer.decode(generated_id, skip_special_tokens=True, clean_up_tokenization_spaces=True)\n",
        "          for generated_id in generated_ids\n",
        "  ]\n",
        "  return \"\".join(preds)"
      ],
      "metadata": {
        "id": "2pB7f_WMCHLX"
      },
      "execution_count": 452,
      "outputs": []
    },
    {
      "cell_type": "code",
      "source": [
        "cos_generate_answer(input('질문 : '))"
      ],
      "metadata": {
        "colab": {
          "base_uri": "https://localhost:8080/",
          "height": 54
        },
        "outputId": "846ecd2c-cc02-4afc-e352-64710ec62729",
        "id": "HnMx5IekCHLY"
      },
      "execution_count": 447,
      "outputs": [
        {
          "name": "stdout",
          "output_type": "stream",
          "text": [
            "질문 : ㅇ\n"
          ]
        },
        {
          "output_type": "execute_result",
          "data": {
            "text/plain": [
              "'훈민정음의 자음자'"
            ],
            "application/vnd.google.colaboratory.intrinsic+json": {
              "type": "string"
            }
          },
          "metadata": {},
          "execution_count": 447
        }
      ]
    },
    {
      "cell_type": "code",
      "source": [
        "for i in samp_q:\n",
        "  print(cos_generate_answer(i))"
      ],
      "metadata": {
        "colab": {
          "base_uri": "https://localhost:8080/"
        },
        "id": "yHVjx80TEsB0",
        "outputId": "79604a66-ecb6-4f94-adc5-f54b6be8fbcf"
      },
      "execution_count": 453,
      "outputs": [
        {
          "output_type": "stream",
          "name": "stdout",
          "text": [
            "왕립독립기념서\n",
            "2010년\n",
            "7850점\n",
            "데이터\n",
            "4개\n",
            "왕즈 매니지먼트\n",
            "2006년\n",
            "왕립 핵무기 개발 보상금\n",
            "황희환\n",
            "제2의 세계\n"
          ]
        }
      ]
    },
    {
      "cell_type": "markdown",
      "source": [
        "# 사용자 질문 받으면 올바른 context에 접근하게 하는 알고리즘 만들기"
      ],
      "metadata": {
        "id": "UrDxEz55sZQY"
      }
    },
    {
      "cell_type": "markdown",
      "source": [
        "### 데이터 로드"
      ],
      "metadata": {
        "id": "HbU6O9w2qI09"
      }
    },
    {
      "cell_type": "code",
      "source": [
        "import pandas as pd\n",
        "\n",
        "test_df = pd.read_csv('/content/drive/MyDrive/6조_파이널PJT/data/data_add_title.csv')"
      ],
      "metadata": {
        "id": "TcIZuupbMN91"
      },
      "execution_count": 13,
      "outputs": []
    },
    {
      "cell_type": "code",
      "source": [
        "samp = val_df.sample(10, ignore_index = True)\n",
        "samp_q, samp_a = list(samp['question']), list(samp['answer_text'])"
      ],
      "metadata": {
        "id": "crNvfL0oAmfX"
      },
      "execution_count": 449,
      "outputs": []
    },
    {
      "cell_type": "code",
      "source": [
        "samp_q"
      ],
      "metadata": {
        "colab": {
          "base_uri": "https://localhost:8080/"
        },
        "id": "mq4DQxmJES1-",
        "outputId": "d1223af9-807c-4b76-e92a-8482396556ed"
      },
      "execution_count": 450,
      "outputs": [
        {
          "output_type": "execute_result",
          "data": {
            "text/plain": [
              "['여운형이 한국독립에 관한 청원서를 작성한 해는?',\n",
              " '알파고 시나씨가 지한통신사 특파원으로 활동하기 시작한 것은 언제일까?',\n",
              " '세계 피겨 스케이팅 선수권대회에서 쇼트프로그램 몇점으로 선두에 올랐나?',\n",
              " '원격 의료의 단점으로 전송된 기록의 상태가 좋지 않을 시, 문제가 발생할 수 있는 부분은?',\n",
              " '2014년에 작성된 북한에 대한 UPR중 북한이 거부한 권고안 수는?',\n",
              " '댄스짱 오디션을 통해 정윤호를 발탁한 매니지먼트는? ',\n",
              " '한기주 선수가 기아타이거즈에 입단한 해는?',\n",
              " '핵무기 개발을 위해 선정된 지역의 이주민들에게 1945년 3월까지 토지보상금으로 지급된 금액은?',\n",
              " '오차드의 위증 자백서를 이용하여 WFM 지도부에 누명을 씌운 사람은 누구인가?',\n",
              " '수필 요정 이야기에 대해서 제 2의 세계라고 한 인물은?']"
            ]
          },
          "metadata": {},
          "execution_count": 450
        }
      ]
    },
    {
      "cell_type": "code",
      "source": [
        "samp_a"
      ],
      "metadata": {
        "colab": {
          "base_uri": "https://localhost:8080/"
        },
        "id": "enDd5suOEjga",
        "outputId": "440223c3-0953-45a5-b5bc-b40a6bfeefe8"
      },
      "execution_count": 451,
      "outputs": [
        {
          "output_type": "execute_result",
          "data": {
            "text/plain": [
              "['1918년',\n",
              " '2010년',\n",
              " '69.97',\n",
              " '환자 케어 정보',\n",
              " '83개',\n",
              " 'SM엔터테인먼트',\n",
              " '2006년',\n",
              " '260만 달러',\n",
              " '맥파를랜드',\n",
              " '톨킨']"
            ]
          },
          "metadata": {},
          "execution_count": 451
        }
      ]
    },
    {
      "cell_type": "code",
      "source": [
        "val_df = pd.read_csv('/content/drive/MyDrive/6조_파이널PJT/data/val_df.csv')"
      ],
      "metadata": {
        "id": "UtAVcK-VwvaU"
      },
      "execution_count": 70,
      "outputs": []
    },
    {
      "cell_type": "code",
      "source": [
        "val_df.sample(10, ignore_index = True)"
      ],
      "metadata": {
        "colab": {
          "base_uri": "https://localhost:8080/",
          "height": 546
        },
        "id": "0tFHP0Sgn48g",
        "outputId": "0d69748f-8218-4031-bcdc-f10508784389"
      },
      "execution_count": 73,
      "outputs": [
        {
          "output_type": "execute_result",
          "data": {
            "text/plain": [
              "                                            question  \\\n",
              "0                                 리베리오가 사망한 때는 언제인가?   \n",
              "1                              아우구스투스가 창설한 황제의 친위대는?   \n",
              "2                     괴벨스가 예술비평에 대해 반대를 표명한 해는 언제인가?   \n",
              "3                       서울에서 핵안보정상회의가 열린 것은 몇 년도입니까?   \n",
              "4  암살단파가 명성을 얻기 시작한 것은 이란계 지도자가 파티마조와 결별하고 이란과 시리...   \n",
              "5               사나칸이 세이프 가드의 모습일 때 자아는 무엇에 의해 통제되는가?   \n",
              "6                                    사랑은 뭐길래의 방송연도는?   \n",
              "7  2017년 12월 개봉한 영화 <1987>에서 유일한 허구 인물인 87학번 신입생 ...   \n",
              "8                      메건 폭스가 오른쪽 엄지 손가락에 앓고 있는 질환은?   \n",
              "9                                닉 제닝스가 맡은 역할은 무엇인가?   \n",
              "\n",
              "                                             context  answer_text  \\\n",
              "0  366년 9월 24일 리베리오가 선종하자 로마 교회는 두 파벌로 분열되었다. 하나는...  366년 9월 24일   \n",
              "1  아우구스투스의 통치는 로마의 평화라 불리는 태평성대를 이루었다. 계속되는 변방에서의...       로마 근위대   \n",
              "2   안톤 브루크너 안톤 브루크너     브루크너는 여기로 연결됩니다. 다른 뜻에 대해...        1936년   \n",
              "3   2012년 핵안보정상회의 2012년 핵안보정상회의     2012 서울 핵안보정상...         2012   \n",
              "4  암살단파(Hashshashin)는 '산상의 노인'이라 불렸던 이란계 지도자가 11세...           요새   \n",
              "5  만화상 짧게 등장하는 단발머리 소녀의 모습의 상위 세이프 가드로, 키리이를 세이프 ...    중앙 세이프 가드   \n",
              "6  1997년 CCTV 채널1에서 방영된 드라마 《사랑은 뭐길래》 이후 일어난 한류 열...        1997년   \n",
              "7  2017년 12월 박종철 고문치사 사건부터 6월 항쟁까지 이어지는 한국 현대사를 담...          김태리   \n",
              "8  폭스는 또한 오른손 엄지 손가락이 단지증을 앓고 있다고한다. 2010년에는 강박 장...          단지증   \n",
              "9  곧 워드와 그의 제작 팀은 스토리보드와 각본 제작을 시작하였다. 그러나 카툰 네트워...        미술 감독   \n",
              "\n",
              "   answer_start  answer_end  \n",
              "0             0          11  \n",
              "1           243         249  \n",
              "2         17009       17014  \n",
              "3           418         422  \n",
              "4            79          81  \n",
              "5           368         377  \n",
              "6             0           5  \n",
              "7            80          83  \n",
              "8            19          22  \n",
              "9           423         428  "
            ],
            "text/html": [
              "\n",
              "  <div id=\"df-e9d44174-e87e-445c-a870-deb7dd2c3386\">\n",
              "    <div class=\"colab-df-container\">\n",
              "      <div>\n",
              "<style scoped>\n",
              "    .dataframe tbody tr th:only-of-type {\n",
              "        vertical-align: middle;\n",
              "    }\n",
              "\n",
              "    .dataframe tbody tr th {\n",
              "        vertical-align: top;\n",
              "    }\n",
              "\n",
              "    .dataframe thead th {\n",
              "        text-align: right;\n",
              "    }\n",
              "</style>\n",
              "<table border=\"1\" class=\"dataframe\">\n",
              "  <thead>\n",
              "    <tr style=\"text-align: right;\">\n",
              "      <th></th>\n",
              "      <th>question</th>\n",
              "      <th>context</th>\n",
              "      <th>answer_text</th>\n",
              "      <th>answer_start</th>\n",
              "      <th>answer_end</th>\n",
              "    </tr>\n",
              "  </thead>\n",
              "  <tbody>\n",
              "    <tr>\n",
              "      <th>0</th>\n",
              "      <td>리베리오가 사망한 때는 언제인가?</td>\n",
              "      <td>366년 9월 24일 리베리오가 선종하자 로마 교회는 두 파벌로 분열되었다. 하나는...</td>\n",
              "      <td>366년 9월 24일</td>\n",
              "      <td>0</td>\n",
              "      <td>11</td>\n",
              "    </tr>\n",
              "    <tr>\n",
              "      <th>1</th>\n",
              "      <td>아우구스투스가 창설한 황제의 친위대는?</td>\n",
              "      <td>아우구스투스의 통치는 로마의 평화라 불리는 태평성대를 이루었다. 계속되는 변방에서의...</td>\n",
              "      <td>로마 근위대</td>\n",
              "      <td>243</td>\n",
              "      <td>249</td>\n",
              "    </tr>\n",
              "    <tr>\n",
              "      <th>2</th>\n",
              "      <td>괴벨스가 예술비평에 대해 반대를 표명한 해는 언제인가?</td>\n",
              "      <td>안톤 브루크너 안톤 브루크너     브루크너는 여기로 연결됩니다. 다른 뜻에 대해...</td>\n",
              "      <td>1936년</td>\n",
              "      <td>17009</td>\n",
              "      <td>17014</td>\n",
              "    </tr>\n",
              "    <tr>\n",
              "      <th>3</th>\n",
              "      <td>서울에서 핵안보정상회의가 열린 것은 몇 년도입니까?</td>\n",
              "      <td>2012년 핵안보정상회의 2012년 핵안보정상회의     2012 서울 핵안보정상...</td>\n",
              "      <td>2012</td>\n",
              "      <td>418</td>\n",
              "      <td>422</td>\n",
              "    </tr>\n",
              "    <tr>\n",
              "      <th>4</th>\n",
              "      <td>암살단파가 명성을 얻기 시작한 것은 이란계 지도자가 파티마조와 결별하고 이란과 시리...</td>\n",
              "      <td>암살단파(Hashshashin)는 '산상의 노인'이라 불렸던 이란계 지도자가 11세...</td>\n",
              "      <td>요새</td>\n",
              "      <td>79</td>\n",
              "      <td>81</td>\n",
              "    </tr>\n",
              "    <tr>\n",
              "      <th>5</th>\n",
              "      <td>사나칸이 세이프 가드의 모습일 때 자아는 무엇에 의해 통제되는가?</td>\n",
              "      <td>만화상 짧게 등장하는 단발머리 소녀의 모습의 상위 세이프 가드로, 키리이를 세이프 ...</td>\n",
              "      <td>중앙 세이프 가드</td>\n",
              "      <td>368</td>\n",
              "      <td>377</td>\n",
              "    </tr>\n",
              "    <tr>\n",
              "      <th>6</th>\n",
              "      <td>사랑은 뭐길래의 방송연도는?</td>\n",
              "      <td>1997년 CCTV 채널1에서 방영된 드라마 《사랑은 뭐길래》 이후 일어난 한류 열...</td>\n",
              "      <td>1997년</td>\n",
              "      <td>0</td>\n",
              "      <td>5</td>\n",
              "    </tr>\n",
              "    <tr>\n",
              "      <th>7</th>\n",
              "      <td>2017년 12월 개봉한 영화 &lt;1987&gt;에서 유일한 허구 인물인 87학번 신입생 ...</td>\n",
              "      <td>2017년 12월 박종철 고문치사 사건부터 6월 항쟁까지 이어지는 한국 현대사를 담...</td>\n",
              "      <td>김태리</td>\n",
              "      <td>80</td>\n",
              "      <td>83</td>\n",
              "    </tr>\n",
              "    <tr>\n",
              "      <th>8</th>\n",
              "      <td>메건 폭스가 오른쪽 엄지 손가락에 앓고 있는 질환은?</td>\n",
              "      <td>폭스는 또한 오른손 엄지 손가락이 단지증을 앓고 있다고한다. 2010년에는 강박 장...</td>\n",
              "      <td>단지증</td>\n",
              "      <td>19</td>\n",
              "      <td>22</td>\n",
              "    </tr>\n",
              "    <tr>\n",
              "      <th>9</th>\n",
              "      <td>닉 제닝스가 맡은 역할은 무엇인가?</td>\n",
              "      <td>곧 워드와 그의 제작 팀은 스토리보드와 각본 제작을 시작하였다. 그러나 카툰 네트워...</td>\n",
              "      <td>미술 감독</td>\n",
              "      <td>423</td>\n",
              "      <td>428</td>\n",
              "    </tr>\n",
              "  </tbody>\n",
              "</table>\n",
              "</div>\n",
              "      <button class=\"colab-df-convert\" onclick=\"convertToInteractive('df-e9d44174-e87e-445c-a870-deb7dd2c3386')\"\n",
              "              title=\"Convert this dataframe to an interactive table.\"\n",
              "              style=\"display:none;\">\n",
              "        \n",
              "  <svg xmlns=\"http://www.w3.org/2000/svg\" height=\"24px\"viewBox=\"0 0 24 24\"\n",
              "       width=\"24px\">\n",
              "    <path d=\"M0 0h24v24H0V0z\" fill=\"none\"/>\n",
              "    <path d=\"M18.56 5.44l.94 2.06.94-2.06 2.06-.94-2.06-.94-.94-2.06-.94 2.06-2.06.94zm-11 1L8.5 8.5l.94-2.06 2.06-.94-2.06-.94L8.5 2.5l-.94 2.06-2.06.94zm10 10l.94 2.06.94-2.06 2.06-.94-2.06-.94-.94-2.06-.94 2.06-2.06.94z\"/><path d=\"M17.41 7.96l-1.37-1.37c-.4-.4-.92-.59-1.43-.59-.52 0-1.04.2-1.43.59L10.3 9.45l-7.72 7.72c-.78.78-.78 2.05 0 2.83L4 21.41c.39.39.9.59 1.41.59.51 0 1.02-.2 1.41-.59l7.78-7.78 2.81-2.81c.8-.78.8-2.07 0-2.86zM5.41 20L4 18.59l7.72-7.72 1.47 1.35L5.41 20z\"/>\n",
              "  </svg>\n",
              "      </button>\n",
              "      \n",
              "  <style>\n",
              "    .colab-df-container {\n",
              "      display:flex;\n",
              "      flex-wrap:wrap;\n",
              "      gap: 12px;\n",
              "    }\n",
              "\n",
              "    .colab-df-convert {\n",
              "      background-color: #E8F0FE;\n",
              "      border: none;\n",
              "      border-radius: 50%;\n",
              "      cursor: pointer;\n",
              "      display: none;\n",
              "      fill: #1967D2;\n",
              "      height: 32px;\n",
              "      padding: 0 0 0 0;\n",
              "      width: 32px;\n",
              "    }\n",
              "\n",
              "    .colab-df-convert:hover {\n",
              "      background-color: #E2EBFA;\n",
              "      box-shadow: 0px 1px 2px rgba(60, 64, 67, 0.3), 0px 1px 3px 1px rgba(60, 64, 67, 0.15);\n",
              "      fill: #174EA6;\n",
              "    }\n",
              "\n",
              "    [theme=dark] .colab-df-convert {\n",
              "      background-color: #3B4455;\n",
              "      fill: #D2E3FC;\n",
              "    }\n",
              "\n",
              "    [theme=dark] .colab-df-convert:hover {\n",
              "      background-color: #434B5C;\n",
              "      box-shadow: 0px 1px 3px 1px rgba(0, 0, 0, 0.15);\n",
              "      filter: drop-shadow(0px 1px 2px rgba(0, 0, 0, 0.3));\n",
              "      fill: #FFFFFF;\n",
              "    }\n",
              "  </style>\n",
              "\n",
              "      <script>\n",
              "        const buttonEl =\n",
              "          document.querySelector('#df-e9d44174-e87e-445c-a870-deb7dd2c3386 button.colab-df-convert');\n",
              "        buttonEl.style.display =\n",
              "          google.colab.kernel.accessAllowed ? 'block' : 'none';\n",
              "\n",
              "        async function convertToInteractive(key) {\n",
              "          const element = document.querySelector('#df-e9d44174-e87e-445c-a870-deb7dd2c3386');\n",
              "          const dataTable =\n",
              "            await google.colab.kernel.invokeFunction('convertToInteractive',\n",
              "                                                     [key], {});\n",
              "          if (!dataTable) return;\n",
              "\n",
              "          const docLinkHtml = 'Like what you see? Visit the ' +\n",
              "            '<a target=\"_blank\" href=https://colab.research.google.com/notebooks/data_table.ipynb>data table notebook</a>'\n",
              "            + ' to learn more about interactive tables.';\n",
              "          element.innerHTML = '';\n",
              "          dataTable['output_type'] = 'display_data';\n",
              "          await google.colab.output.renderOutput(dataTable, element);\n",
              "          const docLink = document.createElement('div');\n",
              "          docLink.innerHTML = docLinkHtml;\n",
              "          element.appendChild(docLink);\n",
              "        }\n",
              "      </script>\n",
              "    </div>\n",
              "  </div>\n",
              "  "
            ]
          },
          "metadata": {},
          "execution_count": 73
        }
      ]
    },
    {
      "cell_type": "markdown",
      "source": [
        "## 1. 키워드 문자 받기"
      ],
      "metadata": {
        "id": "eRCnwCt5p_WF"
      }
    },
    {
      "cell_type": "code",
      "source": [
        "# 키워드 문자 받기\n",
        "\n",
        "def key_test(keyword):\n",
        "  key_df = test_df.query(f'title.str.contains(\"{keyword}\")', engine = 'python')\n",
        "  # key_context = key_df.query(f'context.str.contains(\"{question}\")', engine = 'python')\n",
        "  use_context = key_df.drop_duplicates(['context'], ignore_index = True)\n",
        "\n",
        "  context_li = []\n",
        "  for i in range(len(use_context)):\n",
        "    context_li.append(use_context['context'][i])\n",
        "  \n",
        "  context = \" \".join(context_li)\n",
        "\n",
        "  return context_li[1]"
      ],
      "metadata": {
        "id": "xQpriixtMU9n"
      },
      "execution_count": 174,
      "outputs": []
    },
    {
      "cell_type": "code",
      "source": [
        "key_test(input('키워드 : '))"
      ],
      "metadata": {
        "colab": {
          "base_uri": "https://localhost:8080/",
          "height": 201
        },
        "id": "1jBpeld4ySHH",
        "outputId": "10fa015b-d3af-4ade-8be7-1a7659aa9e2f"
      },
      "execution_count": 170,
      "outputs": [
        {
          "name": "stdout",
          "output_type": "stream",
          "text": [
            "키워드 : 남한산성\n"
          ]
        },
        {
          "output_type": "execute_result",
          "data": {
            "text/plain": [
              "'남한산성 은 2017년 10월 3일에 개봉한 대한민국의 영화이다 황동혁 감독이 소설가 김훈의 동명 소설을 영화화한 것으로 병자호란 당시 남한산성에 갇힌 인조가 청나라에 항복하기까지의 과정을 그리며 정치에 대해 메시지를 던진다 1636년 병자호란 당시 남한산성에 피난하게 된 인조는 사방이 청군에 포위되어 고립무원의 처지에 놓인다 남한산성에는 자원도 풍부하지 못해 50일가량 견딜 수 있다 청에 저항하는 50일 남짓 대신들의 의견도 첨예하게 갈린다 이조판서 최명길 이병헌 은 치욕을 당하더라도 청에게 항복해 백성을 지켜야 한다고 주장했고 예조판서 김상헌 김윤석 은 청에 끝까지 맞서 싸워야 한다고 주장한다 그 속에서 청군의 압박은 점점 심해진다 남한산성에 갇혀 결국 청에 항복하기까지의 47일 동안 주화파와 척화파의 대립 속에서 번민하는 임금과 저마다의 충 忠 을 따르고자 하는 신하들 전쟁으로 고통받는 백성들 등 다양한 인간군상이 묘사된다 2016년 11월 제작이 시작되어 2017년 4월까지 촬영되었다 제작비는 총 150억 원 정도가 사용되었다 황동혁 감독은 소설에 충실한 영화를 만들기 위해 액션사극이나 퓨전사극 풍을 배제하고 정통사극의 분위기로 인물과 이야기에 집중했으며 화면 구성과 음악에서도 레버넌트 죽음에서 돌아온 자와 같이 절제된 느낌을 내려했다고 말한다 영화를 통해 인물들과 그들의 간절함 민초들의 생명력과 노력을 보여주고 싶었다면서 그래서 이 영화의 결말이 인조의 치욕스러운 모습이 아닌 서날쇠의 힘찬 망치소리와 봄의 풍경 속으로 뛰어드는 아이 나루의 모습이었던 거죠 라고 말했다 남한산성은 대한민국에서 2017년 10월 3일에 개봉했다 추석 연휴 기간과 맞물려 개봉 이틀만에 역대 최단기간으로 100만 관객을 넘었으며 개봉 후 4일만에 200만 관객을 돌파했다 그러나 추석 연휴 이후 관객수 증가 추세가 감소하여 영화의 손익분기점인 500만 관객에도 미치지 못하면서 상업적으로는 실패했다는 평가를 받는다 남한산성은 대체로 긍정적인 평가를 받았다 이동진 평론가는 5점 만점에 35점을 주며 태산 같은 말의 무게를 묵묵히 지고 간다 라는 평을 남겼다 병자호란이라는 역사적 사건을 토대로 하고 있지만 소설이 원작이고 영화적 상상력이 덧붙여졌기 때문에 역사와 다르게 묘사된 부분도 있다 가령 영화에서 김상헌은 인조가 청에 항복할 때 칼로 배를 찔러 할복 자살하는 것으로 묘사되나 실제로는 목을 매는 방식으로 자살 시도를 하다 실패하고 1652년 82세까지 산다 영화 속 김상헌의 자결은 감독의 의도로 황동혁 감독은 영화적으로는 첫 장면에서 그가 사공을 베었던 칼로 자결하게 하는 게 맞겠다고 생각했다”고 말했다'"
            ],
            "application/vnd.google.colaboratory.intrinsic+json": {
              "type": "string"
            }
          },
          "metadata": {},
          "execution_count": 170
        }
      ]
    },
    {
      "cell_type": "markdown",
      "source": [
        "## 2-1. 질문 토큰화(cos유사도 X)"
      ],
      "metadata": {
        "id": "Ukr1B_ZvqSsZ"
      }
    },
    {
      "cell_type": "markdown",
      "source": [
        "- 토큰화 함수 불러오기"
      ],
      "metadata": {
        "id": "9tP61FG7q74b"
      }
    },
    {
      "cell_type": "code",
      "source": [
        "# !pip install JPype1-0.63-cp36-cp36m-xin_amd64.whl\n",
        "!pip install konlpy"
      ],
      "metadata": {
        "id": "jj5YeNI72YWA",
        "colab": {
          "base_uri": "https://localhost:8080/"
        },
        "outputId": "96df0ad4-9024-47c2-a392-a60506f75517"
      },
      "execution_count": 18,
      "outputs": [
        {
          "output_type": "stream",
          "name": "stdout",
          "text": [
            "Collecting konlpy\n",
            "  Downloading konlpy-0.6.0-py2.py3-none-any.whl (19.4 MB)\n",
            "\u001b[K     |████████████████████████████████| 19.4 MB 4.7 MB/s \n",
            "\u001b[?25hCollecting JPype1>=0.7.0\n",
            "  Downloading JPype1-1.3.0-cp37-cp37m-manylinux_2_5_x86_64.manylinux1_x86_64.whl (448 kB)\n",
            "\u001b[K     |████████████████████████████████| 448 kB 48.0 MB/s \n",
            "\u001b[?25hRequirement already satisfied: numpy>=1.6 in /usr/local/lib/python3.7/dist-packages (from konlpy) (1.21.6)\n",
            "Requirement already satisfied: lxml>=4.1.0 in /usr/local/lib/python3.7/dist-packages (from konlpy) (4.2.6)\n",
            "Requirement already satisfied: typing-extensions in /usr/local/lib/python3.7/dist-packages (from JPype1>=0.7.0->konlpy) (4.1.1)\n",
            "Installing collected packages: JPype1, konlpy\n",
            "Successfully installed JPype1-1.3.0 konlpy-0.6.0\n"
          ]
        }
      ]
    },
    {
      "cell_type": "code",
      "source": [
        "from konlpy.tag import Okt\n",
        "okt = Okt()"
      ],
      "metadata": {
        "id": "QdYXTfsqtoGr"
      },
      "execution_count": 19,
      "outputs": []
    },
    {
      "cell_type": "code",
      "source": [
        "token = okt.phrases(input('질문 : '))\n",
        "# token = okt.nouns(input('질문 : '))"
      ],
      "metadata": {
        "colab": {
          "base_uri": "https://localhost:8080/"
        },
        "id": "LyvezUId2jB2",
        "outputId": "19da69b8-c67f-42b3-84b4-26506137fa8f"
      },
      "execution_count": 252,
      "outputs": [
        {
          "name": "stdout",
          "output_type": "stream",
          "text": [
            "질문 : 남한산성을 훼손시킨 것은 누구인가?\n"
          ]
        }
      ]
    },
    {
      "cell_type": "code",
      "source": [
        "token"
      ],
      "metadata": {
        "colab": {
          "base_uri": "https://localhost:8080/"
        },
        "id": "quaMC_EsHjDT",
        "outputId": "fceaf315-dd30-4515-f238-11b6eeba1d12"
      },
      "execution_count": 261,
      "outputs": [
        {
          "output_type": "execute_result",
          "data": {
            "text/plain": [
              "['남한산성', '훼손', '훼손시킨 것', '누구', '남한', '산성']"
            ]
          },
          "metadata": {},
          "execution_count": 261
        }
      ]
    },
    {
      "cell_type": "code",
      "source": [
        "token_len = len(token) - (len(token)-2)\n",
        "token = token[:token_len]\n",
        "token"
      ],
      "metadata": {
        "colab": {
          "base_uri": "https://localhost:8080/"
        },
        "id": "hXMvtXoUlS_R",
        "outputId": "9710bccd-5e41-4da6-f10d-8c308110cfd2"
      },
      "execution_count": 119,
      "outputs": [
        {
          "output_type": "execute_result",
          "data": {
            "text/plain": [
              "['남한산성', '훼손']"
            ]
          },
          "metadata": {},
          "execution_count": 119
        }
      ]
    },
    {
      "cell_type": "code",
      "source": [
        "test_df.query(f'title.str.contains(\"{token_}\")', engine = 'python')"
      ],
      "metadata": {
        "id": "KrciBODv4sko",
        "colab": {
          "base_uri": "https://localhost:8080/",
          "height": 641
        },
        "outputId": "857277c2-7b95-4a5c-f760-daffddd83d9b"
      },
      "execution_count": 275,
      "outputs": [
        {
          "output_type": "execute_result",
          "data": {
            "text/plain": [
              "                                                question  \\\n",
              "943                            다모 산성에 있는 천수 또는 망루는 몇층이야?   \n",
              "944                                혼마루는 몇m의 길이를 가지고 있는가?   \n",
              "1802                일본 농림수산성의 부서 중 동물의 위생을 관리하는 부서의 명칭은?   \n",
              "1999                              남해의 대국산성은 어디에 위치해 있을까?   \n",
              "2164                                  부소산성은 어느 시대의 도성인가?   \n",
              "...                                                  ...   \n",
              "77114                     장경사에서 가장 화려한 고건축 양식으로 지어진 건물은?   \n",
              "77115  남한산성 안에 있던 9개의 사찰 중 당시의 모습으로 현존하고 있는 유일한 사찰의 이름은?   \n",
              "77116        병자호란 당시 남한산성이 함몰 위기에 놓였을때 어영별장으로 있던 자의 이름은?   \n",
              "77117  남한산성 내에 존재했던 9개의 사찰 가운데 당시의 모습으로 남아있는 현존하는 유일한...   \n",
              "77118             장경사 건물 중 가장 화려하게 지여진 고건축 양식을 보여주는 건물은?   \n",
              "\n",
              "                                                 context  \\\n",
              "943    다몬 산성 일본어 多聞山城 다몬야마조 은 나라현 나라 시 호렌 정에 있던 평산성이다...   \n",
              "944    다몬 산성 일본어 多聞山城 다몬야마조 은 나라현 나라 시 호렌 정에 있던 평산성이다...   \n",
              "1802   농림수산성 일본어 農林水産省 노린스이산쇼 the ministry of agricul...   \n",
              "1999   남해 대국산성 南海 大局山城 은 경상남도 남해군 설천면 진목리 대국산의 정상에 지어...   \n",
              "2164   부소산성 扶蘇山城 은 백제의 마지막 왕성으로 백제 시대에는 사비성 泗沘城 이라 불렸...   \n",
              "...                                                  ...   \n",
              "77114  세계유산목록에 따른 정식명칭 유네스코에 의해 구분된 지역 남한산성 南漢山城 은 대한...   \n",
              "77115  세계유산목록에 따른 정식명칭 유네스코에 의해 구분된 지역 남한산성 南漢山城 은 대한...   \n",
              "77116  세계유산목록에 따른 정식명칭 유네스코에 의해 구분된 지역 남한산성 南漢山城 은 대한...   \n",
              "77117  세계유산목록에 따른 정식명칭 유네스코에 의해 구분된 지역 남한산성 南漢山城 은 대한...   \n",
              "77118  세계유산목록에 따른 정식명칭 유네스코에 의해 구분된 지역 남한산성 南漢山城 은 대한...   \n",
              "\n",
              "                            answer_text  answer_start  answer_end     title  \n",
              "943                                  4층          2133        2135     다몬_산성  \n",
              "944                                140m         10176       10180     다몬_산성  \n",
              "1802                              동물위생과          5672        5686  일본_농림수산성  \n",
              "1999   경상남도 남해군 설천면 진목리 대국산의 정상에 지어진 산성          2091        2123   남해_대국산성  \n",
              "2164                               사비시대          2667        2671      부소산성  \n",
              "...                                 ...           ...         ...       ...  \n",
              "77114                               대웅전         42044       42047      남한산성  \n",
              "77115                               장경사         41730       41733      남한산성  \n",
              "77116                               이기축         41959       41962      남한산성  \n",
              "77117                               장경사         41730       41733      남한산성  \n",
              "77118                               대웅전         42002       42005      남한산성  \n",
              "\n",
              "[143 rows x 6 columns]"
            ],
            "text/html": [
              "\n",
              "  <div id=\"df-d2effc50-52c1-4c12-ac2e-a8a7db28c544\">\n",
              "    <div class=\"colab-df-container\">\n",
              "      <div>\n",
              "<style scoped>\n",
              "    .dataframe tbody tr th:only-of-type {\n",
              "        vertical-align: middle;\n",
              "    }\n",
              "\n",
              "    .dataframe tbody tr th {\n",
              "        vertical-align: top;\n",
              "    }\n",
              "\n",
              "    .dataframe thead th {\n",
              "        text-align: right;\n",
              "    }\n",
              "</style>\n",
              "<table border=\"1\" class=\"dataframe\">\n",
              "  <thead>\n",
              "    <tr style=\"text-align: right;\">\n",
              "      <th></th>\n",
              "      <th>question</th>\n",
              "      <th>context</th>\n",
              "      <th>answer_text</th>\n",
              "      <th>answer_start</th>\n",
              "      <th>answer_end</th>\n",
              "      <th>title</th>\n",
              "    </tr>\n",
              "  </thead>\n",
              "  <tbody>\n",
              "    <tr>\n",
              "      <th>943</th>\n",
              "      <td>다모 산성에 있는 천수 또는 망루는 몇층이야?</td>\n",
              "      <td>다몬 산성 일본어 多聞山城 다몬야마조 은 나라현 나라 시 호렌 정에 있던 평산성이다...</td>\n",
              "      <td>4층</td>\n",
              "      <td>2133</td>\n",
              "      <td>2135</td>\n",
              "      <td>다몬_산성</td>\n",
              "    </tr>\n",
              "    <tr>\n",
              "      <th>944</th>\n",
              "      <td>혼마루는 몇m의 길이를 가지고 있는가?</td>\n",
              "      <td>다몬 산성 일본어 多聞山城 다몬야마조 은 나라현 나라 시 호렌 정에 있던 평산성이다...</td>\n",
              "      <td>140m</td>\n",
              "      <td>10176</td>\n",
              "      <td>10180</td>\n",
              "      <td>다몬_산성</td>\n",
              "    </tr>\n",
              "    <tr>\n",
              "      <th>1802</th>\n",
              "      <td>일본 농림수산성의 부서 중 동물의 위생을 관리하는 부서의 명칭은?</td>\n",
              "      <td>농림수산성 일본어 農林水産省 노린스이산쇼 the ministry of agricul...</td>\n",
              "      <td>동물위생과</td>\n",
              "      <td>5672</td>\n",
              "      <td>5686</td>\n",
              "      <td>일본_농림수산성</td>\n",
              "    </tr>\n",
              "    <tr>\n",
              "      <th>1999</th>\n",
              "      <td>남해의 대국산성은 어디에 위치해 있을까?</td>\n",
              "      <td>남해 대국산성 南海 大局山城 은 경상남도 남해군 설천면 진목리 대국산의 정상에 지어...</td>\n",
              "      <td>경상남도 남해군 설천면 진목리 대국산의 정상에 지어진 산성</td>\n",
              "      <td>2091</td>\n",
              "      <td>2123</td>\n",
              "      <td>남해_대국산성</td>\n",
              "    </tr>\n",
              "    <tr>\n",
              "      <th>2164</th>\n",
              "      <td>부소산성은 어느 시대의 도성인가?</td>\n",
              "      <td>부소산성 扶蘇山城 은 백제의 마지막 왕성으로 백제 시대에는 사비성 泗沘城 이라 불렸...</td>\n",
              "      <td>사비시대</td>\n",
              "      <td>2667</td>\n",
              "      <td>2671</td>\n",
              "      <td>부소산성</td>\n",
              "    </tr>\n",
              "    <tr>\n",
              "      <th>...</th>\n",
              "      <td>...</td>\n",
              "      <td>...</td>\n",
              "      <td>...</td>\n",
              "      <td>...</td>\n",
              "      <td>...</td>\n",
              "      <td>...</td>\n",
              "    </tr>\n",
              "    <tr>\n",
              "      <th>77114</th>\n",
              "      <td>장경사에서 가장 화려한 고건축 양식으로 지어진 건물은?</td>\n",
              "      <td>세계유산목록에 따른 정식명칭 유네스코에 의해 구분된 지역 남한산성 南漢山城 은 대한...</td>\n",
              "      <td>대웅전</td>\n",
              "      <td>42044</td>\n",
              "      <td>42047</td>\n",
              "      <td>남한산성</td>\n",
              "    </tr>\n",
              "    <tr>\n",
              "      <th>77115</th>\n",
              "      <td>남한산성 안에 있던 9개의 사찰 중 당시의 모습으로 현존하고 있는 유일한 사찰의 이름은?</td>\n",
              "      <td>세계유산목록에 따른 정식명칭 유네스코에 의해 구분된 지역 남한산성 南漢山城 은 대한...</td>\n",
              "      <td>장경사</td>\n",
              "      <td>41730</td>\n",
              "      <td>41733</td>\n",
              "      <td>남한산성</td>\n",
              "    </tr>\n",
              "    <tr>\n",
              "      <th>77116</th>\n",
              "      <td>병자호란 당시 남한산성이 함몰 위기에 놓였을때 어영별장으로 있던 자의 이름은?</td>\n",
              "      <td>세계유산목록에 따른 정식명칭 유네스코에 의해 구분된 지역 남한산성 南漢山城 은 대한...</td>\n",
              "      <td>이기축</td>\n",
              "      <td>41959</td>\n",
              "      <td>41962</td>\n",
              "      <td>남한산성</td>\n",
              "    </tr>\n",
              "    <tr>\n",
              "      <th>77117</th>\n",
              "      <td>남한산성 내에 존재했던 9개의 사찰 가운데 당시의 모습으로 남아있는 현존하는 유일한...</td>\n",
              "      <td>세계유산목록에 따른 정식명칭 유네스코에 의해 구분된 지역 남한산성 南漢山城 은 대한...</td>\n",
              "      <td>장경사</td>\n",
              "      <td>41730</td>\n",
              "      <td>41733</td>\n",
              "      <td>남한산성</td>\n",
              "    </tr>\n",
              "    <tr>\n",
              "      <th>77118</th>\n",
              "      <td>장경사 건물 중 가장 화려하게 지여진 고건축 양식을 보여주는 건물은?</td>\n",
              "      <td>세계유산목록에 따른 정식명칭 유네스코에 의해 구분된 지역 남한산성 南漢山城 은 대한...</td>\n",
              "      <td>대웅전</td>\n",
              "      <td>42002</td>\n",
              "      <td>42005</td>\n",
              "      <td>남한산성</td>\n",
              "    </tr>\n",
              "  </tbody>\n",
              "</table>\n",
              "<p>143 rows × 6 columns</p>\n",
              "</div>\n",
              "      <button class=\"colab-df-convert\" onclick=\"convertToInteractive('df-d2effc50-52c1-4c12-ac2e-a8a7db28c544')\"\n",
              "              title=\"Convert this dataframe to an interactive table.\"\n",
              "              style=\"display:none;\">\n",
              "        \n",
              "  <svg xmlns=\"http://www.w3.org/2000/svg\" height=\"24px\"viewBox=\"0 0 24 24\"\n",
              "       width=\"24px\">\n",
              "    <path d=\"M0 0h24v24H0V0z\" fill=\"none\"/>\n",
              "    <path d=\"M18.56 5.44l.94 2.06.94-2.06 2.06-.94-2.06-.94-.94-2.06-.94 2.06-2.06.94zm-11 1L8.5 8.5l.94-2.06 2.06-.94-2.06-.94L8.5 2.5l-.94 2.06-2.06.94zm10 10l.94 2.06.94-2.06 2.06-.94-2.06-.94-.94-2.06-.94 2.06-2.06.94z\"/><path d=\"M17.41 7.96l-1.37-1.37c-.4-.4-.92-.59-1.43-.59-.52 0-1.04.2-1.43.59L10.3 9.45l-7.72 7.72c-.78.78-.78 2.05 0 2.83L4 21.41c.39.39.9.59 1.41.59.51 0 1.02-.2 1.41-.59l7.78-7.78 2.81-2.81c.8-.78.8-2.07 0-2.86zM5.41 20L4 18.59l7.72-7.72 1.47 1.35L5.41 20z\"/>\n",
              "  </svg>\n",
              "      </button>\n",
              "      \n",
              "  <style>\n",
              "    .colab-df-container {\n",
              "      display:flex;\n",
              "      flex-wrap:wrap;\n",
              "      gap: 12px;\n",
              "    }\n",
              "\n",
              "    .colab-df-convert {\n",
              "      background-color: #E8F0FE;\n",
              "      border: none;\n",
              "      border-radius: 50%;\n",
              "      cursor: pointer;\n",
              "      display: none;\n",
              "      fill: #1967D2;\n",
              "      height: 32px;\n",
              "      padding: 0 0 0 0;\n",
              "      width: 32px;\n",
              "    }\n",
              "\n",
              "    .colab-df-convert:hover {\n",
              "      background-color: #E2EBFA;\n",
              "      box-shadow: 0px 1px 2px rgba(60, 64, 67, 0.3), 0px 1px 3px 1px rgba(60, 64, 67, 0.15);\n",
              "      fill: #174EA6;\n",
              "    }\n",
              "\n",
              "    [theme=dark] .colab-df-convert {\n",
              "      background-color: #3B4455;\n",
              "      fill: #D2E3FC;\n",
              "    }\n",
              "\n",
              "    [theme=dark] .colab-df-convert:hover {\n",
              "      background-color: #434B5C;\n",
              "      box-shadow: 0px 1px 3px 1px rgba(0, 0, 0, 0.15);\n",
              "      filter: drop-shadow(0px 1px 2px rgba(0, 0, 0, 0.3));\n",
              "      fill: #FFFFFF;\n",
              "    }\n",
              "  </style>\n",
              "\n",
              "      <script>\n",
              "        const buttonEl =\n",
              "          document.querySelector('#df-d2effc50-52c1-4c12-ac2e-a8a7db28c544 button.colab-df-convert');\n",
              "        buttonEl.style.display =\n",
              "          google.colab.kernel.accessAllowed ? 'block' : 'none';\n",
              "\n",
              "        async function convertToInteractive(key) {\n",
              "          const element = document.querySelector('#df-d2effc50-52c1-4c12-ac2e-a8a7db28c544');\n",
              "          const dataTable =\n",
              "            await google.colab.kernel.invokeFunction('convertToInteractive',\n",
              "                                                     [key], {});\n",
              "          if (!dataTable) return;\n",
              "\n",
              "          const docLinkHtml = 'Like what you see? Visit the ' +\n",
              "            '<a target=\"_blank\" href=https://colab.research.google.com/notebooks/data_table.ipynb>data table notebook</a>'\n",
              "            + ' to learn more about interactive tables.';\n",
              "          element.innerHTML = '';\n",
              "          dataTable['output_type'] = 'display_data';\n",
              "          await google.colab.output.renderOutput(dataTable, element);\n",
              "          const docLink = document.createElement('div');\n",
              "          docLink.innerHTML = docLinkHtml;\n",
              "          element.appendChild(docLink);\n",
              "        }\n",
              "      </script>\n",
              "    </div>\n",
              "  </div>\n",
              "  "
            ]
          },
          "metadata": {},
          "execution_count": 275
        }
      ]
    },
    {
      "cell_type": "code",
      "source": [
        "text = ''\n",
        "for i in range(len(token)):\n",
        "  text += f'{token[i]}|'\n",
        "\n",
        "token_ = text[:-1]"
      ],
      "metadata": {
        "id": "1UluapdWIcdr"
      },
      "execution_count": 273,
      "outputs": []
    },
    {
      "cell_type": "markdown",
      "source": [
        "### 1) test_df 기반 코드(title - 있음)"
      ],
      "metadata": {
        "id": "az9x_EzMq4kW"
      }
    },
    {
      "cell_type": "code",
      "source": [
        "# test_df 기반 코드(title - 있음)\n",
        "\n",
        "def test(user_question):\n",
        "  token_li = okt.phrases(user_question)\n",
        "  token_len = len(token_li) - (len(token_li)-2)\n",
        "  token = token_li[:token_len]\n",
        "\n",
        "  key_title = test_df.query(f'title.str.contains(\"{token[0]}|{token[1]}\")', engine = 'python')\n",
        "  if len(key_title) == 0:\n",
        "    key_question = test_df.query(f'question.str.contains(\"{token[0]}|{token[1]}\")', engine = 'python')\n",
        "    if len(key_question) == 0:\n",
        "     key_context = test_df.query(f'context.str.contains(\"{token[0]}|{token[1]}\")', engine = 'python')\n",
        "    else:\n",
        "     key_context = key_question.query(f'context.str.contains(\"{token[0]}|{token[1]}\")', engine = 'python')\n",
        "     if len(key_context) == 0:\n",
        "      use_context = key_question.drop_duplicates(['context'], ignore_index = True)\n",
        "     else:\n",
        "      use_context = key_context.drop_duplicates(['context'], ignore_index = True)\n",
        "\n",
        "  else:\n",
        "    key_question = key_title.query(f'question.str.contains(\"{token[0]}|{token[1]}\")', engine = 'python')\n",
        "    if len(key_question) == 0:\n",
        "      key_context = key_title.query(f'context.str.contains(\"{token[0]}|{token[1]}\")', engine = 'python')\n",
        "    else:\n",
        "      key_context = key_question.query(f'context.str.contains(\"{token[0]}|{token[1]}\")', engine = 'python')\n",
        "      if len(key_context) == 0:\n",
        "        use_context = key_question.drop_duplicates(['context'], ignore_index = True)\n",
        "      else:\n",
        "        use_context = key_context.drop_duplicates(['context'], ignore_index = True)\n",
        "\n",
        "\n",
        "  context_li = []\n",
        "  for i in range(len(use_context)):\n",
        "    context_li.append(use_context['context'][i])\n",
        "  \n",
        "  context = \" \".join(context_li)\n",
        "\n",
        "  return context"
      ],
      "metadata": {
        "id": "pJA-g80joxkx"
      },
      "execution_count": 97,
      "outputs": []
    },
    {
      "cell_type": "code",
      "source": [
        "# 바그너가 처음 교향곡을 작곡한 장소는?\n",
        "test(input('질문 : '))"
      ],
      "metadata": {
        "id": "71rhmBhPpqJS"
      },
      "execution_count": null,
      "outputs": []
    },
    {
      "cell_type": "markdown",
      "source": [
        "### 2) val_df 기반 코드(title - 없음)"
      ],
      "metadata": {
        "id": "PBkn0oI4qhW1"
      }
    },
    {
      "cell_type": "code",
      "source": [
        "# val_df 기반 코드(title - 없음)\n",
        "\n",
        "def val_test(user_question):\n",
        "  token_li = okt.phrases(user_question)\n",
        "  token_len = len(token_li) - (len(token_li)-2)\n",
        "  token = token_li[:token_len]\n",
        "  \n",
        "  key_question = val_df.query(f'question.str.contains(\"{token[0]}|{token[1]}\")', engine = 'python')\n",
        "  if len(key_question) == 0:\n",
        "    key_context = val_df.query(f'context.str.contains(\"{token[0]}|{token[1]}\")', engine = 'python')\n",
        "  else:\n",
        "    key_context = key_question.query(f'context.str.contains(\"{token[0]}|{token[1]}\")', engine = 'python')\n",
        "    if len(key_context) == 0:\n",
        "      use_context = key_question.drop_duplicates(['context'], ignore_index = True)\n",
        "    else:\n",
        "      use_context = key_context.drop_duplicates(['context'], ignore_index = True)\n",
        "\n",
        "\n",
        "  context_li = []\n",
        "  for i in range(len(use_context)):\n",
        "    context_li.append(use_context['context'][i])\n",
        "  \n",
        "  context = \" \".join(context_li)\n",
        "\n",
        "  return context"
      ],
      "metadata": {
        "id": "gRBIyssWokMm"
      },
      "execution_count": 95,
      "outputs": []
    },
    {
      "cell_type": "code",
      "source": [
        "# 바그너가 처음 교향곡을 작곡한 장소는?\n",
        "val_test(input('질문 : '))"
      ],
      "metadata": {
        "colab": {
          "base_uri": "https://localhost:8080/",
          "height": 164
        },
        "id": "1G3fyecesy7W",
        "outputId": "50dcda4a-82b2-4a5e-b0c8-25ee6cc7a61f"
      },
      "execution_count": 117,
      "outputs": [
        {
          "name": "stdout",
          "output_type": "stream",
          "text": [
            "질문 : 남한산성을 훼손시킨 것은 누구인가?\n"
          ]
        },
        {
          "output_type": "execute_result",
          "data": {
            "text/plain": [
              "'전략 거점으로서 남한산성의 중요성은 조선 태종 때 본격화되었다. 1401년 요동을 다녀온 이자영의 보고에 의거, 명나라가 조선을 침략할 지도 모른다는 위기감이 고조되자 태종은 국경과 내륙을 막론하고 고을 별로 산성을 쌓고 기존의 산성을 개축하여 산성 중심의 방어체제를 구축하기 시작했다. 남한산성도 이러한 국방정책에 따라 세종 때에 군사시설로 이용하기 시작했다. 아직 태종 때부터 세종 때까지 남한산성이 개축되었다는 기록은 발견되지 않았으나, 《세종실록지리지》에서 남한산성에 대해 비교적 상세하게 현황을 파악한 기록이 있는데, 이 기록은 남한산성을 이용하기 위해 현황을 파악한 것으로 볼 수 있으며, 따라서 이를 통해 당시 개축이나 수리는 안했어도 군사기지로 이용하기 시작했음을 알 수 있다. 2006 년 1 월 1 일 호주에서 명예 훼손 혐의로 고소 될 수있는 권리를 엄격히 제한하는 호주의 통일적인 명예 훼손 법 개혁이 있었다. (명예 훼손 법령 Defamation Act 2005 (빅), 9 페이지 참조). 이로 인해 주 및 테리토리의 명예 훼손 관련 법이 비슷하다. 명예 훼손의 일반 금지 규정에서 제외 된 유일한 기업은 비영리 법인 또는 직원 수가 10 명 미만이며, 다른 회사와 제휴하지 않은 비영리 법인 이다. 그러나 원고는 명예 훼손이 악의로 만들어졌으며, 경제적 손실을 초래했음을 입증해야 명예훼손 죄로 고소가 가능하다, 또한, 회사는 여전히 명예 훼손보다 더 큰 중상모략을 통해 입은 거짓 소송에 대해는 명예 훼손으로 고소 할 수 있다.'"
            ],
            "application/vnd.google.colaboratory.intrinsic+json": {
              "type": "string"
            }
          },
          "metadata": {},
          "execution_count": 117
        }
      ]
    },
    {
      "cell_type": "markdown",
      "source": [
        "## 2-2. 질문 토큰화(cos유사도 O)"
      ],
      "metadata": {
        "id": "ky3kAV1DA8U9"
      }
    },
    {
      "cell_type": "code",
      "source": [
        "from sklearn.feature_extraction.text import TfidfVectorizer\n",
        "\n",
        "sent=(key_test(input('키워드 : ')),\n",
        "      \"남한산성을 훼손시킨 것은 누구인가?\")\n",
        "      \n",
        "tfidf_vectorizer=TfidfVectorizer()\n",
        "tfidf_matrix=tfidf_vectorizer.fit_transform(sent)\n",
        "\n",
        "idf=tfidf_vectorizer.idf_\n",
        "\n",
        "print(dict(zip(tfidf_vectorizer.get_feature_names(),idf)))"
      ],
      "metadata": {
        "colab": {
          "base_uri": "https://localhost:8080/"
        },
        "id": "NNs2zPrz1q_p",
        "outputId": "d425f53f-b462-4026-fb49-bf044b86c61e"
      },
      "execution_count": 175,
      "outputs": [
        {
          "output_type": "stream",
          "name": "stdout",
          "text": [
            "키워드 : 남한산성\n",
            "{'076의': 1.4054651081081644, '08m': 1.4054651081081644, '10개가': 1.4054651081081644, '10개의': 1.4054651081081644, '10년': 1.4054651081081644, '10년에': 1.4054651081081644, '119호': 1.4054651081081644, '11개': 1.4054651081081644, '11암문이': 1.4054651081081644, '11월': 1.4054651081081644, '11칸': 1.4054651081081644, '1231년과': 1.4054651081081644, '1232년': 1.4054651081081644, '124결이라는': 1.4054651081081644, '125개소의': 1.4054651081081644, '12年': 1.4054651081081644, '12년': 1.4054651081081644, '12년에': 1.4054651081081644, '12년에는': 1.4054651081081644, '12를': 1.4054651081081644, '12만명의': 1.4054651081081644, '12목을': 1.4054651081081644, '12월': 1.4054651081081644, '12주': 1.4054651081081644, '1300mm': 1.4054651081081644, '137종': 1.4054651081081644, '13m': 1.4054651081081644, '13년': 1.4054651081081644, '13층': 1.4054651081081644, '1400mm이다': 1.4054651081081644, '1401년': 1.4054651081081644, '1402명의': 1.4054651081081644, '140368평': 1.4054651081081644, '140368평이': 1.4054651081081644, '1410': 1.4054651081081644, '146m이고': 1.4054651081081644, '14일': 1.4054651081081644, '154칸으로': 1.4054651081081644, '1596': 1.4054651081081644, '1596년에': 1.4054651081081644, '159권': 1.4054651081081644, '15kg이나': 1.4054651081081644, '15년': 1.4054651081081644, '15년에': 1.4054651081081644, '1603': 1.4054651081081644, '1603년': 1.4054651081081644, '1621년': 1.4054651081081644, '1624': 1.4054651081081644, '1624년': 1.4054651081081644, '1624년부터': 1.4054651081081644, '1624년에': 1.4054651081081644, '1625': 1.4054651081081644, '1625년': 1.4054651081081644, '16269결의': 1.4054651081081644, '1626년': 1.4054651081081644, '1626년까지': 1.4054651081081644, '1627년': 1.4054651081081644, '1636년': 1.4054651081081644, '1637년': 1.4054651081081644, '1639': 1.4054651081081644, '163m로': 1.4054651081081644, '1672': 1.4054651081081644, '1686': 1.4054651081081644, '1686년': 1.4054651081081644, '16개가': 1.4054651081081644, '16년에': 1.4054651081081644, '16대': 1.4054651081081644, '16센티미터의': 1.4054651081081644, '16일': 1.4054651081081644, '17400척': 1.4054651081081644, '1751년': 1.4054651081081644, '1751년에': 1.4054651081081644, '1779년': 1.4054651081081644, '1788년': 1.4054651081081644, '1795년': 1.4054651081081644, '17年': 1.4054651081081644, '17개로': 1.4054651081081644, '17에': 1.4054651081081644, '17일': 1.4054651081081644, '1801': 1.4054651081081644, '182288평은': 1.4054651081081644, '1839': 1.4054651081081644, '1840명이었다': 1.4054651081081644, '1866': 1.4054651081081644, '1896년': 1.4054651081081644, '18m': 1.4054651081081644, '18세기': 1.4054651081081644, '18세기에서': 1.4054651081081644, '18일': 1.4054651081081644, '19': 1.4054651081081644, '1905년': 1.4054651081081644, '1907년': 1.4054651081081644, '1907년에': 1.4054651081081644, '1907년의': 1.4054651081081644, '1911년': 1.4054651081081644, '1911년의': 1.4054651081081644, '1917년': 1.4054651081081644, '1919년': 1.4054651081081644, '1930년': 1.4054651081081644, '1930년대': 1.4054651081081644, '1930년대에는': 1.4054651081081644, '1936년': 1.4054651081081644, '1940년대': 1.4054651081081644, '1948': 1.4054651081081644, '1950년대에': 1.4054651081081644, '1963년': 1.4054651081081644, '1963년에': 1.4054651081081644, '1968년에': 1.4054651081081644, '1971년': 1.4054651081081644, '1974년에': 1.4054651081081644, '1975년부터': 1.4054651081081644, '1976년': 1.4054651081081644, '1976년에': 1.4054651081081644, '1996년': 1.4054651081081644, '1997년까지': 1.4054651081081644, '1999년': 1.4054651081081644, '1999년에는': 1.4054651081081644, '19kg이고': 1.4054651081081644, '19권': 1.4054651081081644, '19년에': 1.4054651081081644, '19년에는': 1.4054651081081644, '19세기까지': 1.4054651081081644, '19일': 1.4054651081081644, '1개': 1.4054651081081644, '1개가': 1.4054651081081644, '1개와': 1.4054651081081644, '1만': 1.4054651081081644, '1번째': 1.4054651081081644, '1월': 1.4054651081081644, '1일': 1.4054651081081644, '1일부터': 1.4054651081081644, '1점과': 1.4054651081081644, '1천': 1.4054651081081644, '1층과': 1.4054651081081644, '1칸으로': 1.4054651081081644, '1칸은': 1.4054651081081644, '1칸이며': 1.4054651081081644, '2000명을': 1.4054651081081644, '2001년과': 1.4054651081081644, '2002년에': 1.4054651081081644, '2006년': 1.4054651081081644, '2007년': 1.4054651081081644, '2007년까지': 1.4054651081081644, '2007년에': 1.4054651081081644, '2007년에는': 1.4054651081081644, '2008년': 1.4054651081081644, '200여': 1.4054651081081644, '2012년': 1.4054651081081644, '2014년에는': 1.4054651081081644, '2016년': 1.4054651081081644, '204일로': 1.4054651081081644, '20cm': 1.4054651081081644, '20일부터': 1.4054651081081644, '2135752m3로서': 1.4054651081081644, '219832평의': 1.4054651081081644, '21m다': 1.4054651081081644, '21일': 1.4054651081081644, '21일에는': 1.4054651081081644, '227칸이': 1.4054651081081644, '22일': 1.4054651081081644, '22종의': 1.4054651081081644, '2355m에': 1.4054651081081644, '23m의': 1.4054651081081644, '23일': 1.4054651081081644, '241가구': 1.4054651081081644, '242평이라는': 1.4054651081081644, '245m': 1.4054651081081644, '24년': 1.4054651081081644, '25일': 1.4054651081081644, '26일': 1.4054651081081644, '27년에': 1.4054651081081644, '27일': 1.4054651081081644, '280만명이': 1.4054651081081644, '286m': 1.4054651081081644, '28km': 1.4054651081081644, '28일': 1.4054651081081644, '290평의': 1.4054651081081644, '29년': 1.4054651081081644, '29년에': 1.4054651081081644, '2日': 1.4054651081081644, '2月': 1.4054651081081644, '2개': 1.4054651081081644, '2개월씩': 1.4054651081081644, '2개의': 1.4054651081081644, '2년': 1.4054651081081644, '2년간': 1.4054651081081644, '2년에': 1.4054651081081644, '2만여': 1.4054651081081644, '2번째': 1.4054651081081644, '2월': 1.4054651081081644, '2짝의': 1.4054651081081644, '2층': 1.4054651081081644, '2층으로': 1.4054651081081644, '2층은': 1.4054651081081644, '2칸': 1.4054651081081644, '2칸의': 1.4054651081081644, '2칸이다': 1.4054651081081644, '300여': 1.4054651081081644, '3050cm': 1.4054651081081644, '307m': 1.4054651081081644, '30cm': 1.4054651081081644, '30일': 1.4054651081081644, '31m': 1.4054651081081644, '31년': 1.4054651081081644, '31년에': 1.4054651081081644, '31년에는': 1.4054651081081644, '31센티미터': 1.4054651081081644, '3213m의': 1.4054651081081644, '335m': 1.4054651081081644, '33kg인': 1.4054651081081644, '350년된': 1.4054651081081644, '360m지점에': 1.4054651081081644, '360보이다': 1.4054651081081644, '365m': 1.4054651081081644, '36년': 1.4054651081081644, '370400m': 1.4054651081081644, '37544평은': 1.4054651081081644, '37m내외로': 1.4054651081081644, '37ｍ이다': 1.4054651081081644, '3823평과': 1.4054651081081644, '38卷': 1.4054651081081644, '3993보': 1.4054651081081644, '3가지로': 1.4054651081081644, '3개': 1.4054651081081644, '3개가': 1.4054651081081644, '3개를': 1.4054651081081644, '3개의': 1.4054651081081644, '3개중': 1.4054651081081644, '3권이': 1.4054651081081644, '3년': 1.4054651081081644, '3년에는': 1.4054651081081644, '3번의': 1.4054651081081644, '3번째': 1.4054651081081644, '3연못지로': 1.4054651081081644, '3월': 1.4054651081081644, '3일': 1.4054651081081644, '3천여명의': 1.4054651081081644, '3칸': 1.4054651081081644, '3칸으로': 1.4054651081081644, '3칸의': 1.4054651081081644, '3칸이며': 1.4054651081081644, '3칸이지만': 1.4054651081081644, '400m': 1.4054651081081644, '405m': 1.4054651081081644, '40여일간': 1.4054651081081644, '410m의': 1.4054651081081644, '414m': 1.4054651081081644, '423m이고': 1.4054651081081644, '42m': 1.4054651081081644, '4300여': 1.4054651081081644, '446호': 1.4054651081081644, '44년': 1.4054651081081644, '45cm': 1.4054651081081644, '45개의': 1.4054651081081644, '45년에는': 1.4054651081081644, '45일': 1.4054651081081644, '4676m': 1.4054651081081644, '475m': 1.4054651081081644, '480m': 1.4054651081081644, '4826m': 1.4054651081081644, '492m로': 1.4054651081081644, '497m': 1.4054651081081644, '49m': 1.4054651081081644, '4kg': 1.4054651081081644, '4m로서': 1.4054651081081644, '4개': 1.4054651081081644, '4개의': 1.4054651081081644, '4년': 1.4054651081081644, '4대': 1.4054651081081644, '4대문': 1.4054651081081644, '4도': 1.4054651081081644, '4만여명이': 1.4054651081081644, '4배가': 1.4054651081081644, '4월': 1.4054651081081644, '4장대': 1.4054651081081644, '4주를': 1.4054651081081644, '4쪽': 1.4054651081081644, '4천': 1.4054651081081644, '4칸': 1.4054651081081644, '502m': 1.4054651081081644, '50cm': 1.4054651081081644, '50m가량의': 1.4054651081081644, '50일': 1.4054651081081644, '514m의': 1.4054651081081644, '51km를': 1.4054651081081644, '522m': 1.4054651081081644, '535m': 1.4054651081081644, '56km': 1.4054651081081644, '56m에': 1.4054651081081644, '5개의': 1.4054651081081644, '5군영': 1.4054651081081644, '5년': 1.4054651081081644, '5만에서': 1.4054651081081644, '5번째': 1.4054651081081644, '5영': 1.4054651081081644, '5일마다': 1.4054651081081644, '5천주의': 1.4054651081081644, '5칸': 1.4054651081081644, '600여': 1.4054651081081644, '6080cm': 1.4054651081081644, '627200평으로': 1.4054651081081644, '639인': 1.4054651081081644, '6927보가': 1.4054651081081644, '6개의': 1.4054651081081644, '6도의': 1.4054651081081644, '6세기': 1.4054651081081644, '6월': 1.4054651081081644, '70여호의': 1.4054651081081644, '72칸': 1.4054651081081644, '74권': 1.4054651081081644, '7545m다': 1.4054651081081644, '7개의': 1.4054651081081644, '7월': 1.4054651081081644, '7칸': 1.4054651081081644, '80개의': 1.4054651081081644, '80여': 1.4054651081081644, '829에': 1.4054651081081644, '860m로': 1.4054651081081644, '8888m의': 1.4054651081081644, '8km': 1.4054651081081644, '8개': 1.4054651081081644, '8개의': 1.4054651081081644, '8권': 1.4054651081081644, '8년': 1.4054651081081644, '8도의': 1.4054651081081644, '8만': 1.4054651081081644, '8월': 1.4054651081081644, '8차에': 1.4054651081081644, '90여': 1.4054651081081644, '9개': 1.4054651081081644, '9개의': 1.4054651081081644, '9권': 1.4054651081081644, '9월': 1.4054651081081644, '9일': 1.4054651081081644, '乾隆': 1.4054651081081644, '仁祖': 1.4054651081081644, '八道都摠攝總節制中軍主將': 1.4054651081081644, '南漢山城': 1.4054651081081644, '古邑': 1.4054651081081644, '右翼門': 1.4054651081081644, '國淸寺井': 1.4054651081081644, '外城': 1.4054651081081644, '天啓': 1.4054651081081644, '宋時烈': 1.4054651081081644, '將臺': 1.4054651081081644, '對峯': 1.4054651081081644, '崇烈殿': 1.4054651081081644, '崇禎': 1.4054651081081644, '左翼門': 1.4054651081081644, '己卯': 1.4054651081081644, '庚寅': 1.4054651081081644, '府尹': 1.4054651081081644, '成三問': 1.4054651081081644, '戰勝門': 1.4054651081081644, '普運': 1.4054651081081644, '曹溪寺': 1.4054651081081644, '李世華': 1.4054651081081644, '永樂': 1.4054651081081644, '池水堂': 1.4054651081081644, '淸凉堂': 1.4054651081081644, '演武館': 1.4054651081081644, '甕城': 1.4054651081081644, '甬道': 1.4054651081081644, '至和門': 1.4054651081081644, '萬曆': 1.4054651081081644, '覺性': 1.4054651081081644, '軍器': 1.4054651081081644, '開元寺址': 1.4054651081081644, '高官': 1.4054651081081644, '가구': 1.4054651081081644, '가깝게': 1.4054651081081644, '가깝고': 1.4054651081081644, '가깝지만': 1.4054651081081644, '가는': 1.4054651081081644, '가능성도': 1.4054651081081644, '가능하다': 1.4054651081081644, '가로': 1.4054651081081644, '가로막으면서': 1.4054651081081644, '가로질러': 1.4054651081081644, '가리키는': 1.4054651081081644, '가뭄에도': 1.4054651081081644, '가시권에': 1.4054651081081644, '가운데': 1.4054651081081644, '가장': 1.4054651081081644, '가지': 1.4054651081081644, '가지고': 1.4054651081081644, '가지로': 1.4054651081081644, '가하였다': 1.4054651081081644, '각각': 1.4054651081081644, '각색한': 1.4054651081081644, '각성': 1.4054651081081644, '각자의': 1.4054651081081644, '각종': 1.4054651081081644, '간디': 1.4054651081081644, '간직한': 1.4054651081081644, '갈라지는': 1.4054651081081644, '갈라진': 1.4054651081081644, '갈수록': 1.4054651081081644, '갈참나무': 1.4054651081081644, '감독관': 1.4054651081081644, '갑인': 1.4054651081081644, '강당과': 1.4054651081081644, '강력하게': 1.4054651081081644, '강북의': 1.4054651081081644, '강수량은': 1.4054651081081644, '강점기': 1.4054651081081644, '강점기에': 1.4054651081081644, '강조하려는': 1.4054651081081644, '강한': 1.4054651081081644, '강해': 1.4054651081081644, '강화': 1.4054651081081644, '강화도가': 1.4054651081081644, '강화도로': 1.4054651081081644, '강화도를': 1.4054651081081644, '강화도에': 1.4054651081081644, '강화되면서': 1.4054651081081644, '강화론이': 1.4054651081081644, '강화시켰다': 1.4054651081081644, '강화에서': 1.4054651081081644, '갖게': 1.4054651081081644, '갖추게': 1.4054651081081644, '갖추고': 1.4054651081081644, '갖추어진': 1.4054651081081644, '같은': 1.4054651081081644, '같이': 1.4054651081081644, '개간': 1.4054651081081644, '개경을': 1.4054651081081644, '개발되어': 1.4054651081081644, '개발했지만': 1.4054651081081644, '개보수할': 1.4054651081081644, '개소되었다': 1.4054651081081644, '개소했다': 1.4054651081081644, '개수하면서': 1.4054651081081644, '개에': 1.4054651081081644, '개원사': 1.4054651081081644, '개원사는': 1.4054651081081644, '개원사지': 1.4054651081081644, '개의': 1.4054651081081644, '개장하고': 1.4054651081081644, '개축': 1.4054651081081644, '개축되어': 1.4054651081081644, '개축되었다는': 1.4054651081081644, '개축이나': 1.4054651081081644, '개축하고': 1.4054651081081644, '개축하여': 1.4054651081081644, '개축할': 1.4054651081081644, '개축했다': 1.4054651081081644, '개칭되었다': 1.4054651081081644, '개칭하였다': 1.4054651081081644, '개칭한': 1.4054651081081644, '개통된': 1.4054651081081644, '거대한': 1.4054651081081644, '거리로': 1.4054651081081644, '거리를': 1.4054651081081644, '거리의': 1.4054651081081644, '거슬러': 1.4054651081081644, '거절하였고': 1.4054651081081644, '거점으로': 1.4054651081081644, '거점으로서': 1.4054651081081644, '거주하게': 1.4054651081081644, '거주하기': 1.4054651081081644, '거주했던': 1.4054651081081644, '거처로서': 1.4054651081081644, '거처할': 1.4054651081081644, '거쳐': 1.4054651081081644, '거쳐야': 1.4054651081081644, '거치면서': 1.4054651081081644, '건강을': 1.4054651081081644, '건넌': 1.4054651081081644, '건륭': 1.4054651081081644, '건립': 1.4054651081081644, '건립되었으나': 1.4054651081081644, '건립된': 1.4054651081081644, '건립한': 1.4054651081081644, '건립했다': 1.4054651081081644, '건물': 1.4054651081081644, '건물들이': 1.4054651081081644, '건물로': 1.4054651081081644, '건물로는': 1.4054651081081644, '건물로서': 1.4054651081081644, '건물에': 1.4054651081081644, '건물유구를': 1.4054651081081644, '건물은': 1.4054651081081644, '건물을': 1.4054651081081644, '건물의': 1.4054651081081644, '건물이': 1.4054651081081644, '건물이다': 1.4054651081081644, '건물인데': 1.4054651081081644, '건물지가': 1.4054651081081644, '건물터가': 1.4054651081081644, '건물터는': 1.4054651081081644, '건설된': 1.4054651081081644, '건설하면서': 1.4054651081081644, '건설하였다': 1.4054651081081644, '건의를': 1.4054651081081644, '건의하였다': 1.4054651081081644, '건축되어': 1.4054651081081644, '건축되었다': 1.4054651081081644, '건축하였다': 1.4054651081081644, '걷기': 1.4054651081081644, '걷는': 1.4054651081081644, '걸려있다': 1.4054651081081644, '걸려있지': 1.4054651081081644, '걸었으나': 1.4054651081081644, '걸을': 1.4054651081081644, '걸쳐': 1.4054651081081644, '걸친': 1.4054651081081644, '검단산': 1.4054651081081644, '검토해야': 1.4054651081081644, '것과': 1.4054651081081644, '것에': 1.4054651081081644, '것에서': 1.4054651081081644, '것으로': 1.4054651081081644, '것은': 1.0, '것을': 1.4054651081081644, '것이': 1.4054651081081644, '것이고': 1.4054651081081644, '것이다': 1.4054651081081644, '것이라고': 1.4054651081081644, '것이라는': 1.4054651081081644, '것이었다': 1.4054651081081644, '것인데': 1.4054651081081644, '게다가': 1.4054651081081644, '겨우': 1.4054651081081644, '겨울이': 1.4054651081081644, '격렬한': 1.4054651081081644, '견해가': 1.4054651081081644, '견해는': 1.4054651081081644, '결과': 1.4054651081081644, '결과를': 1.4054651081081644, '결국': 1.4054651081081644, '결코': 1.4054651081081644, '결합하여': 1.4054651081081644, '겸한': 1.4054651081081644, '겹처마를': 1.4054651081081644, '겹처마의': 1.4054651081081644, '경기': 1.4054651081081644, '경기남부를': 1.4054651081081644, '경기도': 1.4054651081081644, '경기도립공원으로': 1.4054651081081644, '경기도의': 1.4054651081081644, '경기도지사로': 1.4054651081081644, '경기문화재단에서': 1.4054651081081644, '경기변성암': 1.4054651081081644, '경덕왕이': 1.4054651081081644, '경사가': 1.4054651081081644, '경사지게': 1.4054651081081644, '경사지에는': 1.4054651081081644, '경우': 1.4054651081081644, '경우가': 1.4054651081081644, '경우에': 1.4054651081081644, '경우에는': 1.4054651081081644, '경인': 1.4054651081081644, '경제력이': 1.4054651081081644, '경지가': 1.4054651081081644, '경지는': 1.4054651081081644, '경지면적의': 1.4054651081081644, '계곡으로': 1.4054651081081644, '계기로': 1.4054651081081644, '계단식': 1.4054651081081644, '계단식으로': 1.4054651081081644, '계단을': 1.4054651081081644, '계단이': 1.4054651081081644, '계묘': 1.4054651081081644, '계산하면': 1.4054651081081644, '계속': 1.4054651081081644, '계속되어': 1.4054651081081644, '계열이': 1.4054651081081644, '계절': 1.4054651081081644, '계책에': 1.4054651081081644, '계축': 1.4054651081081644, '고건축': 1.4054651081081644, '고골': 1.4054651081081644, '고관': 1.4054651081081644, '고구려의': 1.4054651081081644, '고대가': 1.4054651081081644, '고대의': 1.4054651081081644, '고도': 1.4054651081081644, '고도가': 1.4054651081081644, '고도는': 1.4054651081081644, '고도에는': 1.4054651081081644, '고려': 1.4054651081081644, '고려사': 1.4054651081081644, '고려한': 1.4054651081081644, '고려할': 1.4054651081081644, '고문헌에도': 1.4054651081081644, '고산지대인': 1.4054651081081644, '고성이라는': 1.4054651081081644, '고위평탄면으로': 1.4054651081081644, '고을': 1.4054651081081644, '고을을': 1.4054651081081644, '고을이었던': 1.4054651081081644, '고전소설': 1.4054651081081644, '고조되는': 1.4054651081081644, '고조되자': 1.4054651081081644, '고종': 1.4054651081081644, '고지도를': 1.4054651081081644, '고찰이라고': 1.4054651081081644, '고치고': 1.4054651081081644, '곡선': 1.4054651081081644, '곳곳에': 1.4054651081081644, '곳에': 1.4054651081081644, '곳에서': 1.4054651081081644, '곳으로': 1.4054651081081644, '곳은': 1.4054651081081644, '곳이다': 1.4054651081081644, '곳임을': 1.4054651081081644, '공개하고': 1.4054651081081644, '공격을': 1.4054651081081644, '공격자의': 1.4054651081081644, '공격할': 1.4054651081081644, '공덕비가': 1.4054651081081644, '공략하기': 1.4054651081081644, '공민왕': 1.4054651081081644, '공민왕이': 1.4054651081081644, '공사': 1.4054651081081644, '공사가': 1.4054651081081644, '공사를': 1.4054651081081644, '공성무기의': 1.4054651081081644, '공원화된': 1.4054651081081644, '공해': 1.4054651081081644, '과정에서': 1.4054651081081644, '관계로': 1.4054651081081644, '관군에': 1.4054651081081644, '관군은': 1.4054651081081644, '관련': 1.4054651081081644, '관련된': 1.4054651081081644, '관리기관이': 1.4054651081081644, '관리를': 1.4054651081081644, '관리사무소가': 1.4054651081081644, '관리하고': 1.4054651081081644, '관리하여왔으나': 1.4054651081081644, '관서': 1.4054651081081644, '관아도회의': 1.4054651081081644, '관아의': 1.4054651081081644, '관어정이라는': 1.4054651081081644, '관찰하며': 1.4054651081081644, '관촌': 1.4054651081081644, '관측이': 1.4054651081081644, '관측하기': 1.4054651081081644, '관통하는': 1.4054651081081644, '관통한': 1.4054651081081644, '관한': 1.4054651081081644, '관해서는': 1.4054651081081644, '광나루나': 1.4054651081081644, '광안천이': 1.4054651081081644, '광주': 1.4054651081081644, '광주군': 1.4054651081081644, '광주군의': 1.4054651081081644, '광주는': 1.4054651081081644, '광주목': 1.4054651081081644, '광주목으로': 1.4054651081081644, '광주목은': 1.4054651081081644, '광주목의': 1.4054651081081644, '광주목이': 1.4054651081081644, '광주부가': 1.4054651081081644, '광주부로': 1.4054651081081644, '광주부사': 1.4054651081081644, '광주부읍지': 1.4054651081081644, '광주부의': 1.4054651081081644, '광주성에서': 1.4054651081081644, '광주성을': 1.4054651081081644, '광주성이라는': 1.4054651081081644, '광주시': 1.4054651081081644, '광주시의': 1.4054651081081644, '광주유수': 1.4054651081081644, '광주의': 1.4054651081081644, '광해군': 1.4054651081081644, '광해군은': 1.4054651081081644, '광해군이': 1.4054651081081644, '괴멸되었다': 1.4054651081081644, '굉장한': 1.4054651081081644, '굉장히': 1.4054651081081644, '교역의': 1.4054651081081644, '교자문을': 1.4054651081081644, '교체되면서': 1.4054651081081644, '교체하였다': 1.4054651081081644, '구간구간': 1.4054651081081644, '구간은': 1.4054651081081644, '구간을': 1.4054651081081644, '구간이': 1.4054651081081644, '구릉성': 1.4054651081081644, '구별되는': 1.4054651081081644, '구분된': 1.4054651081081644, '구분된다': 1.4054651081081644, '구분하는데': 1.4054651081081644, '구성되어': 1.4054651081081644, '구성한': 1.4054651081081644, '구역인': 1.4054651081081644, '구원병들이': 1.4054651081081644, '구원병이': 1.4054651081081644, '구조를': 1.4054651081081644, '구축되어': 1.4054651081081644, '구축하기': 1.4054651081081644, '구축하였다': 1.4054651081081644, '구축한': 1.4054651081081644, '구축했을': 1.4054651081081644, '구하기': 1.4054651081081644, '구한말': 1.4054651081081644, '국가': 1.4054651081081644, '국가사적': 1.4054651081081644, '국가의': 1.4054651081081644, '국경과': 1.4054651081081644, '국내': 1.4054651081081644, '국립공원으로': 1.4054651081081644, '국방정책에': 1.4054651081081644, '국왕이': 1.4054651081081644, '국유지로': 1.4054651081081644, '국유지의': 1.4054651081081644, '국정을': 1.4054651081081644, '국청사는': 1.4054651081081644, '국청사이다': 1.4054651081081644, '국청사정': 1.4054651081081644, '국한시키면': 1.4054651081081644, '국호를': 1.4054651081081644, '군기': 1.4054651081081644, '군기창고로': 1.4054651081081644, '군대': 1.4054651081081644, '군데의': 1.4054651081081644, '군락을': 1.4054651081081644, '군량미': 1.4054651081081644, '군량미의': 1.4054651081081644, '군막사찰이다': 1.4054651081081644, '군부': 1.4054651081081644, '군사': 1.4054651081081644, '군사가': 1.4054651081081644, '군사기지로': 1.4054651081081644, '군사들이': 1.4054651081081644, '군사를': 1.4054651081081644, '군사시설로': 1.4054651081081644, '군사적': 1.4054651081081644, '군사적인': 1.4054651081081644, '군신들의': 1.4054651081081644, '군주가': 1.4054651081081644, '군청이': 1.4054651081081644, '군포가': 1.4054651081081644, '군포는': 1.4054651081081644, '군포도': 1.4054651081081644, '군포지는': 1.4054651081081644, '굳힐': 1.4054651081081644, '궁궐로': 1.4054651081081644, '궁궐이었다': 1.4054651081081644, '궁사와': 1.4054651081081644, '궁터라고': 1.4054651081081644, '권56': 1.4054651081081644, '궤멸되었다': 1.4054651081081644, '귀틀': 1.4054651081081644, '규모가': 1.4054651081081644, '규모는': 1.4054651081081644, '규모로': 1.4054651081081644, '규모를': 1.4054651081081644, '규모였다는': 1.4054651081081644, '규모였으며': 1.4054651081081644, '규모였을': 1.4054651081081644, '규모와': 1.4054651081081644, '규모의': 1.4054651081081644, '규모임을': 1.4054651081081644, '그곳에': 1.4054651081081644, '그다지': 1.4054651081081644, '그러나': 1.4054651081081644, '그루가': 1.4054651081081644, '그리고': 1.4054651081081644, '그아래': 1.4054651081081644, '그의': 1.4054651081081644, '그후': 1.4054651081081644, '근거한': 1.4054651081081644, '근래에': 1.4054651081081644, '근접한': 1.4054651081081644, '근처에': 1.4054651081081644, '근처에는': 1.4054651081081644, '근총안': 1.4054651081081644, '금닭이': 1.4054651081081644, '금솥': 1.4054651081081644, '금자화엄경': 1.4054651081081644, '금지하는': 1.4054651081081644, '급경사로': 1.4054651081081644, '급경사면에': 1.4054651081081644, '급경사지에서는': 1.4054651081081644, '급속히': 1.4054651081081644, '급하고': 1.4054651081081644, '급하여': 1.4054651081081644, '기념물': 1.4054651081081644, '기능에': 1.4054651081081644, '기능을': 1.4054651081081644, '기능하는': 1.4054651081081644, '기능해왔다': 1.4054651081081644, '기단석과': 1.4054651081081644, '기둥높이는': 1.4054651081081644, '기둥을': 1.4054651081081644, '기록': 1.4054651081081644, '기록과': 1.4054651081081644, '기록되고': 1.4054651081081644, '기록되어': 1.4054651081081644, '기록에': 1.4054651081081644, '기록에는': 1.4054651081081644, '기록에도': 1.4054651081081644, '기록은': 1.4054651081081644, '기록을': 1.4054651081081644, '기록의': 1.4054651081081644, '기록이': 1.4054651081081644, '기록이나': 1.4054651081081644, '기록하고': 1.4054651081081644, '기복을': 1.4054651081081644, '기본적으로': 1.4054651081081644, '기본형식이나': 1.4054651081081644, '기사': 1.4054651081081644, '기온은': 1.4054651081081644, '기온이': 1.4054651081081644, '기와는': 1.4054651081081644, '기와로': 1.4054651081081644, '기와를': 1.4054651081081644, '기와의': 1.4054651081081644, '기울게': 1.4054651081081644, '기울어져': 1.4054651081081644, '기울여서': 1.4054651081081644, '기존유구와': 1.4054651081081644, '기존의': 1.4054651081081644, '기타': 1.4054651081081644, '기해': 1.4054651081081644, '길게': 1.4054651081081644, '길목을': 1.4054651081081644, '길은': 1.4054651081081644, '길을': 1.4054651081081644, '길이': 1.4054651081081644, '길이가': 1.4054651081081644, '길이는': 1.4054651081081644, '김각성의': 1.4054651081081644, '김귀성이란': 1.4054651081081644, '김덕심': 1.4054651081081644, '김훈의': 1.4054651081081644, '깊은': 1.4054651081081644, '까지만': 1.4054651081081644, '깔고': 1.4054651081081644, '깔려있다': 1.4054651081081644, '깔아': 1.4054651081081644, '꼴을': 1.4054651081081644, '꾸며져': 1.4054651081081644, '끝에는': 1.4054651081081644, '나가': 1.4054651081081644, '나가고': 1.4054651081081644, '나갈': 1.4054651081081644, '나뉘지만': 1.4054651081081644, '나뉜다': 1.4054651081081644, '나머지': 1.4054651081081644, '나서면': 1.4054651081081644, '나아가': 1.4054651081081644, '나오는': 1.4054651081081644, '나오지만': 1.4054651081081644, '나와': 1.4054651081081644, '나왔다': 1.4054651081081644, '나타나고': 1.4054651081081644, '나타나며': 1.4054651081081644, '나타냈는데': 1.4054651081081644, '낚시를': 1.4054651081081644, '난간을': 1.4054651081081644, '난방연료': 1.4054651081081644, '난을': 1.4054651081081644, '날의': 1.4054651081081644, '날이': 1.4054651081081644, '남격대': 1.4054651081081644, '남격대를': 1.4054651081081644, '남기고': 1.4054651081081644, '남동쪽에': 1.4054651081081644, '남문': 1.4054651081081644, '남문에서': 1.4054651081081644, '남문은': 1.4054651081081644, '남문의': 1.4054651081081644, '남문이': 1.4054651081081644, '남북': 1.4054651081081644, '남사면': 1.4054651081081644, '남산산성의': 1.4054651081081644, '남아': 1.4054651081081644, '남아있는': 1.4054651081081644, '남아있다': 1.4054651081081644, '남아있던': 1.4054651081081644, '남아있지': 1.4054651081081644, '남았다': 1.4054651081081644, '남옹성': 1.4054651081081644, '남옹성을': 1.4054651081081644, '남은': 1.4054651081081644, '남장대': 1.4054651081081644, '남장대가': 1.4054651081081644, '남장대나': 1.4054651081081644, '남장대를': 1.4054651081081644, '남장대와': 1.4054651081081644, '남장대의': 1.4054651081081644, '남짓한': 1.4054651081081644, '남쪽과': 1.4054651081081644, '남쪽에': 1.4054651081081644, '남쪽으로': 1.4054651081081644, '남쪽을': 1.4054651081081644, '남한': 1.4054651081081644, '남한산': 1.4054651081081644, '남한산노동공조회를': 1.4054651081081644, '남한산성': 1.4054651081081644, '남한산성과': 1.4054651081081644, '남한산성도': 1.4054651081081644, '남한산성면': 1.4054651081081644, '남한산성에': 1.4054651081081644, '남한산성에는': 1.4054651081081644, '남한산성에서': 1.4054651081081644, '남한산성으로': 1.4054651081081644, '남한산성으로부터': 1.4054651081081644, '남한산성은': 1.4054651081081644, '남한산성을': 1.0, '남한산성의': 1.4054651081081644, '남한산성이': 1.4054651081081644, '남한산성이라는': 1.4054651081081644, '남한산성이지만': 1.4054651081081644, '남한산에': 1.4054651081081644, '남한산은': 1.4054651081081644, '남한산을': 1.4054651081081644, '남한산의': 1.4054651081081644, '남한지': 1.4054651081081644, '남한행궁은': 1.4054651081081644, '남향으로': 1.4054651081081644, '낮게': 1.4054651081081644, '낮아': 1.4054651081081644, '낮으나': 1.4054651081081644, '낮은': 1.4054651081081644, '내려가는': 1.4054651081081644, '내로': 1.4054651081081644, '내륙을': 1.4054651081081644, '내부': 1.4054651081081644, '내부가': 1.4054651081081644, '내부는': 1.4054651081081644, '내부에': 1.4054651081081644, '내부에는': 1.4054651081081644, '내부의': 1.4054651081081644, '내에': 1.4054651081081644, '내에는': 1.4054651081081644, '내에서': 1.4054651081081644, '내외가': 1.4054651081081644, '내외에': 1.4054651081081644, '내외의': 1.4054651081081644, '내진과': 1.4054651081081644, '널마루를': 1.4054651081081644, '넓어서': 1.4054651081081644, '넓은': 1.4054651081081644, '넓힘과': 1.4054651081081644, '넘는': 1.4054651081081644, '넘어': 1.4054651081081644, '노력에도': 1.4054651081081644, '노력이': 1.4054651081081644, '논거로': 1.4054651081081644, '논은': 1.4054651081081644, '논이': 1.4054651081081644, '논쟁이': 1.4054651081081644, '농성': 1.4054651081081644, '농성에': 1.4054651081081644, '농성전용': 1.4054651081081644, '농업은': 1.4054651081081644, '높고': 1.4054651081081644, '높다': 1.4054651081081644, '높은': 1.4054651081081644, '높이': 1.4054651081081644, '높이가': 1.4054651081081644, '높이기': 1.4054651081081644, '높이는': 1.4054651081081644, '높이만': 1.4054651081081644, '높지': 1.4054651081081644, '놓았던': 1.4054651081081644, '놓인다': 1.4054651081081644, '누각도': 1.4054651081081644, '누각에': 1.4054651081081644, '누각이': 1.4054651081081644, '누각형태다': 1.4054651081081644, '누각형태로': 1.4054651081081644, '누구인가': 1.4054651081081644, '누설되자': 1.4054651081081644, '눈높이': 1.4054651081081644, '느티나무': 1.4054651081081644, '느티나무가': 1.4054651081081644, '늘어나면서': 1.4054651081081644, '능력에': 1.4054651081081644, '능선': 1.4054651081081644, '능선은': 1.4054651081081644, '능선을': 1.4054651081081644, '능선이': 1.4054651081081644, '늦가을에': 1.4054651081081644, '늦게': 1.4054651081081644, '다녀온': 1.4054651081081644, '다듬어진': 1.4054651081081644, '다듬은': 1.4054651081081644, '다량': 1.4054651081081644, '다룬': 1.4054651081081644, '다르게': 1.4054651081081644, '다른': 1.4054651081081644, '다만': 1.4054651081081644, '다섯': 1.4054651081081644, '다수': 1.4054651081081644, '다수의': 1.4054651081081644, '다시': 1.4054651081081644, '다양한': 1.4054651081081644, '다음': 1.4054651081081644, '다포양식의': 1.4054651081081644, '다하여': 1.4054651081081644, '다해야': 1.4054651081081644, '단계에서': 1.4054651081081644, '단단한': 1.4054651081081644, '단대리': 1.4054651081081644, '단상에': 1.4054651081081644, '단위로': 1.4054651081081644, '단정지을': 1.4054651081081644, '단조로운': 1.4054651081081644, '단청으로': 1.4054651081081644, '단층': 1.4054651081081644, '단층누각이': 1.4054651081081644, '닫을수': 1.4054651081081644, '닫힌': 1.4054651081081644, '달라붙은': 1.4054651081081644, '달리': 1.4054651081081644, '달아': 1.4054651081081644, '달았다': 1.4054651081081644, '달하는': 1.4054651081081644, '달해': 1.4054651081081644, '담당하게': 1.4054651081081644, '담당하며': 1.4054651081081644, '담당하여': 1.4054651081081644, '담으로': 1.4054651081081644, '담장안에': 1.4054651081081644, '담장으로': 1.4054651081081644, '담장이': 1.4054651081081644, '당과': 1.4054651081081644, '당나라의': 1.4054651081081644, '당도하기': 1.4054651081081644, '당도해': 1.4054651081081644, '당시': 1.4054651081081644, '당시에': 1.4054651081081644, '당시의': 1.4054651081081644, '당시인': 1.4054651081081644, '당집이다': 1.4054651081081644, '당했으나': 1.4054651081081644, '대규모': 1.4054651081081644, '대대적인': 1.4054651081081644, '대동미는': 1.4054651081081644, '대동야승': 1.4054651081081644, '대동지지': 1.4054651081081644, '대략': 1.4054651081081644, '대만': 1.4054651081081644, '대면시켰다': 1.4054651081081644, '대방': 1.4054651081081644, '대봉': 1.4054651081081644, '대부분': 1.4054651081081644, '대부분의': 1.4054651081081644, '대부분이다': 1.4054651081081644, '대비하고': 1.4054651081081644, '대비하기': 1.4054651081081644, '대상도': 1.4054651081081644, '대세는': 1.4054651081081644, '대에': 1.4054651081081644, '대에는': 1.4054651081081644, '대외정책에': 1.4054651081081644, '대웅보전': 1.4054651081081644, '대웅전을': 1.4054651081081644, '대웅전이': 1.4054651081081644, '대지': 1.4054651081081644, '대체로': 1.4054651081081644, '대체하면서': 1.4054651081081644, '대치하던': 1.4054651081081644, '대통령에': 1.4054651081081644, '대통령이': 1.4054651081081644, '대표하는': 1.4054651081081644, '대한': 1.4054651081081644, '대한민국': 1.4054651081081644, '대한불교조계종': 1.4054651081081644, '대항하려는': 1.4054651081081644, '대항한': 1.4054651081081644, '대해': 1.4054651081081644, '대해서': 1.4054651081081644, '대형': 1.4054651081081644, '더욱이': 1.4054651081081644, '덮고': 1.4054651081081644, '데리고': 1.4054651081081644, '도로는': 1.4054651081081644, '도립공원으로': 1.4054651081081644, '도면이': 1.4054651081081644, '도성으로': 1.4054651081081644, '도성을': 1.4054651081081644, '도움을': 1.4054651081081644, '도읍을': 1.4054651081081644, '도읍이라고': 1.4054651081081644, '도중에': 1.4054651081081644, '도착했을때': 1.4054651081081644, '독전하였다': 1.4054651081081644, '돈대': 1.4054651081081644, '돈대가': 1.4054651081081644, '돌들이': 1.4054651081081644, '돌아가면서': 1.4054651081081644, '돌을': 1.4054651081081644, '돌이다': 1.4054651081081644, '돌출된': 1.4054651081081644, '동남쪽': 1.4054651081081644, '동남쪽에서': 1.4054651081081644, '동남쪽으로': 1.4054651081081644, '동돈대는': 1.4054651081081644, '동돈대에서': 1.4054651081081644, '동림사가': 1.4054651081081644, '동림사는': 1.4054651081081644, '동면과': 1.4054651081081644, '동명의': 1.4054651081081644, '동문': 1.4054651081081644, '동문보다': 1.4054651081081644, '동문에는': 1.4054651081081644, '동문은': 1.4054651081081644, '동문의': 1.4054651081081644, '동문이': 1.4054651081081644, '동문처럼': 1.4054651081081644, '동부면': 1.4054651081081644, '동북쪽은': 1.4054651081081644, '동서': 1.4054651081081644, '동성': 1.4054651081081644, '동시에': 1.4054651081081644, '동원되었다': 1.4054651081081644, '동원하여': 1.4054651081081644, '동장대': 1.4054651081081644, '동장대가': 1.4054651081081644, '동장대나': 1.4054651081081644, '동장대는': 1.4054651081081644, '동장대의': 1.4054651081081644, '동장대지와': 1.4054651081081644, '동쪽': 1.4054651081081644, '동쪽과': 1.4054651081081644, '동쪽에': 1.4054651081081644, '동쪽에는': 1.4054651081081644, '동쪽으로': 1.4054651081081644, '동쪽이': 1.4054651081081644, '되고': 1.4054651081081644, '되는데': 1.4054651081081644, '되므로': 1.4054651081081644, '되어': 1.4054651081081644, '되어왔고': 1.4054651081081644, '되어있고': 1.4054651081081644, '되어있다': 1.4054651081081644, '되었고': 1.4054651081081644, '되었다': 1.4054651081081644, '되었으며': 1.4054651081081644, '된다': 1.4054651081081644, '두각을': 1.4054651081081644, '두고': 1.4054651081081644, '두꺼운': 1.4054651081081644, '두께': 1.4054651081081644, '두께는': 1.4054651081081644, '두른': 1.4054651081081644, '두어': 1.4054651081081644, '둔전을': 1.4054651081081644, '둔전의': 1.4054651081081644, '둔지나루터에': 1.4054651081081644, '둘러싸인': 1.4054651081081644, '둘러싼': 1.4054651081081644, '둘러져': 1.4054651081081644, '둘렀다': 1.4054651081081644, '둘레': 1.4054651081081644, '둘레가': 1.4054651081081644, '둘레는': 1.4054651081081644, '둘레도': 1.4054651081081644, '둘린': 1.4054651081081644, '둥글게': 1.4054651081081644, '뒤로': 1.4054651081081644, '뒤로는': 1.4054651081081644, '뒷받침하고': 1.4054651081081644, '뒷편에': 1.4054651081081644, '드나들기는': 1.4054651081081644, '드리던': 1.4054651081081644, '들어': 1.4054651081081644, '들어간': 1.4054651081081644, '들어와': 1.4054651081081644, '들이': 1.4054651081081644, '등과': 1.4054651081081644, '등만': 1.4054651081081644, '등산': 1.4054651081081644, '등에서': 1.4054651081081644, '등으로': 1.4054651081081644, '등은': 1.4054651081081644, '등을': 1.4054651081081644, '등의': 1.4054651081081644, '등이': 1.4054651081081644, '등장한다': 1.4054651081081644, '등장했다': 1.4054651081081644, '등재되면서': 1.4054651081081644, '등지의': 1.4054651081081644, '등짐으로': 1.4054651081081644, '따라': 1.4054651081081644, '따라서': 1.4054651081081644, '따르면': 1.4054651081081644, '따른': 1.4054651081081644, '때까지': 1.4054651081081644, '때는': 1.4054651081081644, '때문에': 1.4054651081081644, '때문이다': 1.4054651081081644, '때문인': 1.4054651081081644, '때부터': 1.4054651081081644, '때에': 1.4054651081081644, '때에도': 1.4054651081081644, '또는': 1.4054651081081644, '또다른': 1.4054651081081644, '또한': 1.4054651081081644, '뜻으로': 1.4054651081081644, '뜻인데': 1.4054651081081644, '라는': 1.4054651081081644, '류성룡이': 1.4054651081081644, '마련되어': 1.4054651081081644, '마루가': 1.4054651081081644, '마르지': 1.4054651081081644, '마차나': 1.4054651081081644, '마찬가지였으며': 1.4054651081081644, '마치고': 1.4054651081081644, '막는': 1.4054651081081644, '막돌쌓기를': 1.4054651081081644, '막론하고': 1.4054651081081644, '막아': 1.4054651081081644, '막힌줄눈': 1.4054651081081644, '만나는': 1.4054651081081644, '만든': 1.4054651081081644, '만들어졌지만': 1.4054651081081644, '만력': 1.4054651081081644, '만세운동을': 1.4054651081081644, '만에': 1.4054651081081644, '만이': 1.4054651081081644, '만큼': 1.4054651081081644, '많다': 1.4054651081081644, '많아서': 1.4054651081081644, '많았다': 1.4054651081081644, '많았던': 1.4054651081081644, '많은': 1.4054651081081644, '많이': 1.4054651081081644, '말사이다': 1.4054651081081644, '말한다': 1.4054651081081644, '맑은': 1.4054651081081644, '망월봉': 1.4054651081081644, '망월봉에서': 1.4054651081081644, '망월사': 1.4054651081081644, '망월사는': 1.4054651081081644, '망월사와': 1.4054651081081644, '망월사지': 1.4054651081081644, '망월암에서': 1.4054651081081644, '맞게': 1.4054651081081644, '맡았다': 1.4054651081081644, '맡은': 1.4054651081081644, '매년': 1.4054651081081644, '매몰되고': 1.4054651081081644, '매몰된': 1.4054651081081644, '매우': 1.4054651081081644, '매월': 1.4054651081081644, '매의': 1.4054651081081644, '맷돌이': 1.4054651081081644, '머리를': 1.4054651081081644, '머물며': 1.4054651081081644, '먼저': 1.4054651081081644, '면석을': 1.4054651081081644, '면적을': 1.4054651081081644, '면적의': 1.4054651081081644, '면적이': 1.4054651081081644, '명나라가': 1.4054651081081644, '명성황후': 1.4054651081081644, '명에': 1.4054651081081644, '명을': 1.4054651081081644, '명의': 1.4054651081081644, '명이': 1.4054651081081644, '모두': 1.4054651081081644, '모로단청을': 1.4054651081081644, '모른다는': 1.4054651081081644, '모셔온': 1.4054651081081644, '모습으로': 1.4054651081081644, '모습을': 1.4054651081081644, '모신': 1.4054651081081644, '모양으로': 1.4054651081081644, '모조초석을': 1.4054651081081644, '모집은': 1.4054651081081644, '모집해게': 1.4054651081081644, '모함으로': 1.4054651081081644, '모함임이': 1.4054651081081644, '목부에는': 1.4054651081081644, '목수와': 1.4054651081081644, '목은': 1.4054651081081644, '목재': 1.4054651081081644, '목적으로': 1.4054651081081644, '목조가구로': 1.4054651081081644, '몸소': 1.4054651081081644, '몸을': 1.4054651081081644, '몸체는': 1.4054651081081644, '못하고': 1.4054651081081644, '못하자': 1.4054651081081644, '못한': 1.4054651081081644, '못했다': 1.4054651081081644, '몽고군이': 1.4054651081081644, '몽골군을': 1.4054651081081644, '몽골의': 1.4054651081081644, '몽촌토성': 1.4054651081081644, '묘지명에': 1.4054651081081644, '묘지명에는': 1.4054651081081644, '무게가': 1.4054651081081644, '무게이다': 1.4054651081081644, '무관하지': 1.4054651081081644, '무기고와': 1.4054651081081644, '무기를': 1.4054651081081644, '무기와': 1.4054651081081644, '무기의': 1.4054651081081644, '무기창고라는': 1.4054651081081644, '무너뜨려서': 1.4054651081081644, '무너뜨리는': 1.4054651081081644, '무너지지': 1.4054651081081644, '무너진': 1.4054651081081644, '무대나': 1.4054651081081644, '무렵': 1.4054651081081644, '무리한': 1.4054651081081644, '무술을': 1.4054651081081644, '무익공': 1.4054651081081644, '무인각석': 1.4054651081081644, '무효화시켰다': 1.4054651081081644, '문간채와': 1.4054651081081644, '문들처럼': 1.4054651081081644, '문루는': 1.4054651081081644, '문루를': 1.4054651081081644, '문루와': 1.4054651081081644, '문무왕': 1.4054651081081644, '문으로': 1.4054651081081644, '문을': 1.4054651081081644, '문의': 1.4054651081081644, '문이': 1.4054651081081644, '문이다': 1.4054651081081644, '문이며': 1.4054651081081644, '문헌에': 1.4054651081081644, '문화재': 1.4054651081081644, '문화재로': 1.4054651081081644, '문화재자료': 1.4054651081081644, '물러나고': 1.4054651081081644, '물론': 1.4054651081081644, '물리쳤다는': 1.4054651081081644, '물이': 1.4054651081081644, '물자를': 1.4054651081081644, '물자의': 1.4054651081081644, '뮤지컬': 1.4054651081081644, '미루어': 1.4054651081081644, '미복원구간': 1.4054651081081644, '미상1238년': 1.4054651081081644, '미약하고': 1.4054651081081644, '미터': 1.4054651081081644, '민가를': 1.4054651081081644, '민간의': 1.4054651081081644, '민둥산에': 1.4054651081081644, '민유지': 1.4054651081081644, '민진후의': 1.4054651081081644, '밀고': 1.4054651081081644, '밀고했다': 1.4054651081081644, '밑에': 1.4054651081081644, '밑의': 1.4054651081081644, '바깥으로': 1.4054651081081644, '바깥쪽': 1.4054651081081644, '바꾸게': 1.4054651081081644, '바꾸었다': 1.4054651081081644, '바뀌게': 1.4054651081081644, '바닥과': 1.4054651081081644, '바닥에는': 1.4054651081081644, '바라보며': 1.4054651081081644, '바로': 1.4054651081081644, '바르고': 1.4054651081081644, '바른층쌍기를': 1.4054651081081644, '바오로': 1.4054651081081644, '박기수가': 1.4054651081081644, '박물관에': 1.4054651081081644, '박씨전과': 1.4054651081081644, '박해': 1.4054651081081644, '밖에는': 1.4054651081081644, '밖으로': 1.4054651081081644, '밖의': 1.4054651081081644, '반계수록': 1.4054651081081644, '반드시': 1.4054651081081644, '반박하였으나': 1.4054651081081644, '반자는': 1.4054651081081644, '반칸': 1.4054651081081644, '받아': 1.4054651081081644, '받아들여': 1.4054651081081644, '받았다': 1.4054651081081644, '받지': 1.4054651081081644, '발견되었다': 1.4054651081081644, '발견되지': 1.4054651081081644, '발견된': 1.4054651081081644, '발견할': 1.4054651081081644, '발굴된': 1.4054651081081644, '발굴시의': 1.4054651081081644, '발굴조사': 1.4054651081081644, '발굴조사가': 1.4054651081081644, '발달하고': 1.4054651081081644, '발발한': 1.4054651081081644, '밝혀져': 1.4054651081081644, '밤나무': 1.4054651081081644, '방문하는': 1.4054651081081644, '방어': 1.4054651081081644, '방어는': 1.4054651081081644, '방어력을': 1.4054651081081644, '방어를': 1.4054651081081644, '방어선을': 1.4054651081081644, '방어에': 1.4054651081081644, '방어체제를': 1.4054651081081644, '방어취락으로': 1.4054651081081644, '방어하고': 1.4054651081081644, '방이동과': 1.4054651081081644, '방지': 1.4054651081081644, '방지하기': 1.4054651081081644, '방충을': 1.4054651081081644, '방향으로': 1.4054651081081644, '방향은': 1.4054651081081644, '밭농사': 1.4054651081081644, '밭으로': 1.4054651081081644, '배경에는': 1.4054651081081644, '배경으로': 1.4054651081081644, '배속된': 1.4054651081081644, '배치되어': 1.4054651081081644, '배치로': 1.4054651081081644, '배치를': 1.4054651081081644, '배향하였다': 1.4054651081081644, '백성들이': 1.4054651081081644, '백제': 1.4054651081081644, '백제의': 1.4054651081081644, '버려져': 1.4054651081081644, '버틸': 1.4054651081081644, '번째': 1.4054651081081644, '벌목을': 1.4054651081081644, '벌봉': 1.4054651081081644, '벌어져': 1.4054651081081644, '벌어졌지만': 1.4054651081081644, '법당': 1.4054651081081644, '법령이': 1.4054651081081644, '벽과': 1.4054651081081644, '벽돌로': 1.4054651081081644, '벽암': 1.4054651081081644, '벽체': 1.4054651081081644, '벽체는': 1.4054651081081644, '벽촌으로': 1.4054651081081644, '변경되었다': 1.4054651081081644, '변경으로': 1.4054651081081644, '변경이': 1.4054651081081644, '변주에': 1.4054651081081644, '변하게': 1.4054651081081644, '변화가': 1.4054651081081644, '변화는': 1.4054651081081644, '별로': 1.4054651081081644, '병기고와': 1.4054651081081644, '병력': 1.4054651081081644, '병신': 1.4054651081081644, '병인': 1.4054651081081644, '병자호란': 1.4054651081081644, '병자호란으로': 1.4054651081081644, '병자호란을': 1.4054651081081644, '병자호란의': 1.4054651081081644, '병졸은': 1.4054651081081644, '병풍': 1.4054651081081644, '보강했다': 1.4054651081081644, '보고에': 1.4054651081081644, '보고에는': 1.4054651081081644, '보고했다': 1.4054651081081644, '보관': 1.4054651081081644, '보관하고': 1.4054651081081644, '보관하는': 1.4054651081081644, '보기': 1.4054651081081644, '보내고': 1.4054651081081644, '보내지': 1.4054651081081644, '보더라도': 1.4054651081081644, '보면': 1.4054651081081644, '보수': 1.4054651081081644, '보수작업이': 1.4054651081081644, '보수하고': 1.4054651081081644, '보아': 1.4054651081081644, '보여주고': 1.4054651081081644, '보운': 1.4054651081081644, '보유한': 1.4054651081081644, '보이는': 1.4054651081081644, '보이던': 1.4054651081081644, '보이자': 1.4054651081081644, '보이지': 1.4054651081081644, '보인다': 1.4054651081081644, '보조무기로': 1.4054651081081644, '보존되어': 1.4054651081081644, '보존하기': 1.4054651081081644, '보지': 1.4054651081081644, '보충되었다': 1.4054651081081644, '보통': 1.4054651081081644, '보통의': 1.4054651081081644, '보호수로': 1.4054651081081644, '보호하기': 1.4054651081081644, '복원된': 1.4054651081081644, '복원사업이': 1.4054651081081644, '복원을': 1.4054651081081644, '복원하기': 1.4054651081081644, '복원하는': 1.4054651081081644, '복원하지': 1.4054651081081644, '복원한': 1.4054651081081644, '복원했다': 1.4054651081081644, '복합체로': 1.4054651081081644, '본격적으로': 1.4054651081081644, '본격화되었다': 1.4054651081081644, '본래': 1.4054651081081644, '본류와': 1.4054651081081644, '본성': 1.4054651081081644, '본성과': 1.4054651081081644, '본성이': 1.4054651081081644, '본성이며': 1.4054651081081644, '본연의': 1.4054651081081644, '봄과': 1.4054651081081644, '봄이': 1.4054651081081644, '봉기한': 1.4054651081081644, '봉림대군': 1.4054651081081644, '봉안되었다': 1.4054651081081644, '봉안하고': 1.4054651081081644, '봉안한': 1.4054651081081644, '봉암': 1.4054651081081644, '봉암성': 1.4054651081081644, '봉암성과': 1.4054651081081644, '봉암성에': 1.4054651081081644, '봉암성은': 1.4054651081081644, '봉암성을': 1.4054651081081644, '봉암성의': 1.4054651081081644, '봉암외성': 1.4054651081081644, '봉암을': 1.4054651081081644, '봉우리를': 1.4054651081081644, '봉화대': 1.4054651081081644, '부근에': 1.4054651081081644, '부담없이': 1.4054651081081644, '부분': 1.4054651081081644, '부분으로': 1.4054651081081644, '부분이': 1.4054651081081644, '부상했다': 1.4054651081081644, '부윤': 1.4054651081081644, '부인': 1.4054651081081644, '부재를': 1.4054651081081644, '부족으로': 1.4054651081081644, '부지가': 1.4054651081081644, '부지등의': 1.4054651081081644, '부터': 1.4054651081081644, '북동남서': 1.4054651081081644, '북동쪽에': 1.4054651081081644, '북동쪽으로': 1.4054651081081644, '북문': 1.4054651081081644, '북문에': 1.4054651081081644, '북문에서': 1.4054651081081644, '북문은': 1.4054651081081644, '북문을': 1.4054651081081644, '북부': 1.4054651081081644, '북사면에': 1.4054651081081644, '북사면의': 1.4054651081081644, '북서쪽': 1.4054651081081644, '북서쪽에': 1.4054651081081644, '북으로': 1.4054651081081644, '북장대나': 1.4054651081081644, '북장대는': 1.4054651081081644, '북장대와': 1.4054651081081644, '북쪽': 1.4054651081081644, '북쪽에': 1.4054651081081644, '북쪽으로': 1.4054651081081644, '북쪽의': 1.4054651081081644, '분류되었다': 1.4054651081081644, '분의': 1.4054651081081644, '분지': 1.4054651081081644, '분지를': 1.4054651081081644, '분포한다': 1.4054651081081644, '분포한다고': 1.4054651081081644, '불가능하다': 1.4054651081081644, '불가능하였으므로': 1.4054651081081644, '불과하였다': 1.4054651081081644, '불구하고': 1.4054651081081644, '불렀지만': 1.4054651081081644, '불렸다': 1.4054651081081644, '불리게': 1.4054651081081644, '불리는': 1.4054651081081644, '불리다가': 1.4054651081081644, '불리며': 1.4054651081081644, '불린다': 1.4054651081081644, '불상과': 1.4054651081081644, '불암산과': 1.4054651081081644, '불태워서': 1.4054651081081644, '붕괴되어': 1.4054651081081644, '붕괴되었다': 1.4054651081081644, '붕괴된': 1.4054651081081644, '붙여': 1.4054651081081644, '붙여졌다': 1.4054651081081644, '붙여진': 1.4054651081081644, '비교적': 1.4054651081081644, '비교하여': 1.4054651081081644, '비교했을': 1.4054651081081644, '비록': 1.4054651081081644, '비롯하여': 1.4054651081081644, '비롯한': 1.4054651081081644, '비롯해': 1.4054651081081644, '비밀리에': 1.4054651081081644, '비밀이': 1.4054651081081644, '비상시에': 1.4054651081081644, '비슷하다': 1.4054651081081644, '비추어': 1.4054651081081644, '비축되어': 1.4054651081081644, '비축하고': 1.4054651081081644, '비축하였다': 1.4054651081081644, '비축하였던': 1.4054651081081644, '비축했다': 1.4054651081081644, '비하면': 1.4054651081081644, '비해': 1.4054651081081644, '빈번해지자': 1.4054651081081644, '빠져나간다': 1.4054651081081644, '빠지자': 1.4054651081081644, '뻗어나간': 1.4054651081081644, '뻗어서': 1.4054651081081644, '뻗은': 1.4054651081081644, '사건': 1.4054651081081644, '사당구역으로': 1.4054651081081644, '사당이다': 1.4054651081081644, '사람들이': 1.4054651081081644, '사람이': 1.4054651081081644, '사리를': 1.4054651081081644, '사리탑은': 1.4054651081081644, '사시사철': 1.4054651081081644, '사신이': 1.4054651081081644, '사실을': 1.4054651081081644, '사액을': 1.4054651081081644, '사용되다가': 1.4054651081081644, '사용되었다': 1.4054651081081644, '사용되었던': 1.4054651081081644, '사용된': 1.4054651081081644, '사용빈도가': 1.4054651081081644, '사용하는': 1.4054651081081644, '사용한': 1.4054651081081644, '사용했던': 1.4054651081081644, '사유지의': 1.4054651081081644, '사이': 1.4054651081081644, '사이에': 1.4054651081081644, '사이에는': 1.4054651081081644, '사재를': 1.4054651081081644, '사적': 1.4054651081081644, '사죄를': 1.4054651081081644, '사직': 1.4054651081081644, '사찰': 1.4054651081081644, '사찰과는': 1.4054651081081644, '사찰로': 1.4054651081081644, '사찰만이': 1.4054651081081644, '사찰에': 1.4054651081081644, '사찰에는': 1.4054651081081644, '사찰에서': 1.4054651081081644, '사찰은': 1.4054651081081644, '사찰을': 1.4054651081081644, '사찰이': 1.4054651081081644, '사찰이다': 1.4054651081081644, '사찰이다망월봉': 1.4054651081081644, '사창리를': 1.4054651081081644, '사회주의': 1.4054651081081644, '사회주의공산주의': 1.4054651081081644, '산간': 1.4054651081081644, '산록': 1.4054651081081644, '산록에는': 1.4054651081081644, '산림식생에': 1.4054651081081644, '산사태': 1.4054651081081644, '산사태가': 1.4054651081081644, '산성': 1.4054651081081644, '산성과는': 1.4054651081081644, '산성내에': 1.4054651081081644, '산성내의': 1.4054651081081644, '산성동은': 1.4054651081081644, '산성리는': 1.4054651081081644, '산성리에': 1.4054651081081644, '산성리에서': 1.4054651081081644, '산성리의': 1.4054651081081644, '산성마을의': 1.4054651081081644, '산성안에': 1.4054651081081644, '산성에': 1.4054651081081644, '산성으로': 1.4054651081081644, '산성은': 1.4054651081081644, '산성을': 1.4054651081081644, '산성의': 1.4054651081081644, '산성이': 1.4054651081081644, '산성이다': 1.4054651081081644, '산성일기는': 1.4054651081081644, '산성일기와': 1.4054651081081644, '산성천이': 1.4054651081081644, '산성천이라': 1.4054651081081644, '산세와': 1.4054651081081644, '산아래': 1.4054651081081644, '산으로': 1.4054651081081644, '산정을': 1.4054651081081644, '산정의': 1.4054651081081644, '산책': 1.4054651081081644, '살기': 1.4054651081081644, '살았음을': 1.4054651081081644, '살피니': 1.4054651081081644, '삼국': 1.4054651081081644, '삼국사기': 1.4054651081081644, '삼국을': 1.4054651081081644, '삼국통일과': 1.4054651081081644, '삼궤구고두는': 1.4054651081081644, '삼궤구고두의': 1.4054651081081644, '삼을': 1.4054651081081644, '삼전도로': 1.4054651081081644, '삼전도에서': 1.4054651081081644, '상궐이': 1.4054651081081644, '상당부분': 1.4054651081081644, '상당한': 1.4054651081081644, '상당히': 1.4054651081081644, '상부는': 1.4054651081081644, '상사창동으로': 1.4054651081081644, '상세하게': 1.4054651081081644, '상실하고': 1.4054651081081644, '상은': 1.4054651081081644, '상징적인': 1.4054651081081644, '상태다': 1.4054651081081644, '상황에서': 1.4054651081081644, '상회하였는데': 1.4054651081081644, '새긴': 1.4054651081081644, '새로': 1.4054651081081644, '새롭게': 1.4054651081081644, '샘물이': 1.4054651081081644, '샘이': 1.4054651081081644, '샛길이': 1.4054651081081644, '생각된다': 1.4054651081081644, '생각해': 1.4054651081081644, '생육환경개선': 1.4054651081081644, '서고동저의': 1.4054651081081644, '서남쪽에': 1.4054651081081644, '서돈대는': 1.4054651081081644, '서돈대와': 1.4054651081081644, '서문': 1.4054651081081644, '서문은': 1.4054651081081644, '서문의': 1.4054651081081644, '서북성을': 1.4054651081081644, '서북쪽': 1.4054651081081644, '서북쪽은': 1.4054651081081644, '서애': 1.4054651081081644, '서어나무가': 1.4054651081081644, '서울로': 1.4054651081081644, '서울특별시': 1.4054651081081644, '서인이': 1.4054651081081644, '서장대는': 1.4054651081081644, '서장대다': 1.4054651081081644, '서장대를': 1.4054651081081644, '서장대와': 1.4054651081081644, '서장대의': 1.4054651081081644, '서쪽': 1.4054651081081644, '서쪽에': 1.4054651081081644, '서쪽으로': 1.4054651081081644, '서쪽은': 1.4054651081081644, '서쪽의': 1.4054651081081644, '서쪽이': 1.4054651081081644, '서책의': 1.4054651081081644, '석과': 1.4054651081081644, '석성으로': 1.4054651081081644, '석에': 1.4054651081081644, '석이': 1.4054651081081644, '석장': 1.4054651081081644, '석재로': 1.4054651081081644, '석탑이다': 1.4054651081081644, '석혜환': 1.4054651081081644, '선뜻': 1.4054651081081644, '선발대가': 1.4054651081081644, '선조': 1.4054651081081644, '선조대의': 1.4054651081081644, '선택을': 1.4054651081081644, '설도': 1.4054651081081644, '설립되었으며': 1.4054651081081644, '설은': 1.4054651081081644, '설을': 1.4054651081081644, '설치되어': 1.4054651081081644, '설치되었고': 1.4054651081081644, '설치되었다': 1.4054651081081644, '설치되었으며': 1.4054651081081644, '설치되었을': 1.4054651081081644, '설치된': 1.4054651081081644, '설치될': 1.4054651081081644, '설치하여': 1.4054651081081644, '설치하였다': 1.4054651081081644, '설치한': 1.4054651081081644, '설치한다': 1.4054651081081644, '설치했는데': 1.4054651081081644, '성격이': 1.4054651081081644, '성과는': 1.4054651081081644, '성곽': 1.4054651081081644, '성곽사면': 1.4054651081081644, '성곽에': 1.4054651081081644, '성곽에서': 1.4054651081081644, '성곽으로': 1.4054651081081644, '성곽은': 1.4054651081081644, '성곽을': 1.4054651081081644, '성곽의': 1.4054651081081644, '성곽이': 1.4054651081081644, '성남시': 1.4054651081081644, '성남시에서': 1.4054651081081644, '성남시와': 1.4054651081081644, '성내': 1.4054651081081644, '성내동에': 1.4054651081081644, '성내동으로': 1.4054651081081644, '성내동은': 1.4054651081081644, '성내동의': 1.4054651081081644, '성내로': 1.4054651081081644, '성내를': 1.4054651081081644, '성내에는': 1.4054651081081644, '성내에서': 1.4054651081081644, '성내의': 1.4054651081081644, '성내장이': 1.4054651081081644, '성돌은': 1.4054651081081644, '성루가': 1.4054651081081644, '성문': 1.4054651081081644, '성문보다': 1.4054651081081644, '성문으로': 1.4054651081081644, '성문은': 1.4054651081081644, '성문을': 1.4054651081081644, '성문이다': 1.4054651081081644, '성문이라고': 1.4054651081081644, '성벽': 1.4054651081081644, '성벽과': 1.4054651081081644, '성벽에': 1.4054651081081644, '성벽에서': 1.4054651081081644, '성벽은': 1.4054651081081644, '성벽을': 1.4054651081081644, '성벽의': 1.4054651081081644, '성벽이': 1.4054651081081644, '성분': 1.4054651081081644, '성삼문': 1.4054651081081644, '성안에는': 1.4054651081081644, '성안의': 1.4054651081081644, '성에서': 1.4054651081081644, '성위에': 1.4054651081081644, '성으로': 1.4054651081081644, '성을': 1.4054651081081644, '성의': 1.4054651081081644, '성이다': 1.4054651081081644, '성이란': 1.4054651081081644, '성종': 1.4054651081081644, '성지순례': 1.4054651081081644, '성촌의': 1.4054651081081644, '세개의': 1.4054651081081644, '세계문화유산에': 1.4054651081081644, '세계유산목록에': 1.4054651081081644, '세곡을': 1.4054651081081644, '세로': 1.4054651081081644, '세우고': 1.4054651081081644, '세운': 1.4054651081081644, '세워져': 1.4054651081081644, '세웠지만': 1.4054651081081644, '세자': 1.4054651081081644, '세종': 1.4054651081081644, '세종실록지리지': 1.4054651081081644, '세종실록지리지에': 1.4054651081081644, '소금': 1.4054651081081644, '소나무를': 1.4054651081081644, '소복을': 1.4054651081081644, '소설가': 1.4054651081081644, '소설을': 1.4054651081081644, '소속된': 1.4054651081081644, '소실되어': 1.4054651081081644, '소실되었고': 1.4054651081081644, '소재하는': 1.4054651081081644, '소하천이': 1.4054651081081644, '속에는': 1.4054651081081644, '속해서': 1.4054651081081644, '솟아났다': 1.4054651081081644, '송시열': 1.4054651081081644, '송치할': 1.4054651081081644, '송파구에': 1.4054651081081644, '송파나루에서': 1.4054651081081644, '쇠창살을': 1.4054651081081644, '쇠퇴하였다': 1.4054651081081644, '수가': 1.4054651081081644, '수구': 1.4054651081081644, '수구문': 1.4054651081081644, '수구문의': 1.4054651081081644, '수는': 1.4054651081081644, '수도': 1.4054651081081644, '수도로': 1.4054651081081644, '수도로서의': 1.4054651081081644, '수도외곽의': 1.4054651081081644, '수도인': 1.4054651081081644, '수레나': 1.4054651081081644, '수리는': 1.4054651081081644, '수리상의': 1.4054651081081644, '수리했다고': 1.4054651081081644, '수립된': 1.4054651081081644, '수목에': 1.4054651081081644, '수문을': 1.4054651081081644, '수밖에': 1.4054651081081644, '수비를': 1.4054651081081644, '수비에는': 1.4054651081081644, '수상으로부터': 1.4054651081081644, '수성의': 1.4054651081081644, '수송': 1.4054651081081644, '수송은': 1.4054651081081644, '수송하던': 1.4054651081081644, '수습과': 1.4054651081081644, '수어사': 1.4054651081081644, '수어장대': 1.4054651081081644, '수어장대는': 1.4054651081081644, '수어장대라': 1.4054651081081644, '수어장대를': 1.4054651081081644, '수어장대와': 1.4054651081081644, '수어장대의': 1.4054651081081644, '수어청군병을': 1.4054651081081644, '수어청도': 1.4054651081081644, '수어청에': 1.4054651081081644, '수어청을': 1.4054651081081644, '수어청의': 1.4054651081081644, '수어청이': 1.4054651081081644, '수요로': 1.4054651081081644, '수운으로': 1.4054651081081644, '수원': 1.4054651081081644, '수원시의': 1.4054651081081644, '수원이': 1.4054651081081644, '수의': 1.4054651081081644, '수진리': 1.4054651081081644, '수축': 1.4054651081081644, '수축과': 1.4054651081081644, '수축된': 1.4054651081081644, '수축시에': 1.4054651081081644, '수축이': 1.4054651081081644, '수축작업이': 1.4054651081081644, '수축하고': 1.4054651081081644, '수축하며': 1.4054651081081644, '수축하였으나': 1.4054651081081644, '수축하지': 1.4054651081081644, '수축할': 1.4054651081081644, '수치로서': 1.4054651081081644, '수치이며': 1.4054651081081644, '수평되게': 1.4054651081081644, '수필': 1.4054651081081644, '수행하기도': 1.4054651081081644, '수행하는': 1.4054651081081644, '수행하였다': 1.4054651081081644, '수혈과': 1.4054651081081644, '숙식과': 1.4054651081081644, '숙종': 1.4054651081081644, '순교자': 1.4054651081081644, '순서로': 1.4054651081081644, '순환도로': 1.4054651081081644, '숨겨': 1.4054651081081644, '숫키와는': 1.4054651081081644, '숭렬전': 1.4054651081081644, '숭렬전으로': 1.4054651081081644, '숭정': 1.4054651081081644, '쉽게': 1.4054651081081644, '쉽다는': 1.4054651081081644, '스님': 1.4054651081081644, '승군': 1.4054651081081644, '승군들이': 1.4054651081081644, '승군은': 1.4054651081081644, '승군을': 1.4054651081081644, '승군의': 1.4054651081081644, '승려가': 1.4054651081081644, '승려들은': 1.4054651081081644, '승리한다는': 1.4054651081081644, '승병들의': 1.4054651081081644, '승병을': 1.4054651081081644, '승병의': 1.4054651081081644, '시구문': 1.4054651081081644, '시기가': 1.4054651081081644, '시기는': 1.4054651081081644, '시기였고': 1.4054651081081644, '시기이기': 1.4054651081081644, '시기이며': 1.4054651081081644, '시대': 1.4054651081081644, '시대까지': 1.4054651081081644, '시대까지만': 1.4054651081081644, '시대로': 1.4054651081081644, '시대에': 1.4054651081081644, '시대에는': 1.4054651081081644, '시대에도': 1.4054651081081644, '시대와': 1.4054651081081644, '시대의': 1.4054651081081644, '시대이다': 1.4054651081081644, '시문하여': 1.4054651081081644, '시문하였고': 1.4054651081081644, '시민들에게': 1.4054651081081644, '시민들의': 1.4054651081081644, '시민들이': 1.4054651081081644, '시설물과': 1.4054651081081644, '시설물을': 1.4054651081081644, '시설을': 1.4054651081081644, '시설이': 1.4054651081081644, '시설이지만': 1.4054651081081644, '시신의': 1.4054651081081644, '시신이': 1.4054651081081644, '시에': 1.4054651081081644, '시작되어': 1.4054651081081644, '시작으로': 1.4054651081081644, '시작하면서부터다': 1.4054651081081644, '시작한': 1.4054651081081644, '시작해': 1.4054651081081644, '시작했다': 1.4054651081081644, '시작했으나': 1.4054651081081644, '시작했음을': 1.4054651081081644, '시장': 1.4054651081081644, '시조': 1.4054651081081644, '시조인': 1.4054651081081644, '시해': 1.4054651081081644, '시행되었다': 1.4054651081081644, '식량': 1.4054651081081644, '식량과': 1.4054651081081644, '식량이': 1.4054651081081644, '식생은': 1.4054651081081644, '식생이': 1.4054651081081644, '식수를': 1.4054651081081644, '식재된': 1.4054651081081644, '식재했다': 1.4054651081081644, '식재했으며': 1.4054651081081644, '신갈나무와': 1.4054651081081644, '신남성은': 1.4054651081081644, '신남성의': 1.4054651081081644, '신남성이': 1.4054651081081644, '신라': 1.4054651081081644, '신라가': 1.4054651081081644, '신라는': 1.4054651081081644, '신라를': 1.4054651081081644, '신라의': 1.4054651081081644, '신사': 1.4054651081081644, '신성': 1.4054651081081644, '신유': 1.4054651081081644, '신재로': 1.4054651081081644, '신증동국여지승람': 1.4054651081081644, '신지': 1.4054651081081644, '신지옹성': 1.4054651081081644, '신축되고': 1.4054651081081644, '신축된': 1.4054651081081644, '신축해서': 1.4054651081081644, '신축했다': 1.4054651081081644, '실감하였고': 1.4054651081081644, '실릴': 1.4054651081081644, '실시된': 1.4054651081081644, '실시함으로써': 1.4054651081081644, '실제': 1.4054651081081644, '실질적인': 1.4054651081081644, '실효성이': 1.4054651081081644, '심한': 1.4054651081081644, '싸우다': 1.4054651081081644, '싸움에': 1.4054651081081644, '쌓게': 1.4054651081081644, '쌓고': 1.4054651081081644, '쌓아': 1.4054651081081644, '쌓았는데': 1.4054651081081644, '쌓았다': 1.4054651081081644, '쌓았던': 1.4054651081081644, '쌓았으며': 1.4054651081081644, '쌓은': 1.4054651081081644, '쏘기': 1.4054651081081644, '쏘아대어': 1.4054651081081644, '쓰였다': 1.4054651081081644, '쓰였을': 1.4054651081081644, '아까시나무': 1.4054651081081644, '아래': 1.4054651081081644, '아래에': 1.4054651081081644, '아래에서': 1.4054651081081644, '아마도': 1.4054651081081644, '아우구스티노': 1.4054651081081644, '아직': 1.4054651081081644, '아차산': 1.4054651081081644, '아홉': 1.4054651081081644, '안에': 1.4054651081081644, '안에는': 1.4054651081081644, '안으로': 1.4054651081081644, '안쪽': 1.4054651081081644, '안쪽에': 1.4054651081081644, '안쪽에는': 1.4054651081081644, '안쪽에만': 1.4054651081081644, '안쪽으로': 1.4054651081081644, '안쪽의': 1.4054651081081644, '안팍의': 1.4054651081081644, '안학궁의': 1.4054651081081644, '안했어도': 1.4054651081081644, '앉아서': 1.4054651081081644, '않고': 1.4054651081081644, '않다': 1.4054651081081644, '않도록': 1.4054651081081644, '않아': 1.4054651081081644, '않았다': 1.4054651081081644, '않았다는': 1.4054651081081644, '않았으나': 1.4054651081081644, '않았음을': 1.4054651081081644, '않으나': 1.4054651081081644, '않은': 1.4054651081081644, '않지만': 1.4054651081081644, '알려져': 1.4054651081081644, '알려졌으나': 1.4054651081081644, '암기와는': 1.4054651081081644, '암문': 1.4054651081081644, '암문은': 1.4054651081081644, '암문을': 1.4054651081081644, '암문의': 1.4054651081081644, '압록강을': 1.4054651081081644, '압박을': 1.4054651081081644, '앞서': 1.4054651081081644, '앞의': 1.4054651081081644, '약간': 1.4054651081081644, '양곡': 1.4054651081081644, '양성을': 1.4054651081081644, '양식은': 1.4054651081081644, '양식을': 1.4054651081081644, '어려운': 1.4054651081081644, '어영별장': 1.4054651081081644, '언급된': 1.4054651081081644, '얹고': 1.4054651081081644, '얻고': 1.4054651081081644, '얻었다': 1.4054651081081644, '엄미리에': 1.4054651081081644, '없는': 1.4054651081081644, '없다': 1.4054651081081644, '없어': 1.4054651081081644, '없어서': 1.4054651081081644, '없어졌기': 1.4054651081081644, '없었기': 1.4054651081081644, '없었다': 1.4054651081081644, '없으나': 1.4054651081081644, '없으며': 1.4054651081081644, '없을': 1.4054651081081644, '없이': 1.4054651081081644, '엇갈리고': 1.4054651081081644, '에서': 1.4054651081081644, '여겨진다': 1.4054651081081644, '여닫이': 1.4054651081081644, '여러': 1.4054651081081644, '여러가지': 1.4054651081081644, '여러차례': 1.4054651081081644, '여장': 1.4054651081081644, '여장과': 1.4054651081081644, '여장에는': 1.4054651081081644, '여장은': 1.4054651081081644, '여장을': 1.4054651081081644, '여지도서': 1.4054651081081644, '여진족의': 1.4054651081081644, '역량이': 1.4054651081081644, '역사': 1.4054651081081644, '역사가': 1.4054651081081644, '역사관이': 1.4054651081081644, '역사는': 1.4054651081081644, '역할': 1.4054651081081644, '역할도': 1.4054651081081644, '역할을': 1.4054651081081644, '연간에': 1.4054651081081644, '연결되는': 1.4054651081081644, '연결된': 1.4054651081081644, '연결된다': 1.4054651081081644, '연결하는': 1.4054651081081644, '연결하여': 1.4054651081081644, '연관': 1.4054651081081644, '연구': 1.4054651081081644, '연구에서': 1.4054651081081644, '연구에서는': 1.4054651081081644, '연대는': 1.4054651081081644, '연등천정이다': 1.4054651081081644, '연려실기술': 1.4054651081081644, '연마하던': 1.4054651081081644, '연못': 1.4054651081081644, '연못과': 1.4054651081081644, '연못만이': 1.4054651081081644, '연못은': 1.4054651081081644, '연못이': 1.4054651081081644, '연무관': 1.4054651081081644, '연무관이라고': 1.4054651081081644, '연무당이라고': 1.4054651081081644, '연병관': 1.4054651081081644, '연병관이라는': 1.4054651081081644, '연주봉': 1.4054651081081644, '연주봉과': 1.4054651081081644, '연주봉옹성을': 1.4054651081081644, '연주봉옹성의': 1.4054651081081644, '연평균': 1.4054651081081644, '연합하여': 1.4054651081081644, '열고': 1.4054651081081644, '열려': 1.4054651081081644, '열렸다는': 1.4054651081081644, '염두에': 1.4054651081081644, '영락': 1.4054651081081644, '영역이': 1.4054651081081644, '영원사는': 1.4054651081081644, '영이': 1.4054651081081644, '영조': 1.4054651081081644, '영조대에는': 1.4054651081081644, '영조의': 1.4054651081081644, '영향으로': 1.4054651081081644, '영화': 1.4054651081081644, '옆에서도': 1.4054651081081644, '옆의': 1.4054651081081644, '예도': 1.4054651081081644, '예를': 1.4054651081081644, '예비': 1.4054651081081644, '예술': 1.4054651081081644, '오고': 1.4054651081081644, '오늘날': 1.4054651081081644, '오늘날까지': 1.4054651081081644, '오늘날의': 1.4054651081081644, '오늘에': 1.4054651081081644, '오르내리게': 1.4054651081081644, '오르자': 1.4054651081081644, '오시복이': 1.4054651081081644, '옥정사': 1.4054651081081644, '옥정사는': 1.4054651081081644, '옥정사라는': 1.4054651081081644, '옥정사와': 1.4054651081081644, '옥정사의': 1.4054651081081644, '온다': 1.4054651081081644, '온돌시설은': 1.4054651081081644, '온조가': 1.4054651081081644, '온조왕사당으로': 1.4054651081081644, '온조왕의': 1.4054651081081644, '온조왕이': 1.4054651081081644, '올라간다': 1.4054651081081644, '올라갔다는': 1.4054651081081644, '올라오는': 1.4054651081081644, '올라온': 1.4054651081081644, '올려': 1.4054651081081644, '올려놓았다': 1.4054651081081644, '올린': 1.4054651081081644, '옮겨': 1.4054651081081644, '옮긴': 1.4054651081081644, '옹기': 1.4054651081081644, '옹벽이나': 1.4054651081081644, '옹성': 1.4054651081081644, '옹성과': 1.4054651081081644, '옹성에': 1.4054651081081644, '옹성에서': 1.4054651081081644, '옹성은': 1.4054651081081644, '옹성의': 1.4054651081081644, '옹성이': 1.4054651081081644, '옹성이다': 1.4054651081081644, '와서': 1.4054651081081644, '와편과': 1.4054651081081644, '완공되었다': 1.4054651081081644, '완료': 1.4054651081081644, '완료되면서': 1.4054651081081644, '완료된': 1.4054651081081644, '완만하게': 1.4054651081081644, '완만하지': 1.4054651081081644, '완만한': 1.4054651081081644, '완사면이': 1.4054651081081644, '완성된': 1.4054651081081644, '완성될': 1.4054651081081644, '완성을': 1.4054651081081644, '완성했다': 1.4054651081081644, '완전': 1.4054651081081644, '왔기': 1.4054651081081644, '왔다': 1.4054651081081644, '왕도인': 1.4054651081081644, '왕이': 1.4054651081081644, '왕자를': 1.4054651081081644, '왕자와': 1.4054651081081644, '외관의': 1.4054651081081644, '외동장대는': 1.4054651081081644, '외동장대의': 1.4054651081081644, '외동장지가': 1.4054651081081644, '외문': 1.4054651081081644, '외성': 1.4054651081081644, '외성으로': 1.4054651081081644, '외성은': 1.4054651081081644, '외성을': 1.4054651081081644, '외성이다': 1.4054651081081644, '외적의': 1.4054651081081644, '외전이': 1.4054651081081644, '외진': 1.4054651081081644, '요구를': 1.4054651081081644, '요구하였다': 1.4054651081081644, '요동을': 1.4054651081081644, '요사채': 1.4054651081081644, '요새로': 1.4054651081081644, '요새로만': 1.4054651081081644, '요충지이다': 1.4054651081081644, '용도': 1.4054651081081644, '용도로': 1.4054651081081644, '용도로도': 1.4054651081081644, '용도에': 1.4054651081081644, '용도의': 1.4054651081081644, '용이한': 1.4054651081081644, '우마차': 1.4054651081081644, '우마차의': 1.4054651081081644, '우물과': 1.4054651081081644, '우물이': 1.4054651081081644, '우익문': 1.4054651081081644, '우측에': 1.4054651081081644, '운동의': 1.4054651081081644, '운반되어': 1.4054651081081644, '운반하거나': 1.4054651081081644, '운반하였다': 1.4054651081081644, '운영에는': 1.4054651081081644, '운영하는데': 1.4054651081081644, '울었다는': 1.4054651081081644, '움직임을': 1.4054651081081644, '원군이나': 1.4054651081081644, '원기둥에': 1.4054651081081644, '원래': 1.4054651081081644, '원성': 1.4054651081081644, '원성과': 1.4054651081081644, '원성부분에도': 1.4054651081081644, '원성에': 1.4054651081081644, '원성은': 1.4054651081081644, '원작으로': 1.4054651081081644, '원총안': 1.4054651081081644, '원형에': 1.4054651081081644, '위기감이': 1.4054651081081644, '위기에': 1.4054651081081644, '위력을': 1.4054651081081644, '위례성으로': 1.4054651081081644, '위로': 1.4054651081081644, '위를': 1.4054651081081644, '위에': 1.4054651081081644, '위에는': 1.4054651081081644, '위의': 1.4054651081081644, '위주로': 1.4054651081081644, '위치에': 1.4054651081081644, '위치하고': 1.4054651081081644, '위치한': 1.4054651081081644, '위치한며': 1.4054651081081644, '위치할': 1.4054651081081644, '위패를': 1.4054651081081644, '위하여': 1.4054651081081644, '위한': 1.4054651081081644, '위해': 1.4054651081081644, '위험성이': 1.4054651081081644, '유구': 1.4054651081081644, '유네스코에': 1.4054651081081644, '유래되었다': 1.4054651081081644, '유래되었다고': 1.4054651081081644, '유리하다': 1.4054651081081644, '유명하다': 1.4054651081081644, '유물로': 1.4054651081081644, '유물로는': 1.4054651081081644, '유물이': 1.4054651081081644, '유분': 1.4054651081081644, '유사시': 1.4054651081081644, '유사시에': 1.4054651081081644, '유수': 1.4054651081081644, '유일하게': 1.4054651081081644, '유일하다는': 1.4054651081081644, '유일한': 1.4054651081081644, '유적들은': 1.4054651081081644, '유적으로': 1.4054651081081644, '유지가': 1.4054651081081644, '유치하게된': 1.4054651081081644, '유형문화재': 1.4054651081081644, '유형원의': 1.4054651081081644, '윤지선이': 1.4054651081081644, '융기': 1.4054651081081644, '으로': 1.4054651081081644, '은밀하게': 1.4054651081081644, '을미사변': 1.4054651081081644, '을사': 1.4054651081081644, '을축': 1.4054651081081644, '을축년': 1.4054651081081644, '음력': 1.4054651081081644, '읍치가': 1.4054651081081644, '읍치는': 1.4054651081081644, '읍치를': 1.4054651081081644, '의거': 1.4054651081081644, '의견도': 1.4054651081081644, '의견이': 1.4054651081081644, '의견이다': 1.4054651081081644, '의도를': 1.4054651081081644, '의무를': 1.4054651081081644, '의미만': 1.4054651081081644, '의미한다': 1.4054651081081644, '의병': 1.4054651081081644, '의병들': 1.4054651081081644, '의병들과': 1.4054651081081644, '의병운동이': 1.4054651081081644, '의병을': 1.4054651081081644, '의병의': 1.4054651081081644, '의병이': 1.4054651081081644, '의식을': 1.4054651081081644, '의식이었다': 1.4054651081081644, '의하면': 1.4054651081081644, '의하여': 1.4054651081081644, '의해': 1.4054651081081644, '의해서': 1.4054651081081644, '이것은': 1.4054651081081644, '이곳에': 1.4054651081081644, '이곳에는': 1.4054651081081644, '이곳에서': 1.4054651081081644, '이곳에서는': 1.4054651081081644, '이곳은': 1.4054651081081644, '이괄의': 1.4054651081081644, '이기진이': 1.4054651081081644, '이기축이': 1.4054651081081644, '이끌고': 1.4054651081081644, '이남의': 1.4054651081081644, '이는': 1.4054651081081644, '이들': 1.4054651081081644, '이들은': 1.4054651081081644, '이듬해': 1.4054651081081644, '이때': 1.4054651081081644, '이라': 1.4054651081081644, '이라고': 1.4054651081081644, '이라고도': 1.4054651081081644, '이라는': 1.4054651081081644, '이란': 1.4054651081081644, '이러한': 1.4054651081081644, '이런': 1.4054651081081644, '이렇게': 1.4054651081081644, '이루고': 1.4054651081081644, '이루는': 1.4054651081081644, '이루어져': 1.4054651081081644, '이루어져서': 1.4054651081081644, '이루어져있다': 1.4054651081081644, '이루어졌고': 1.4054651081081644, '이루어졌다': 1.4054651081081644, '이루지': 1.4054651081081644, '이룬다': 1.4054651081081644, '이르게': 1.4054651081081644, '이르고': 1.4054651081081644, '이르는': 1.4054651081081644, '이르러': 1.4054651081081644, '이르러서다': 1.4054651081081644, '이르렀다': 1.4054651081081644, '이르렀으며': 1.4054651081081644, '이른다': 1.4054651081081644, '이를': 1.4054651081081644, '이름': 1.4054651081081644, '이름으로': 1.4054651081081644, '이름으로는': 1.4054651081081644, '이름은': 1.4054651081081644, '이름을': 1.4054651081081644, '이름이라': 1.4054651081081644, '이미': 1.4054651081081644, '이번': 1.4054651081081644, '이상': 1.4054651081081644, '이서를': 1.4054651081081644, '이서의': 1.4054651081081644, '이성계가': 1.4054651081081644, '이성산성과': 1.4054651081081644, '이성산성은': 1.4054651081081644, '이성산성이': 1.4054651081081644, '이세화': 1.4054651081081644, '이세화의': 1.4054651081081644, '이승만': 1.4054651081081644, '이어지기': 1.4054651081081644, '이어진': 1.4054651081081644, '이에': 1.4054651081081644, '이와': 1.4054651081081644, '이와함께': 1.4054651081081644, '이용되었으며': 1.4054651081081644, '이용되었을': 1.4054651081081644, '이용하기': 1.4054651081081644, '이용하여': 1.4054651081081644, '이용했을': 1.4054651081081644, '이유로': 1.4054651081081644, '이자영의': 1.4054651081081644, '이전': 1.4054651081081644, '이전의': 1.4054651081081644, '이전하도록': 1.4054651081081644, '이전하면서': 1.4054651081081644, '이전하면서부터라고': 1.4054651081081644, '이전했고': 1.4054651081081644, '이주자중': 1.4054651081081644, '이주하려는': 1.4054651081081644, '이중환': 1.4054651081081644, '이처럼': 1.4054651081081644, '이천': 1.4054651081081644, '이층으로': 1.4054651081081644, '이태영이': 1.4054651081081644, '이회는': 1.4054651081081644, '이회와': 1.4054651081081644, '이후': 1.4054651081081644, '이후로': 1.4054651081081644, '이후에': 1.4054651081081644, '인구가': 1.4054651081081644, '인구는': 1.4054651081081644, '인구를': 1.4054651081081644, '인구비율과': 1.4054651081081644, '인근': 1.4054651081081644, '인근의': 1.4054651081081644, '인기를': 1.4054651081081644, '인도': 1.4054651081081644, '인디라': 1.4054651081081644, '인쇄와': 1.4054651081081644, '인수했는데': 1.4054651081081644, '인왕산까지도': 1.4054651081081644, '인용하며': 1.4054651081081644, '인접': 1.4054651081081644, '인접한': 1.4054651081081644, '인정받지': 1.4054651081081644, '인조': 1.4054651081081644, '인조가': 1.4054651081081644, '인조는': 1.4054651081081644, '인조대': 1.4054651081081644, '인조반정으로': 1.4054651081081644, '인조실록': 1.4054651081081644, '인조와': 1.4054651081081644, '인평대군': 1.4054651081081644, '인하여': 1.4054651081081644, '인해': 1.4054651081081644, '일각에서는': 1.4054651081081644, '일기체': 1.4054651081081644, '일대가': 1.4054651081081644, '일대는': 1.4054651081081644, '일대와': 1.4054651081081644, '일대이다': 1.4054651081081644, '일대이며': 1.4054651081081644, '일반인들의': 1.4054651081081644, '일반인에게': 1.4054651081081644, '일반적으로': 1.4054651081081644, '일반적이다': 1.4054651081081644, '일본군에': 1.4054651081081644, '일본군이': 1.4054651081081644, '일본에': 1.4054651081081644, '일본은': 1.4054651081081644, '일부': 1.4054651081081644, '일부가': 1.4054651081081644, '일부는': 1.4054651081081644, '일부를': 1.4054651081081644, '일수는': 1.4054651081081644, '일시적': 1.4054651081081644, '일시적으로': 1.4054651081081644, '일어나면서': 1.4054651081081644, '일어난': 1.4054651081081644, '일장성': 1.4054651081081644, '일정': 1.4054651081081644, '일제': 1.4054651081081644, '일제에': 1.4054651081081644, '일직선으로': 1.4054651081081644, '일찍': 1.4054651081081644, '일찍부터': 1.4054651081081644, '임명하고': 1.4054651081081644, '임무를': 1.4054651081081644, '임시': 1.4054651081081644, '임시수도의': 1.4054651081081644, '임진왜란': 1.4054651081081644, '입고': 1.4054651081081644, '입장료가': 1.4054651081081644, '입장에서': 1.4054651081081644, '입지를': 1.4054651081081644, '입지적': 1.4054651081081644, '있게': 1.4054651081081644, '있고': 1.4054651081081644, '있는': 1.4054651081081644, '있는데': 1.4054651081081644, '있다': 1.4054651081081644, '있다가': 1.4054651081081644, '있다고': 1.4054651081081644, '있다는': 1.4054651081081644, '있던': 1.4054651081081644, '있도록': 1.4054651081081644, '있어': 1.4054651081081644, '있어서': 1.4054651081081644, '있었고': 1.4054651081081644, '있었기': 1.4054651081081644, '있었는데': 1.4054651081081644, '있었다': 1.4054651081081644, '있었다는': 1.4054651081081644, '있었던': 1.4054651081081644, '있었으나': 1.4054651081081644, '있었으며': 1.4054651081081644, '있었을': 1.4054651081081644, '있었음을': 1.4054651081081644, '있으나': 1.4054651081081644, '있으며': 1.4054651081081644, '있을': 1.4054651081081644, '있을뿐': 1.4054651081081644, '있음을': 1.4054651081081644, '자가': 1.4054651081081644, '자료나': 1.4054651081081644, '자리가': 1.4054651081081644, '자리한': 1.4054651081081644, '자세히': 1.4054651081081644, '자연': 1.4054651081081644, '자연석으로': 1.4054651081081644, '자연석을': 1.4054651081081644, '자연촌': 1.4054651081081644, '자체의': 1.4054651081081644, '자형으로': 1.4054651081081644, '작고': 1.4054651081081644, '작아': 1.4054651081081644, '작용하였다': 1.4054651081081644, '작은': 1.4054651081081644, '작품의': 1.4054651081081644, '작품이': 1.4054651081081644, '잡석들': 1.4054651081081644, '잡역에': 1.4054651081081644, '잡히면서': 1.4054651081081644, '잣나무': 1.4054651081081644, '장경사': 1.4054651081081644, '장경사는': 1.4054651081081644, '장경사신지옹성과': 1.4054651081081644, '장경사에': 1.4054651081081644, '장경사의': 1.4054651081081644, '장군이': 1.4054651081081644, '장기간': 1.4054651081081644, '장대': 1.4054651081081644, '장대가': 1.4054651081081644, '장대는': 1.4054651081081644, '장대로': 1.4054651081081644, '장대를': 1.4054651081081644, '장대석을': 1.4054651081081644, '장대임을': 1.4054651081081644, '장반자를': 1.4054651081081644, '장방향을': 1.4054651081081644, '장방형': 1.4054651081081644, '장방형을': 1.4054651081081644, '장방형이나': 1.4054651081081644, '장소가': 1.4054651081081644, '장소이기도': 1.4054651081081644, '장수의': 1.4054651081081644, '장식이': 1.4054651081081644, '장악하면서': 1.4054651081081644, '장악한': 1.4054651081081644, '장악했다': 1.4054651081081644, '장의사를': 1.4054651081081644, '장이': 1.4054651081081644, '장인의': 1.4054651081081644, '장졸을': 1.4054651081081644, '재건한': 1.4054651081081644, '재료는': 1.4054651081081644, '재원의': 1.4054651081081644, '재정비': 1.4054651081081644, '재지정': 1.4054651081081644, '재편되었으며': 1.4054651081081644, '저자인': 1.4054651081081644, '저지에는': 1.4054651081081644, '저항을': 1.4054651081081644, '적게': 1.4054651081081644, '적군을': 1.4054651081081644, '적극': 1.4054651081081644, '적어도': 1.4054651081081644, '적은': 1.4054651081081644, '적을': 1.4054651081081644, '적의': 1.4054651081081644, '적이': 1.4054651081081644, '적지않은': 1.4054651081081644, '적합한': 1.4054651081081644, '전각이': 1.4054651081081644, '전국': 1.4054651081081644, '전국의': 1.4054651081081644, '전담하는': 1.4054651081081644, '전담했다': 1.4054651081081644, '전돌로': 1.4054651081081644, '전돌을': 1.4054651081081644, '전략': 1.4054651081081644, '전략적': 1.4054651081081644, '전략적으로': 1.4054651081081644, '전면에서': 1.4054651081081644, '전반적인': 1.4054651081081644, '전부다': 1.4054651081081644, '전설에는': 1.4054651081081644, '전설이': 1.4054651081081644, '전세와': 1.4054651081081644, '전승문': 1.4054651081081644, '전승문이라': 1.4054651081081644, '전에': 1.4054651081081644, '전역이': 1.4054651081081644, '전용': 1.4054651081081644, '전용이라기보다': 1.4054651081081644, '전을': 1.4054651081081644, '전장을': 1.4054651081081644, '전쟁': 1.4054651081081644, '전쟁과': 1.4054651081081644, '전쟁으로': 1.4054651081081644, '전제': 1.4054651081081644, '전체': 1.4054651081081644, '전체의': 1.4054651081081644, '전체적으로': 1.4054651081081644, '전투': 1.4054651081081644, '전투시': 1.4054651081081644, '전투에': 1.4054651081081644, '전하는': 1.4054651081081644, '전해오고': 1.4054651081081644, '전해지나': 1.4054651081081644, '전해진다': 1.4054651081081644, '전혀': 1.4054651081081644, '절이다': 1.4054651081081644, '절터만': 1.4054651081081644, '절하고': 1.4054651081081644, '점거하였다': 1.4054651081081644, '점을': 1.4054651081081644, '점이': 1.4054651081081644, '접하는': 1.4054651081081644, '정권을': 1.4054651081081644, '정다듬하여': 1.4054651081081644, '정도': 1.4054651081081644, '정도로': 1.4054651081081644, '정도의': 1.4054651081081644, '정도이고': 1.4054651081081644, '정도이다': 1.4054651081081644, '정면': 1.4054651081081644, '정면과': 1.4054651081081644, '정면에는': 1.4054651081081644, '정면은': 1.4054651081081644, '정면의': 1.4054651081081644, '정면이': 1.4054651081081644, '정묘호란': 1.4054651081081644, '정방형에': 1.4054651081081644, '정부는': 1.4054651081081644, '정부의': 1.4054651081081644, '정비': 1.4054651081081644, '정비되기': 1.4054651081081644, '정비되면서': 1.4054651081081644, '정상까지': 1.4054651081081644, '정상부는': 1.4054651081081644, '정상부를': 1.4054651081081644, '정상부에': 1.4054651081081644, '정식명칭': 1.4054651081081644, '정영배': 1.4054651081081644, '정은': 1.4054651081081644, '정자': 1.4054651081081644, '정자가': 1.4054651081081644, '정자를': 1.4054651081081644, '정자에는': 1.4054651081081644, '정자의': 1.4054651081081644, '정조': 1.4054651081081644, '정조실록': 1.4054651081081644, '정책을': 1.4054651081081644, '정치군사적인': 1.4054651081081644, '정할': 1.4054651081081644, '정확히': 1.4054651081081644, '제10암문': 1.4054651081081644, '제111호': 1.4054651081081644, '제119호이다': 1.4054651081081644, '제11암문': 1.4054651081081644, '제14호': 1.4054651081081644, '제14호이다': 1.4054651081081644, '제158호': 1.4054651081081644, '제15호': 1.4054651081081644, '제1남옹성은': 1.4054651081081644, '제1호': 1.4054651081081644, '제2공화국은': 1.4054651081081644, '제2남옹성': 1.4054651081081644, '제2남옹성치를': 1.4054651081081644, '제2암문': 1.4054651081081644, '제2옹성': 1.4054651081081644, '제2호': 1.4054651081081644, '제3호': 1.4054651081081644, '제480호로': 1.4054651081081644, '제4호': 1.4054651081081644, '제57호로': 1.4054651081081644, '제5호': 1.4054651081081644, '제5호로': 1.4054651081081644, '제6암문': 1.4054651081081644, '제6호': 1.4054651081081644, '제7암문': 1.4054651081081644, '제7암문에서': 1.4054651081081644, '제8암문': 1.4054651081081644, '제9암문': 1.4054651081081644, '제기': 1.4054651081081644, '제기되기도': 1.4054651081081644, '제기된': 1.4054651081081644, '제당': 1.4054651081081644, '제사를': 1.4054651081081644, '제시되고': 1.4054651081081644, '제외하고는': 1.4054651081081644, '제작': 1.4054651081081644, '제작되었다': 1.4054651081081644, '조건을': 1.4054651081081644, '조계사': 1.4054651081081644, '조그만': 1.4054651081081644, '조금': 1.4054651081081644, '조금씩': 1.4054651081081644, '조련때': 1.4054651081081644, '조림군락을': 1.4054651081081644, '조림군락이': 1.4054651081081644, '조망되는': 1.4054651081081644, '조망이': 1.4054651081081644, '조사된': 1.4054651081081644, '조사에': 1.4054651081081644, '조사에서': 1.4054651081081644, '조선': 1.4054651081081644, '조선군대': 1.4054651081081644, '조선군의': 1.4054651081081644, '조선말': 1.4054651081081644, '조선시대까지만': 1.4054651081081644, '조선에': 1.4054651081081644, '조선왕조실록': 1.4054651081081644, '조선은': 1.4054651081081644, '조선을': 1.4054651081081644, '조선의': 1.4054651081081644, '조선이': 1.4054651081081644, '조선초기': 1.4054651081081644, '조성한': 1.4054651081081644, '조세미는': 1.4054651081081644, '조세의': 1.4054651081081644, '조아리는': 1.4054651081081644, '조에': 1.4054651081081644, '조정': 1.4054651081081644, '조정에서는': 1.4054651081081644, '조직도': 1.4054651081081644, '조직한': 1.4054651081081644, '조총과': 1.4054651081081644, '조총탄환이': 1.4054651081081644, '조현명이': 1.4054651081081644, '존재의의가': 1.4054651081081644, '존재했던': 1.4054651081081644, '좁아서': 1.4054651081081644, '좁지': 1.4054651081081644, '종교적인': 1.4054651081081644, '종묘': 1.4054651081081644, '종무소는': 1.4054651081081644, '종전': 1.4054651081081644, '좌영장이': 1.4054651081081644, '좌우에': 1.4054651081081644, '좌익문': 1.4054651081081644, '좌익문이라': 1.4054651081081644, '좌측이': 1.4054651081081644, '죄를': 1.4054651081081644, '주군제를': 1.4054651081081644, '주둔케': 1.4054651081081644, '주둔하는': 1.4054651081081644, '주둔하면서': 1.4054651081081644, '주로': 1.4054651081081644, '주류이나': 1.4054651081081644, '주를': 1.4054651081081644, '주민': 1.4054651081081644, '주변': 1.4054651081081644, '주변보다': 1.4054651081081644, '주변은': 1.4054651081081644, '주변을': 1.4054651081081644, '주변의': 1.4054651081081644, '주봉인': 1.4054651081081644, '주위에는': 1.4054651081081644, '주장성': 1.4054651081081644, '주장성과': 1.4054651081081644, '주장성에': 1.4054651081081644, '주장성을': 1.4054651081081644, '주장성의': 1.4054651081081644, '주장성이': 1.4054651081081644, '주장성이라는': 1.4054651081081644, '주장에': 1.4054651081081644, '주장은': 1.4054651081081644, '주장을': 1.4054651081081644, '주장이': 1.4054651081081644, '주장이다': 1.4054651081081644, '주장했고': 1.4054651081081644, '주재했다': 1.4054651081081644, '주전파': 1.4054651081081644, '주지': 1.4054651081081644, '주춧돌': 1.4054651081081644, '주춧돌만': 1.4054651081081644, '주춧돌만을': 1.4054651081081644, '주화파와': 1.4054651081081644, '죽산부사가': 1.4054651081081644, '죽은': 1.4054651081081644, '죽을': 1.4054651081081644, '준공당시': 1.4054651081081644, '준비된': 1.4054651081081644, '준비했으나': 1.4054651081081644, '준평원으로': 1.4054651081081644, '준평원으로서': 1.4054651081081644, '줄기는': 1.4054651081081644, '중간에': 1.4054651081081644, '중기와가': 1.4054651081081644, '중대한': 1.4054651081081644, '중반': 1.4054651081081644, '중반의': 1.4054651081081644, '중부면': 1.4054651081081644, '중수하고': 1.4054651081081644, '중심': 1.4054651081081644, '중심으로': 1.4054651081081644, '중심의': 1.4054651081081644, '중심지': 1.4054651081081644, '중심지가': 1.4054651081081644, '중심지로': 1.4054651081081644, '중심지였던': 1.4054651081081644, '중심지였음에도': 1.4054651081081644, '중심지의': 1.4054651081081644, '중심지이자': 1.4054651081081644, '중앙군이': 1.4054651081081644, '중앙에': 1.4054651081081644, '중앙의': 1.4054651081081644, '중에서': 1.4054651081081644, '중엽': 1.4054651081081644, '중엽에': 1.4054651081081644, '중영장이': 1.4054651081081644, '중요성은': 1.4054651081081644, '중요성이': 1.4054651081081644, '중요하게': 1.4054651081081644, '중요한': 1.4054651081081644, '중의': 1.4054651081081644, '중이다': 1.4054651081081644, '중이던': 1.4054651081081644, '중인': 1.4054651081081644, '중정남한지': 1.4054651081081644, '중창하여': 1.4054651081081644, '중턱': 1.4054651081081644, '즉위년에는': 1.4054651081081644, '즐기던': 1.4054651081081644, '증가했다': 1.4054651081081644, '증개축과': 1.4054651081081644, '증대되었다': 1.4054651081081644, '증축': 1.4054651081081644, '증축된': 1.4054651081081644, '증축하여': 1.4054651081081644, '증축하였고': 1.4054651081081644, '증축했다': 1.4054651081081644, '지권10': 1.4054651081081644, '지금과': 1.4054651081081644, '지금은': 1.4054651081081644, '지금의': 1.4054651081081644, '지나': 1.4054651081081644, '지났다': 1.4054651081081644, '지니고': 1.4054651081081644, '지대석의': 1.4054651081081644, '지대에': 1.4054651081081644, '지대하였다': 1.4054651081081644, '지도': 1.4054651081081644, '지류인': 1.4054651081081644, '지리': 1.4054651081081644, '지리1': 1.4054651081081644, '지면이': 1.4054651081081644, '지목하고': 1.4054651081081644, '지반': 1.4054651081081644, '지방': 1.4054651081081644, '지방지배의': 1.4054651081081644, '지방통치의': 1.4054651081081644, '지붕은': 1.4054651081081644, '지붕의': 1.4054651081081644, '지세가': 1.4054651081081644, '지속되어': 1.4054651081081644, '지속되었다': 1.4054651081081644, '지수당': 1.4054651081081644, '지수당이라는': 1.4054651081081644, '지어': 1.4054651081081644, '지어져': 1.4054651081081644, '지어졌던': 1.4054651081081644, '지어졌으며': 1.4054651081081644, '지어졌을': 1.4054651081081644, '지어진': 1.4054651081081644, '지여진': 1.4054651081081644, '지역': 1.4054651081081644, '지역과': 1.4054651081081644, '지역과는': 1.4054651081081644, '지역에': 1.4054651081081644, '지역은': 1.4054651081081644, '지역의': 1.4054651081081644, '지은': 1.4054651081081644, '지점에': 1.4054651081081644, '지점에는': 1.4054651081081644, '지점으로서': 1.4054651081081644, '지점이다': 1.4054651081081644, '지정': 1.4054651081081644, '지정되면서': 1.4054651081081644, '지정되어': 1.4054651081081644, '지정되었고': 1.4054651081081644, '지정되었다': 1.4054651081081644, '지정된': 1.4054651081081644, '지정하여': 1.4054651081081644, '지정했으나': 1.4054651081081644, '지키기': 1.4054651081081644, '지키는': 1.4054651081081644, '지키던': 1.4054651081081644, '지형과': 1.4054651081081644, '지형에': 1.4054651081081644, '지형은': 1.4054651081081644, '지형을': 1.4054651081081644, '지형의': 1.4054651081081644, '지화문': 1.4054651081081644, '지휘가': 1.4054651081081644, '지휘를': 1.4054651081081644, '지휘소다': 1.4054651081081644, '지휘소로': 1.4054651081081644, '지휘소의': 1.4054651081081644, '지휘와': 1.4054651081081644, '지휘하던': 1.4054651081081644, '지휘했던': 1.4054651081081644, '직선거리로': 1.4054651081081644, '직전': 1.4054651081081644, '직전인': 1.4054651081081644, '직접': 1.4054651081081644, '진공을': 1.4054651081081644, '진군하였다': 1.4054651081081644, '진남루': 1.4054651081081644, '진신': 1.4054651081081644, '진영에': 1.4054651081081644, '진을': 1.4054651081081644, '진입하려': 1.4054651081081644, '진행되었다는': 1.4054651081081644, '짐작할': 1.4054651081081644, '집권세력이': 1.4054651081081644, '집에는': 1.4054651081081644, '짓는': 1.4054651081081644, '짓지': 1.4054651081081644, '징검다리식': 1.4054651081081644, '쪽으로': 1.4054651081081644, '쪽의': 1.4054651081081644, '차례': 1.4054651081081644, '차이로': 1.4054651081081644, '차지한다': 1.4054651081081644, '차출되어': 1.4054651081081644, '차폐의': 1.4054651081081644, '참수를': 1.4054651081081644, '참여하였다': 1.4054651081081644, '창건하였는데': 1.4054651081081644, '창건하였다고': 1.4054651081081644, '창검을': 1.4054651081081644, '창고': 1.4054651081081644, '창고로': 1.4054651081081644, '창모루와': 1.4054651081081644, '찾는': 1.4054651081081644, '책임자였던': 1.4054651081081644, '처음': 1.4054651081081644, '처음부터': 1.4054651081081644, '처자': 1.4054651081081644, '척후병이': 1.4054651081081644, '천계': 1.4054651081081644, '천장에는': 1.4054651081081644, '천정에는': 1.4054651081081644, '천주교': 1.4054651081081644, '천주교인의': 1.4054651081081644, '천혜의': 1.4054651081081644, '철린으로': 1.4054651081081644, '철종': 1.4054651081081644, '청군에': 1.4054651081081644, '청군은': 1.4054651081081644, '청군의': 1.4054651081081644, '청나라': 1.4054651081081644, '청나라에': 1.4054651081081644, '청량당': 1.4054651081081644, '청량당으로': 1.4054651081081644, '청량당은': 1.4054651081081644, '청량산': 1.4054651081081644, '청으로': 1.4054651081081644, '체제로': 1.4054651081081644, '체제를': 1.4054651081081644, '체포된': 1.4054651081081644, '초기': 1.4054651081081644, '초기에는': 1.4054651081081644, '초대형': 1.4054651081081644, '초래되었다': 1.4054651081081644, '초석과': 1.4054651081081644, '초소': 1.4054651081081644, '초소건물': 1.4054651081081644, '초에': 1.4054651081081644, '초이틀을': 1.4054651081081644, '초익공을': 1.4054651081081644, '촌락을': 1.4054651081081644, '총력을': 1.4054651081081644, '총안': 1.4054651081081644, '총안과': 1.4054651081081644, '총융사': 1.4054651081081644, '총이나': 1.4054651081081644, '최근에는': 1.4054651081081644, '최대': 1.4054651081081644, '최승로의': 1.4054651081081644, '최초': 1.4054651081081644, '최초의': 1.4054651081081644, '추가하여': 1.4054651081081644, '추정되고': 1.4054651081081644, '추정되기도': 1.4054651081081644, '추정되는': 1.4054651081081644, '추정되며': 1.4054651081081644, '추정된다': 1.4054651081081644, '추정된다남한산성': 1.4054651081081644, '추정하고': 1.4054651081081644, '추진하여': 1.4054651081081644, '추측되고': 1.4054651081081644, '축대가': 1.4054651081081644, '축대는': 1.4054651081081644, '축대를': 1.4054651081081644, '축성': 1.4054651081081644, '축성과': 1.4054651081081644, '축성되어': 1.4054651081081644, '축성된': 1.4054651081081644, '축성시': 1.4054651081081644, '축성에': 1.4054651081081644, '축성으로': 1.4054651081081644, '축성을': 1.4054651081081644, '축성이': 1.4054651081081644, '축성이후에': 1.4054651081081644, '축성인의': 1.4054651081081644, '축성할': 1.4054651081081644, '축조되었기': 1.4054651081081644, '축조되었는데': 1.4054651081081644, '축조된': 1.4054651081081644, '축조를': 1.4054651081081644, '축조시기와': 1.4054651081081644, '축조와': 1.4054651081081644, '축조하여': 1.4054651081081644, '축조하였다': 1.4054651081081644, '축조한': 1.4054651081081644, '축조했을': 1.4054651081081644, '춘궁동': 1.4054651081081644, '춘장리로': 1.4054651081081644, '출간되어': 1.4054651081081644, '출병하였지만': 1.4054651081081644, '출연해': 1.4054651081081644, '출입하는': 1.4054651081081644, '출입할': 1.4054651081081644, '출토': 1.4054651081081644, '출토되어': 1.4054651081081644, '출토되었고': 1.4054651081081644, '출토되었다': 1.4054651081081644, '충분히': 1.4054651081081644, '취락은': 1.4054651081081644, '취락이었다': 1.4054651081081644, '취한': 1.4054651081081644, '측량되었다': 1.4054651081081644, '측면': 1.4054651081081644, '측면에서': 1.4054651081081644, '측면에서의': 1.4054651081081644, '측면은': 1.4054651081081644, '측면의': 1.4054651081081644, '측면이': 1.4054651081081644, '층위': 1.4054651081081644, '치고': 1.4054651081081644, '치곤': 1.4054651081081644, '치며': 1.4054651081081644, '치성': 1.4054651081081644, '치소를': 1.4054651081081644, '치욕을': 1.4054651081081644, '치우친': 1.4054651081081644, '친명배금': 1.4054651081081644, '친필이라고': 1.4054651081081644, '친필책자': 1.4054651081081644, '칠성각': 1.4054651081081644, '침공': 1.4054651081081644, '침공하였다': 1.4054651081081644, '침공했을때': 1.4054651081081644, '침괘정': 1.4054651081081644, '침괘정은': 1.4054651081081644, '침괘정이라': 1.4054651081081644, '침략할': 1.4054651081081644, '침범하려는': 1.4054651081081644, '침범하여': 1.4054651081081644, '침식곡을': 1.4054651081081644, '침입': 1.4054651081081644, '침입에': 1.4054651081081644, '침입을': 1.4054651081081644, '침입할': 1.4054651081081644, '칭하였다': 1.4054651081081644, '칸마다': 1.4054651081081644, '칸보다': 1.4054651081081644, '칸은': 1.4054651081081644, '코스는': 1.4054651081081644, '코스로도': 1.4054651081081644, '코스이다': 1.4054651081081644, '크게': 1.4054651081081644, '크고': 1.4054651081081644, '크기가': 1.4054651081081644, '크기는': 1.4054651081081644, '크기로': 1.4054651081081644, '크기를': 1.4054651081081644, '크기의': 1.4054651081081644, '크다': 1.4054651081081644, '큰데': 1.4054651081081644, '큰돌을': 1.4054651081081644, '타고': 1.4054651081081644, '타구가': 1.4054651081081644, '타운루라는': 1.4054651081081644, '탄리': 1.4054651081081644, '탄약고가': 1.4054651081081644, '탄약도': 1.4054651081081644, '탄약을': 1.4054651081081644, '탄천': 1.4054651081081644, '태조': 1.4054651081081644, '태종': 1.4054651081081644, '태종은': 1.4054651081081644, '택리지': 1.4054651081081644, '터가': 1.4054651081081644, '터널이': 1.4054651081081644, '터는': 1.4054651081081644, '터를': 1.4054651081081644, '터만': 1.4054651081081644, '토기': 1.4054651081081644, '토기조각들이': 1.4054651081081644, '토마스': 1.4054651081081644, '토벌하는': 1.4054651081081644, '토석벽을': 1.4054651081081644, '토양유실': 1.4054651081081644, '토지': 1.4054651081081644, '토지가': 1.4054651081081644, '토지박물관에서': 1.4054651081081644, '토지박물관의': 1.4054651081081644, '토지부양력이': 1.4054651081081644, '토지의': 1.4054651081081644, '토지전체의': 1.4054651081081644, '토지조사사업으로': 1.4054651081081644, '토지중': 1.4054651081081644, '통일': 1.4054651081081644, '통일신라': 1.4054651081081644, '통일한': 1.4054651081081644, '통치': 1.4054651081081644, '통치하였다': 1.4054651081081644, '통칭': 1.4054651081081644, '통하여': 1.4054651081081644, '통해': 1.4054651081081644, '통해서': 1.4054651081081644, '통행은': 1.4054651081081644, '통행이': 1.4054651081081644, '툇간': 1.4054651081081644, '투쟁에': 1.4054651081081644, '트여있고': 1.4054651081081644, '특별한': 1.4054651081081644, '특수': 1.4054651081081644, '특이한': 1.4054651081081644, '특징을': 1.4054651081081644, '특히': 1.4054651081081644, '틀을': 1.4054651081081644, '파견되어': 1.4054651081081644, '파견을': 1.4054651081081644, '파괴되거나': 1.4054651081081644, '파괴되어': 1.4054651081081644, '파괴되었다': 1.4054651081081644, '파괴된': 1.4054651081081644, '파서': 1.4054651081081644, '파손된': 1.4054651081081644, '파악한': 1.4054651081081644, '파악할': 1.4054651081081644, '파여져': 1.4054651081081644, '파편': 1.4054651081081644, '파편과': 1.4054651081081644, '판단된다': 1.4054651081081644, '판문을': 1.4054651081081644, '팔도도총섭총절제중군주장': 1.4054651081081644, '팔도의': 1.4054651081081644, '팔작지붕': 1.4054651081081644, '팔작지붕이다': 1.4054651081081644, '팔작지붕이며': 1.4054651081081644, '팔작집이었다': 1.4054651081081644, '패잔병과도': 1.4054651081081644, '패하지': 1.4054651081081644, '편액은': 1.4054651081081644, '편액을': 1.4054651081081644, '편이다': 1.4054651081081644, '펼쳐저있으며': 1.4054651081081644, '평거식과': 1.4054651081081644, '평균': 1.4054651081081644, '평기와가': 1.4054651081081644, '평면은': 1.4054651081081644, '평면은을': 1.4054651081081644, '평면을': 1.4054651081081644, '평양에': 1.4054651081081644, '평여장이다': 1.4054651081081644, '평지가': 1.4054651081081644, '평지는': 1.4054651081081644, '평지로': 1.4054651081081644, '평지를': 1.4054651081081644, '평지보다': 1.4054651081081644, '평탄지역에': 1.4054651081081644, '평탄하고': 1.4054651081081644, '평탄한': 1.4054651081081644, '폐도': 1.4054651081081644, '폐쇄할': 1.4054651081081644, '폐위되었으며': 1.4054651081081644, '포구': 1.4054651081081644, '포기하고': 1.4054651081081644, '포대가': 1.4054651081081644, '포로가': 1.4054651081081644, '포로로': 1.4054651081081644, '포루': 1.4054651081081644, '포루가': 1.4054651081081644, '포루를': 1.4054651081081644, '포루의': 1.4054651081081644, '포진하였다': 1.4054651081081644, '포함되었다': 1.4054651081081644, '포함하였다': 1.4054651081081644, '포함한': 1.4054651081081644, '폭발시켰다': 1.4054651081081644, '폭은': 1.4054651081081644, '폭이': 1.4054651081081644, '표시가': 1.4054651081081644, '풍납동': 1.4054651081081644, '풍납토성을': 1.4054651081081644, '풍부하였다': 1.4054651081081644, '풍부하였다고': 1.4054651081081644, '풍파를': 1.4054651081081644, '풍화에': 1.4054651081081644, '피난길에': 1.4054651081081644, '피난하려': 1.4054651081081644, '피난할': 1.4054651081081644, '피신하게': 1.4054651081081644, '피신한': 1.4054651081081644, '피신할': 1.4054651081081644, '피신해': 1.4054651081081644, '피할': 1.4054651081081644, '피해를': 1.4054651081081644, '피해지와': 1.4054651081081644, '필요는': 1.4054651081081644, '필요에': 1.4054651081081644, '필요한': 1.4054651081081644, '필지당': 1.4054651081081644, '하고': 1.4054651081081644, '하궐': 1.4054651081081644, '하기도': 1.4054651081081644, '하나': 1.4054651081081644, '하나가': 1.4054651081081644, '하나는': 1.4054651081081644, '하나로': 1.4054651081081644, '하나에': 1.4054651081081644, '하남시': 1.4054651081081644, '하남시에': 1.4054651081081644, '하남위례성으로': 1.4054651081081644, '하남위례성을': 1.4054651081081644, '하남위례성이라는': 1.4054651081081644, '하는': 1.4054651081081644, '하다': 1.4054651081081644, '하더라도': 1.4054651081081644, '하며': 1.4054651081081644, '하부는': 1.4054651081081644, '하부로': 1.4054651081081644, '하사하여': 1.4054651081081644, '하사하였다': 1.4054651081081644, '하삼도에서': 1.4054651081081644, '하에': 1.4054651081081644, '하역된': 1.4054651081081644, '하였는데': 1.4054651081081644, '하였다': 1.4054651081081644, '하였다고': 1.4054651081081644, '하였으나': 1.4054651081081644, '하지만': 1.4054651081081644, '하천으로': 1.4054651081081644, '하천은': 1.4054651081081644, '학계에서는': 1.4054651081081644, '학자들은': 1.4054651081081644, '한강': 1.4054651081081644, '한강변의': 1.4054651081081644, '한강수로를': 1.4054651081081644, '한강유역을': 1.4054651081081644, '한강의': 1.4054651081081644, '한국': 1.4054651081081644, '한국독립운동은': 1.4054651081081644, '한국의': 1.4054651081081644, '한국전쟁은': 1.4054651081081644, '한국토지공사': 1.4054651081081644, '한다': 1.4054651081081644, '한다는': 1.4054651081081644, '한덕운': 1.4054651081081644, '한데': 1.4054651081081644, '한때': 1.4054651081081644, '한말에': 1.4054651081081644, '한봉': 1.4054651081081644, '한봉까지': 1.4054651081081644, '한봉성': 1.4054651081081644, '한봉성과': 1.4054651081081644, '한봉성에': 1.4054651081081644, '한봉성은': 1.4054651081081644, '한봉성을': 1.4054651081081644, '한봉성의': 1.4054651081081644, '한봉성이': 1.4054651081081644, '한봉외성을': 1.4054651081081644, '한봉의': 1.4054651081081644, '한산': 1.4054651081081644, '한산군에': 1.4054651081081644, '한산에': 1.4054651081081644, '한산주로': 1.4054651081081644, '한산주와': 1.4054651081081644, '한성': 1.4054651081081644, '한성으로': 1.4054651081081644, '한성이': 1.4054651081081644, '한양에': 1.4054651081081644, '한양을': 1.4054651081081644, '한주': 1.4054651081081644, '한주로': 1.4054651081081644, '한주에는': 1.4054651081081644, '한쪽에': 1.4054651081081644, '한쪽으로': 1.4054651081081644, '한편': 1.4054651081081644, '함께': 1.4054651081081644, '함락당하고': 1.4054651081081644, '함몰': 1.4054651081081644, '함지들이': 1.4054651081081644, '합류한다': 1.4054651081081644, '항간에서는': 1.4054651081081644, '항복의': 1.4054651081081644, '항복하러': 1.4054651081081644, '항복한': 1.4054651081081644, '항일민족운동의': 1.4054651081081644, '항쟁을': 1.4054651081081644, '항전하였으나': 1.4054651081081644, '해당하는': 1.4054651081081644, '해도': 1.4054651081081644, '해미읍성처럼': 1.4054651081081644, '해발': 1.4054651081081644, '해방': 1.4054651081081644, '해산': 1.4054651081081644, '해산령': 1.4054651081081644, '해산시키고': 1.4054651081081644, '해서': 1.4054651081081644, '해석되고': 1.4054651081081644, '해에': 1.4054651081081644, '해체': 1.4054651081081644, '해체된': 1.4054651081081644, '해체하여': 1.4054651081081644, '했다': 1.4054651081081644, '했던': 1.4054651081081644, '했으나': 1.4054651081081644, '했으며': 1.4054651081081644, '행궁': 1.4054651081081644, '행궁과': 1.4054651081081644, '행궁도': 1.4054651081081644, '행궁에': 1.4054651081081644, '행궁은': 1.4054651081081644, '행궁을': 1.4054651081081644, '행궁이': 1.4054651081081644, '행궁이라': 1.4054651081081644, '행궁터': 1.4054651081081644, '행궁터를': 1.4054651081081644, '행정': 1.4054651081081644, '행정기능을': 1.4054651081081644, '행정의': 1.4054651081081644, '행정중심지가': 1.4054651081081644, '향토유적': 1.4054651081081644, '향하도록': 1.4054651081081644, '향해': 1.4054651081081644, '허물고': 1.4054651081081644, '헐었고': 1.4054651081081644, '험하지만': 1.4054651081081644, '혁명': 1.4054651081081644, '현대와': 1.4054651081081644, '현재': 1.4054651081081644, '현재는': 1.4054651081081644, '현재에': 1.4054651081081644, '현재의': 1.4054651081081644, '현절사': 1.4054651081081644, '현존하는': 1.4054651081081644, '현종': 1.4054651081081644, '현판이': 1.4054651081081644, '현황을': 1.4054651081081644, '협상을': 1.4054651081081644, '형상을': 1.4054651081081644, '형성될': 1.4054651081081644, '형성하며': 1.4054651081081644, '형식으로': 1.4054651081081644, '형식은': 1.4054651081081644, '형의': 1.4054651081081644, '형태가': 1.4054651081081644, '형태는': 1.4054651081081644, '형태로': 1.4054651081081644, '형태를': 1.4054651081081644, '형태의': 1.4054651081081644, '호가': 1.4054651081081644, '호구는': 1.4054651081081644, '호란': 1.4054651081081644, '호에': 1.4054651081081644, '호응을': 1.4054651081081644, '혼령을': 1.4054651081081644, '혼령이': 1.4054651081081644, '홀처마를': 1.4054651081081644, '홈이': 1.4054651081081644, '홍건적이': 1.4054651081081644, '홍경모만이': 1.4054651081081644, '홍수': 1.4054651081081644, '홍예기석': 1.4054651081081644, '홍예돌을': 1.4054651081081644, '홍예문으로': 1.4054651081081644, '홍예문은': 1.4054651081081644, '홍예문을': 1.4054651081081644, '홍예석': 1.4054651081081644, '홍예석을': 1.4054651081081644, '홍예식': 1.4054651081081644, '홍예식으로': 1.4054651081081644, '홍이포와': 1.4054651081081644, '홑처마를': 1.4054651081081644, '화강편마암의': 1.4054651081081644, '화기': 1.4054651081081644, '화덕자리': 1.4054651081081644, '화려하게': 1.4054651081081644, '화방벽을': 1.4054651081081644, '화성에서도': 1.4054651081081644, '화약ㆍ군량미': 1.4054651081081644, '화약고가': 1.4054651081081644, '화포를': 1.4054651081081644, '확대되자': 1.4054651081081644, '확보가': 1.4054651081081644, '확보되어': 1.4054651081081644, '확보하려는': 1.4054651081081644, '확보할': 1.4054651081081644, '확실치': 1.4054651081081644, '확실하지': 1.4054651081081644, '확실히': 1.4054651081081644, '확연히': 1.4054651081081644, '확인': 1.4054651081081644, '확인된다': 1.4054651081081644, '환산하여': 1.4054651081081644, '활동사에': 1.4054651081081644, '활동을': 1.4054651081081644, '활엽수로': 1.4054651081081644, '활용했다': 1.4054651081081644, '활을': 1.4054651081081644, '황제': 1.4054651081081644, '황태극은': 1.4054651081081644, '황태극이': 1.4054651081081644, '황폐하였다': 1.4054651081081644, '홰를': 1.4054651081081644, '회수하여': 1.4054651081081644, '효과적으로': 1.4054651081081644, '효과적이다': 1.4054651081081644, '효율을': 1.4054651081081644, '후금은': 1.4054651081081644, '후금이': 1.4054651081081644, '후에': 1.4054651081081644, '후에도': 1.4054651081081644, '후영장인': 1.4054651081081644, '후인': 1.4054651081081644, '훈련을': 1.4054651081081644, '훌륭한': 1.4054651081081644, '훼손되기도': 1.4054651081081644, '훼손되었다': 1.4054651081081644, '훼손되었지만': 1.4054651081081644, '훼손된': 1.4054651081081644, '훼손시킨': 1.4054651081081644, '훼손이': 1.4054651081081644, '휘하': 1.4054651081081644, '휴식처이자': 1.4054651081081644, '휴양처가': 1.4054651081081644, '흔하지': 1.4054651081081644, '흘러': 1.4054651081081644, '흘러가면서': 1.4054651081081644, '흙으로': 1.4054651081081644, '흙은': 1.4054651081081644, '흩어져': 1.4054651081081644, '희생당한': 1.4054651081081644, '힘든': 1.4054651081081644, '힘들었을': 1.4054651081081644, '힘을': 1.4054651081081644}\n"
          ]
        },
        {
          "output_type": "stream",
          "name": "stderr",
          "text": [
            "/usr/local/lib/python3.7/dist-packages/sklearn/utils/deprecation.py:87: FutureWarning: Function get_feature_names is deprecated; get_feature_names is deprecated in 1.0 and will be removed in 1.2. Please use get_feature_names_out instead.\n",
            "  warnings.warn(msg, category=FutureWarning)\n"
          ]
        }
      ]
    },
    {
      "cell_type": "code",
      "source": [
        "from sklearn.metrics.pairwise import cosine_similarity\n",
        "\n",
        "cosine_similarity(tfidf_matrix[0],tfidf_matrix[1])[0][0]"
      ],
      "metadata": {
        "colab": {
          "base_uri": "https://localhost:8080/"
        },
        "id": "AwgwWHD25jWJ",
        "outputId": "22bf80dc-c2f7-4565-b39f-55bbe0c6b4aa"
      },
      "execution_count": 183,
      "outputs": [
        {
          "output_type": "execute_result",
          "data": {
            "text/plain": [
              "0.049571650503251706"
            ]
          },
          "metadata": {},
          "execution_count": 183
        }
      ]
    },
    {
      "cell_type": "code",
      "source": [
        "dd = [1, 2, 3, 0.049571650503251706]\n",
        "dd.index(min(dd))"
      ],
      "metadata": {
        "colab": {
          "base_uri": "https://localhost:8080/"
        },
        "id": "4aaOj7p-_rLt",
        "outputId": "d452c019-0f28-48f4-fff9-b74e9be5ca8d"
      },
      "execution_count": 185,
      "outputs": [
        {
          "output_type": "execute_result",
          "data": {
            "text/plain": [
              "3"
            ]
          },
          "metadata": {},
          "execution_count": 185
        }
      ]
    },
    {
      "cell_type": "code",
      "source": [
        "# cos 유사도 추가\n",
        "\n",
        "def cos_test(user_question):\n",
        "  token_li = okt.phrases(user_question)\n",
        "  token_len = len(token_li) - (len(token_li)-3)\n",
        "  token = token_li[:token_len]\n",
        "\n",
        "  key_title = test_df.query(f'title.str.contains(\"{token[0]}|{token[1]}|{token[2]}\")', engine = 'python')\n",
        "  if len(key_title) == 0:\n",
        "    key_question = test_df.query(f'question.str.contains(\"{token[0]}|{token[1]}|{token[2]}\")', engine = 'python')\n",
        "    if len(key_question) == 0:\n",
        "     key_context = test_df.query(f'context.str.contains(\"{token[0]}|{token[1]}|{token[2]}\")', engine = 'python')\n",
        "    else:\n",
        "     key_context = key_question.query(f'context.str.contains(\"{token[0]}|{token[1]}|{token[2]}\")', engine = 'python')\n",
        "     if len(key_context) == 0:\n",
        "      use_context = key_question.drop_duplicates(['context'], ignore_index = True)\n",
        "     else:\n",
        "      use_context = key_context.drop_duplicates(['context'], ignore_index = True)\n",
        "\n",
        "  else:\n",
        "    key_question = key_title.query(f'question.str.contains(\"{token[0]}|{token[1]}|{token[2]}\")', engine = 'python')\n",
        "    if len(key_question) == 0:\n",
        "      key_context = key_title.query(f'context.str.contains(\"{token[0]}|{token[1]}|{token[2]}\")', engine = 'python')\n",
        "    else:\n",
        "      key_context = key_question.query(f'context.str.contains(\"{token[0]}|{token[1]}|{token[2]}\")', engine = 'python')\n",
        "      if len(key_context) == 0:\n",
        "        use_context = key_question.drop_duplicates(['context'], ignore_index = True)\n",
        "      else:\n",
        "        use_context = key_context.drop_duplicates(['context'], ignore_index = True)\n",
        "\n",
        "\n",
        "  context_li = []\n",
        "  for i in range(len(use_context)):\n",
        "    context_li.append(use_context['context'][i])\n",
        "  \n",
        "  # context = \" \".join(context_li)\n",
        "\n",
        "  # cos 유사도가 가장 높은 context 추출\n",
        "  tfidf_vectorizer=TfidfVectorizer()\n",
        "  cos = []\n",
        "\n",
        "  for i in range(len(context_li)):\n",
        "    sent=(context_li[i],\n",
        "          user_question)\n",
        "    tfidf_matrix=tfidf_vectorizer.fit_transform(sent)\n",
        "    cos.append(cosine_similarity(tfidf_matrix[0],tfidf_matrix[1])[0][0])\n",
        "\n",
        "  context_idx = cos.index(max(cos))\n",
        "\n",
        "  return context_li[context_idx]\n",
        "  # return max(cos)"
      ],
      "metadata": {
        "id": "ajnYaLmzA5hp"
      },
      "execution_count": 387,
      "outputs": []
    },
    {
      "cell_type": "code",
      "source": [
        "# cos 유사도 추가 - 모든 단어 넣기(OR 연산)\n",
        "\n",
        "def cos_test(user_question):\n",
        "  token_li = okt.phrases(user_question)\n",
        "  # token_len = len(token_li) - (len(token_li)-3)\n",
        "  # token = token_li[:token_len]\n",
        "  text = ''\n",
        "  for i in range(len(token_li)):\n",
        "    text += f'{token_li[i]}|'\n",
        "\n",
        "  token = text[:-1]\n",
        "\n",
        "  key_title = test_df.query(f'title.str.contains(\"{token}\")', engine = 'python')\n",
        "  if len(key_title) == 0:\n",
        "    key_question = test_df.query(f'question.str.contains(\"{token}\")', engine = 'python')\n",
        "    if len(key_question) == 0:\n",
        "     key_context = test_df.query(f'context.str.contains(\"{token}\")', engine = 'python')\n",
        "    else:\n",
        "     key_context = key_question.query(f'context.str.contains(\"{token}\")', engine = 'python')\n",
        "     if len(key_context) == 0:\n",
        "      use_context = key_question.drop_duplicates(['context'], ignore_index = True)\n",
        "     else:\n",
        "      use_context = key_context.drop_duplicates(['context'], ignore_index = True)\n",
        "\n",
        "  else:\n",
        "    key_question = key_title.query(f'question.str.contains(\"{token}\")', engine = 'python')\n",
        "    if len(key_question) == 0:\n",
        "      key_context = key_title.query(f'context.str.contains(\"{token}\")', engine = 'python')\n",
        "    else:\n",
        "      key_context = key_question.query(f'context.str.contains(\"{token}\")', engine = 'python')\n",
        "      if len(key_context) == 0:\n",
        "        use_context = key_question.drop_duplicates(['context'], ignore_index = True)\n",
        "      else:\n",
        "        use_context = key_context.drop_duplicates(['context'], ignore_index = True)\n",
        "\n",
        "\n",
        "  context_li = []\n",
        "  for i in range(len(use_context)):\n",
        "    context_li.append(use_context['context'][i])\n",
        "  \n",
        "  # context = \" \".join(context_li)\n",
        "\n",
        "  tfidf_vectorizer=TfidfVectorizer()\n",
        "  cos = []\n",
        "\n",
        "  for i in range(len(context_li)):\n",
        "    sent=(context_li[i],\n",
        "          user_question)\n",
        "    tfidf_matrix=tfidf_vectorizer.fit_transform(sent)\n",
        "    cos.append(cosine_similarity(tfidf_matrix[0],tfidf_matrix[1])[0][0])\n",
        "\n",
        "  context_idx = cos.index(max(cos))\n",
        "\n",
        "  return context_li[context_idx]\n",
        "  # return max(cos)"
      ],
      "metadata": {
        "id": "3r3H1o1vGYLb"
      },
      "execution_count": 401,
      "outputs": []
    },
    {
      "cell_type": "code",
      "source": [
        "cos_test(input('질문 : '))"
      ],
      "metadata": {
        "id": "zpQkLUw7OOUe"
      },
      "execution_count": null,
      "outputs": []
    },
    {
      "cell_type": "code",
      "source": [
        "# cos 유사도 추가 - 모든 단어 넣기(AND 연산)\n",
        "\n",
        "def cos_test(user_question):\n",
        "  token_li = okt.phrases(user_question)\n",
        "  # token_len = len(token_li) - (len(token_li)-3)\n",
        "  # token = token_li[:token_len]\n",
        "  text = ''\n",
        "  for i in range(len(token_li)):\n",
        "    text += f'{token_li[i]}|'\n",
        "\n",
        "  token = text[:-1]\n",
        "\n",
        "  try:\n",
        "    key_title = test_df[test_df['title'].map(lambda x: all(string in x for string in token_li))]\n",
        "    if len(key_title) == 0:\n",
        "      key_question = test_df[test_df['question'].map(lambda x: all(string in x for string in token_li))]\n",
        "      if len(key_question) == 0:\n",
        "       key_context = test_df[test_df['context'].map(lambda x: all(string in x for string in token_li))]\n",
        "      else:\n",
        "        key_context = key_question[key_question['context'].map(lambda x: all(string in x for string in token_li))]\n",
        "        if len(key_context) == 0:\n",
        "          use_context = key_question.drop_duplicates(['context'], ignore_index = True)\n",
        "        else:\n",
        "          use_context = key_context.drop_duplicates(['context'], ignore_index = True)\n",
        "\n",
        "    else:\n",
        "      key_question = key_title[key_title['question'].map(lambda x: all(string in x for string in token_li))]\n",
        "      if len(key_question) == 0:\n",
        "        key_context = key_title[key_title['context'].map(lambda x: all(string in x for string in token_li))]\n",
        "      else:\n",
        "        key_context = key_question[key_question['context'].map(lambda x: all(string in x for string in token_li))]\n",
        "        if len(key_context) == 0:\n",
        "          use_context = key_question.drop_duplicates(['context'], ignore_index = True)\n",
        "        else:\n",
        "          use_context = key_context.drop_duplicates(['context'], ignore_index = True)\n",
        "    \n",
        "\n",
        "    context_li = []\n",
        "    for i in range(len(use_context)):\n",
        "      context_li.append(use_context['context'][i])\n",
        "    \n",
        "    # context = \" \".join(context_li)\n",
        "\n",
        "    tfidf_vectorizer=TfidfVectorizer()\n",
        "    cos = []\n",
        "\n",
        "    for i in range(len(context_li)):\n",
        "      sent=(context_li[i],\n",
        "            user_question)\n",
        "      tfidf_matrix=tfidf_vectorizer.fit_transform(sent)\n",
        "      cos.append(cosine_similarity(tfidf_matrix[0],tfidf_matrix[1])[0][0])\n",
        "\n",
        "    context_idx = cos.index(max(cos))\n",
        "\n",
        "    return context_li[context_idx]\n",
        "\n",
        "  except:\n",
        "\n",
        "    return print('해당 내용이 없습니다.')\n",
        "  # return max(cos)"
      ],
      "metadata": {
        "id": "7D4CtHMJL0a3"
      },
      "execution_count": 410,
      "outputs": []
    },
    {
      "cell_type": "code",
      "source": [
        "cos_test(input('질문 : '))"
      ],
      "metadata": {
        "id": "n6T-60MNHsMX",
        "colab": {
          "base_uri": "https://localhost:8080/",
          "height": 201
        },
        "outputId": "5e507d6e-96ed-4c1b-9d2a-27647f68e491"
      },
      "execution_count": 284,
      "outputs": [
        {
          "name": "stdout",
          "output_type": "stream",
          "text": [
            "질문 : 폴란드 남부 지역을 병합한 나라는?\n"
          ]
        },
        {
          "output_type": "execute_result",
          "data": {
            "text/plain": [
              "'폴란드의 역사에 대해 설명한다 원래 지금의 폴란드 땅에는 게르만족들이 살고 있었다 10세기 경 폴라니에족을 중심으로 나라가 형성되어 민족과 국토의 명칭이 생겨났다 966년 가톨릭을 받아들이며 피아스트 왕조가 성립되었고 그니에즈노와 크라쿠프가 정치적 중심지로 발전했다 200여년의 공국 분할 시대를 거쳐 중앙 집권 국가를 이루었다 1385년 피아스트 왕조에 이어 폴란드리투아니아의 연합 왕조인 야기에오 왕조 14∼16세기 수도 크라쿠프 가 탄생하였다 1410년 그룬발트 전투에서 독일군을 격파 발트해로 통하는 길이 열렸다 16세기에는 유럽의 곡창 지대로 최대 전성기를 맞았다 1573년 야기에오 왕조가 끝나고 귀족들이 국왕을 선출하는 일종의 귀족 공화정이 등장하였고 1596년에 수도를 크라쿠프에서 바르샤바로 이전했다 그러나 선거왕제 選擧王制 의 채용과 바르샤바로 천도한 후 귀족계급의 강대화와 투르크 스웨덴과 전쟁 등으로 국력이 쇠퇴하여 국운이 기울어졌다 18세기 후반에 왕권의 강화와 국가 개혁이 시도되었으나 프로이센 러시아 오스트리아 3국이 점진적으로 폴란드를 침입해 1795년 폴란드를 분할하여 나폴레옹에 의한 바르샤바 공국 시대 18071815 외에는 1795년부터 1918년까지 3국의 지배를 받게 되었다 그의 맞서 1830년 독립을 위한 혁명 정부를 조직 봉기로 이어졌으나 독립투쟁은 실패했다 이후 1차 세계 대전 중 월슨 대통령이 제창한 민족자결주의 원칙에 따라 1918년 독립하였다 19세기의 독립운동의 전통과 제1차 세계 대전을 기회로 국가 재건을 수행한 것이다 그 뒤 바르바니파르토 소장이 지휘하는 군인이 쿠데타를 일으킨다 1939년 나치 독일과 소련의 침략을 받고 서부지역은 나치 독일에 동부는 소련에 분할 점령되었다가 1945년 해방되었다 해방 후 1947년 총선 결과 노동자당의 압승으로 공산당 정부가 수립되었고 냉전을 거치며 소련의 강한 영향력 하에 있었다 그러나 경제 실정과 지도층의 부패로 노동자 파업이 일어났고 1981년 바웬사가 이끄는 자유 노조는 전국적으로 확산되었다 이후 민주화를 이루며 1990년 바웬사가 첫 민선 대통령이 되었다 1999년에 nato 2004년에 eu에 각각 가입하였다 폴란드의 역사는 10세기부터 시작되었다 폴란드 국가 형성의 특징은 부분이 모여서 전체를 이루는 것이 아니라 전체가 먼저 형성되고 나중에 부분으로 나뉘는 발전 형태를 이루고 있는데 이것은 그 후에 있었던 국가의 분열과 분할을 극복하고 다시 하나로 통일되는 과정에서 긍정적으로 작용하는등 국가의 성격과 역사발전에 중요한 의미를 부여하고 있다 9세기부터 10세기를 넘어오는 시기에 크라쿠프와 그니에즈노 지방이 국가성립의 기틀을 확립하는 데 중심적 역할을 했으며 963년에 폴란드 최초의 왕으로 인정되는 미에슈코 1세 재위 960992년 가 왕의 위치에 있을 때는 바르타 강 warta 과 비스와 강 중류지역 이른바 대폴란드 wielkopolska 지방과 쿠야비 kujawy 지방이 중심적 역할을 했다 미에슈코 1세는 국가 행정조직의 확대와 효과적인 운영을 통해서 국가 권력 기반을 공고히 한 다음 영토를 확장하기 시작했으며 대외 정책에서는 폴란드의 국익을 최대한 도모하기 위해서 독일과의 관계를 신축성 있게 유지했다 당시 신성로마제국의 영향권 안에 있었지만 대내외 정책을 추진하는 데에는 광범위한 자유를 누리고 있었으며 이미 중앙유럽의 강력한 국가로 성장해 있었다 또한 그의 업적중 중요한 것은 로마 가톨릭교를 국교로 받아들임으로써 폴란드를 라틴 문화권에 포함시킨 것이다 그리고 967년에는 발트해 연안까지 영토를 확장했으며 972년에는 그와 경쟁 관계에 있던 로마 제국의 변경백 markgraf 호도 hodo 의 침략을 격퇴하였다고 한다 미에슈코 1세가 사망한 후 권력 투쟁에서 장자인 볼레스와프 1세 흐로브리 bolesław i chroby 9921025 가 권력을 장악했다 그는 폴란드 영토를 비에프시 강 wieprz 상류와 부크 강 bug 유역과 산 강 san 상류의 프셰미실 przemysl 지역까지 확장 시켰다 보헤미아의 공작인 아달베르트 폰 프라크 adalbert 폴란드명 wojciech 의 순교가 계기가 되어 독일 마그데부르크 대주교의 거센 반발에도 불구하고 그니에즈노에 대주교구가 설치되었고 그 밑에는 새로이 크라쿠프 브로츠와프 wrocław 코워브제크 kołobrzeg 에 3개의 주교구가 설치되었다 오토 3세의 사망 이후 독일과의 관계는 극도로 악화되었고 1004년부터 시작된 독일과의 전쟁은 몇 년 동안을 제외하고는 1018년까지 계속되었다 그 후 베스프림 bezprym 이 왕권을 포기하자 독일에 조공을 바치는 공국으로 전락했고 국가권력의 약화로 폴란드는 극도의 혼란상태에 빠지게 되었고 모라비아는 체코에 슬로바키아는 헝가리에 병합되었다 이로써 볼레스와프 1세 bolesław 가 이루어 놓았던 수많은 업적들은 그의 사후 6년 만에 무너지고 말았다 당시 폴란드 국내가 온통 혼란에 휩싸여 있을 때 체코의 브셰티스와프 brzetysław 가 폴란드를 공격하여 남부 중서부 지역을 유린하였고 국가와 교회 조직이 붕괴하기에 이르렀다 이를 우려한 독일과 키예프 러시아는 결국 폴란드를 지원하기로 결정했다 그 과정에서 추방되었던 카지미에시 1세 오드노비치엘 kazimiesz 은 독일의 도움으로 남부의 소폴란드와 중서부의 대폴란드 지방을 탈환하였다 카지미에시 1세 때부터 크라쿠프가 점차 정치적 중심지 역할을 하기 시작했고 그니에즈노나 체코의 침입으로 황폐화된 대폴란드 지방과는 격차를 보이면서 발전하였다 흔히 그를 중흥왕 카지미에시라고도 한다 그 후 볼레스와프 2세가 권력을 이어 받으면서 대외적으로 적극적으로 활동한 결과 체코에 바치던 조공을 중단하고 헝가리와 키예프 러시아의 후계자 문제에 개입하여 자기가 지지하는 인물들을 왕좌에 올려놓는 데 성공하였다 11세기 후반은 교황과 로마황제 사이의 갈등이 심화되던 시기였다 이때 볼레스와프 2세는 교황을 지지하면서 정치적 물질적으로 독립을 내용으로 하는 교회의 개혁을 환영했다 1076년 그니에즈노 대주교가 관장한 대관식에서 폴란드 왕으로 즉위하면서 다시 폴란드 왕국의 건설이 실현되었다 그가 왕이되자 귀족들과 교회의 고위 성직자들을 중심으로 반왕세력이 형성되었다 이러한 갈등은 1079년 왕과 크라쿠프 주교 스타니스와프 stanisław 사이에서 극적으로 표출되었다 볼레스와프 2세 사후 실권은 총독 wojewoda 시에치에흐 sieciech p 의 손에 있었는데 그는 전 폴란드에 토지를 가지고 있는 대토지 귀족으로서 권력의 중앙집권화 정책을 강력하게 추진하면서 반대파들을 가혹하게 탄압했다 외교분야에서는 공동의 적인 체코를 겨냥하여 헝가리와의 우호관계를 강화했다 독일의 왕이며 로마 황제인 하인리히 5세는 즈비그니에프 zbigniew 문제를 구실로 폴란드 내정에 개입했다 그는 로마 제국에 반대해서 형성된 폴란드헝가리의 결속을 파괴하는 데 주력하면서 반독일적인 볼레스와프 2세를 제거하고 즈비그니에프를 왕좌에 앉힌다는 명분을 내걸고 폴란드를 공격했다 독일이 서쪽에서 폴란드로 침입했을 때 남쪽으로부터는 체코 군대가 밀고 들어왔다 그러나 전투 준비가 잘 되어 있었던 볼레스와프 2세의 군대는 수적으로 우세한 적군을 성공적으로 방어했다 그 결과 폴란드의 국제적 위상은 높아지게 되었고 체코는 실롱스크에 대한 요구를 포기함으로써 대외관계에서 자율권을 행사할 수 있었다 볼레스와프 3세의 일인 통치 시대가 확립되면서부터 영토 확장에 주력하기 시작했다 그는 미에슈코 1세 볼레스와프 1세 흐로브리 이후 폴란드 초기 역사에서 중요한 역할을 한 군주임에 틀림이 없다 하지만 그의 에너지는 형과의 권력투쟁과 이웃나라와의 전쟁으로 약화되었다 그는 거의 200년 동안 폴란드를 끊임없는 내전에 휩싸이게 했던 분할 공국시대의 문을 열게 한 계기가 되는 등 폴란드 역사에서 지울 수 없는 커다란 흔적을 남겼다 볼레스와프 3세가 사망한 후로부터 미에슈코 3세가 죽을 때 1202 까지 60여 년 동안은 그의 다섯 아들들 간의 피비린내나는 싸움으로 얼룩져 있었다 거기서 연장자로서 대공의 지위를 물려받은 브와디스와프 2세는 자기의 처남뻘이 되는 독일 황제 콘라트 3세 konrad ⅲ 가 자기를 지원할 것을 믿고 폴란드 통일을 시도했으나 권력의 봉권적 지방분권화는 당시 중부와 동부유럽에서 하나의 역사적 추세였기 때문에 반발에 부딪히고 말았다 1146년 포즈난 전투에서 패한 브와디스와프 2세는 독일로 망명하였고 그의 동생 고수머리 볼레스와프 4세가 권력을 장악하고 대공의 지위를 누리게 되었다 1152년 독일 황제가 된 프리드리히 1세는 브와디스와프 2세의 요청에 따라 1157년 폴란드 원정에 나섰다 볼레스와프 4세가 사망한 후 미에슈코 3세는 행정가로서 능력을 발휘하여 권력을 자기에게로 집중시키려고 노력했지만 그의 중앙집권화 정책은 대귀족들의 저항에 부딪히고 말았다 1180년 웽치차 회의에서 카지미에시는 자신의 권력 정통성을 확인받을 수 있었다 그는 가톨릭교회가 사실상 국가행정에 영향을 미칠 수 있는 길을 터놓았으며 연장자 우선제도를 폐지했다 그결과 폴란드가 분할 공국으로 더욱 세분화되는 것을 방지할 수 있었고 국내의 정책을 수행하는 데에 대공의 행동 반경이 그만큼 확대되었다 그의 아들 레셰크 leszek biały하얀 레셰크 는 연장자 우선 원칙을 무시하고 크라쿠프 주교들의 지지를 받아서 권좌에 올랐다 미에슈코의 군대는 그 과정에서 대폴란드로 밀려났다 미에슈코의 사망으로 인해 폴란드는 독자적인 3개의 공국으로 나뉘게 되었으나 공국의 수는 시간의 흐름에 따라 점점 늘어났고 그 크기는 그만큼 줄어들었다 국가가 소 공국으로 분열되어 국가의 통일성은 사실상 사라지게 되었지만 가톨릭 교회의 교구만은 정치적 핵분열 과정에도 영향을 받지 않고 그대로 유지되었기 때문에 폴란드 영토의 결속과 정신적 통일을 유지하는 데 대단히 중요한 역할을 떠맡게 되었다 소국분열 현상이 가장 두드러지게 나타났던 13세기는 폴란드 역사에서 흔히 몰락과 암흑의 세기로 간주되고 있다 폴란드 가톨릭 교회 수장인 대주교와 대폴란드의 브와디스와프 공 사이의 성직임명권을 둘러싼 싸움은 폴란드 사회의 통일성을 저해하고 있었다 카지미에시 2세는 부크 bug 강 유역의 브셰지치를 점령하고 소폴란드와 국경을 나누고 있는 할리츠국의 지배자 야로스와프 와모미슬 jarosław oamomysl 11531187 이 사망한 후에는 이 나라를 로만므스티슬라비츠가 차지하도록 도왔다 폴란드가 동남쪽 방향으로 진출함에 따라 필연적으로 헝가리와 충돌하게 되었는데 이때 헝가리의 안드레아시 2세 andreas ii 는 폴란드의 팽창에 위협을 느끼고 있었다 마조프셰 공국은 할리츠블라디미르 공국과 우호적인 관계를 가졌지만 발트해 연안의 프루스 족과 리투아니아족들로부터 자주 공격을 받았다 13세기 전반에 몽골 군대의 침입과 독일 기사단의 폴란드 진주는 폴란드를 비롯하여 중앙유럽의 역사에 결정적인 영향을 미쳤다 몽골 군대의 1차 침입으로 인한 폴란드 국토의 유린은 러시아 지역만큼 심하지는 않았으나 1259년과 1287년에 몽골군이 다시 쳐들어왔을 때 피해 상황은 심각하였다 그 후로 400년 동안 몽골인들의 빈번한 침범에 폴란드 농촌은 공동화되었고 토지소유 형태도 변화하여 대농장의 출현이 촉진되었다 독일 기사단은 폴란드 북부와 북동지방에서 12세기 후반과 13세기 초에 약탈을 위한 공격을 일삼고 있었다 그들의 공격은 푸오츠크 웽치차 야즈두프 등에까지 이르렀으며 심지어는 대폴란드의 일부 지역까지도 점령되었다 폴란드는 기사단이 프루스 족의 위협을 제거하고 비기독교 지역을 기독교로 개종시키고 있다고 보고 있었기 때문에 기사단에 의한 자체적인 기독교 국가의 관세를 폴란드에 대한 위협으로 간주하지는 않았다 13세기 중엽 폴란드의 정치혼란이 극에 달했을 무렵 통일의 기운이 싹트기 시작했다 계속된 지역 분할로 폴란드 각 지역의 재산소유가 사실상 불가능해진 귀족들은 차츰 국내정치 안정에 관심을 가지게 되었다 워키에텍의 왕권 회복이 폴란드의 완전한 통일 국가 건설을 의미하지는 않았다 진정한 통일 국가 건설은 카지미에시대왕의 통치 시대에 이루어졌다 1333년 왕위에 오른 카지미에시는 무엇보다도 체코의 룩셈부르칙과 독일 기사단 등 주변국과들과의 외교 관계를 중요시했으며 카지미에시는 또한 법과 행정체제의 재정비에 착수하기도 했다 그리고 국방 분야에서도 큰 변화를 일으켜 군사력의 증강을 위해서 국민 개병제가 도입되었다 카지미에시 재임기간 동안에는 경제도 크게 발전했는데 그 결과 국가 재정이 그만큼 튼튼해졌다 무역이 국가 경제에서 차지하는 비중도 증가되어 카지미에시의 보호관세 정책으로 폴란드 도시는 무역업을 통해 부를 축적할 수 있었다이 결과 무역으로 부를 축적하게 된 시민계층도 형성되었다카지미에시 대왕의 위대한 업적 중 하나는 1364년에 크라쿠프 대학을 설립한 일이다 이 대학은 우수한 공무원 양성을 목적으로 법학에 많은 비중을 두었으며 폴란드 학문의 중심지가 되었다 카지미에시 대왕 집권기에 폴란드는 폴란드의 독립성과 피아스트 왕조의 정통성을 모든 유럽국가들로부터 인정받았으나 1370년 카지미에시 대왕이 아들을 두지 못한 채 사망함으로써 피아스트 왕조의 폴란드 통치는 막을 내리게 되었다 카지미에시 대왕에게는 아들이 없었기 때문에 이전에 체결한 조약에 따라 폴란드 왕위는 헝가리 왕 루드비크 ludwik 러요시 1세 에게로 넘어갔다 또한 루드비크에게도 아들이 없었는데 그의 유일한 정치적 관심은 자기 딸에게 폴란드 왕위를 물려주는 일이었다 그래서 그는 폴란드 귀족들의 지지를 얻기 위해 귀족들의 특권을 대폭 확대시켰으나 국고 수입의 감소와 왕권의 약화를 초래했다 1382년 루드비크가 사망한 후 2년 동안 후계문제를 둘러싸고 권력 투쟁과 내전이 있은 다음 1384년 루드비크의 둘째 딸인 10세인 야드비가가 폴란드 왕으로 즉위했다 한편 리투아니아는 발트해 연안의 부족들중에서 독일 기사단의 위세에 굴복하지 않고 완강히 저항했던 유일한 공국이었다 리투아니아 대공에 대한 로마 교황청의 회유책에도 불구하고 여전히 리투아니아는 비기독교 국으로 남아있었다1384년에 폴란드 귀족들과 야기에오 사이에 양국을 결합시키는 합의가 이루어졌다 그 주요내용은 야기에우워가 로마 가톨릭교를 받아들이고 폴란드의 여왕 야드비가와 결혼하고 폴란드의 지배자가 되는 것이었다 그 대가로 야기에오는 자기가 지배하고 있는 리투아니아 영토를 폴란드에 통합시키기로 되어 있었다 1386년 야기에오는 가톨릭교 세례를 받은 후 곧이어서 야드비가와 결혼하고 폴란드 왕으로 즉위했다 이 야기에오 브와디스와프 2세는 폴란드리투아니아 제국을 건설한 위대한 군주로 평가되고 있으며 왕비 야드비가도 경건하고 헌신적이며 제국의 이익을 위해 자신을 행복을 기꺼이 희생했던 여왕으로 존경의 대상이 되고 있다 200년 동안 폴란드리투아니아 양국은 야기에우워 왕조에 의해서 결합되었다 폴란드 왕은 동시에 리투아니아의 대공이었다 그러나 리투아니아와 폴란드가 하나의 국가로 통합되지는 않았다 폴란드리투아니아간에 협정이 체결됨으로써 독일 기사단과의 전쟁이 불가피하게 되었다 전쟁 중 그룬발트 grunwald 에서 폴란드리투아니아의 승리는 대단히 큰 의미를 가지는 역사적인 대사건이다 독일 기사단은 폴란드 땅에서 처음으로 이와 같은 패배를 겪게 되었던 것이다 이 패배를 기점으로 독일 기사단은 서서히 멸망하기 시작했다 그러다가 1411년 토룬에서 폴란드와 독일 기사단 사이에 평화 협정이 체결되었다 이 협정에 따라서 즈무치는 리투아니아에 양도되었다 그러나 그것도 야기에오가 살아 있는 동안에만 리투아니아에 속하고 야기에오가 사망한 후에는 다시 독일 기사단에게 넘겨 주기로 합의되었다 비록 폴란드는 전쟁에서는 크게 승리했지만 정치적으로 그것을 제대로 이용하지 못했다 브와디스와프 야기에오 왕이 사망한 후 그의 장남인 브와디스와프 3세가 왕위에 올랐다 그는 그 당시 겨우 10살이었기 때문에 대귀족들에 의해서 섭정이 이루어졌다 그가 16세가 되었을 때에는 헝가리도 선거를 통해서 그를 헝가리 왕으로 맞이했다 헝가리인들은 오로지 대 투르크 전투에 폴란드의 도움을 필요로했기 때문에 폴라드헝가리 연합관계는 처음부터 한계를 내재하고 있었다 15세기 말 야기에우워 왕조는 네 나라의 왕위를 차지하고 있었다 브와디스와프는 체코와 헝가리의 왕이었고 올브라흐트 olbracht jan 는 1492년에 폴란드의 지배자였으며 알렉산데르는 리투아니아의 군주이기도 했다 그 결과 당시 유럽의 왕조 중 야기에우워 왕조가 유럽에서 가장 넓은 영토를 지배하고 있었다 그러나 야기에우워 왕조가 지배하고 있는 국가들간의 유대 관계는 밀접하지 못했다 그래서 투르크가 헝가리를 공격할 때 폴란드 군대는 물론 리투아니아 군대도 군사적으로 헝가리를 지원하지 않았다 따라서 한 군주가 두 나라를 지배한다고 해서 두 나라 사이의 관계가 군사 동맹등 밀접한 관계로 발전한다고는 볼 수 없는 것이다 1573년 바르샤바에서 열린 의회가 국왕 선거를 준비하고 있을 때 국왕의 비서 얀 자모이스키 j zamoyski 는 모든 귀족들에게 동등한 투표권을 부여하는 안을 관철시켰다 국왕 선거에서는 프랑스의 샤를 9세의 동생인 헨리크 발레지 henryk walezy 가 합스부르크 막시밀리안 2세의 아들 에른스트 ernst erzherzog 대공을 누르고 폴란드 국왕으로 선출되었다 1578년 스테판 바토리 stefan batory 는 리블란트 문제를 평화적으로 해결하려고 시도했지만 실패하자 모스크바를 상대로 대대적인 전쟁을 시작했다 그는 1579년에 폴로츠크 polock 를 점령하고 1580년에는 벨리키에 루키 velikie luki 요새를 함략시켰다 스테판 바토리는 이에 만족하지 않고 1583년 제3차 원정을 계약하고 있었다 이에 위협을 느낀 이반 4세는 평화회담을 제안했다 1587년 폴란드왕으로 선출된 지그문트 3세 바사 zygmunt ⅲ waza 는 교황청과 함스부르크왕과의 지원을 바탕으로 강력한 왕권 체제의 확립을 시도했다 지그문트 3세 바사는 스웨덴과 싸우는 한편 이반 4세의 사망후 러시아의 내정이 후계문제로 혼란에 빠져있을 때 모스크바를 영향권으로 끌어들이기 위해서 이반 4세의 아들임을 자처하는 가짜 드미트리를 지원하였다 1605년 가짜 드미트리는 모스크바 대토지 귀족들인 보야르 boyar 의 지원을 받아서 차르가 되었지만 1606년 바실리 수이스키 vassilij szujskij 가 주동이 된 모반에 의해서 살해되었다 그 후에 수이스키가 차르가 되었다 1609년 폴란드군은 스몰렌스크를 점령하고 대항하는 모스크바 군대를 패배시키고 모스크바에 입성하였다 지그문트 3세 바사는 스스로 러시아의 차르가 되기를 희망했지만 러시아의 보야르들은 그를 원하지 않았다 지그문트 3세 바사는 1596년 수도를 크라쿠프에서 바르샤바로 옮겼다 그가 지배하는 동안에 폴란드는 음악과 미술 등 예술의 일대 중흥기를 맞이하게 되었다 한편 우크라이나는 폴란드 귀족들이 지배하고 있었다 피지배계층인 우크라이나 농민들은 폴란드인들과는 달리 대부분이 러시아 정교회신자였기 때문에 폴란드인들과는 종교적으로 대립적인 관계에 있었다 또한 우크라이나인들에 대한 폴란드 귀족들의 지배는 탄압과 착취의 성격을 띠고 있었기 때문에 폴란드인들에 대해서 우크라이나인들은 적대적인 태도를 보이고 있었다 1648년 귀족 출신인 보흐단 흐멜니츠키 b chmielnicki 가 코사크 지도자 헤트만으로 선출된 후 급속도로 세력을 확장하게 되었고 1648년 그는 그때까지 숙적관계였던 크림 타타르와 동맹하고 반폴란드 봉기를 일으켰다 그 후 코사크타타르 연합군과 폴란드군이 충돌하였지만 1649년 즈보루프 평화 협정으로 전투가 종결되어 더 이상 확대되지는 않았다 1655년 4만 명 규모의 스웨덴 군대는 두 개의 군단으로 나뉘어서 리투아니아와 대폴란드 지방을 공격하기 시작했다 대폴란드의 오팔린스키와 리투아니아의 라치비우는 저항하지 않고 구스타브 군에 항복했다 라치비우는 폴란드리투아니아 연합은 해체되었다고 선언했다 바르샤바는 9월에 함락되었다 폴란드 왕 얀 카지미에시는 이미 9월 말에 실롱스크로 피신했다 폴란드 군은 도처에서 거의 저항없이 무너졌다 1655년 말부터 폴란드국민들의 사기가 높아지면서 스웨덴과의 전투에 대거 참여하게 시작했다 폴란드가 스웨덴과의 전투에서 승리할 수 있었던 중요한 요인중 하나는 타타르 군대의 적극적인 지원이었다 전황이 폴란드에게 유리하게 전개되자 주변 국가들도 폴란드와 연합하게 되었다 1658년 브롬베르크 bromberg 협정에 따라 덴마크 브란덴브르크 합스부르크는 폴란드 편에서 스웨덴과 싸웠다 프랑스의 중재로 1660년 올리바에서 평화 회담이 열리게 되었다 이 회담으로 스웨덴과 폴란드간의 왕위계승 문제는 종결되었다 1684년 폴란드는 오스트리아 베네치아와 교황청 사이에 체결된 대투르크 동맹인 신성동맹 에 가담하여 전쟁을 계속하였다 투르크와의 전쟁은 1699년 카르워비체 karłowice 평화협정으로 끝이 났지만 장기간 전쟁에 휩싸였다 폴란드의 국력은 급격히 쇠퇴하였다 폴란드가 빈 교외에서 투르크군을 물리친 것은 이교도의 위협으로부터 유럽 기독교 문명세계를 방어했다는 의미를 지닌 대단히 중요한 역사적 사건이었다 삭센 왕조 dynastia saska 는 폴란드역사에서 어두운 시대로 기록되고 있다 러시아와 프로이센은 이 시기에 국력을 강화하고 영토를 확장하여 강국으로 부상할 수 있는 토대를 마련했고 오스트리아는 헝가리와 연합하여 남동유럽의 지배자로서의 지위를 확고히 했다 이 시기에 폴란드는 투르크와 마찬가지로 몰락의 길을 걷고 있었다 18세기 후반 폴란드 귀족 공화국의 약체가 더욱 여실히 노출됨에 따라 폴란드와 국경을 접하고 있는 러시아 프로이센 오스트리아의 세 군주들은 폴란드를 나누어 점령하는 문제를 논의하기 시작했다 1768년 6월 러시아 정교회 신도들인 우크라이나 농민들이 폴란드 귀족들에 대해서 무장 폭동을 일으켰다 동남국경지방 후만 human 에서 시작된 이 반란은 중부와 동부지역으로 확산되었고 코사크들까지 이에 합세했으며 정교 성직자들의 지원을 받기도 했다 그러나 날로 난폭해지면서 수천 명의 인명 피해를 내고 결국 러시아폴란드군에 의해서 유혈 진압되었다 이 내란중에 폴란드 지주들과 유대인들이 가장 많이 희생되었다 오스트리아가 17691770년에 독일계 주민들이 살고있는 스피시 spisz 지역과 노비 타르크 nowy targ 노비 송치 스타리 송치 등 폴란드 남부지역을 병합했는데도 이에 대해서 폴란드는 어떤 물리적 대응도 하지 못했다 이렇게 영토를 점령 당해도 무방비상태인 폴란드를 놓고 러시아 프로이센 오스트리아는 1771년 초부터 본격적으로 폴란드 분할을 논의하기 시작했다 1772년 8월 5일 러시아 프로이센 오스트리아는 폴란드 분할 조약 1차 분할 을 체결하고 곧 이어서 각각 폴란드를 점령했다 이 조약은 1773년 8월 새로 선출된 의회의 대표단에 의해서 동의를 받았는데 이때는 만장일치제가 적용되지 않고 다수결로 결정되었다 폴란드 분할은 강대국들이 약소국을 자기들의 이해관계에 따라 자의적으로 나누어 가지는 고전적인 영토팽창 수법의 전례가 되었다 1791년 5월 3일 유럽 최초의 근대적인 성문 헌법인 53 헌법 konstytucja 3 maja 이 제정되었으나 친러파에 의한 타르코비차 반동의 결과 폐지되었다 1793년 9월 새로 소집된 의회는 러시아와 프로이센의 무력개입과 분할에 대한 항의 대신 침묵 속에 폴란드분할 조약 2차 분할 을 비준하고 말았다 이것으로써 폴란드 개혁 운동은 중단되고 53 헌법은 실현의 기회를 가지지도 못한 채 폐지되고 말았다 2차 분할 후 폴란드는 단지 21만km²의 영토와 370만의 인구를 가진 소국으로 전락하고 말았다 당시 코시치우슈키 봉기 powstanie kościuszki 는 러시아 지배에 대항한 무장봉기로써 라츠와비체 racławice 전투에서 승리하여 민족의식을 고취시켰다 1795년 폴란드 3차 분할은 폴란드를 유럽 지도에서 사라지게 했고 123년 동안 러시아 프로이센 오스트리아에 분할되어 그들의 지배를 받았다 러시아 프로이센 오스트리아 분할 3국은 자국 영토가 된 폴란드 지역에 자국의 행정 사법 사회제도 등을 도입하는 등 자국화 정책을 서둘렀다 분할 3국은 1797년 폴란드 polska 라는 말을 일절 사용하지 않기로 합의했다 반면에 폴란드 귀족들은 그들의 특권과 재산이 분할국에 의해 보장되었으므로 분할국에 기꺼이 협조하고 충성을 맹세했다 1797년 초 대행부와 연결되어 있던 얀 헨리크 동브로프스키 jan henryk dąbrowski 가 오스트리아군 소속으로 싸우다가 프랑스군 포로가 된 폴란드인들과 지원병들을 규합하였다 또한 그는 이들을 모체로 프랑스령 롬바르디아 공화국에서 8천 명 규모의 폴란드 의용군을 조직하였다 폴란드 의용군은 폴란드 해방을 위한 전투에 투입되기를 기다리고 있었지만 프랑스가 오스트리아와 1797년 평화 조약을 체결함에 따라 대 오스트리아 전투에 참가할 수 있는 기회를 가질 수 없었다 10만 명의 폴란드인이 참전했던 나폴레옹의 러시아 원정이 실패로 끝나자 나폴레옹에 걸었던 폴란드 민족의 모든 희망도 좌절되었다 1813년 2월 바르샤바를 점령한 러시아 군대는 5월에 이미 전 공국의 영토를 지배하게 되었다 공국이 멸망한 후에도 행정권은 러시아 점령군에게 넘어가지 않았고 새롭게 구성된 5인 최고위원회 에게 양도되었다 1815년 빈 회의에서 폴란드는 러시아 프로이센 오스트리아에 의해서 다시 분할되었다 1815년 6월 9일 빈 회의 최종 의정서에 따라 프로이센은 2차 분할시 획득했던 일부 지역과 포즈난 대공국 을 얻었고 오스트리아는 비엘리츠카 wieliczka 소금 광산과 1772년 분할시 차지했던 대부분의 지역을 다시 차지했다 크라쿠프는 3국의 감시하에 자체 헌법을 가진 자유시가 되었다 나머지 바르샤바 공국은 헌법에 의해서 러시아와 영원히 결합되는 폴란드 왕국으로 개편되었다 이렇게 되어 바르샤바 공국은 러시아와 프로이센에 의해서 분할되었다 민족들과의 불화는 결과적으로 반 오스트리아 민족연합전선이 형성되는 것을 방해했고 헝가리의 저항세력을 약화시켰다 1848년부터 1849년에 있었던 수많은 혁명운동에 폴란드인들이 거의 빠지지 않고 참가했지만 그중에서 성공한 예는 하나도 없었다 하지만 다른 민족들의 자유를 위한 투쟁에 희생된 대가로 폴란드인과 유럽의 다른 민족들간에는 새로운 유대감이 형성되었다 민족들의 봄 이 미처 개화도 못한 채 러시아 오스트리아 등 제국군대에 의해 진압된 후 실시되었던 탄압정치는 1850년까지 계속되었지만 1857년부터 시작된 경제위기 때문에 국민생활은 더욱 어려워졌다 노동자와 시민들은 노동조건의 향상 사회개혁 민주주의와 자유를 요구하기 시작했다 1853년 크림 전쟁이 발발하자 꺼져가던 폴란드 민족의 희망이 다시 살아나는 것 같았다 영국과 프랑스 투르크와 피에몬테 piemonte 가 러시아를 상대로 싸우고 있었기 때문에 폴란드의 망명단체들은 폴란드 의용군을 조직하여 대 러시아 전선에 투입하려고 계획했으나 망명단체 지도자들의 내분 때문에 군대는 조직되지 못했다 1850년대 초에는 자연적인 재해까지 겹치고 흉년과 홍수 전염병으로 갈리시아 농민들의 생활이 더욱 비참해졌다 그 결과 농촌에서의 사망률이 증가하고 이에 따라 인구가 감소되었다 이 지방에 산업이 일어날 징조는 아직 나타나고 있지 않고 있었다 1856년에 이르러서야 비로소 크라쿠프 krakew 르부프 lwew 간에 철도가 부설되기 시작하였다 1856년에는 탄압정치의 주역이었던 파스키에비치가 사망하자 알렉산드르 2세는 온건한 인물로 알려진 고르차코프 gorcakow m d 를 후임으로 임명하였다 1861년 2월 적파 는 대규모 시위를 벌였다 이후 농업협회는 농민해방을 러시아 정부에 서둘러 촉구하기도 했다 반러시아 여론이 분출되고 시위가 빈번히 일어남에 따라 러시아정부는 폴란드인들이 혐오하던 내무국장 무하노프 muchanov s 를 직위 해제하고 비엘로폴스키 wielopolski am 를 문화교육국장으로 임명했다 1월 봉기는 11월 봉기와는 달리 훈련된 부대도 가지고 있지 않았고 무기도 부족했을 뿐만 아니라 군사적인 지도자도 거의 없었다 봉기군의 사령관으로 내정된 미에로스와프스키는 프로이센지역에서 폴란드로 이동 중 러시아군대에 의해 진로가 차단되어 한번도 봉기군을 지휘할 수 있는 기회를 갖지 못하였다 1월 봉기중에는 대규모 전투가 일어나지 않았다 전투는 여러 지역에서 산발적으로 소규모 게릴라전 형식으로 진행되었기 때문에 10만이 넘는 러시아 군대에 의해서도 쉽게 진압되지 않았었다 비스마르크는 알벤스레벤 alvensleben g v 을 페테르부르크에 보내서 러시아와 1863년 2월 이른바 알벤스레벤 협약을 체결토록 했다 이에 따르면 프로이센과 러시아는 서로 협력하며 폴란드 반군이 다른 지역으로 넘어올 경우 국경을 무시하고 추격할 수 있는 권리를 상호 보장했다 이 협약은 프랑스 영국 오스트리아등 서유럽국가에 대한 러시아의 위치를 크게 강화시키는 결과를 가져왔다1863년 1월부터 1864년 4월까지 봉기기간 동안 크고 작은 무장 투쟁이 1천여 차례나 일어났다 그 사이에 수많은 지도자가 바뀌었고 게릴라 부대들간의 접촉도 일원화되어 있지 않았다 합스부르크 왕가 체제가 19 세기 후반에 동요함에 따라 폴란드 분할 이후 50년 동안 침체 상태에서 헤어나지 못하고 있던 갈리시아에서 폴란드 민족 문화운동이 활발하게 전개되었다 1895년에 설립된 폴란드 농민당 psl 은 대귀족들과 관료들을 상대로 농민들에 대한 정당한 토지분배 농민부담 감소 등 농민생활의 향상을 위해 활발한 활동을 벌였다 1913년에 이 농민당은 좌파와 우파로 양분되었다 그러나 갈리시아 지방에는 노동자들이 많지 않았기 때문에 사회주의 운동은 활발하게 일어나지 못했다 1848년의 봉기가 실패한 후 프로이센 점령지역에서는 성공적인 무장투쟁을 전개할 수 없다는 인식이 폴란드인들 사이에 확산됨에 따라 1850부터 포즈난 지역의 폴란드인들은 현실 타협적인 근본적인 노동운동 을 받아들이는 쪽으로 기울고 있었다 1867년에 포즈난은 북독일 연방에 합병되고 포즈난 지방으로 격하됨에 따라 그때까지 누리고 있던 정치 행정 문화 사회 등 여러 분야에서의 자치영역이 사라지게 되었다 1870년부터 독일 국내에서 시작된 이른바 문화투쟁 은 폴란드에서는 반가톨릭 교회 및 독일화정책의 형태로 나타났다 프로이센 정부는 폴란드내의 모든 지방 분권적 제도와 요소들을 폐지하고 자치 확대를 목표로 하는 어떠한 종류의 정치적 활동도 일어날 수 없도록 사회적 통제를 강화했다 1905년 러시아 혁명 1908년 오스트리아에 의한 보스니아 합병 19121913년 발칸 전쟁으로 유럽에는 전운이 감돌고 있었다 당시 폴란드 민족 운동단체들이 선택할 수 있는 입장은 세 가지였다 첫째는 민족 민주당이 주장하고 있는 것처럼 장차 러시아의 보호하에 폴란드 자치정부를 수립하는 것이고 둘째는 독일에 협력하여 폴란드 자치권을 최대한 확대하는 것이고 마지막으로는 오스트리아의 지원하에 폴란드 자치 국가를 오스트리아의 제국 내에 건설하는 방법이었다 하지만 당시 어느 분할 국가도 폴란드 문제에 대해서 구체적으로 뚜렷한 계획이 없었다 민족 민주당은 러시아에의 통합이 폴란드 자치와 모순되지 않는다고 주장했고 폴란드 사회당은 오로지 무장 투쟁만을 통해서 폴란드의 독립과 사회혁명을 실현시킬 수 있다고 주장했다 초기에 폴란드 사회당에게는 폴란드 독립과 사회혁명이 불가분의 관계였다 전쟁과 파업 시위와 전쟁에서의 패배 등으로 국내가 불안정해지자 차르 니콜라이 2세는 국민들의 요구를 수용하여 1905년에 노조를 합법화하고 의회 제도와 헌법을 도입할 것을 약속했다 그러나 1906년의 헌법은 폴란드 국내 상황을 크게 개선시키지는 못했다 폴란드 사회당 내부에서는 당 노선을 둘러싸고 분열 조짐이 나타나고 있었다 이들은 결국 폴란드 사회당 좌파로 분리해 나갔다 피우수트스키가 이끌고 있는 폴란드 사회당 혁명파는 여전히 무장 단체를 장악하고 있었는데 사회주의보다는 민족주의적 성격을 점점 강하게 띠기 시작했다 제1차 세계 대전 중 폴란드인 150만 명이 서로 다른 편에서 동족 상잔의 비극적인 전쟁에 참가했다 1916년 7월 피우스트스키는 오스트리아를 설득하여 오스트리아군에 소속되어 있는 폴란드 의용군으로부터 두 개의 폴란드 사단을 만드는 계획을 관철시켰다 나중에 폴란드 군대는 오스트리아독일 지원 부대로 개편되었는데 이에 항의하여 피우스트스키는 폴란드 사령관직을 사임했다 후에 독일에 의해 체포된 피우스트스키는 폴란드인들 사이에서 민족 운동의 희생자로 인식되었으며 가장 인기있는 민족 운동가로 부상하게 되었다 1917년 8월 드모프스키 dmowski r 와 민족 민주당원들에 의해서 성립된 폴란드 민족 위원회 knp 는 그 해 말까지 프랑스 영국 이탈리아 및 미국 정부의 승인을 받았다 1918년 10월 드모프스키는 장차 폴란드 국가에 대한 비전으로서 중앙집권적인 강력한 폴란드 민족 국가를 구상하고 있었다 반면에 피우스트스키는 폴란드의 주도하에 수많은 민족들을 포함하는 대연방 국가를 정치적 이상으로 삼고 있었다 1918년 10월 바르샤바의 섭정위원회는 독일 사령부와의 사전 협의를 거치지 않고 독자적으로 폴란드 민족에게 성명서를 발표하여 윌슨 대통령의 민족 자결권을 상기시키며 모든 정당이 참여하는 정부를 구성할 것과 제헌 의회의원 선거를 공고했다 루블린 lublin 에서는 스미그위 smigły r 의 지휘하에 폴란드 군사조직 pow 이 1918년 권력을 장악하고 다신스키를 수반으로 하는 폴란드 공화국 임시 인민 정부 가 성립되었다 11월 14일 섭정 위원회는 폴란드 민족에 대한 책임과 의무를 피우스트스키에게 양도하고 스스로 해체했다 한마디로 19181939년은 독립의 기간이었다 제1차 세계대전 후 탄생한 폴란드는 폴란드소비에트 연방 전쟁으로 영토를 확대하여 많은 이민족을 거느린 대국이 되었으나 1926년 피우스트스키의 군사 쿠데타에 의해 프랑스와의 협력관계가 독일과의 협력관계로 뒤바뀌었고 폴란드는 나치스화되어 갔다 폴란드 정부는 1932년에 소련과 1934년에 독일과 불가침조약을 체결했다 그러나 1939년 8월 23일 소련은 나치 독일 과 리벤트로프몰로토프 밀약을 맺어 동유럽을 독일과 소련이 각각 분할하기로 하는 비밀 의정서를 만들었다 이 의정서에서 폴란드 동부는 소련의 영향권에 두기로 인정받았다 이에 따라 나치 독일의 침입 1939년 9월 1일 과 소련의 침입 9월 17일 이 시작되어 서부 지역은 독일에 동부 지역은 소련에 분할 점령되었다 나치 독일의 점령은 대량 학살의 죽음의 수용소 를 만들어 내어 역사에 남을 잔학한 살상을 자행했다 소련이 폴란드 동부를 점령하는 동안 소련은 폴란드 국가를 해체하고 독일소련 회의에서 폴란드 의 미래 구조에 대하여 언명하였다131 소비에트 당국은 새로이 병합한 폴란드 땅에 즉시 소비에트화 작전을 개시하였다 소비에트 당국은 농업을 집단화하였으며 폴란드의 정부 재산과 개인 재산을 국유화하여 재분배하였다11 1943년 12월 테헤란 회담에서 처칠·스탈린·루즈벨트의 회동시 처칠은 영국은 폴란드가 독립 국가로서 복원되는데 지대한 관심이 있다 고 말하였다44 그러나 영국의 실무진은 이 문제가 연합국간에 마찰의 소지가 될 것을 우려하여 폴란드 문제를 꺼내길 우려하였다44 망명정부는 파리 함락 후 런던에서 활약하였으며 국내 게릴라 활동단체로는 망명정부 지휘하의 국내군과 폴란드 노동자당이 편성한 인민군 등이 있었다 1945년 해방되었으나 1944년 8월 국내군이 일으킨 대독일군 무장봉기인 바르샤바 봉기 는 그 평가를 둘러싸고 큰 문제를 남겼다 바르샤바 봉기로 시민 24만 명이 사망하고 63만 명이 오슈비엥침 아우슈비츠 등의 수용소에서 학살되었다 폴란드는 제2차 세계대전으로 600만 명 이상의 인명피해와 국민 재산의 38에 해당하는 재산피해를 입었으며 전후 정해진 현재의 국경은 역사적으로 보아 상당히 서쪽으로 이동되었다 1945년 통일정부가 성립되었으나 소련의 압력으로 1948년 노동자당과 사회당을 통합한 폴란드 노동자당 ppr 이 정권을 장악하여 1952년 폴란드 인민 공화국을 수립하고 그해 인민공화국 헌법을 제정하였다 1956년 6월 28일 포즈난 시의 지스포 기계 공장 노동자들이 최초로 봉기 포즈난 식량폭동 하여 곧 정치적인 자유를 요구하는 정치 시위로 번졌고 반소 자유화 운동이 확산되어 10월 19일에는 전 폴란드에서 반정부 폭동이 일어났다 그러자 소련의 니키타 흐루쇼프 카가노비치 아나스타스 미코얀 뱌체슬라프 몰로토프 등이 폴란드를 방문해서 무력 간섭의 위협을 가함으로써 폭동이 진압되고 이 호기 好機 를 이용하여 10월에 민족주의자 브와디스와프 고무우카가 소련에 충성을 맹세하여 소련의 후광을 입고 중앙위의 제1서기가 되어 정권을 장악하고 폴란드의 국민 탄압은 본격화되었다 91 그러나 고무우카도 70년 12월 발트해 연안도시에서 실질임금 저하에 항의하는 노동자 폭동이 일어나 퇴진하고 에드바르트 기에레크가 당 제1서기에 취임하였다 기에레크 정권은 경제의 재건을 위해 서방 국가들로부터 차관을 도입하여 중공업 우선의 공업화정책을 실시하였으나 270억 달러에 달하는 외채만 짊어지게 되었을 뿐 실패로 끝나고 경공업과 농업 등 소비재 산업이 급격히 쇠퇴하기에 이르러 다시 국민생활을 위협하게 되었다 차관 상환 무역수지 적자 19791980년의 마이너스 성장 등 불안한 경제상황 아래에서의 지도층의 부패로 인한 국민의 정치불신이 팽배한 가운데 1980년 7월 육류 가격인상을 계기로 발생한 노동자의 파업은 강한 정치적 색채를 띠면서 전국적으로 확대되어 2개월 동안 전국을 뒤흔들었다 정부는 8월 31일 그단스크에서 노동자측과 회담하여 파업권과 자주관리노조 즉 자유노조의 결성권을 인정하는 합의문서에 조인함으로써 공산권에서는 전례가 없는 대폭적인 권리를 노동자측에 허용하면서 사태를 수습하려고 시도하였다 그러나 결국 기에레크는 혼란의 책임을 지고 9월 해임되고 스타니스와프 카니아가 뒤를 이었다 노조결성권 획득 후에 결성된 자유노조의 연대 노조 는 곧 전국적으로 조직이 확산되어 11월에 정식으로 등록되었으며 38세의 바웬사가 위원장이 되었다 악화일로의 경제사정은 다시 전국 규모의 노동자 파업을 불러일으키고 1981년 10월 카니아를 권좌에서 물러나게 하였으며 참모총장 보이치에흐 야루젤스키가 서기장 및 총리 국방장관을 겸하게 되었다 바웬사가 이끄는 자유노조 연대에는 1천여만 명의 노동자가 참가하여 폴란드 자유화의 원동력이 되었다 그러나 야루젤스키 정권은 1981년 12월 전국에 계엄령을 선포하고 바웬사를 비롯한 노조지도자 반체제 지식인 5000여명을 체포함으로써 노조활동은 지하로 잠적하게 되었다 1982년 5월과 8월에는 계엄령하에서도 반정부 시위가 감행되었고 이 사이 주미 주일대사를 비롯한 폴란드인의 망명사태가 일어났다 정부는 1982년 10월 자유노조를 불법화하고 1983년 7월 계엄령을 해제한 후 위기상태법 1985년 12월 말까지 시한 을 제정함으로써 계엄해제에 대비한 안전장치를 마련하였다 정부의 강경정책에도 불구하고 자유노조를 중심으로 한 자유화운동은 꾸준히 전개되었고 1987년 11월 정부는 일련의 정치개혁 경제개혁에 대한 국민투표를 실시하였으나 부결되어 정부의 위신은 더욱 실추되었다 1988년 8월 다시 탄광을 중심으로 파업이 연발 전국적으로 확산되자 위험에 직면한 정부는 바웬사에게 자유노조 합법화를 등을 토의하기 위한 원탁회의를 제의 설득하여 파업을 종결시켰다 1989년 4월 당 정부 노조 지식인 대표 등 55명으로 이루어진 원탁회의 obrada okragłego stołu 에서는 자유노조의 합법화 자유선거에 의한 상원 신설 하원 460석 중 35의 자유선거 대통령제 신설 등이 결정되었다 그 결과 1989년 6월 실시된 총선에서 자유노조는 상원 100석 중 99석 하원에는 161석을 차지하여 압도적 승리를 거두었다 이어 열린 상 하원 합동회의는 7월 야루젤스키를 초대 대통령으로 선출하고 야루젤스키는 자유노조 기관지의 편집장 타데우시 마조비에츠키를 총리로 지명함으로써 동구 공산주의권에서는 사상 처음으로 비공산당 주도의 연립정권이 출범하게 되었다 그러나 마조비에츠키 정부 출범 후 개혁 속도의 지연과 옛 공산세력의 잔류 등에 불만을 품은 자유노조 등 개혁주도파들은 야루젤스키의 조기 퇴임 압력을 가하였고 야루젤스키가 이에 굴복함으로써 임기 5년의 직선대통령제가 채택되었다 이에 따라 1990년 11월과 12월 대통령 예비결선 선거가 실시되어 결선 선거에서 바웬사가 승리 전후의 첫 민선 대통령이 되었고 그 다음에 1995년 알렉산데르 크바시니에프스키가 대통령으로 선출되었다'"
            ],
            "application/vnd.google.colaboratory.intrinsic+json": {
              "type": "string"
            }
          },
          "metadata": {},
          "execution_count": 284
        }
      ]
    },
    {
      "cell_type": "code",
      "source": [
        "# cos 유사도 추가 - question vs question\n",
        "\n",
        "def cos_test(user_question):\n",
        "  token_li = okt.phrases(user_question)\n",
        "  # token_len = len(token_li) - (len(token_li)-3)\n",
        "  # token = token_li[:token_len]\n",
        "  text = ''\n",
        "  for i in range(len(token_li)):\n",
        "    text += f'{token_li[i]}|'\n",
        "\n",
        "  token = text[:-1]\n",
        "\n",
        "  key_question = test_df.query(f'question.str.contains(\"{token}\")', engine = 'python')\n",
        "  # key_title = test_df.query(f'title.str.contains(\"{token}\")', engine = 'python')\n",
        "  # if len(key_title) == 0:\n",
        "  #   key_question = test_df.query(f'question.str.contains(\"{token}\")', engine = 'python')\n",
        "  #   if len(key_question) == 0:\n",
        "  #    key_context = test_df.query(f'context.str.contains(\"{token}\")', engine = 'python')\n",
        "  #   else:\n",
        "  #    key_context = key_question.query(f'context.str.contains(\"{token}\")', engine = 'python')\n",
        "  #    if len(key_context) == 0:\n",
        "  #     use_context = key_question.drop_duplicates(['context'], ignore_index = True)\n",
        "  #    else:\n",
        "  #     use_context = key_context.drop_duplicates(['context'], ignore_index = True)\n",
        "\n",
        "  # else:\n",
        "  #   key_question = key_title.query(f'question.str.contains(\"{token}\")', engine = 'python')\n",
        "  #   if len(key_question) == 0:\n",
        "  #     key_context = key_title.query(f'context.str.contains(\"{token}\")', engine = 'python')\n",
        "  #   else:\n",
        "  #     key_context = key_question.query(f'context.str.contains(\"{token}\")', engine = 'python')\n",
        "  #     if len(key_context) == 0:\n",
        "  #       use_context = key_question.drop_duplicates(['context'], ignore_index = True)\n",
        "  #     else:\n",
        "  #       use_context = key_context.drop_duplicates(['context'], ignore_index = True)\n",
        "  use_context = key_question.drop_duplicates(['context'], ignore_index = True)\n",
        "\n",
        "  context_li = []\n",
        "  question_li = []\n",
        "  for i in range(len(use_context)):\n",
        "    context_li.append(use_context['context'][i])\n",
        "    question_li.append(use_context['question'][i])\n",
        "\n",
        "  # context = \" \".join(context_li)\n",
        "\n",
        "  tfidf_vectorizer=TfidfVectorizer()\n",
        "  cos = []\n",
        "\n",
        "  for i in range(len(question_li)):\n",
        "    sent=(question_li[i],\n",
        "          user_question)\n",
        "    tfidf_matrix=tfidf_vectorizer.fit_transform(sent)\n",
        "    cos.append(cosine_similarity(tfidf_matrix[0],tfidf_matrix[1])[0][0])\n",
        "\n",
        "  context_idx = cos.index(max(cos))\n",
        "\n",
        "  return context_li[context_idx]\n",
        "  # return question_li[context_idx]\n",
        "  # return max(cos)"
      ],
      "metadata": {
        "id": "tt2nZ3VYsitw"
      },
      "execution_count": 413,
      "outputs": []
    },
    {
      "cell_type": "code",
      "source": [
        "cos_test(input('질문 : '))"
      ],
      "metadata": {
        "colab": {
          "base_uri": "https://localhost:8080/",
          "height": 201
        },
        "outputId": "7aa87c9a-02f3-48ea-c1a4-5ca6a0d1e466",
        "id": "r2PDDZTnsitx"
      },
      "execution_count": 323,
      "outputs": [
        {
          "name": "stdout",
          "output_type": "stream",
          "text": [
            "질문 : 폴란드 남부 지역을 병합한 나라는?\n"
          ]
        },
        {
          "output_type": "execute_result",
          "data": {
            "text/plain": [
              "'폴란드 공화국 폴란드어 rzeczpospolita polska 제치포스폴리타 폴스카 약칭 폴란드 poland 폴란드어 polska 폴스카 은 중앙유럽에 있는 나라이다 폴란드는 16개 주 州 로 나뉘며 수도는 바르샤바이다 인구는 3850만으로언제 유럽 연합 eu 에서 6 번째로 인구가 많은 국가이다 또한 유럽에서 가장 큰 국가 중 하나이기도 한데 면적은 312679 제곱킬로미터이다 주요 종교는 로마 가톨릭이다 북위 46°54˚ 동경 14°24°에 걸쳐 중앙유럽의 대평원 지역에 위치하고 있다 국토의 75가 해발 200m 이하 동쪽으로는 벨라루스 우크라이나 리투아니아 및 러시아 월경지 칼리닌그라드주 남쪽으로는 체코 및 슬로바키아 서쪽으로는 독일 등 7개국과 접하고 있으며 북쪽으로는 발트 해에 접한다 오늘날의 폴란드 지역에는 한때 게르만 부족과 슬라브 부족이 거주했다 폴란드의 역사는 폴란드 공작이 기독교로 개종한 966년에 시작되었다 폴란드의 첫 번째 왕이 1025년에 선출되었고 피아스트 왕조가 부상했다 피아스트 왕조는 1370년에 끝나고 리투아니아와 정치적으로 연합하게 되면서 야기에우워 왕조가 시작되었다 1569년 루블린 조약으로 폴란드리투아니아 연방이 창설되면서 폴란드는 당대 유럽에서 가장 크고 인구가 많은 국가 중 하나로 떠오르며 번영했다 폴란드는 오랫동안 강력한 국가였으나 점차 쇠퇴하면서 결국 1795년 프로이센 러시아 오스트리아에 의해 완전히 분할되었다 폴란드인은 제1차 세계 대전 이후 1918년 11월 11일에 독립을 되찾았다 종교적 관용 때문에 폴란드는 매우 다문화 국가였지만 독일과 긴장된 외교 관계를 유지했다 제2차 세계 대전은 1939년 9월 1일 독일이 폴란드를 침략하면서 시작되었다 이 전쟁으로 폴란드의 유대인 인구를 포함하여 폴란드 국민 600만 명이 사망했다 전쟁이 끝나고 폴란드에 공산주의 정부가 설립되었다 1989년 공산주의의 붕괴 이후 폴란드는 민주주의 공화국이다 폴란드는 지역 강국이다 역동적인 경제를 가지고 있으며 gdp의 ppp는 12 조 달러로 추산된다 바르샤바에 소재한 증권 거래소는 중앙 유럽에서 가장 큰 증권거래소이다 이 나라는 매우 높은 생활 수준 삶의 질과 안전을 유지하고 있다 폴란드는 오랜 역사 속에서 독특한 문화 유산을 발전시켰으며 15개의 유네스코 세계 문화 유산을 보유하고 있다 폴란드 왕국은 슬라브 부족들의 합병으로 창안되었다 polanie vistulans pomeranians silesians lendians 과 masovians 10세기 경 폴라니에족을 중심으로 나라가 형성되어 민족과 국토의 명칭이 생겨났다 966년 가톨릭을 받아들이며 피아스트 왕조가 성립되었고 그니에즈노가 정치적 중심지로 발전했다 1098 년 11131158 년과 16 세기 동안 폴란드는 다른 유태인 그룹에게 피난처를 제공했다 1138 년에이 나라는 여러 지역으로 나뉘어졌다 1226 년에 독일 승려들이 폴란드에 초대되었다 튜턴 기사단 200 년간의 분단 이후이 나라는 다시 한번 중앙 집권 국가가 되었다 1320 년 이래로 폴란드의 왕은 크라쿠프에서 관을 씌웠다 1385년 피아스트 왕조에 이어 폴란드리투아니아의 연합 왕조인 야기에오 왕조가 탄생하였다 1410년 독일군은 grunwald에서 전투에서 졌다 그룬발트 전투 이 이벤트 덕분에 발트해로 통하는 길이 열리며 16세기에는 유럽의 곡창 지대로 최대 전성기를 맞았다 1573년 야기에우워 왕조가 끝나고 귀족 계층인 슐라흐타가 국왕을 선출하는 일종의 귀족 공화정이 등장하였고 1596년에 수도를 크라쿠프에서 바르샤바로 이전했다 오스만 제국 스웨덴과 전쟁 등으로 국력이 쇠퇴 프로이센 제정 러시아 오스트리아 3국이 점진적으로 폴란드를 침입해 1795년 폴란드를 분할하여 나폴레옹에 의한 바르샤바 공국 시대 18071815 외에는 1795년부터 1918년까지 3국의 지배를 받았다 그에 맞서 1830년 독립을 위한 혁명 정부를 조직하여 혁명으로 이어졌으나 제정 러시아의 탄압과 사상적 내분으로 독립투쟁은 실패했다 제1차 세계 대전 중 우드로 윌슨 미국 대통령이 제창한 민족자결주의 원칙에 따라 1918년 독립하였다 1919년 우크라이나와 벨라루스를 지배하던 폴란드리투아니아 연방 시절을 답습하고자 폴란드군이 커즌선을 넘고 소련에 대한 전쟁을 개시했다 이후 우크라이나 키예프까지 밀고 들어가던 폴란드군은 키예프 전투에서 큰 패배를 당하게 되고 금새 바르샤바 warszawa 까지 밀린다 하지만 바르샤바 전투에서 승리한 폴란드군은 다시 소련에 대한 공세를 재개하였다 결국 리가 조약으로 폴란드소련 전쟁이 끝나고 폴란드는 서우크라이나 서벨라루스 리투아니아 동부를 얻게 되었다 1926년 유제프 피우수트스키 józef piłsudski 원수가 쿠데타를 일으켜서 폴란드의 민주 정치는 끝나고 군사 정권이 시작되었다 1939년 나치 독일과 소련의 침략 제2차 세계 대전 을 받고 서부지역은 나치 독일에 동부는 소련에 분할 점령되었다가 1945년 해방되었다 전쟁이 끝난 뒤에 폴란드와 독일 사이에 오데르나이세선이라고 부르는 새로운 국경선이 확립되었다 이에 따라 폴란드는 옛 동부 영토를 소련에 양도했고 서부에 위치한 옛 독일 영토를 새로 획득했다 제2차 세계 대전이 끝난 직후 1945년 6월 노동자당 즉 공산당과 사회당이 중심이 되어 통일 정부를 세웠지만 1947년 총선 결과 노동자당의 압승으로 공산당 정부가 수립되었다 1948년에는 노동자당과 사회당이 합병해서 통일노동자당이 되고 1952년에는 인민공화국 헌법이 채택되었다 냉전을 거치며 소비에트 연방의 간섭 하에 있었다 1956년의 정변으로 당제1서기에 복귀한 브와디스와프 고무우카는 민족공산주의자로 친소파 親蘇派 를 몰아내고 정치범을 석방했으나 1970년의 노동자·학생 폭동으로 기에레크가 서기장으로 취임하여 친소 노선으로 바뀌었다 1976년 6월 24일 물가폭등 등으로 다시 노동자·학생이 봉기했으나 정치 권력의 변동은 없었다 그러나 경제 실정과 지도층의 부패로 노동자 파업 투쟁이 일어났고 1981년 레흐 바웬사가 이끄는 자유 노조는 전국적으로 확산되었다 이후 민주화를 이루며 1990년 레흐 바웬사가 첫 민선 대통령이 되었다 1999년에 nato 2004년에 유럽 연합에 각각 가입하였다 국토는 동서로 689km 남북으로 649km 뻗어 있는데 북쪽은 발트 해와 접한다 거의 90에 가까운 국토는 300m 이하의 평탄하고 완만한 지형으로서 국토 대부분이 유럽 대평원의 일부를 이루고 있다 남쪽 국경에 있는 수데티 산맥과 카르파티아 산맥을 제외하고는 100m 이상인 곳이 드물며 중남부의 타트리 산맥에는 해발 2499m의 폴란드 최고봉 리시 산이 있다 중부 및 남부의 일부 지역은 토질이 비옥하고 북부와 서부에는 황지와 이탄지가 많다 수데티 산맥과 카르파티아 산맥은 비스와 강 오드라 강의 분수령을 이룬다 폴란드에서 가장 긴 강인 비스와 강 전장 1068km 은 국토 중앙을 가로질러 흘러 광대한 유역평야를 이루고 호소 湖沼 가 산재하는 하류 지역에 운하를 발달시키고 발트해 여러 항구와 내륙 여러 시를 연결하는 교통상의 동맥을 이루고 있다 오드라 강은 서쪽 국경을 따라 흐른다 폴란드와 독일의 국경을 흐르는 내륙 수상교통의 동맥으로 주요 도시 근처의 지역 슈체친 수송물자는 슐레지엔의 석탄·철광석 등과 공업제품이다 기후는 온대에 속하여 서유럽의 해양성 기후와 동유럽의 대륙성 기후 사이가 지대에 위치해 있으며 강수량은 가장 많은 남부 국경 산악지대가 1000∼1100mm 가장 적은 중부가 평균 600mm이다 초춘 初春 초동 初冬 을 합쳐 연간 6계절로 구분하며 기온은 초봄과 가을에 0∼5℃ 봄·가을에 5∼15℃ 여름에 2025℃ 이상 겨울에 0℃ 이하로 연평균 기온은 7∼10℃이다 최저기온인 2월은 평균 약 영하 3℃ 최고의 7월은 약 19℃이다 지역적 격차는 적으나 북동부와 남부산지는 평균보다 기온이 낮다 또한 겨울철 2∼3개월간은 하천이 언다 삼림도 서유럽의 활엽수림으로부터 동유럽의 침엽수림 사이의 점이 지대로 침엽수림이 발달하고 서·남부에는 활엽수림도 섞이며 진귀한 바이슨 들소 이나 각종 조수류를 볼 수 있다 삼림 면적은 국토의 약 13을 차지한다 폴란드의 정치 체제는 기본적으로 행정부 입법부 사법부의 삼권분립에 기초한다 헌법 제10조 1항 폴란드의 행정부는 대통령과 각료회의로 구성된다 헌법 제10조 2항 대통령은 직선제로 선출하며 임기는 5년 2회 연임이 가능하다 대통령은 국가 원수로서 최고 대표자일 뿐 아니라 국정운영의 지속성을 보장한다 헌법 제126조 1항 총리는 각료회의의 수장으로서 정부의 대내외 정책을 수행한다 헌법 제146조 및 148조 총리는 대통령이 지명하며 임명 후 하원의 승인이 필요하다 의회의 형태는 양원제로 상원 100명 하원 460명으로 구성되어 있으며 임기는 4년이다 하원은 중선거구 비례대표제를 상원은 중선거구 다수대표제를 채택하고 있다 의회 내각제의 정부형태를 취하고 있는 폴란드 하원은 국정 운영기관인 정부 구성에 직접 참여하며 상원은 국정 운영 참여권 없이 하원의 견제기능을 주로 담당한다 1947년 공산당 정부가 수립된 후 1989년 7월 초대 대통령에 야루젤루스키가 선출됨과 동시에 마조비에츠키가 이끄는 전후 최초의 비공산연립정부가 수립됐다 폴란드 노동자당은 1990년 1월 스스로 공산주의 이념을 포기하고 사회민주당으로 전환 41년에 걸친 공산당 일당통치를 종식했다 동 11월 실시된 대통령 선거에서 자유노조의 레흐 바웬사가 대통령으로 선출됐다 현재 폴란드의 집권 여당은 법과 정의다 폴란드의 행정 구역은 16개 주 폴란드어 województwo 로 구성되어 있다 바르샤바를 포함한 5대 도시와 17현으로 되어 있고 도시 인구는 전 국민의 약 50를 차지한다 마조비아 mazowia 지방의 중심인 수도 바르샤바와 폴란드의 맨체스터 라는 별칭이 있는 공업 도시 우치가 국토의 중앙부에 있으며 남부의 갈리치아 galicia 지방에는 노바후타 nowa huta 제철소가 있는 고도 古都 크라코프의 중세적인 옛모습을 보여주고 있다 서부 대 大 폴란드 지방에는 상공업도시 포즈나니가 있고 슐레지아 지방에는 옛 독일 공업도시인 브로츠와프 wrocław 가 있다 그 외에 광공업도시 카토비체 katowice 와 비스와 강 하구에 위치한 그다니스크 gdańsk 등도 중요한 도시이다 폴란드군 총사령부 예하 지상군 공군 해군 특수군으로 이루어져 있다 폴란드군은 1918년 10월 12일 창설되었다 2007년 gdp ppp 는 6320억 gdp 성장률 7 1인당 gdp는 약 13400 1인당 gdp 수치는 2017년 기준 이다 전전 戰前 은 농업국이었으나 전후 戰後 의 공업화 정책에 의해 농업인구는 7할에서 계속 감소하고 농·공업국으로 변해가고 있다 2007년 현재 폴란드의 산업이 gdp에서 차지하는 비중은 농업 2 공업 32 서비스업 66이다 주요 농축산물로는 라이보리·밀·보리·귀리·감자 및 소·돼지·말 등이다 수차례의 경제계획을 기초로 특히 중화학공업이 현저히 성장하여 기계공업이 가장 선도적인 공업부문이 되었다 주요공업으로는 철강공업·조선업·자동차공업·농기계공업 및 건설기계·공작기계 등이다 또 유럽 제일의 실롱스크 탄전이 있어 폴란드의 산업화에 크게 기여하고 있으며 그 외에도 납·아연의 산출이 많다 석유·천연가스가 발견되어 채굴되고 있는데 산유량이 충분하지 않은 탓에 러시아 연방으로부터의 수입에 크게 의존하고 있다 폴란드는 중앙유럽국가 중 가장 급진적인 시장경제체제를 도입 적극적인 민영화 정책을 추진하고 있다 1990년 말에는 경제가 침체국면에 빠졌으나 1991년 이후 연평균 제조업 성장률 9를 기록하고 있으며 실업률도 구 공산권국가 중 극히 드문 수준인 15선이다 2001년의 무역 규모도 수출이 360억 9200만 달러 수입이 502억 7500만 달러였다 2006년 기준 수출액은 1124억 달러 수입액은 1162억 달러이며 최대 교역국은 독일이다 폴란드는 상당한 양의 광물자원을 보유하고 있다 구리 황 아연 납 은 마그네슘 암염 등의 광물이 많이 나고 무연탄과 갈탄은 세계 5위 보유국이다 또한 상업적으로 유용한 석회석 고령토 점토 석유와 천연가스 등의 자원도 보유하고 있는데 이런 천연자원은 폴란드의 수출에 큰 기여를 하고 있다 주요 공업으로는 크라쿠프의 철강 공업 슈체친·그단스크·그디니아의 조선업 루블린의 자동차 공업 바르샤바의 농기구 공업 등이 유명하며 건설 기계·공작 기계·오토메이션 기계의 생산도 늘고 있다 비교적 새로이 일어난 화학 공업은 실롱스크 지방·비스와 강 유역이 중심이고 오시비엥침에는 현대적인 공장이 있다 우치는 전통적인 섬유 공업 도시이며 식품 공업은 전통이 길어 그 분포가 전국적이다 폴란드의 농지 면적은 15만km2로 전체 국토 면적의 48를 차지하며 유럽에서는 러시아 연방 다음의 주요 농업국이다 밀 호밀 보리 감자가 주요 생산물이고 소 양 돼지 등의 사육이 활발하다 철도의 수송 효율은 구미 수준에 가까우며 장거리 버스나 트럭망도 발달하고 있다 해상교통도 역사가 얕음에도 불구하고 발트해 연안의 여러 항구를 기지로 하는 상선대가 동양에까지 뻗치는 항로를 개설하고 있다 슈체친 그단스크 그디니아 또한 약 7000km에 이르는 내륙 가항수로 內陸可航水路 의 의의도 크다 항공로도 바르샤바를 중심으로 국내외 항공회사의 영업이 활발히 진행되고 있다 다른 공항은 크라쿠프 그단스크 슈체친 포즈난 브로츠와프 등에서 있습니다 폴란드의 관광객은 증가하는 추세이다 주요 명소로는 대도시 크라쿠프 바르샤바 포즈난 슈체친 브로츠와프 그단스크 역사 박물관 문화 및 자연 국립 공원 타트리 산맥 및 엔터테인먼트 센터가 있다 수영장 지열 호텔과 식당 체인은 잘 발달되어 있는 편이다 폴란드는 오랫동안 다민족국가였으나 제2차 세계대전 후 영토이동과 주민교환이 이루어짐에 따라 폴란드인이 인구의 98를 차지하게 되어 사실상 단일 민족국가나 마찬가지가 되었다 그런데 인구는 2008년 금융위기를 기점으로 조금씩 줄어들고 있다 주택문제가 매우 심각하여 바르샤바 등지에서는 주택을 소유하는데 평균 20년 이상의 긴 세월이 걸린다 여성의 사회진출은 보편화되어 있고 이혼율은 다른 나라보다 낮다 복지제도는 무상의료 연금제도 신체장애인에 대한 보장 모성보호 등이 철저히 이루어지고 있으나 복지의 질적 수준이 낮기 때문에 국민의 3분의 1정도가 정부에서 정하는 사회적 최저선이하에서 생활하고 있다 9년제의 의무교육 다양한 중등교육 바르샤바나 크라쿠프대학 등의 고등교육기관도 충실하여 전통적인 지적 수준이 유지되고 있다 를 포함한 대학 도시에있는 대형 도서관 바르샤바 크라쿠프 포즈난 루블린 브로츠와프 카토비체 그단스크 비드고슈치 토룬 및 슈체친 인구는 약 3816만명으로 그 중 약 987가 폴란드인이다 이전에는 다민족국가였으나 제2차 세계 대전의 결과 현재와 같은 거의 단일 민족 국가가 되었다 그 외 소수파로 독일인 벨라루스인 우크라이나인 유태인 등이 있다 폴란드의 인구는 3800만명이 넘어 동구권에서 러시아와 우크라이나 다음으로 많다 폴란드 여성 1인당 합계출산율은 2004년 현재 eurostat 추정 123명으로 유럽 최하위이다 폴란드의 합계 출산율은 1990년대 초반 이래로 계속 줄어들기만 하다가 최근에 미세하나마 반등하였다 공용어는 슬라브어파에 서슬라브어군에 속하는 폴란드어로 문자는 로마자를 사용하며 체코어 슬로바키아어와 가까운 언어이다 현재에도 많은 40대 이상의 폴란드인은 러시아어를 알고 있지만 젊은 세대는 거의 대부분 영어를 배우고 있으며 체코어 슬로바키아어도 일부 학교에서 가르치기도 한다 하지만 주요 외국어는 영어 러시아어 독일어 순으로 배우고 있으며 제2외국어로 독일어나 프랑스어를 배우는 학생도 많다 또한 프랑코포니 참관국이기도 하다 일부는 체코어 슬로바키아어를 아는 폴란드인이 15 정도 있으며 우크라이나어 벨라루스어 리투아니아어 루신어 등을 사용하는 소수 민족들도 존재하고 있다 모든 교육기관은 국립으로 교육비가 무료이며 의무교육은 유아원 3년 초등학교 6년이다 크라쿠프에는 오랜 역사와 전통의 야기엘론스키 대학교가 바르샤바에는 바르샤바 대학교가 있다 코페르니쿠스 프레데리크 쇼팽 마리 퀴리 요한 바오로 2세 등이 폴란드 출신이다 폴란드는 마리 퀴리 헨리크 시엔키에비치 비스와바 심보르스카 브와디스와프 레이몬트와 체스와프 미워시 레흐 바웬사 등 다수의 노벨상 수상자를 배출하였다 마주르카가 대표적이며 그 외에도 폴로네즈나 폴카 등 여러 무곡에 맞추어 춤을 춘다 타트리 산맥 지방의 남자 춤인 구랄레 구랄레 루스치 카르파티아 산맥 지방의 콜로메지카 혹은 오랜 전통을 갖는 크라코비아크 등이 알려져 있다 포즈난 크라쿠프 로얄 캐슬 박물관의 직물 시비노우이시치에 항구 키 큰 배들 종족 the tall ships races 슈체친 봄 슈체친 음악 협회 슈체친 파이프 오르간 대성당 카미엔포모르스키 miś uszatek 어린이를위한 애니메이션 영화의 영웅 기념건축물 우치 루블린 브로츠와프 유럽 문화 수도 2016 제슈프 마리 퀴리 18671934 베스테르플라테 그단스크 비아워비에자 숲 참나무속 dąb beczka 천연기념물 그리스 네덜란드 노르웨이 뉴질랜드 대한민국 덴마크 독일 라트비아 룩셈부르크 리투아니아 멕시코 미국 벨기에 스웨덴 스위스 스페인 슬로바키아 슬로베니아 아이슬란드 아일랜드 에스토니아 영국 오스트레일리아 오스트리아 이스라엘 이탈리아 일본 체코 칠레 캐나다 터키 포르투갈 폴란드 프랑스 핀란드 헝가리 그리스 네덜란드 덴마크 독일 라트비아 레바논 루마니아 룩셈부르크 리투아니아 모나코 모로코 모리타니 몬테네그로 몰타 벨기에 보스니아 헤르체고비나 불가리아 스웨덴 스페인 슬로바키아 슬로베니아 시리아 아일랜드 알바니아 알제리 에스토니아 영국 오스트리아 요르단 이스라엘 이집트 이탈리아 체코 크로아티아 키프로스 터키 튀니지 팔레스타인 포르투갈 폴란드 프랑스 핀란드 헝가리'"
            ],
            "application/vnd.google.colaboratory.intrinsic+json": {
              "type": "string"
            }
          },
          "metadata": {},
          "execution_count": 323
        }
      ]
    },
    {
      "cell_type": "code",
      "source": [
        "# question 일치하는 context 추출\n",
        "\n",
        "def cos_test(user_question):\n",
        "\n",
        "  key_question = test_df.query(f'question.str.contains(\"{user_question}\")', engine = 'python')\n",
        "  use_context = key_question.drop_duplicates(['context'], ignore_index = True)\n",
        "  \n",
        "  if len(use_context) != 0:\n",
        "    return use_context['context'][0]\n",
        "  # context_li = []\n",
        "  # for i in range(len(use_context)):\n",
        "  #   context_li.append(use_context['context'][i])\n",
        "\n",
        "  # # context = \" \".join(context_li)\n",
        "\n",
        "  # tfidf_vectorizer=TfidfVectorizer()\n",
        "  # cos = []\n",
        "\n",
        "  # for i in range(len(question_li)):\n",
        "  #   sent=(question_li[i],\n",
        "  #         user_question)\n",
        "  #   tfidf_matrix=tfidf_vectorizer.fit_transform(sent)\n",
        "  #   cos.append(cosine_similarity(tfidf_matrix[0],tfidf_matrix[1])[0][0])\n",
        "\n",
        "  # context_idx = cos.index(max(cos))"
      ],
      "metadata": {
        "id": "RVenEQfK02Jk"
      },
      "execution_count": 445,
      "outputs": []
    },
    {
      "cell_type": "code",
      "source": [
        "cos_test(input('질문 : '))"
      ],
      "metadata": {
        "colab": {
          "base_uri": "https://localhost:8080/",
          "height": 201
        },
        "id": "1Y4ZTjmY1EQC",
        "outputId": "0f58ecd2-5d5e-41a9-8937-16c64f385f3c"
      },
      "execution_count": 439,
      "outputs": [
        {
          "name": "stdout",
          "output_type": "stream",
          "text": [
            "질문 : 폴란드 남부 지역을 병합한 나라는?\n"
          ]
        },
        {
          "output_type": "execute_result",
          "data": {
            "text/plain": [
              "'폴란드의 역사에 대해 설명한다 원래 지금의 폴란드 땅에는 게르만족들이 살고 있었다 10세기 경 폴라니에족을 중심으로 나라가 형성되어 민족과 국토의 명칭이 생겨났다 966년 가톨릭을 받아들이며 피아스트 왕조가 성립되었고 그니에즈노와 크라쿠프가 정치적 중심지로 발전했다 200여년의 공국 분할 시대를 거쳐 중앙 집권 국가를 이루었다 1385년 피아스트 왕조에 이어 폴란드리투아니아의 연합 왕조인 야기에오 왕조 14∼16세기 수도 크라쿠프 가 탄생하였다 1410년 그룬발트 전투에서 독일군을 격파 발트해로 통하는 길이 열렸다 16세기에는 유럽의 곡창 지대로 최대 전성기를 맞았다 1573년 야기에오 왕조가 끝나고 귀족들이 국왕을 선출하는 일종의 귀족 공화정이 등장하였고 1596년에 수도를 크라쿠프에서 바르샤바로 이전했다 그러나 선거왕제 選擧王制 의 채용과 바르샤바로 천도한 후 귀족계급의 강대화와 투르크 스웨덴과 전쟁 등으로 국력이 쇠퇴하여 국운이 기울어졌다 18세기 후반에 왕권의 강화와 국가 개혁이 시도되었으나 프로이센 러시아 오스트리아 3국이 점진적으로 폴란드를 침입해 1795년 폴란드를 분할하여 나폴레옹에 의한 바르샤바 공국 시대 18071815 외에는 1795년부터 1918년까지 3국의 지배를 받게 되었다 그의 맞서 1830년 독립을 위한 혁명 정부를 조직 봉기로 이어졌으나 독립투쟁은 실패했다 이후 1차 세계 대전 중 월슨 대통령이 제창한 민족자결주의 원칙에 따라 1918년 독립하였다 19세기의 독립운동의 전통과 제1차 세계 대전을 기회로 국가 재건을 수행한 것이다 그 뒤 바르바니파르토 소장이 지휘하는 군인이 쿠데타를 일으킨다 1939년 나치 독일과 소련의 침략을 받고 서부지역은 나치 독일에 동부는 소련에 분할 점령되었다가 1945년 해방되었다 해방 후 1947년 총선 결과 노동자당의 압승으로 공산당 정부가 수립되었고 냉전을 거치며 소련의 강한 영향력 하에 있었다 그러나 경제 실정과 지도층의 부패로 노동자 파업이 일어났고 1981년 바웬사가 이끄는 자유 노조는 전국적으로 확산되었다 이후 민주화를 이루며 1990년 바웬사가 첫 민선 대통령이 되었다 1999년에 nato 2004년에 eu에 각각 가입하였다 폴란드의 역사는 10세기부터 시작되었다 폴란드 국가 형성의 특징은 부분이 모여서 전체를 이루는 것이 아니라 전체가 먼저 형성되고 나중에 부분으로 나뉘는 발전 형태를 이루고 있는데 이것은 그 후에 있었던 국가의 분열과 분할을 극복하고 다시 하나로 통일되는 과정에서 긍정적으로 작용하는등 국가의 성격과 역사발전에 중요한 의미를 부여하고 있다 9세기부터 10세기를 넘어오는 시기에 크라쿠프와 그니에즈노 지방이 국가성립의 기틀을 확립하는 데 중심적 역할을 했으며 963년에 폴란드 최초의 왕으로 인정되는 미에슈코 1세 재위 960992년 가 왕의 위치에 있을 때는 바르타 강 warta 과 비스와 강 중류지역 이른바 대폴란드 wielkopolska 지방과 쿠야비 kujawy 지방이 중심적 역할을 했다 미에슈코 1세는 국가 행정조직의 확대와 효과적인 운영을 통해서 국가 권력 기반을 공고히 한 다음 영토를 확장하기 시작했으며 대외 정책에서는 폴란드의 국익을 최대한 도모하기 위해서 독일과의 관계를 신축성 있게 유지했다 당시 신성로마제국의 영향권 안에 있었지만 대내외 정책을 추진하는 데에는 광범위한 자유를 누리고 있었으며 이미 중앙유럽의 강력한 국가로 성장해 있었다 또한 그의 업적중 중요한 것은 로마 가톨릭교를 국교로 받아들임으로써 폴란드를 라틴 문화권에 포함시킨 것이다 그리고 967년에는 발트해 연안까지 영토를 확장했으며 972년에는 그와 경쟁 관계에 있던 로마 제국의 변경백 markgraf 호도 hodo 의 침략을 격퇴하였다고 한다 미에슈코 1세가 사망한 후 권력 투쟁에서 장자인 볼레스와프 1세 흐로브리 bolesław i chroby 9921025 가 권력을 장악했다 그는 폴란드 영토를 비에프시 강 wieprz 상류와 부크 강 bug 유역과 산 강 san 상류의 프셰미실 przemysl 지역까지 확장 시켰다 보헤미아의 공작인 아달베르트 폰 프라크 adalbert 폴란드명 wojciech 의 순교가 계기가 되어 독일 마그데부르크 대주교의 거센 반발에도 불구하고 그니에즈노에 대주교구가 설치되었고 그 밑에는 새로이 크라쿠프 브로츠와프 wrocław 코워브제크 kołobrzeg 에 3개의 주교구가 설치되었다 오토 3세의 사망 이후 독일과의 관계는 극도로 악화되었고 1004년부터 시작된 독일과의 전쟁은 몇 년 동안을 제외하고는 1018년까지 계속되었다 그 후 베스프림 bezprym 이 왕권을 포기하자 독일에 조공을 바치는 공국으로 전락했고 국가권력의 약화로 폴란드는 극도의 혼란상태에 빠지게 되었고 모라비아는 체코에 슬로바키아는 헝가리에 병합되었다 이로써 볼레스와프 1세 bolesław 가 이루어 놓았던 수많은 업적들은 그의 사후 6년 만에 무너지고 말았다 당시 폴란드 국내가 온통 혼란에 휩싸여 있을 때 체코의 브셰티스와프 brzetysław 가 폴란드를 공격하여 남부 중서부 지역을 유린하였고 국가와 교회 조직이 붕괴하기에 이르렀다 이를 우려한 독일과 키예프 러시아는 결국 폴란드를 지원하기로 결정했다 그 과정에서 추방되었던 카지미에시 1세 오드노비치엘 kazimiesz 은 독일의 도움으로 남부의 소폴란드와 중서부의 대폴란드 지방을 탈환하였다 카지미에시 1세 때부터 크라쿠프가 점차 정치적 중심지 역할을 하기 시작했고 그니에즈노나 체코의 침입으로 황폐화된 대폴란드 지방과는 격차를 보이면서 발전하였다 흔히 그를 중흥왕 카지미에시라고도 한다 그 후 볼레스와프 2세가 권력을 이어 받으면서 대외적으로 적극적으로 활동한 결과 체코에 바치던 조공을 중단하고 헝가리와 키예프 러시아의 후계자 문제에 개입하여 자기가 지지하는 인물들을 왕좌에 올려놓는 데 성공하였다 11세기 후반은 교황과 로마황제 사이의 갈등이 심화되던 시기였다 이때 볼레스와프 2세는 교황을 지지하면서 정치적 물질적으로 독립을 내용으로 하는 교회의 개혁을 환영했다 1076년 그니에즈노 대주교가 관장한 대관식에서 폴란드 왕으로 즉위하면서 다시 폴란드 왕국의 건설이 실현되었다 그가 왕이되자 귀족들과 교회의 고위 성직자들을 중심으로 반왕세력이 형성되었다 이러한 갈등은 1079년 왕과 크라쿠프 주교 스타니스와프 stanisław 사이에서 극적으로 표출되었다 볼레스와프 2세 사후 실권은 총독 wojewoda 시에치에흐 sieciech p 의 손에 있었는데 그는 전 폴란드에 토지를 가지고 있는 대토지 귀족으로서 권력의 중앙집권화 정책을 강력하게 추진하면서 반대파들을 가혹하게 탄압했다 외교분야에서는 공동의 적인 체코를 겨냥하여 헝가리와의 우호관계를 강화했다 독일의 왕이며 로마 황제인 하인리히 5세는 즈비그니에프 zbigniew 문제를 구실로 폴란드 내정에 개입했다 그는 로마 제국에 반대해서 형성된 폴란드헝가리의 결속을 파괴하는 데 주력하면서 반독일적인 볼레스와프 2세를 제거하고 즈비그니에프를 왕좌에 앉힌다는 명분을 내걸고 폴란드를 공격했다 독일이 서쪽에서 폴란드로 침입했을 때 남쪽으로부터는 체코 군대가 밀고 들어왔다 그러나 전투 준비가 잘 되어 있었던 볼레스와프 2세의 군대는 수적으로 우세한 적군을 성공적으로 방어했다 그 결과 폴란드의 국제적 위상은 높아지게 되었고 체코는 실롱스크에 대한 요구를 포기함으로써 대외관계에서 자율권을 행사할 수 있었다 볼레스와프 3세의 일인 통치 시대가 확립되면서부터 영토 확장에 주력하기 시작했다 그는 미에슈코 1세 볼레스와프 1세 흐로브리 이후 폴란드 초기 역사에서 중요한 역할을 한 군주임에 틀림이 없다 하지만 그의 에너지는 형과의 권력투쟁과 이웃나라와의 전쟁으로 약화되었다 그는 거의 200년 동안 폴란드를 끊임없는 내전에 휩싸이게 했던 분할 공국시대의 문을 열게 한 계기가 되는 등 폴란드 역사에서 지울 수 없는 커다란 흔적을 남겼다 볼레스와프 3세가 사망한 후로부터 미에슈코 3세가 죽을 때 1202 까지 60여 년 동안은 그의 다섯 아들들 간의 피비린내나는 싸움으로 얼룩져 있었다 거기서 연장자로서 대공의 지위를 물려받은 브와디스와프 2세는 자기의 처남뻘이 되는 독일 황제 콘라트 3세 konrad ⅲ 가 자기를 지원할 것을 믿고 폴란드 통일을 시도했으나 권력의 봉권적 지방분권화는 당시 중부와 동부유럽에서 하나의 역사적 추세였기 때문에 반발에 부딪히고 말았다 1146년 포즈난 전투에서 패한 브와디스와프 2세는 독일로 망명하였고 그의 동생 고수머리 볼레스와프 4세가 권력을 장악하고 대공의 지위를 누리게 되었다 1152년 독일 황제가 된 프리드리히 1세는 브와디스와프 2세의 요청에 따라 1157년 폴란드 원정에 나섰다 볼레스와프 4세가 사망한 후 미에슈코 3세는 행정가로서 능력을 발휘하여 권력을 자기에게로 집중시키려고 노력했지만 그의 중앙집권화 정책은 대귀족들의 저항에 부딪히고 말았다 1180년 웽치차 회의에서 카지미에시는 자신의 권력 정통성을 확인받을 수 있었다 그는 가톨릭교회가 사실상 국가행정에 영향을 미칠 수 있는 길을 터놓았으며 연장자 우선제도를 폐지했다 그결과 폴란드가 분할 공국으로 더욱 세분화되는 것을 방지할 수 있었고 국내의 정책을 수행하는 데에 대공의 행동 반경이 그만큼 확대되었다 그의 아들 레셰크 leszek biały하얀 레셰크 는 연장자 우선 원칙을 무시하고 크라쿠프 주교들의 지지를 받아서 권좌에 올랐다 미에슈코의 군대는 그 과정에서 대폴란드로 밀려났다 미에슈코의 사망으로 인해 폴란드는 독자적인 3개의 공국으로 나뉘게 되었으나 공국의 수는 시간의 흐름에 따라 점점 늘어났고 그 크기는 그만큼 줄어들었다 국가가 소 공국으로 분열되어 국가의 통일성은 사실상 사라지게 되었지만 가톨릭 교회의 교구만은 정치적 핵분열 과정에도 영향을 받지 않고 그대로 유지되었기 때문에 폴란드 영토의 결속과 정신적 통일을 유지하는 데 대단히 중요한 역할을 떠맡게 되었다 소국분열 현상이 가장 두드러지게 나타났던 13세기는 폴란드 역사에서 흔히 몰락과 암흑의 세기로 간주되고 있다 폴란드 가톨릭 교회 수장인 대주교와 대폴란드의 브와디스와프 공 사이의 성직임명권을 둘러싼 싸움은 폴란드 사회의 통일성을 저해하고 있었다 카지미에시 2세는 부크 bug 강 유역의 브셰지치를 점령하고 소폴란드와 국경을 나누고 있는 할리츠국의 지배자 야로스와프 와모미슬 jarosław oamomysl 11531187 이 사망한 후에는 이 나라를 로만므스티슬라비츠가 차지하도록 도왔다 폴란드가 동남쪽 방향으로 진출함에 따라 필연적으로 헝가리와 충돌하게 되었는데 이때 헝가리의 안드레아시 2세 andreas ii 는 폴란드의 팽창에 위협을 느끼고 있었다 마조프셰 공국은 할리츠블라디미르 공국과 우호적인 관계를 가졌지만 발트해 연안의 프루스 족과 리투아니아족들로부터 자주 공격을 받았다 13세기 전반에 몽골 군대의 침입과 독일 기사단의 폴란드 진주는 폴란드를 비롯하여 중앙유럽의 역사에 결정적인 영향을 미쳤다 몽골 군대의 1차 침입으로 인한 폴란드 국토의 유린은 러시아 지역만큼 심하지는 않았으나 1259년과 1287년에 몽골군이 다시 쳐들어왔을 때 피해 상황은 심각하였다 그 후로 400년 동안 몽골인들의 빈번한 침범에 폴란드 농촌은 공동화되었고 토지소유 형태도 변화하여 대농장의 출현이 촉진되었다 독일 기사단은 폴란드 북부와 북동지방에서 12세기 후반과 13세기 초에 약탈을 위한 공격을 일삼고 있었다 그들의 공격은 푸오츠크 웽치차 야즈두프 등에까지 이르렀으며 심지어는 대폴란드의 일부 지역까지도 점령되었다 폴란드는 기사단이 프루스 족의 위협을 제거하고 비기독교 지역을 기독교로 개종시키고 있다고 보고 있었기 때문에 기사단에 의한 자체적인 기독교 국가의 관세를 폴란드에 대한 위협으로 간주하지는 않았다 13세기 중엽 폴란드의 정치혼란이 극에 달했을 무렵 통일의 기운이 싹트기 시작했다 계속된 지역 분할로 폴란드 각 지역의 재산소유가 사실상 불가능해진 귀족들은 차츰 국내정치 안정에 관심을 가지게 되었다 워키에텍의 왕권 회복이 폴란드의 완전한 통일 국가 건설을 의미하지는 않았다 진정한 통일 국가 건설은 카지미에시대왕의 통치 시대에 이루어졌다 1333년 왕위에 오른 카지미에시는 무엇보다도 체코의 룩셈부르칙과 독일 기사단 등 주변국과들과의 외교 관계를 중요시했으며 카지미에시는 또한 법과 행정체제의 재정비에 착수하기도 했다 그리고 국방 분야에서도 큰 변화를 일으켜 군사력의 증강을 위해서 국민 개병제가 도입되었다 카지미에시 재임기간 동안에는 경제도 크게 발전했는데 그 결과 국가 재정이 그만큼 튼튼해졌다 무역이 국가 경제에서 차지하는 비중도 증가되어 카지미에시의 보호관세 정책으로 폴란드 도시는 무역업을 통해 부를 축적할 수 있었다이 결과 무역으로 부를 축적하게 된 시민계층도 형성되었다카지미에시 대왕의 위대한 업적 중 하나는 1364년에 크라쿠프 대학을 설립한 일이다 이 대학은 우수한 공무원 양성을 목적으로 법학에 많은 비중을 두었으며 폴란드 학문의 중심지가 되었다 카지미에시 대왕 집권기에 폴란드는 폴란드의 독립성과 피아스트 왕조의 정통성을 모든 유럽국가들로부터 인정받았으나 1370년 카지미에시 대왕이 아들을 두지 못한 채 사망함으로써 피아스트 왕조의 폴란드 통치는 막을 내리게 되었다 카지미에시 대왕에게는 아들이 없었기 때문에 이전에 체결한 조약에 따라 폴란드 왕위는 헝가리 왕 루드비크 ludwik 러요시 1세 에게로 넘어갔다 또한 루드비크에게도 아들이 없었는데 그의 유일한 정치적 관심은 자기 딸에게 폴란드 왕위를 물려주는 일이었다 그래서 그는 폴란드 귀족들의 지지를 얻기 위해 귀족들의 특권을 대폭 확대시켰으나 국고 수입의 감소와 왕권의 약화를 초래했다 1382년 루드비크가 사망한 후 2년 동안 후계문제를 둘러싸고 권력 투쟁과 내전이 있은 다음 1384년 루드비크의 둘째 딸인 10세인 야드비가가 폴란드 왕으로 즉위했다 한편 리투아니아는 발트해 연안의 부족들중에서 독일 기사단의 위세에 굴복하지 않고 완강히 저항했던 유일한 공국이었다 리투아니아 대공에 대한 로마 교황청의 회유책에도 불구하고 여전히 리투아니아는 비기독교 국으로 남아있었다1384년에 폴란드 귀족들과 야기에오 사이에 양국을 결합시키는 합의가 이루어졌다 그 주요내용은 야기에우워가 로마 가톨릭교를 받아들이고 폴란드의 여왕 야드비가와 결혼하고 폴란드의 지배자가 되는 것이었다 그 대가로 야기에오는 자기가 지배하고 있는 리투아니아 영토를 폴란드에 통합시키기로 되어 있었다 1386년 야기에오는 가톨릭교 세례를 받은 후 곧이어서 야드비가와 결혼하고 폴란드 왕으로 즉위했다 이 야기에오 브와디스와프 2세는 폴란드리투아니아 제국을 건설한 위대한 군주로 평가되고 있으며 왕비 야드비가도 경건하고 헌신적이며 제국의 이익을 위해 자신을 행복을 기꺼이 희생했던 여왕으로 존경의 대상이 되고 있다 200년 동안 폴란드리투아니아 양국은 야기에우워 왕조에 의해서 결합되었다 폴란드 왕은 동시에 리투아니아의 대공이었다 그러나 리투아니아와 폴란드가 하나의 국가로 통합되지는 않았다 폴란드리투아니아간에 협정이 체결됨으로써 독일 기사단과의 전쟁이 불가피하게 되었다 전쟁 중 그룬발트 grunwald 에서 폴란드리투아니아의 승리는 대단히 큰 의미를 가지는 역사적인 대사건이다 독일 기사단은 폴란드 땅에서 처음으로 이와 같은 패배를 겪게 되었던 것이다 이 패배를 기점으로 독일 기사단은 서서히 멸망하기 시작했다 그러다가 1411년 토룬에서 폴란드와 독일 기사단 사이에 평화 협정이 체결되었다 이 협정에 따라서 즈무치는 리투아니아에 양도되었다 그러나 그것도 야기에오가 살아 있는 동안에만 리투아니아에 속하고 야기에오가 사망한 후에는 다시 독일 기사단에게 넘겨 주기로 합의되었다 비록 폴란드는 전쟁에서는 크게 승리했지만 정치적으로 그것을 제대로 이용하지 못했다 브와디스와프 야기에오 왕이 사망한 후 그의 장남인 브와디스와프 3세가 왕위에 올랐다 그는 그 당시 겨우 10살이었기 때문에 대귀족들에 의해서 섭정이 이루어졌다 그가 16세가 되었을 때에는 헝가리도 선거를 통해서 그를 헝가리 왕으로 맞이했다 헝가리인들은 오로지 대 투르크 전투에 폴란드의 도움을 필요로했기 때문에 폴라드헝가리 연합관계는 처음부터 한계를 내재하고 있었다 15세기 말 야기에우워 왕조는 네 나라의 왕위를 차지하고 있었다 브와디스와프는 체코와 헝가리의 왕이었고 올브라흐트 olbracht jan 는 1492년에 폴란드의 지배자였으며 알렉산데르는 리투아니아의 군주이기도 했다 그 결과 당시 유럽의 왕조 중 야기에우워 왕조가 유럽에서 가장 넓은 영토를 지배하고 있었다 그러나 야기에우워 왕조가 지배하고 있는 국가들간의 유대 관계는 밀접하지 못했다 그래서 투르크가 헝가리를 공격할 때 폴란드 군대는 물론 리투아니아 군대도 군사적으로 헝가리를 지원하지 않았다 따라서 한 군주가 두 나라를 지배한다고 해서 두 나라 사이의 관계가 군사 동맹등 밀접한 관계로 발전한다고는 볼 수 없는 것이다 1573년 바르샤바에서 열린 의회가 국왕 선거를 준비하고 있을 때 국왕의 비서 얀 자모이스키 j zamoyski 는 모든 귀족들에게 동등한 투표권을 부여하는 안을 관철시켰다 국왕 선거에서는 프랑스의 샤를 9세의 동생인 헨리크 발레지 henryk walezy 가 합스부르크 막시밀리안 2세의 아들 에른스트 ernst erzherzog 대공을 누르고 폴란드 국왕으로 선출되었다 1578년 스테판 바토리 stefan batory 는 리블란트 문제를 평화적으로 해결하려고 시도했지만 실패하자 모스크바를 상대로 대대적인 전쟁을 시작했다 그는 1579년에 폴로츠크 polock 를 점령하고 1580년에는 벨리키에 루키 velikie luki 요새를 함략시켰다 스테판 바토리는 이에 만족하지 않고 1583년 제3차 원정을 계약하고 있었다 이에 위협을 느낀 이반 4세는 평화회담을 제안했다 1587년 폴란드왕으로 선출된 지그문트 3세 바사 zygmunt ⅲ waza 는 교황청과 함스부르크왕과의 지원을 바탕으로 강력한 왕권 체제의 확립을 시도했다 지그문트 3세 바사는 스웨덴과 싸우는 한편 이반 4세의 사망후 러시아의 내정이 후계문제로 혼란에 빠져있을 때 모스크바를 영향권으로 끌어들이기 위해서 이반 4세의 아들임을 자처하는 가짜 드미트리를 지원하였다 1605년 가짜 드미트리는 모스크바 대토지 귀족들인 보야르 boyar 의 지원을 받아서 차르가 되었지만 1606년 바실리 수이스키 vassilij szujskij 가 주동이 된 모반에 의해서 살해되었다 그 후에 수이스키가 차르가 되었다 1609년 폴란드군은 스몰렌스크를 점령하고 대항하는 모스크바 군대를 패배시키고 모스크바에 입성하였다 지그문트 3세 바사는 스스로 러시아의 차르가 되기를 희망했지만 러시아의 보야르들은 그를 원하지 않았다 지그문트 3세 바사는 1596년 수도를 크라쿠프에서 바르샤바로 옮겼다 그가 지배하는 동안에 폴란드는 음악과 미술 등 예술의 일대 중흥기를 맞이하게 되었다 한편 우크라이나는 폴란드 귀족들이 지배하고 있었다 피지배계층인 우크라이나 농민들은 폴란드인들과는 달리 대부분이 러시아 정교회신자였기 때문에 폴란드인들과는 종교적으로 대립적인 관계에 있었다 또한 우크라이나인들에 대한 폴란드 귀족들의 지배는 탄압과 착취의 성격을 띠고 있었기 때문에 폴란드인들에 대해서 우크라이나인들은 적대적인 태도를 보이고 있었다 1648년 귀족 출신인 보흐단 흐멜니츠키 b chmielnicki 가 코사크 지도자 헤트만으로 선출된 후 급속도로 세력을 확장하게 되었고 1648년 그는 그때까지 숙적관계였던 크림 타타르와 동맹하고 반폴란드 봉기를 일으켰다 그 후 코사크타타르 연합군과 폴란드군이 충돌하였지만 1649년 즈보루프 평화 협정으로 전투가 종결되어 더 이상 확대되지는 않았다 1655년 4만 명 규모의 스웨덴 군대는 두 개의 군단으로 나뉘어서 리투아니아와 대폴란드 지방을 공격하기 시작했다 대폴란드의 오팔린스키와 리투아니아의 라치비우는 저항하지 않고 구스타브 군에 항복했다 라치비우는 폴란드리투아니아 연합은 해체되었다고 선언했다 바르샤바는 9월에 함락되었다 폴란드 왕 얀 카지미에시는 이미 9월 말에 실롱스크로 피신했다 폴란드 군은 도처에서 거의 저항없이 무너졌다 1655년 말부터 폴란드국민들의 사기가 높아지면서 스웨덴과의 전투에 대거 참여하게 시작했다 폴란드가 스웨덴과의 전투에서 승리할 수 있었던 중요한 요인중 하나는 타타르 군대의 적극적인 지원이었다 전황이 폴란드에게 유리하게 전개되자 주변 국가들도 폴란드와 연합하게 되었다 1658년 브롬베르크 bromberg 협정에 따라 덴마크 브란덴브르크 합스부르크는 폴란드 편에서 스웨덴과 싸웠다 프랑스의 중재로 1660년 올리바에서 평화 회담이 열리게 되었다 이 회담으로 스웨덴과 폴란드간의 왕위계승 문제는 종결되었다 1684년 폴란드는 오스트리아 베네치아와 교황청 사이에 체결된 대투르크 동맹인 신성동맹 에 가담하여 전쟁을 계속하였다 투르크와의 전쟁은 1699년 카르워비체 karłowice 평화협정으로 끝이 났지만 장기간 전쟁에 휩싸였다 폴란드의 국력은 급격히 쇠퇴하였다 폴란드가 빈 교외에서 투르크군을 물리친 것은 이교도의 위협으로부터 유럽 기독교 문명세계를 방어했다는 의미를 지닌 대단히 중요한 역사적 사건이었다 삭센 왕조 dynastia saska 는 폴란드역사에서 어두운 시대로 기록되고 있다 러시아와 프로이센은 이 시기에 국력을 강화하고 영토를 확장하여 강국으로 부상할 수 있는 토대를 마련했고 오스트리아는 헝가리와 연합하여 남동유럽의 지배자로서의 지위를 확고히 했다 이 시기에 폴란드는 투르크와 마찬가지로 몰락의 길을 걷고 있었다 18세기 후반 폴란드 귀족 공화국의 약체가 더욱 여실히 노출됨에 따라 폴란드와 국경을 접하고 있는 러시아 프로이센 오스트리아의 세 군주들은 폴란드를 나누어 점령하는 문제를 논의하기 시작했다 1768년 6월 러시아 정교회 신도들인 우크라이나 농민들이 폴란드 귀족들에 대해서 무장 폭동을 일으켰다 동남국경지방 후만 human 에서 시작된 이 반란은 중부와 동부지역으로 확산되었고 코사크들까지 이에 합세했으며 정교 성직자들의 지원을 받기도 했다 그러나 날로 난폭해지면서 수천 명의 인명 피해를 내고 결국 러시아폴란드군에 의해서 유혈 진압되었다 이 내란중에 폴란드 지주들과 유대인들이 가장 많이 희생되었다 오스트리아가 17691770년에 독일계 주민들이 살고있는 스피시 spisz 지역과 노비 타르크 nowy targ 노비 송치 스타리 송치 등 폴란드 남부지역을 병합했는데도 이에 대해서 폴란드는 어떤 물리적 대응도 하지 못했다 이렇게 영토를 점령 당해도 무방비상태인 폴란드를 놓고 러시아 프로이센 오스트리아는 1771년 초부터 본격적으로 폴란드 분할을 논의하기 시작했다 1772년 8월 5일 러시아 프로이센 오스트리아는 폴란드 분할 조약 1차 분할 을 체결하고 곧 이어서 각각 폴란드를 점령했다 이 조약은 1773년 8월 새로 선출된 의회의 대표단에 의해서 동의를 받았는데 이때는 만장일치제가 적용되지 않고 다수결로 결정되었다 폴란드 분할은 강대국들이 약소국을 자기들의 이해관계에 따라 자의적으로 나누어 가지는 고전적인 영토팽창 수법의 전례가 되었다 1791년 5월 3일 유럽 최초의 근대적인 성문 헌법인 53 헌법 konstytucja 3 maja 이 제정되었으나 친러파에 의한 타르코비차 반동의 결과 폐지되었다 1793년 9월 새로 소집된 의회는 러시아와 프로이센의 무력개입과 분할에 대한 항의 대신 침묵 속에 폴란드분할 조약 2차 분할 을 비준하고 말았다 이것으로써 폴란드 개혁 운동은 중단되고 53 헌법은 실현의 기회를 가지지도 못한 채 폐지되고 말았다 2차 분할 후 폴란드는 단지 21만km²의 영토와 370만의 인구를 가진 소국으로 전락하고 말았다 당시 코시치우슈키 봉기 powstanie kościuszki 는 러시아 지배에 대항한 무장봉기로써 라츠와비체 racławice 전투에서 승리하여 민족의식을 고취시켰다 1795년 폴란드 3차 분할은 폴란드를 유럽 지도에서 사라지게 했고 123년 동안 러시아 프로이센 오스트리아에 분할되어 그들의 지배를 받았다 러시아 프로이센 오스트리아 분할 3국은 자국 영토가 된 폴란드 지역에 자국의 행정 사법 사회제도 등을 도입하는 등 자국화 정책을 서둘렀다 분할 3국은 1797년 폴란드 polska 라는 말을 일절 사용하지 않기로 합의했다 반면에 폴란드 귀족들은 그들의 특권과 재산이 분할국에 의해 보장되었으므로 분할국에 기꺼이 협조하고 충성을 맹세했다 1797년 초 대행부와 연결되어 있던 얀 헨리크 동브로프스키 jan henryk dąbrowski 가 오스트리아군 소속으로 싸우다가 프랑스군 포로가 된 폴란드인들과 지원병들을 규합하였다 또한 그는 이들을 모체로 프랑스령 롬바르디아 공화국에서 8천 명 규모의 폴란드 의용군을 조직하였다 폴란드 의용군은 폴란드 해방을 위한 전투에 투입되기를 기다리고 있었지만 프랑스가 오스트리아와 1797년 평화 조약을 체결함에 따라 대 오스트리아 전투에 참가할 수 있는 기회를 가질 수 없었다 10만 명의 폴란드인이 참전했던 나폴레옹의 러시아 원정이 실패로 끝나자 나폴레옹에 걸었던 폴란드 민족의 모든 희망도 좌절되었다 1813년 2월 바르샤바를 점령한 러시아 군대는 5월에 이미 전 공국의 영토를 지배하게 되었다 공국이 멸망한 후에도 행정권은 러시아 점령군에게 넘어가지 않았고 새롭게 구성된 5인 최고위원회 에게 양도되었다 1815년 빈 회의에서 폴란드는 러시아 프로이센 오스트리아에 의해서 다시 분할되었다 1815년 6월 9일 빈 회의 최종 의정서에 따라 프로이센은 2차 분할시 획득했던 일부 지역과 포즈난 대공국 을 얻었고 오스트리아는 비엘리츠카 wieliczka 소금 광산과 1772년 분할시 차지했던 대부분의 지역을 다시 차지했다 크라쿠프는 3국의 감시하에 자체 헌법을 가진 자유시가 되었다 나머지 바르샤바 공국은 헌법에 의해서 러시아와 영원히 결합되는 폴란드 왕국으로 개편되었다 이렇게 되어 바르샤바 공국은 러시아와 프로이센에 의해서 분할되었다 민족들과의 불화는 결과적으로 반 오스트리아 민족연합전선이 형성되는 것을 방해했고 헝가리의 저항세력을 약화시켰다 1848년부터 1849년에 있었던 수많은 혁명운동에 폴란드인들이 거의 빠지지 않고 참가했지만 그중에서 성공한 예는 하나도 없었다 하지만 다른 민족들의 자유를 위한 투쟁에 희생된 대가로 폴란드인과 유럽의 다른 민족들간에는 새로운 유대감이 형성되었다 민족들의 봄 이 미처 개화도 못한 채 러시아 오스트리아 등 제국군대에 의해 진압된 후 실시되었던 탄압정치는 1850년까지 계속되었지만 1857년부터 시작된 경제위기 때문에 국민생활은 더욱 어려워졌다 노동자와 시민들은 노동조건의 향상 사회개혁 민주주의와 자유를 요구하기 시작했다 1853년 크림 전쟁이 발발하자 꺼져가던 폴란드 민족의 희망이 다시 살아나는 것 같았다 영국과 프랑스 투르크와 피에몬테 piemonte 가 러시아를 상대로 싸우고 있었기 때문에 폴란드의 망명단체들은 폴란드 의용군을 조직하여 대 러시아 전선에 투입하려고 계획했으나 망명단체 지도자들의 내분 때문에 군대는 조직되지 못했다 1850년대 초에는 자연적인 재해까지 겹치고 흉년과 홍수 전염병으로 갈리시아 농민들의 생활이 더욱 비참해졌다 그 결과 농촌에서의 사망률이 증가하고 이에 따라 인구가 감소되었다 이 지방에 산업이 일어날 징조는 아직 나타나고 있지 않고 있었다 1856년에 이르러서야 비로소 크라쿠프 krakew 르부프 lwew 간에 철도가 부설되기 시작하였다 1856년에는 탄압정치의 주역이었던 파스키에비치가 사망하자 알렉산드르 2세는 온건한 인물로 알려진 고르차코프 gorcakow m d 를 후임으로 임명하였다 1861년 2월 적파 는 대규모 시위를 벌였다 이후 농업협회는 농민해방을 러시아 정부에 서둘러 촉구하기도 했다 반러시아 여론이 분출되고 시위가 빈번히 일어남에 따라 러시아정부는 폴란드인들이 혐오하던 내무국장 무하노프 muchanov s 를 직위 해제하고 비엘로폴스키 wielopolski am 를 문화교육국장으로 임명했다 1월 봉기는 11월 봉기와는 달리 훈련된 부대도 가지고 있지 않았고 무기도 부족했을 뿐만 아니라 군사적인 지도자도 거의 없었다 봉기군의 사령관으로 내정된 미에로스와프스키는 프로이센지역에서 폴란드로 이동 중 러시아군대에 의해 진로가 차단되어 한번도 봉기군을 지휘할 수 있는 기회를 갖지 못하였다 1월 봉기중에는 대규모 전투가 일어나지 않았다 전투는 여러 지역에서 산발적으로 소규모 게릴라전 형식으로 진행되었기 때문에 10만이 넘는 러시아 군대에 의해서도 쉽게 진압되지 않았었다 비스마르크는 알벤스레벤 alvensleben g v 을 페테르부르크에 보내서 러시아와 1863년 2월 이른바 알벤스레벤 협약을 체결토록 했다 이에 따르면 프로이센과 러시아는 서로 협력하며 폴란드 반군이 다른 지역으로 넘어올 경우 국경을 무시하고 추격할 수 있는 권리를 상호 보장했다 이 협약은 프랑스 영국 오스트리아등 서유럽국가에 대한 러시아의 위치를 크게 강화시키는 결과를 가져왔다1863년 1월부터 1864년 4월까지 봉기기간 동안 크고 작은 무장 투쟁이 1천여 차례나 일어났다 그 사이에 수많은 지도자가 바뀌었고 게릴라 부대들간의 접촉도 일원화되어 있지 않았다 합스부르크 왕가 체제가 19 세기 후반에 동요함에 따라 폴란드 분할 이후 50년 동안 침체 상태에서 헤어나지 못하고 있던 갈리시아에서 폴란드 민족 문화운동이 활발하게 전개되었다 1895년에 설립된 폴란드 농민당 psl 은 대귀족들과 관료들을 상대로 농민들에 대한 정당한 토지분배 농민부담 감소 등 농민생활의 향상을 위해 활발한 활동을 벌였다 1913년에 이 농민당은 좌파와 우파로 양분되었다 그러나 갈리시아 지방에는 노동자들이 많지 않았기 때문에 사회주의 운동은 활발하게 일어나지 못했다 1848년의 봉기가 실패한 후 프로이센 점령지역에서는 성공적인 무장투쟁을 전개할 수 없다는 인식이 폴란드인들 사이에 확산됨에 따라 1850부터 포즈난 지역의 폴란드인들은 현실 타협적인 근본적인 노동운동 을 받아들이는 쪽으로 기울고 있었다 1867년에 포즈난은 북독일 연방에 합병되고 포즈난 지방으로 격하됨에 따라 그때까지 누리고 있던 정치 행정 문화 사회 등 여러 분야에서의 자치영역이 사라지게 되었다 1870년부터 독일 국내에서 시작된 이른바 문화투쟁 은 폴란드에서는 반가톨릭 교회 및 독일화정책의 형태로 나타났다 프로이센 정부는 폴란드내의 모든 지방 분권적 제도와 요소들을 폐지하고 자치 확대를 목표로 하는 어떠한 종류의 정치적 활동도 일어날 수 없도록 사회적 통제를 강화했다 1905년 러시아 혁명 1908년 오스트리아에 의한 보스니아 합병 19121913년 발칸 전쟁으로 유럽에는 전운이 감돌고 있었다 당시 폴란드 민족 운동단체들이 선택할 수 있는 입장은 세 가지였다 첫째는 민족 민주당이 주장하고 있는 것처럼 장차 러시아의 보호하에 폴란드 자치정부를 수립하는 것이고 둘째는 독일에 협력하여 폴란드 자치권을 최대한 확대하는 것이고 마지막으로는 오스트리아의 지원하에 폴란드 자치 국가를 오스트리아의 제국 내에 건설하는 방법이었다 하지만 당시 어느 분할 국가도 폴란드 문제에 대해서 구체적으로 뚜렷한 계획이 없었다 민족 민주당은 러시아에의 통합이 폴란드 자치와 모순되지 않는다고 주장했고 폴란드 사회당은 오로지 무장 투쟁만을 통해서 폴란드의 독립과 사회혁명을 실현시킬 수 있다고 주장했다 초기에 폴란드 사회당에게는 폴란드 독립과 사회혁명이 불가분의 관계였다 전쟁과 파업 시위와 전쟁에서의 패배 등으로 국내가 불안정해지자 차르 니콜라이 2세는 국민들의 요구를 수용하여 1905년에 노조를 합법화하고 의회 제도와 헌법을 도입할 것을 약속했다 그러나 1906년의 헌법은 폴란드 국내 상황을 크게 개선시키지는 못했다 폴란드 사회당 내부에서는 당 노선을 둘러싸고 분열 조짐이 나타나고 있었다 이들은 결국 폴란드 사회당 좌파로 분리해 나갔다 피우수트스키가 이끌고 있는 폴란드 사회당 혁명파는 여전히 무장 단체를 장악하고 있었는데 사회주의보다는 민족주의적 성격을 점점 강하게 띠기 시작했다 제1차 세계 대전 중 폴란드인 150만 명이 서로 다른 편에서 동족 상잔의 비극적인 전쟁에 참가했다 1916년 7월 피우스트스키는 오스트리아를 설득하여 오스트리아군에 소속되어 있는 폴란드 의용군으로부터 두 개의 폴란드 사단을 만드는 계획을 관철시켰다 나중에 폴란드 군대는 오스트리아독일 지원 부대로 개편되었는데 이에 항의하여 피우스트스키는 폴란드 사령관직을 사임했다 후에 독일에 의해 체포된 피우스트스키는 폴란드인들 사이에서 민족 운동의 희생자로 인식되었으며 가장 인기있는 민족 운동가로 부상하게 되었다 1917년 8월 드모프스키 dmowski r 와 민족 민주당원들에 의해서 성립된 폴란드 민족 위원회 knp 는 그 해 말까지 프랑스 영국 이탈리아 및 미국 정부의 승인을 받았다 1918년 10월 드모프스키는 장차 폴란드 국가에 대한 비전으로서 중앙집권적인 강력한 폴란드 민족 국가를 구상하고 있었다 반면에 피우스트스키는 폴란드의 주도하에 수많은 민족들을 포함하는 대연방 국가를 정치적 이상으로 삼고 있었다 1918년 10월 바르샤바의 섭정위원회는 독일 사령부와의 사전 협의를 거치지 않고 독자적으로 폴란드 민족에게 성명서를 발표하여 윌슨 대통령의 민족 자결권을 상기시키며 모든 정당이 참여하는 정부를 구성할 것과 제헌 의회의원 선거를 공고했다 루블린 lublin 에서는 스미그위 smigły r 의 지휘하에 폴란드 군사조직 pow 이 1918년 권력을 장악하고 다신스키를 수반으로 하는 폴란드 공화국 임시 인민 정부 가 성립되었다 11월 14일 섭정 위원회는 폴란드 민족에 대한 책임과 의무를 피우스트스키에게 양도하고 스스로 해체했다 한마디로 19181939년은 독립의 기간이었다 제1차 세계대전 후 탄생한 폴란드는 폴란드소비에트 연방 전쟁으로 영토를 확대하여 많은 이민족을 거느린 대국이 되었으나 1926년 피우스트스키의 군사 쿠데타에 의해 프랑스와의 협력관계가 독일과의 협력관계로 뒤바뀌었고 폴란드는 나치스화되어 갔다 폴란드 정부는 1932년에 소련과 1934년에 독일과 불가침조약을 체결했다 그러나 1939년 8월 23일 소련은 나치 독일 과 리벤트로프몰로토프 밀약을 맺어 동유럽을 독일과 소련이 각각 분할하기로 하는 비밀 의정서를 만들었다 이 의정서에서 폴란드 동부는 소련의 영향권에 두기로 인정받았다 이에 따라 나치 독일의 침입 1939년 9월 1일 과 소련의 침입 9월 17일 이 시작되어 서부 지역은 독일에 동부 지역은 소련에 분할 점령되었다 나치 독일의 점령은 대량 학살의 죽음의 수용소 를 만들어 내어 역사에 남을 잔학한 살상을 자행했다 소련이 폴란드 동부를 점령하는 동안 소련은 폴란드 국가를 해체하고 독일소련 회의에서 폴란드 의 미래 구조에 대하여 언명하였다131 소비에트 당국은 새로이 병합한 폴란드 땅에 즉시 소비에트화 작전을 개시하였다 소비에트 당국은 농업을 집단화하였으며 폴란드의 정부 재산과 개인 재산을 국유화하여 재분배하였다11 1943년 12월 테헤란 회담에서 처칠·스탈린·루즈벨트의 회동시 처칠은 영국은 폴란드가 독립 국가로서 복원되는데 지대한 관심이 있다 고 말하였다44 그러나 영국의 실무진은 이 문제가 연합국간에 마찰의 소지가 될 것을 우려하여 폴란드 문제를 꺼내길 우려하였다44 망명정부는 파리 함락 후 런던에서 활약하였으며 국내 게릴라 활동단체로는 망명정부 지휘하의 국내군과 폴란드 노동자당이 편성한 인민군 등이 있었다 1945년 해방되었으나 1944년 8월 국내군이 일으킨 대독일군 무장봉기인 바르샤바 봉기 는 그 평가를 둘러싸고 큰 문제를 남겼다 바르샤바 봉기로 시민 24만 명이 사망하고 63만 명이 오슈비엥침 아우슈비츠 등의 수용소에서 학살되었다 폴란드는 제2차 세계대전으로 600만 명 이상의 인명피해와 국민 재산의 38에 해당하는 재산피해를 입었으며 전후 정해진 현재의 국경은 역사적으로 보아 상당히 서쪽으로 이동되었다 1945년 통일정부가 성립되었으나 소련의 압력으로 1948년 노동자당과 사회당을 통합한 폴란드 노동자당 ppr 이 정권을 장악하여 1952년 폴란드 인민 공화국을 수립하고 그해 인민공화국 헌법을 제정하였다 1956년 6월 28일 포즈난 시의 지스포 기계 공장 노동자들이 최초로 봉기 포즈난 식량폭동 하여 곧 정치적인 자유를 요구하는 정치 시위로 번졌고 반소 자유화 운동이 확산되어 10월 19일에는 전 폴란드에서 반정부 폭동이 일어났다 그러자 소련의 니키타 흐루쇼프 카가노비치 아나스타스 미코얀 뱌체슬라프 몰로토프 등이 폴란드를 방문해서 무력 간섭의 위협을 가함으로써 폭동이 진압되고 이 호기 好機 를 이용하여 10월에 민족주의자 브와디스와프 고무우카가 소련에 충성을 맹세하여 소련의 후광을 입고 중앙위의 제1서기가 되어 정권을 장악하고 폴란드의 국민 탄압은 본격화되었다 91 그러나 고무우카도 70년 12월 발트해 연안도시에서 실질임금 저하에 항의하는 노동자 폭동이 일어나 퇴진하고 에드바르트 기에레크가 당 제1서기에 취임하였다 기에레크 정권은 경제의 재건을 위해 서방 국가들로부터 차관을 도입하여 중공업 우선의 공업화정책을 실시하였으나 270억 달러에 달하는 외채만 짊어지게 되었을 뿐 실패로 끝나고 경공업과 농업 등 소비재 산업이 급격히 쇠퇴하기에 이르러 다시 국민생활을 위협하게 되었다 차관 상환 무역수지 적자 19791980년의 마이너스 성장 등 불안한 경제상황 아래에서의 지도층의 부패로 인한 국민의 정치불신이 팽배한 가운데 1980년 7월 육류 가격인상을 계기로 발생한 노동자의 파업은 강한 정치적 색채를 띠면서 전국적으로 확대되어 2개월 동안 전국을 뒤흔들었다 정부는 8월 31일 그단스크에서 노동자측과 회담하여 파업권과 자주관리노조 즉 자유노조의 결성권을 인정하는 합의문서에 조인함으로써 공산권에서는 전례가 없는 대폭적인 권리를 노동자측에 허용하면서 사태를 수습하려고 시도하였다 그러나 결국 기에레크는 혼란의 책임을 지고 9월 해임되고 스타니스와프 카니아가 뒤를 이었다 노조결성권 획득 후에 결성된 자유노조의 연대 노조 는 곧 전국적으로 조직이 확산되어 11월에 정식으로 등록되었으며 38세의 바웬사가 위원장이 되었다 악화일로의 경제사정은 다시 전국 규모의 노동자 파업을 불러일으키고 1981년 10월 카니아를 권좌에서 물러나게 하였으며 참모총장 보이치에흐 야루젤스키가 서기장 및 총리 국방장관을 겸하게 되었다 바웬사가 이끄는 자유노조 연대에는 1천여만 명의 노동자가 참가하여 폴란드 자유화의 원동력이 되었다 그러나 야루젤스키 정권은 1981년 12월 전국에 계엄령을 선포하고 바웬사를 비롯한 노조지도자 반체제 지식인 5000여명을 체포함으로써 노조활동은 지하로 잠적하게 되었다 1982년 5월과 8월에는 계엄령하에서도 반정부 시위가 감행되었고 이 사이 주미 주일대사를 비롯한 폴란드인의 망명사태가 일어났다 정부는 1982년 10월 자유노조를 불법화하고 1983년 7월 계엄령을 해제한 후 위기상태법 1985년 12월 말까지 시한 을 제정함으로써 계엄해제에 대비한 안전장치를 마련하였다 정부의 강경정책에도 불구하고 자유노조를 중심으로 한 자유화운동은 꾸준히 전개되었고 1987년 11월 정부는 일련의 정치개혁 경제개혁에 대한 국민투표를 실시하였으나 부결되어 정부의 위신은 더욱 실추되었다 1988년 8월 다시 탄광을 중심으로 파업이 연발 전국적으로 확산되자 위험에 직면한 정부는 바웬사에게 자유노조 합법화를 등을 토의하기 위한 원탁회의를 제의 설득하여 파업을 종결시켰다 1989년 4월 당 정부 노조 지식인 대표 등 55명으로 이루어진 원탁회의 obrada okragłego stołu 에서는 자유노조의 합법화 자유선거에 의한 상원 신설 하원 460석 중 35의 자유선거 대통령제 신설 등이 결정되었다 그 결과 1989년 6월 실시된 총선에서 자유노조는 상원 100석 중 99석 하원에는 161석을 차지하여 압도적 승리를 거두었다 이어 열린 상 하원 합동회의는 7월 야루젤스키를 초대 대통령으로 선출하고 야루젤스키는 자유노조 기관지의 편집장 타데우시 마조비에츠키를 총리로 지명함으로써 동구 공산주의권에서는 사상 처음으로 비공산당 주도의 연립정권이 출범하게 되었다 그러나 마조비에츠키 정부 출범 후 개혁 속도의 지연과 옛 공산세력의 잔류 등에 불만을 품은 자유노조 등 개혁주도파들은 야루젤스키의 조기 퇴임 압력을 가하였고 야루젤스키가 이에 굴복함으로써 임기 5년의 직선대통령제가 채택되었다 이에 따라 1990년 11월과 12월 대통령 예비결선 선거가 실시되어 결선 선거에서 바웬사가 승리 전후의 첫 민선 대통령이 되었고 그 다음에 1995년 알렉산데르 크바시니에프스키가 대통령으로 선출되었다'"
            ],
            "application/vnd.google.colaboratory.intrinsic+json": {
              "type": "string"
            }
          },
          "metadata": {},
          "execution_count": 439
        }
      ]
    },
    {
      "cell_type": "code",
      "source": [
        ""
      ],
      "metadata": {
        "id": "B6DH8yT-w6Rs"
      },
      "execution_count": null,
      "outputs": []
    }
  ]
}
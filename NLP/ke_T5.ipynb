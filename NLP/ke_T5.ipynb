{
  "nbformat": 4,
  "nbformat_minor": 0,
  "metadata": {
    "colab": {
      "name": "ke-T5",
      "provenance": [],
      "collapsed_sections": [],
      "machine_shape": "hm",
      "background_execution": "on"
    },
    "kernelspec": {
      "name": "python3",
      "display_name": "Python 3"
    },
    "language_info": {
      "name": "python"
    },
    "accelerator": "GPU",
    "widgets": {
      "application/vnd.jupyter.widget-state+json": {
        "bd8eae9c1e3b4be980c6a03ebd553d1a": {
          "model_module": "@jupyter-widgets/controls",
          "model_name": "HBoxModel",
          "model_module_version": "1.5.0",
          "state": {
            "_dom_classes": [],
            "_model_module": "@jupyter-widgets/controls",
            "_model_module_version": "1.5.0",
            "_model_name": "HBoxModel",
            "_view_count": null,
            "_view_module": "@jupyter-widgets/controls",
            "_view_module_version": "1.5.0",
            "_view_name": "HBoxView",
            "box_style": "",
            "children": [
              "IPY_MODEL_92d6fdaab60847c090d4f748457a4d10",
              "IPY_MODEL_8c0ed00230e5432898fe0270b0ee99d2",
              "IPY_MODEL_5596c051221d4b1689b0a989b5d07bc5"
            ],
            "layout": "IPY_MODEL_d1c141e9d4f144a487f7ad72ea0d0442"
          }
        },
        "92d6fdaab60847c090d4f748457a4d10": {
          "model_module": "@jupyter-widgets/controls",
          "model_name": "HTMLModel",
          "model_module_version": "1.5.0",
          "state": {
            "_dom_classes": [],
            "_model_module": "@jupyter-widgets/controls",
            "_model_module_version": "1.5.0",
            "_model_name": "HTMLModel",
            "_view_count": null,
            "_view_module": "@jupyter-widgets/controls",
            "_view_module_version": "1.5.0",
            "_view_name": "HTMLView",
            "description": "",
            "description_tooltip": null,
            "layout": "IPY_MODEL_30de5dabf74c4b0c96de39d68ec7e696",
            "placeholder": "​",
            "style": "IPY_MODEL_f9678196ccd945e0b6d1732458ca780d",
            "value": "Downloading: 100%"
          }
        },
        "8c0ed00230e5432898fe0270b0ee99d2": {
          "model_module": "@jupyter-widgets/controls",
          "model_name": "FloatProgressModel",
          "model_module_version": "1.5.0",
          "state": {
            "_dom_classes": [],
            "_model_module": "@jupyter-widgets/controls",
            "_model_module_version": "1.5.0",
            "_model_name": "FloatProgressModel",
            "_view_count": null,
            "_view_module": "@jupyter-widgets/controls",
            "_view_module_version": "1.5.0",
            "_view_name": "ProgressView",
            "bar_style": "success",
            "description": "",
            "description_tooltip": null,
            "layout": "IPY_MODEL_b03094db3de6446c888bc75579f91685",
            "max": 599,
            "min": 0,
            "orientation": "horizontal",
            "style": "IPY_MODEL_755d915232c2428689a531dd68f9a634",
            "value": 599
          }
        },
        "5596c051221d4b1689b0a989b5d07bc5": {
          "model_module": "@jupyter-widgets/controls",
          "model_name": "HTMLModel",
          "model_module_version": "1.5.0",
          "state": {
            "_dom_classes": [],
            "_model_module": "@jupyter-widgets/controls",
            "_model_module_version": "1.5.0",
            "_model_name": "HTMLModel",
            "_view_count": null,
            "_view_module": "@jupyter-widgets/controls",
            "_view_module_version": "1.5.0",
            "_view_name": "HTMLView",
            "description": "",
            "description_tooltip": null,
            "layout": "IPY_MODEL_744347932f50468886602ba138348d90",
            "placeholder": "​",
            "style": "IPY_MODEL_caeb9a961f60473a83c29c298601b034",
            "value": " 599/599 [00:00&lt;00:00, 19.8kB/s]"
          }
        },
        "d1c141e9d4f144a487f7ad72ea0d0442": {
          "model_module": "@jupyter-widgets/base",
          "model_name": "LayoutModel",
          "model_module_version": "1.2.0",
          "state": {
            "_model_module": "@jupyter-widgets/base",
            "_model_module_version": "1.2.0",
            "_model_name": "LayoutModel",
            "_view_count": null,
            "_view_module": "@jupyter-widgets/base",
            "_view_module_version": "1.2.0",
            "_view_name": "LayoutView",
            "align_content": null,
            "align_items": null,
            "align_self": null,
            "border": null,
            "bottom": null,
            "display": null,
            "flex": null,
            "flex_flow": null,
            "grid_area": null,
            "grid_auto_columns": null,
            "grid_auto_flow": null,
            "grid_auto_rows": null,
            "grid_column": null,
            "grid_gap": null,
            "grid_row": null,
            "grid_template_areas": null,
            "grid_template_columns": null,
            "grid_template_rows": null,
            "height": null,
            "justify_content": null,
            "justify_items": null,
            "left": null,
            "margin": null,
            "max_height": null,
            "max_width": null,
            "min_height": null,
            "min_width": null,
            "object_fit": null,
            "object_position": null,
            "order": null,
            "overflow": null,
            "overflow_x": null,
            "overflow_y": null,
            "padding": null,
            "right": null,
            "top": null,
            "visibility": null,
            "width": null
          }
        },
        "30de5dabf74c4b0c96de39d68ec7e696": {
          "model_module": "@jupyter-widgets/base",
          "model_name": "LayoutModel",
          "model_module_version": "1.2.0",
          "state": {
            "_model_module": "@jupyter-widgets/base",
            "_model_module_version": "1.2.0",
            "_model_name": "LayoutModel",
            "_view_count": null,
            "_view_module": "@jupyter-widgets/base",
            "_view_module_version": "1.2.0",
            "_view_name": "LayoutView",
            "align_content": null,
            "align_items": null,
            "align_self": null,
            "border": null,
            "bottom": null,
            "display": null,
            "flex": null,
            "flex_flow": null,
            "grid_area": null,
            "grid_auto_columns": null,
            "grid_auto_flow": null,
            "grid_auto_rows": null,
            "grid_column": null,
            "grid_gap": null,
            "grid_row": null,
            "grid_template_areas": null,
            "grid_template_columns": null,
            "grid_template_rows": null,
            "height": null,
            "justify_content": null,
            "justify_items": null,
            "left": null,
            "margin": null,
            "max_height": null,
            "max_width": null,
            "min_height": null,
            "min_width": null,
            "object_fit": null,
            "object_position": null,
            "order": null,
            "overflow": null,
            "overflow_x": null,
            "overflow_y": null,
            "padding": null,
            "right": null,
            "top": null,
            "visibility": null,
            "width": null
          }
        },
        "f9678196ccd945e0b6d1732458ca780d": {
          "model_module": "@jupyter-widgets/controls",
          "model_name": "DescriptionStyleModel",
          "model_module_version": "1.5.0",
          "state": {
            "_model_module": "@jupyter-widgets/controls",
            "_model_module_version": "1.5.0",
            "_model_name": "DescriptionStyleModel",
            "_view_count": null,
            "_view_module": "@jupyter-widgets/base",
            "_view_module_version": "1.2.0",
            "_view_name": "StyleView",
            "description_width": ""
          }
        },
        "b03094db3de6446c888bc75579f91685": {
          "model_module": "@jupyter-widgets/base",
          "model_name": "LayoutModel",
          "model_module_version": "1.2.0",
          "state": {
            "_model_module": "@jupyter-widgets/base",
            "_model_module_version": "1.2.0",
            "_model_name": "LayoutModel",
            "_view_count": null,
            "_view_module": "@jupyter-widgets/base",
            "_view_module_version": "1.2.0",
            "_view_name": "LayoutView",
            "align_content": null,
            "align_items": null,
            "align_self": null,
            "border": null,
            "bottom": null,
            "display": null,
            "flex": null,
            "flex_flow": null,
            "grid_area": null,
            "grid_auto_columns": null,
            "grid_auto_flow": null,
            "grid_auto_rows": null,
            "grid_column": null,
            "grid_gap": null,
            "grid_row": null,
            "grid_template_areas": null,
            "grid_template_columns": null,
            "grid_template_rows": null,
            "height": null,
            "justify_content": null,
            "justify_items": null,
            "left": null,
            "margin": null,
            "max_height": null,
            "max_width": null,
            "min_height": null,
            "min_width": null,
            "object_fit": null,
            "object_position": null,
            "order": null,
            "overflow": null,
            "overflow_x": null,
            "overflow_y": null,
            "padding": null,
            "right": null,
            "top": null,
            "visibility": null,
            "width": null
          }
        },
        "755d915232c2428689a531dd68f9a634": {
          "model_module": "@jupyter-widgets/controls",
          "model_name": "ProgressStyleModel",
          "model_module_version": "1.5.0",
          "state": {
            "_model_module": "@jupyter-widgets/controls",
            "_model_module_version": "1.5.0",
            "_model_name": "ProgressStyleModel",
            "_view_count": null,
            "_view_module": "@jupyter-widgets/base",
            "_view_module_version": "1.2.0",
            "_view_name": "StyleView",
            "bar_color": null,
            "description_width": ""
          }
        },
        "744347932f50468886602ba138348d90": {
          "model_module": "@jupyter-widgets/base",
          "model_name": "LayoutModel",
          "model_module_version": "1.2.0",
          "state": {
            "_model_module": "@jupyter-widgets/base",
            "_model_module_version": "1.2.0",
            "_model_name": "LayoutModel",
            "_view_count": null,
            "_view_module": "@jupyter-widgets/base",
            "_view_module_version": "1.2.0",
            "_view_name": "LayoutView",
            "align_content": null,
            "align_items": null,
            "align_self": null,
            "border": null,
            "bottom": null,
            "display": null,
            "flex": null,
            "flex_flow": null,
            "grid_area": null,
            "grid_auto_columns": null,
            "grid_auto_flow": null,
            "grid_auto_rows": null,
            "grid_column": null,
            "grid_gap": null,
            "grid_row": null,
            "grid_template_areas": null,
            "grid_template_columns": null,
            "grid_template_rows": null,
            "height": null,
            "justify_content": null,
            "justify_items": null,
            "left": null,
            "margin": null,
            "max_height": null,
            "max_width": null,
            "min_height": null,
            "min_width": null,
            "object_fit": null,
            "object_position": null,
            "order": null,
            "overflow": null,
            "overflow_x": null,
            "overflow_y": null,
            "padding": null,
            "right": null,
            "top": null,
            "visibility": null,
            "width": null
          }
        },
        "caeb9a961f60473a83c29c298601b034": {
          "model_module": "@jupyter-widgets/controls",
          "model_name": "DescriptionStyleModel",
          "model_module_version": "1.5.0",
          "state": {
            "_model_module": "@jupyter-widgets/controls",
            "_model_module_version": "1.5.0",
            "_model_name": "DescriptionStyleModel",
            "_view_count": null,
            "_view_module": "@jupyter-widgets/base",
            "_view_module_version": "1.2.0",
            "_view_name": "StyleView",
            "description_width": ""
          }
        },
        "cb658ba1b5934d98bb1ccab471b1c01f": {
          "model_module": "@jupyter-widgets/controls",
          "model_name": "HBoxModel",
          "model_module_version": "1.5.0",
          "state": {
            "_dom_classes": [],
            "_model_module": "@jupyter-widgets/controls",
            "_model_module_version": "1.5.0",
            "_model_name": "HBoxModel",
            "_view_count": null,
            "_view_module": "@jupyter-widgets/controls",
            "_view_module_version": "1.5.0",
            "_view_name": "HBoxView",
            "box_style": "",
            "children": [
              "IPY_MODEL_ce590432ed4a44f5a058e80e823b8ab2",
              "IPY_MODEL_3ad44cff822649e28724d9fe1ee65932",
              "IPY_MODEL_95ccb4238e284a55a1068ae55a001ca6"
            ],
            "layout": "IPY_MODEL_b0f713f898e0406cadbce0eeb04f5615"
          }
        },
        "ce590432ed4a44f5a058e80e823b8ab2": {
          "model_module": "@jupyter-widgets/controls",
          "model_name": "HTMLModel",
          "model_module_version": "1.5.0",
          "state": {
            "_dom_classes": [],
            "_model_module": "@jupyter-widgets/controls",
            "_model_module_version": "1.5.0",
            "_model_name": "HTMLModel",
            "_view_count": null,
            "_view_module": "@jupyter-widgets/controls",
            "_view_module_version": "1.5.0",
            "_view_name": "HTMLView",
            "description": "",
            "description_tooltip": null,
            "layout": "IPY_MODEL_39f009e457bf41b893537ac296895711",
            "placeholder": "​",
            "style": "IPY_MODEL_83d0052d95334dd49fd0e5f4b123e593",
            "value": "Downloading: 100%"
          }
        },
        "3ad44cff822649e28724d9fe1ee65932": {
          "model_module": "@jupyter-widgets/controls",
          "model_name": "FloatProgressModel",
          "model_module_version": "1.5.0",
          "state": {
            "_dom_classes": [],
            "_model_module": "@jupyter-widgets/controls",
            "_model_module_version": "1.5.0",
            "_model_name": "FloatProgressModel",
            "_view_count": null,
            "_view_module": "@jupyter-widgets/controls",
            "_view_module_version": "1.5.0",
            "_view_name": "ProgressView",
            "bar_style": "success",
            "description": "",
            "description_tooltip": null,
            "layout": "IPY_MODEL_05912c507efe493197793fabd6301d32",
            "max": 990048016,
            "min": 0,
            "orientation": "horizontal",
            "style": "IPY_MODEL_e6c097d2189f44a99bdf3e91129b9f97",
            "value": 990048016
          }
        },
        "95ccb4238e284a55a1068ae55a001ca6": {
          "model_module": "@jupyter-widgets/controls",
          "model_name": "HTMLModel",
          "model_module_version": "1.5.0",
          "state": {
            "_dom_classes": [],
            "_model_module": "@jupyter-widgets/controls",
            "_model_module_version": "1.5.0",
            "_model_name": "HTMLModel",
            "_view_count": null,
            "_view_module": "@jupyter-widgets/controls",
            "_view_module_version": "1.5.0",
            "_view_name": "HTMLView",
            "description": "",
            "description_tooltip": null,
            "layout": "IPY_MODEL_ba259e303d544d9f842b981ad1c41912",
            "placeholder": "​",
            "style": "IPY_MODEL_c0765ecccefa4583bddb823e75fd261a",
            "value": " 990M/990M [00:30&lt;00:00, 40.2MB/s]"
          }
        },
        "b0f713f898e0406cadbce0eeb04f5615": {
          "model_module": "@jupyter-widgets/base",
          "model_name": "LayoutModel",
          "model_module_version": "1.2.0",
          "state": {
            "_model_module": "@jupyter-widgets/base",
            "_model_module_version": "1.2.0",
            "_model_name": "LayoutModel",
            "_view_count": null,
            "_view_module": "@jupyter-widgets/base",
            "_view_module_version": "1.2.0",
            "_view_name": "LayoutView",
            "align_content": null,
            "align_items": null,
            "align_self": null,
            "border": null,
            "bottom": null,
            "display": null,
            "flex": null,
            "flex_flow": null,
            "grid_area": null,
            "grid_auto_columns": null,
            "grid_auto_flow": null,
            "grid_auto_rows": null,
            "grid_column": null,
            "grid_gap": null,
            "grid_row": null,
            "grid_template_areas": null,
            "grid_template_columns": null,
            "grid_template_rows": null,
            "height": null,
            "justify_content": null,
            "justify_items": null,
            "left": null,
            "margin": null,
            "max_height": null,
            "max_width": null,
            "min_height": null,
            "min_width": null,
            "object_fit": null,
            "object_position": null,
            "order": null,
            "overflow": null,
            "overflow_x": null,
            "overflow_y": null,
            "padding": null,
            "right": null,
            "top": null,
            "visibility": null,
            "width": null
          }
        },
        "39f009e457bf41b893537ac296895711": {
          "model_module": "@jupyter-widgets/base",
          "model_name": "LayoutModel",
          "model_module_version": "1.2.0",
          "state": {
            "_model_module": "@jupyter-widgets/base",
            "_model_module_version": "1.2.0",
            "_model_name": "LayoutModel",
            "_view_count": null,
            "_view_module": "@jupyter-widgets/base",
            "_view_module_version": "1.2.0",
            "_view_name": "LayoutView",
            "align_content": null,
            "align_items": null,
            "align_self": null,
            "border": null,
            "bottom": null,
            "display": null,
            "flex": null,
            "flex_flow": null,
            "grid_area": null,
            "grid_auto_columns": null,
            "grid_auto_flow": null,
            "grid_auto_rows": null,
            "grid_column": null,
            "grid_gap": null,
            "grid_row": null,
            "grid_template_areas": null,
            "grid_template_columns": null,
            "grid_template_rows": null,
            "height": null,
            "justify_content": null,
            "justify_items": null,
            "left": null,
            "margin": null,
            "max_height": null,
            "max_width": null,
            "min_height": null,
            "min_width": null,
            "object_fit": null,
            "object_position": null,
            "order": null,
            "overflow": null,
            "overflow_x": null,
            "overflow_y": null,
            "padding": null,
            "right": null,
            "top": null,
            "visibility": null,
            "width": null
          }
        },
        "83d0052d95334dd49fd0e5f4b123e593": {
          "model_module": "@jupyter-widgets/controls",
          "model_name": "DescriptionStyleModel",
          "model_module_version": "1.5.0",
          "state": {
            "_model_module": "@jupyter-widgets/controls",
            "_model_module_version": "1.5.0",
            "_model_name": "DescriptionStyleModel",
            "_view_count": null,
            "_view_module": "@jupyter-widgets/base",
            "_view_module_version": "1.2.0",
            "_view_name": "StyleView",
            "description_width": ""
          }
        },
        "05912c507efe493197793fabd6301d32": {
          "model_module": "@jupyter-widgets/base",
          "model_name": "LayoutModel",
          "model_module_version": "1.2.0",
          "state": {
            "_model_module": "@jupyter-widgets/base",
            "_model_module_version": "1.2.0",
            "_model_name": "LayoutModel",
            "_view_count": null,
            "_view_module": "@jupyter-widgets/base",
            "_view_module_version": "1.2.0",
            "_view_name": "LayoutView",
            "align_content": null,
            "align_items": null,
            "align_self": null,
            "border": null,
            "bottom": null,
            "display": null,
            "flex": null,
            "flex_flow": null,
            "grid_area": null,
            "grid_auto_columns": null,
            "grid_auto_flow": null,
            "grid_auto_rows": null,
            "grid_column": null,
            "grid_gap": null,
            "grid_row": null,
            "grid_template_areas": null,
            "grid_template_columns": null,
            "grid_template_rows": null,
            "height": null,
            "justify_content": null,
            "justify_items": null,
            "left": null,
            "margin": null,
            "max_height": null,
            "max_width": null,
            "min_height": null,
            "min_width": null,
            "object_fit": null,
            "object_position": null,
            "order": null,
            "overflow": null,
            "overflow_x": null,
            "overflow_y": null,
            "padding": null,
            "right": null,
            "top": null,
            "visibility": null,
            "width": null
          }
        },
        "e6c097d2189f44a99bdf3e91129b9f97": {
          "model_module": "@jupyter-widgets/controls",
          "model_name": "ProgressStyleModel",
          "model_module_version": "1.5.0",
          "state": {
            "_model_module": "@jupyter-widgets/controls",
            "_model_module_version": "1.5.0",
            "_model_name": "ProgressStyleModel",
            "_view_count": null,
            "_view_module": "@jupyter-widgets/base",
            "_view_module_version": "1.2.0",
            "_view_name": "StyleView",
            "bar_color": null,
            "description_width": ""
          }
        },
        "ba259e303d544d9f842b981ad1c41912": {
          "model_module": "@jupyter-widgets/base",
          "model_name": "LayoutModel",
          "model_module_version": "1.2.0",
          "state": {
            "_model_module": "@jupyter-widgets/base",
            "_model_module_version": "1.2.0",
            "_model_name": "LayoutModel",
            "_view_count": null,
            "_view_module": "@jupyter-widgets/base",
            "_view_module_version": "1.2.0",
            "_view_name": "LayoutView",
            "align_content": null,
            "align_items": null,
            "align_self": null,
            "border": null,
            "bottom": null,
            "display": null,
            "flex": null,
            "flex_flow": null,
            "grid_area": null,
            "grid_auto_columns": null,
            "grid_auto_flow": null,
            "grid_auto_rows": null,
            "grid_column": null,
            "grid_gap": null,
            "grid_row": null,
            "grid_template_areas": null,
            "grid_template_columns": null,
            "grid_template_rows": null,
            "height": null,
            "justify_content": null,
            "justify_items": null,
            "left": null,
            "margin": null,
            "max_height": null,
            "max_width": null,
            "min_height": null,
            "min_width": null,
            "object_fit": null,
            "object_position": null,
            "order": null,
            "overflow": null,
            "overflow_x": null,
            "overflow_y": null,
            "padding": null,
            "right": null,
            "top": null,
            "visibility": null,
            "width": null
          }
        },
        "c0765ecccefa4583bddb823e75fd261a": {
          "model_module": "@jupyter-widgets/controls",
          "model_name": "DescriptionStyleModel",
          "model_module_version": "1.5.0",
          "state": {
            "_model_module": "@jupyter-widgets/controls",
            "_model_module_version": "1.5.0",
            "_model_name": "DescriptionStyleModel",
            "_view_count": null,
            "_view_module": "@jupyter-widgets/base",
            "_view_module_version": "1.2.0",
            "_view_name": "StyleView",
            "description_width": ""
          }
        },
        "6e14890995f943fa88f834af606db707": {
          "model_module": "@jupyter-widgets/controls",
          "model_name": "HBoxModel",
          "model_module_version": "1.5.0",
          "state": {
            "_dom_classes": [],
            "_model_module": "@jupyter-widgets/controls",
            "_model_module_version": "1.5.0",
            "_model_name": "HBoxModel",
            "_view_count": null,
            "_view_module": "@jupyter-widgets/controls",
            "_view_module_version": "1.5.0",
            "_view_name": "HBoxView",
            "box_style": "",
            "children": [
              "IPY_MODEL_7e944f3f8ee44d17a988a41bf93ee8ba",
              "IPY_MODEL_8924d61f33db402db4f2c14a67d624f7",
              "IPY_MODEL_672adeee422d4548a70f3ad3b406df9b"
            ],
            "layout": "IPY_MODEL_53b1f5ab3c224314a0b7c0dbf2066712"
          }
        },
        "7e944f3f8ee44d17a988a41bf93ee8ba": {
          "model_module": "@jupyter-widgets/controls",
          "model_name": "HTMLModel",
          "model_module_version": "1.5.0",
          "state": {
            "_dom_classes": [],
            "_model_module": "@jupyter-widgets/controls",
            "_model_module_version": "1.5.0",
            "_model_name": "HTMLModel",
            "_view_count": null,
            "_view_module": "@jupyter-widgets/controls",
            "_view_module_version": "1.5.0",
            "_view_name": "HTMLView",
            "description": "",
            "description_tooltip": null,
            "layout": "IPY_MODEL_1100ea1117ef495f9160021e00780117",
            "placeholder": "​",
            "style": "IPY_MODEL_01dbe2af27f14c3993857b5dd0a79cca",
            "value": "Downloading: 100%"
          }
        },
        "8924d61f33db402db4f2c14a67d624f7": {
          "model_module": "@jupyter-widgets/controls",
          "model_name": "FloatProgressModel",
          "model_module_version": "1.5.0",
          "state": {
            "_dom_classes": [],
            "_model_module": "@jupyter-widgets/controls",
            "_model_module_version": "1.5.0",
            "_model_name": "FloatProgressModel",
            "_view_count": null,
            "_view_module": "@jupyter-widgets/controls",
            "_view_module_version": "1.5.0",
            "_view_name": "ProgressView",
            "bar_style": "success",
            "description": "",
            "description_tooltip": null,
            "layout": "IPY_MODEL_001a9056049649edad7cdfe1dffef621",
            "max": 1466734,
            "min": 0,
            "orientation": "horizontal",
            "style": "IPY_MODEL_ce9b4feb06ef408abd03c41a661cc683",
            "value": 1466734
          }
        },
        "672adeee422d4548a70f3ad3b406df9b": {
          "model_module": "@jupyter-widgets/controls",
          "model_name": "HTMLModel",
          "model_module_version": "1.5.0",
          "state": {
            "_dom_classes": [],
            "_model_module": "@jupyter-widgets/controls",
            "_model_module_version": "1.5.0",
            "_model_name": "HTMLModel",
            "_view_count": null,
            "_view_module": "@jupyter-widgets/controls",
            "_view_module_version": "1.5.0",
            "_view_name": "HTMLView",
            "description": "",
            "description_tooltip": null,
            "layout": "IPY_MODEL_697d588fa7784cc3a6f8ff042e7802b3",
            "placeholder": "​",
            "style": "IPY_MODEL_09921fb537ee4ee9b470b1094fc9bebe",
            "value": " 1.47M/1.47M [00:00&lt;00:00, 2.49MB/s]"
          }
        },
        "53b1f5ab3c224314a0b7c0dbf2066712": {
          "model_module": "@jupyter-widgets/base",
          "model_name": "LayoutModel",
          "model_module_version": "1.2.0",
          "state": {
            "_model_module": "@jupyter-widgets/base",
            "_model_module_version": "1.2.0",
            "_model_name": "LayoutModel",
            "_view_count": null,
            "_view_module": "@jupyter-widgets/base",
            "_view_module_version": "1.2.0",
            "_view_name": "LayoutView",
            "align_content": null,
            "align_items": null,
            "align_self": null,
            "border": null,
            "bottom": null,
            "display": null,
            "flex": null,
            "flex_flow": null,
            "grid_area": null,
            "grid_auto_columns": null,
            "grid_auto_flow": null,
            "grid_auto_rows": null,
            "grid_column": null,
            "grid_gap": null,
            "grid_row": null,
            "grid_template_areas": null,
            "grid_template_columns": null,
            "grid_template_rows": null,
            "height": null,
            "justify_content": null,
            "justify_items": null,
            "left": null,
            "margin": null,
            "max_height": null,
            "max_width": null,
            "min_height": null,
            "min_width": null,
            "object_fit": null,
            "object_position": null,
            "order": null,
            "overflow": null,
            "overflow_x": null,
            "overflow_y": null,
            "padding": null,
            "right": null,
            "top": null,
            "visibility": null,
            "width": null
          }
        },
        "1100ea1117ef495f9160021e00780117": {
          "model_module": "@jupyter-widgets/base",
          "model_name": "LayoutModel",
          "model_module_version": "1.2.0",
          "state": {
            "_model_module": "@jupyter-widgets/base",
            "_model_module_version": "1.2.0",
            "_model_name": "LayoutModel",
            "_view_count": null,
            "_view_module": "@jupyter-widgets/base",
            "_view_module_version": "1.2.0",
            "_view_name": "LayoutView",
            "align_content": null,
            "align_items": null,
            "align_self": null,
            "border": null,
            "bottom": null,
            "display": null,
            "flex": null,
            "flex_flow": null,
            "grid_area": null,
            "grid_auto_columns": null,
            "grid_auto_flow": null,
            "grid_auto_rows": null,
            "grid_column": null,
            "grid_gap": null,
            "grid_row": null,
            "grid_template_areas": null,
            "grid_template_columns": null,
            "grid_template_rows": null,
            "height": null,
            "justify_content": null,
            "justify_items": null,
            "left": null,
            "margin": null,
            "max_height": null,
            "max_width": null,
            "min_height": null,
            "min_width": null,
            "object_fit": null,
            "object_position": null,
            "order": null,
            "overflow": null,
            "overflow_x": null,
            "overflow_y": null,
            "padding": null,
            "right": null,
            "top": null,
            "visibility": null,
            "width": null
          }
        },
        "01dbe2af27f14c3993857b5dd0a79cca": {
          "model_module": "@jupyter-widgets/controls",
          "model_name": "DescriptionStyleModel",
          "model_module_version": "1.5.0",
          "state": {
            "_model_module": "@jupyter-widgets/controls",
            "_model_module_version": "1.5.0",
            "_model_name": "DescriptionStyleModel",
            "_view_count": null,
            "_view_module": "@jupyter-widgets/base",
            "_view_module_version": "1.2.0",
            "_view_name": "StyleView",
            "description_width": ""
          }
        },
        "001a9056049649edad7cdfe1dffef621": {
          "model_module": "@jupyter-widgets/base",
          "model_name": "LayoutModel",
          "model_module_version": "1.2.0",
          "state": {
            "_model_module": "@jupyter-widgets/base",
            "_model_module_version": "1.2.0",
            "_model_name": "LayoutModel",
            "_view_count": null,
            "_view_module": "@jupyter-widgets/base",
            "_view_module_version": "1.2.0",
            "_view_name": "LayoutView",
            "align_content": null,
            "align_items": null,
            "align_self": null,
            "border": null,
            "bottom": null,
            "display": null,
            "flex": null,
            "flex_flow": null,
            "grid_area": null,
            "grid_auto_columns": null,
            "grid_auto_flow": null,
            "grid_auto_rows": null,
            "grid_column": null,
            "grid_gap": null,
            "grid_row": null,
            "grid_template_areas": null,
            "grid_template_columns": null,
            "grid_template_rows": null,
            "height": null,
            "justify_content": null,
            "justify_items": null,
            "left": null,
            "margin": null,
            "max_height": null,
            "max_width": null,
            "min_height": null,
            "min_width": null,
            "object_fit": null,
            "object_position": null,
            "order": null,
            "overflow": null,
            "overflow_x": null,
            "overflow_y": null,
            "padding": null,
            "right": null,
            "top": null,
            "visibility": null,
            "width": null
          }
        },
        "ce9b4feb06ef408abd03c41a661cc683": {
          "model_module": "@jupyter-widgets/controls",
          "model_name": "ProgressStyleModel",
          "model_module_version": "1.5.0",
          "state": {
            "_model_module": "@jupyter-widgets/controls",
            "_model_module_version": "1.5.0",
            "_model_name": "ProgressStyleModel",
            "_view_count": null,
            "_view_module": "@jupyter-widgets/base",
            "_view_module_version": "1.2.0",
            "_view_name": "StyleView",
            "bar_color": null,
            "description_width": ""
          }
        },
        "697d588fa7784cc3a6f8ff042e7802b3": {
          "model_module": "@jupyter-widgets/base",
          "model_name": "LayoutModel",
          "model_module_version": "1.2.0",
          "state": {
            "_model_module": "@jupyter-widgets/base",
            "_model_module_version": "1.2.0",
            "_model_name": "LayoutModel",
            "_view_count": null,
            "_view_module": "@jupyter-widgets/base",
            "_view_module_version": "1.2.0",
            "_view_name": "LayoutView",
            "align_content": null,
            "align_items": null,
            "align_self": null,
            "border": null,
            "bottom": null,
            "display": null,
            "flex": null,
            "flex_flow": null,
            "grid_area": null,
            "grid_auto_columns": null,
            "grid_auto_flow": null,
            "grid_auto_rows": null,
            "grid_column": null,
            "grid_gap": null,
            "grid_row": null,
            "grid_template_areas": null,
            "grid_template_columns": null,
            "grid_template_rows": null,
            "height": null,
            "justify_content": null,
            "justify_items": null,
            "left": null,
            "margin": null,
            "max_height": null,
            "max_width": null,
            "min_height": null,
            "min_width": null,
            "object_fit": null,
            "object_position": null,
            "order": null,
            "overflow": null,
            "overflow_x": null,
            "overflow_y": null,
            "padding": null,
            "right": null,
            "top": null,
            "visibility": null,
            "width": null
          }
        },
        "09921fb537ee4ee9b470b1094fc9bebe": {
          "model_module": "@jupyter-widgets/controls",
          "model_name": "DescriptionStyleModel",
          "model_module_version": "1.5.0",
          "state": {
            "_model_module": "@jupyter-widgets/controls",
            "_model_module_version": "1.5.0",
            "_model_name": "DescriptionStyleModel",
            "_view_count": null,
            "_view_module": "@jupyter-widgets/base",
            "_view_module_version": "1.2.0",
            "_view_name": "StyleView",
            "description_width": ""
          }
        },
        "538f3674a931495ca9c879b0c712becb": {
          "model_module": "@jupyter-widgets/controls",
          "model_name": "HBoxModel",
          "model_module_version": "1.5.0",
          "state": {
            "_dom_classes": [],
            "_model_module": "@jupyter-widgets/controls",
            "_model_module_version": "1.5.0",
            "_model_name": "HBoxModel",
            "_view_count": null,
            "_view_module": "@jupyter-widgets/controls",
            "_view_module_version": "1.5.0",
            "_view_name": "HBoxView",
            "box_style": "",
            "children": [
              "IPY_MODEL_c8385bc8e8fe4f2bbba1f3a49a676b7c",
              "IPY_MODEL_0bb038a9a2f6463e85380dae131f7988",
              "IPY_MODEL_24332d2b802e4cb88382cbbc6e97576a"
            ],
            "layout": "IPY_MODEL_856341bbd44f41ccaff1b4aab8fb1397"
          }
        },
        "c8385bc8e8fe4f2bbba1f3a49a676b7c": {
          "model_module": "@jupyter-widgets/controls",
          "model_name": "HTMLModel",
          "model_module_version": "1.5.0",
          "state": {
            "_dom_classes": [],
            "_model_module": "@jupyter-widgets/controls",
            "_model_module_version": "1.5.0",
            "_model_name": "HTMLModel",
            "_view_count": null,
            "_view_module": "@jupyter-widgets/controls",
            "_view_module_version": "1.5.0",
            "_view_name": "HTMLView",
            "description": "",
            "description_tooltip": null,
            "layout": "IPY_MODEL_4b9cd74b970c42ca8b8b06679066425f",
            "placeholder": "​",
            "style": "IPY_MODEL_74a38bdefeb5427eab58396f7952a203",
            "value": "Downloading: 100%"
          }
        },
        "0bb038a9a2f6463e85380dae131f7988": {
          "model_module": "@jupyter-widgets/controls",
          "model_name": "FloatProgressModel",
          "model_module_version": "1.5.0",
          "state": {
            "_dom_classes": [],
            "_model_module": "@jupyter-widgets/controls",
            "_model_module_version": "1.5.0",
            "_model_name": "FloatProgressModel",
            "_view_count": null,
            "_view_module": "@jupyter-widgets/controls",
            "_view_module_version": "1.5.0",
            "_view_name": "ProgressView",
            "bar_style": "success",
            "description": "",
            "description_tooltip": null,
            "layout": "IPY_MODEL_bb155cb59ac94693870005ca9c94988d",
            "max": 1786,
            "min": 0,
            "orientation": "horizontal",
            "style": "IPY_MODEL_33d994c317564d659a7f2e520309c330",
            "value": 1786
          }
        },
        "24332d2b802e4cb88382cbbc6e97576a": {
          "model_module": "@jupyter-widgets/controls",
          "model_name": "HTMLModel",
          "model_module_version": "1.5.0",
          "state": {
            "_dom_classes": [],
            "_model_module": "@jupyter-widgets/controls",
            "_model_module_version": "1.5.0",
            "_model_name": "HTMLModel",
            "_view_count": null,
            "_view_module": "@jupyter-widgets/controls",
            "_view_module_version": "1.5.0",
            "_view_name": "HTMLView",
            "description": "",
            "description_tooltip": null,
            "layout": "IPY_MODEL_99eb1077c12f45759bcaab6f54e9bb14",
            "placeholder": "​",
            "style": "IPY_MODEL_43901bd5c4f64a18844264ea4746e2ee",
            "value": " 1.79k/1.79k [00:00&lt;00:00, 62.6kB/s]"
          }
        },
        "856341bbd44f41ccaff1b4aab8fb1397": {
          "model_module": "@jupyter-widgets/base",
          "model_name": "LayoutModel",
          "model_module_version": "1.2.0",
          "state": {
            "_model_module": "@jupyter-widgets/base",
            "_model_module_version": "1.2.0",
            "_model_name": "LayoutModel",
            "_view_count": null,
            "_view_module": "@jupyter-widgets/base",
            "_view_module_version": "1.2.0",
            "_view_name": "LayoutView",
            "align_content": null,
            "align_items": null,
            "align_self": null,
            "border": null,
            "bottom": null,
            "display": null,
            "flex": null,
            "flex_flow": null,
            "grid_area": null,
            "grid_auto_columns": null,
            "grid_auto_flow": null,
            "grid_auto_rows": null,
            "grid_column": null,
            "grid_gap": null,
            "grid_row": null,
            "grid_template_areas": null,
            "grid_template_columns": null,
            "grid_template_rows": null,
            "height": null,
            "justify_content": null,
            "justify_items": null,
            "left": null,
            "margin": null,
            "max_height": null,
            "max_width": null,
            "min_height": null,
            "min_width": null,
            "object_fit": null,
            "object_position": null,
            "order": null,
            "overflow": null,
            "overflow_x": null,
            "overflow_y": null,
            "padding": null,
            "right": null,
            "top": null,
            "visibility": null,
            "width": null
          }
        },
        "4b9cd74b970c42ca8b8b06679066425f": {
          "model_module": "@jupyter-widgets/base",
          "model_name": "LayoutModel",
          "model_module_version": "1.2.0",
          "state": {
            "_model_module": "@jupyter-widgets/base",
            "_model_module_version": "1.2.0",
            "_model_name": "LayoutModel",
            "_view_count": null,
            "_view_module": "@jupyter-widgets/base",
            "_view_module_version": "1.2.0",
            "_view_name": "LayoutView",
            "align_content": null,
            "align_items": null,
            "align_self": null,
            "border": null,
            "bottom": null,
            "display": null,
            "flex": null,
            "flex_flow": null,
            "grid_area": null,
            "grid_auto_columns": null,
            "grid_auto_flow": null,
            "grid_auto_rows": null,
            "grid_column": null,
            "grid_gap": null,
            "grid_row": null,
            "grid_template_areas": null,
            "grid_template_columns": null,
            "grid_template_rows": null,
            "height": null,
            "justify_content": null,
            "justify_items": null,
            "left": null,
            "margin": null,
            "max_height": null,
            "max_width": null,
            "min_height": null,
            "min_width": null,
            "object_fit": null,
            "object_position": null,
            "order": null,
            "overflow": null,
            "overflow_x": null,
            "overflow_y": null,
            "padding": null,
            "right": null,
            "top": null,
            "visibility": null,
            "width": null
          }
        },
        "74a38bdefeb5427eab58396f7952a203": {
          "model_module": "@jupyter-widgets/controls",
          "model_name": "DescriptionStyleModel",
          "model_module_version": "1.5.0",
          "state": {
            "_model_module": "@jupyter-widgets/controls",
            "_model_module_version": "1.5.0",
            "_model_name": "DescriptionStyleModel",
            "_view_count": null,
            "_view_module": "@jupyter-widgets/base",
            "_view_module_version": "1.2.0",
            "_view_name": "StyleView",
            "description_width": ""
          }
        },
        "bb155cb59ac94693870005ca9c94988d": {
          "model_module": "@jupyter-widgets/base",
          "model_name": "LayoutModel",
          "model_module_version": "1.2.0",
          "state": {
            "_model_module": "@jupyter-widgets/base",
            "_model_module_version": "1.2.0",
            "_model_name": "LayoutModel",
            "_view_count": null,
            "_view_module": "@jupyter-widgets/base",
            "_view_module_version": "1.2.0",
            "_view_name": "LayoutView",
            "align_content": null,
            "align_items": null,
            "align_self": null,
            "border": null,
            "bottom": null,
            "display": null,
            "flex": null,
            "flex_flow": null,
            "grid_area": null,
            "grid_auto_columns": null,
            "grid_auto_flow": null,
            "grid_auto_rows": null,
            "grid_column": null,
            "grid_gap": null,
            "grid_row": null,
            "grid_template_areas": null,
            "grid_template_columns": null,
            "grid_template_rows": null,
            "height": null,
            "justify_content": null,
            "justify_items": null,
            "left": null,
            "margin": null,
            "max_height": null,
            "max_width": null,
            "min_height": null,
            "min_width": null,
            "object_fit": null,
            "object_position": null,
            "order": null,
            "overflow": null,
            "overflow_x": null,
            "overflow_y": null,
            "padding": null,
            "right": null,
            "top": null,
            "visibility": null,
            "width": null
          }
        },
        "33d994c317564d659a7f2e520309c330": {
          "model_module": "@jupyter-widgets/controls",
          "model_name": "ProgressStyleModel",
          "model_module_version": "1.5.0",
          "state": {
            "_model_module": "@jupyter-widgets/controls",
            "_model_module_version": "1.5.0",
            "_model_name": "ProgressStyleModel",
            "_view_count": null,
            "_view_module": "@jupyter-widgets/base",
            "_view_module_version": "1.2.0",
            "_view_name": "StyleView",
            "bar_color": null,
            "description_width": ""
          }
        },
        "99eb1077c12f45759bcaab6f54e9bb14": {
          "model_module": "@jupyter-widgets/base",
          "model_name": "LayoutModel",
          "model_module_version": "1.2.0",
          "state": {
            "_model_module": "@jupyter-widgets/base",
            "_model_module_version": "1.2.0",
            "_model_name": "LayoutModel",
            "_view_count": null,
            "_view_module": "@jupyter-widgets/base",
            "_view_module_version": "1.2.0",
            "_view_name": "LayoutView",
            "align_content": null,
            "align_items": null,
            "align_self": null,
            "border": null,
            "bottom": null,
            "display": null,
            "flex": null,
            "flex_flow": null,
            "grid_area": null,
            "grid_auto_columns": null,
            "grid_auto_flow": null,
            "grid_auto_rows": null,
            "grid_column": null,
            "grid_gap": null,
            "grid_row": null,
            "grid_template_areas": null,
            "grid_template_columns": null,
            "grid_template_rows": null,
            "height": null,
            "justify_content": null,
            "justify_items": null,
            "left": null,
            "margin": null,
            "max_height": null,
            "max_width": null,
            "min_height": null,
            "min_width": null,
            "object_fit": null,
            "object_position": null,
            "order": null,
            "overflow": null,
            "overflow_x": null,
            "overflow_y": null,
            "padding": null,
            "right": null,
            "top": null,
            "visibility": null,
            "width": null
          }
        },
        "43901bd5c4f64a18844264ea4746e2ee": {
          "model_module": "@jupyter-widgets/controls",
          "model_name": "DescriptionStyleModel",
          "model_module_version": "1.5.0",
          "state": {
            "_model_module": "@jupyter-widgets/controls",
            "_model_module_version": "1.5.0",
            "_model_name": "DescriptionStyleModel",
            "_view_count": null,
            "_view_module": "@jupyter-widgets/base",
            "_view_module_version": "1.2.0",
            "_view_name": "StyleView",
            "description_width": ""
          }
        },
        "1e52625593994442a3ac8219187bfb3a": {
          "model_module": "@jupyter-widgets/controls",
          "model_name": "HBoxModel",
          "model_module_version": "1.5.0",
          "state": {
            "_dom_classes": [],
            "_model_module": "@jupyter-widgets/controls",
            "_model_module_version": "1.5.0",
            "_model_name": "HBoxModel",
            "_view_count": null,
            "_view_module": "@jupyter-widgets/controls",
            "_view_module_version": "1.5.0",
            "_view_name": "HBoxView",
            "box_style": "",
            "children": [
              "IPY_MODEL_466953841a64468597efb2ae5c96ffb4",
              "IPY_MODEL_8b874f04521b4f63b30199b33898a225",
              "IPY_MODEL_ef62ea72117a439888a55973c55b570e"
            ],
            "layout": "IPY_MODEL_df83af4f220546f286afcc167610ce70"
          }
        },
        "466953841a64468597efb2ae5c96ffb4": {
          "model_module": "@jupyter-widgets/controls",
          "model_name": "HTMLModel",
          "model_module_version": "1.5.0",
          "state": {
            "_dom_classes": [],
            "_model_module": "@jupyter-widgets/controls",
            "_model_module_version": "1.5.0",
            "_model_name": "HTMLModel",
            "_view_count": null,
            "_view_module": "@jupyter-widgets/controls",
            "_view_module_version": "1.5.0",
            "_view_name": "HTMLView",
            "description": "",
            "description_tooltip": null,
            "layout": "IPY_MODEL_f97dd1b55adb42c694c4933098fe3db4",
            "placeholder": "​",
            "style": "IPY_MODEL_a13557f1bf614e54b007b2668673f6e5",
            "value": "Downloading: 100%"
          }
        },
        "8b874f04521b4f63b30199b33898a225": {
          "model_module": "@jupyter-widgets/controls",
          "model_name": "FloatProgressModel",
          "model_module_version": "1.5.0",
          "state": {
            "_dom_classes": [],
            "_model_module": "@jupyter-widgets/controls",
            "_model_module_version": "1.5.0",
            "_model_name": "FloatProgressModel",
            "_view_count": null,
            "_view_module": "@jupyter-widgets/controls",
            "_view_module_version": "1.5.0",
            "_view_name": "ProgressView",
            "bar_style": "success",
            "description": "",
            "description_tooltip": null,
            "layout": "IPY_MODEL_1b4956122e744db3ba755c104fdd56cc",
            "max": 1964,
            "min": 0,
            "orientation": "horizontal",
            "style": "IPY_MODEL_0e748ac6afa64c84ab784f2a22e8517e",
            "value": 1964
          }
        },
        "ef62ea72117a439888a55973c55b570e": {
          "model_module": "@jupyter-widgets/controls",
          "model_name": "HTMLModel",
          "model_module_version": "1.5.0",
          "state": {
            "_dom_classes": [],
            "_model_module": "@jupyter-widgets/controls",
            "_model_module_version": "1.5.0",
            "_model_name": "HTMLModel",
            "_view_count": null,
            "_view_module": "@jupyter-widgets/controls",
            "_view_module_version": "1.5.0",
            "_view_name": "HTMLView",
            "description": "",
            "description_tooltip": null,
            "layout": "IPY_MODEL_59a72e28419a47b0b32f894b08f12355",
            "placeholder": "​",
            "style": "IPY_MODEL_ccd31a9bc9954c8e82e0399e084bdb7c",
            "value": " 1.96k/1.96k [00:00&lt;00:00, 65.0kB/s]"
          }
        },
        "df83af4f220546f286afcc167610ce70": {
          "model_module": "@jupyter-widgets/base",
          "model_name": "LayoutModel",
          "model_module_version": "1.2.0",
          "state": {
            "_model_module": "@jupyter-widgets/base",
            "_model_module_version": "1.2.0",
            "_model_name": "LayoutModel",
            "_view_count": null,
            "_view_module": "@jupyter-widgets/base",
            "_view_module_version": "1.2.0",
            "_view_name": "LayoutView",
            "align_content": null,
            "align_items": null,
            "align_self": null,
            "border": null,
            "bottom": null,
            "display": null,
            "flex": null,
            "flex_flow": null,
            "grid_area": null,
            "grid_auto_columns": null,
            "grid_auto_flow": null,
            "grid_auto_rows": null,
            "grid_column": null,
            "grid_gap": null,
            "grid_row": null,
            "grid_template_areas": null,
            "grid_template_columns": null,
            "grid_template_rows": null,
            "height": null,
            "justify_content": null,
            "justify_items": null,
            "left": null,
            "margin": null,
            "max_height": null,
            "max_width": null,
            "min_height": null,
            "min_width": null,
            "object_fit": null,
            "object_position": null,
            "order": null,
            "overflow": null,
            "overflow_x": null,
            "overflow_y": null,
            "padding": null,
            "right": null,
            "top": null,
            "visibility": null,
            "width": null
          }
        },
        "f97dd1b55adb42c694c4933098fe3db4": {
          "model_module": "@jupyter-widgets/base",
          "model_name": "LayoutModel",
          "model_module_version": "1.2.0",
          "state": {
            "_model_module": "@jupyter-widgets/base",
            "_model_module_version": "1.2.0",
            "_model_name": "LayoutModel",
            "_view_count": null,
            "_view_module": "@jupyter-widgets/base",
            "_view_module_version": "1.2.0",
            "_view_name": "LayoutView",
            "align_content": null,
            "align_items": null,
            "align_self": null,
            "border": null,
            "bottom": null,
            "display": null,
            "flex": null,
            "flex_flow": null,
            "grid_area": null,
            "grid_auto_columns": null,
            "grid_auto_flow": null,
            "grid_auto_rows": null,
            "grid_column": null,
            "grid_gap": null,
            "grid_row": null,
            "grid_template_areas": null,
            "grid_template_columns": null,
            "grid_template_rows": null,
            "height": null,
            "justify_content": null,
            "justify_items": null,
            "left": null,
            "margin": null,
            "max_height": null,
            "max_width": null,
            "min_height": null,
            "min_width": null,
            "object_fit": null,
            "object_position": null,
            "order": null,
            "overflow": null,
            "overflow_x": null,
            "overflow_y": null,
            "padding": null,
            "right": null,
            "top": null,
            "visibility": null,
            "width": null
          }
        },
        "a13557f1bf614e54b007b2668673f6e5": {
          "model_module": "@jupyter-widgets/controls",
          "model_name": "DescriptionStyleModel",
          "model_module_version": "1.5.0",
          "state": {
            "_model_module": "@jupyter-widgets/controls",
            "_model_module_version": "1.5.0",
            "_model_name": "DescriptionStyleModel",
            "_view_count": null,
            "_view_module": "@jupyter-widgets/base",
            "_view_module_version": "1.2.0",
            "_view_name": "StyleView",
            "description_width": ""
          }
        },
        "1b4956122e744db3ba755c104fdd56cc": {
          "model_module": "@jupyter-widgets/base",
          "model_name": "LayoutModel",
          "model_module_version": "1.2.0",
          "state": {
            "_model_module": "@jupyter-widgets/base",
            "_model_module_version": "1.2.0",
            "_model_name": "LayoutModel",
            "_view_count": null,
            "_view_module": "@jupyter-widgets/base",
            "_view_module_version": "1.2.0",
            "_view_name": "LayoutView",
            "align_content": null,
            "align_items": null,
            "align_self": null,
            "border": null,
            "bottom": null,
            "display": null,
            "flex": null,
            "flex_flow": null,
            "grid_area": null,
            "grid_auto_columns": null,
            "grid_auto_flow": null,
            "grid_auto_rows": null,
            "grid_column": null,
            "grid_gap": null,
            "grid_row": null,
            "grid_template_areas": null,
            "grid_template_columns": null,
            "grid_template_rows": null,
            "height": null,
            "justify_content": null,
            "justify_items": null,
            "left": null,
            "margin": null,
            "max_height": null,
            "max_width": null,
            "min_height": null,
            "min_width": null,
            "object_fit": null,
            "object_position": null,
            "order": null,
            "overflow": null,
            "overflow_x": null,
            "overflow_y": null,
            "padding": null,
            "right": null,
            "top": null,
            "visibility": null,
            "width": null
          }
        },
        "0e748ac6afa64c84ab784f2a22e8517e": {
          "model_module": "@jupyter-widgets/controls",
          "model_name": "ProgressStyleModel",
          "model_module_version": "1.5.0",
          "state": {
            "_model_module": "@jupyter-widgets/controls",
            "_model_module_version": "1.5.0",
            "_model_name": "ProgressStyleModel",
            "_view_count": null,
            "_view_module": "@jupyter-widgets/base",
            "_view_module_version": "1.2.0",
            "_view_name": "StyleView",
            "bar_color": null,
            "description_width": ""
          }
        },
        "59a72e28419a47b0b32f894b08f12355": {
          "model_module": "@jupyter-widgets/base",
          "model_name": "LayoutModel",
          "model_module_version": "1.2.0",
          "state": {
            "_model_module": "@jupyter-widgets/base",
            "_model_module_version": "1.2.0",
            "_model_name": "LayoutModel",
            "_view_count": null,
            "_view_module": "@jupyter-widgets/base",
            "_view_module_version": "1.2.0",
            "_view_name": "LayoutView",
            "align_content": null,
            "align_items": null,
            "align_self": null,
            "border": null,
            "bottom": null,
            "display": null,
            "flex": null,
            "flex_flow": null,
            "grid_area": null,
            "grid_auto_columns": null,
            "grid_auto_flow": null,
            "grid_auto_rows": null,
            "grid_column": null,
            "grid_gap": null,
            "grid_row": null,
            "grid_template_areas": null,
            "grid_template_columns": null,
            "grid_template_rows": null,
            "height": null,
            "justify_content": null,
            "justify_items": null,
            "left": null,
            "margin": null,
            "max_height": null,
            "max_width": null,
            "min_height": null,
            "min_width": null,
            "object_fit": null,
            "object_position": null,
            "order": null,
            "overflow": null,
            "overflow_x": null,
            "overflow_y": null,
            "padding": null,
            "right": null,
            "top": null,
            "visibility": null,
            "width": null
          }
        },
        "ccd31a9bc9954c8e82e0399e084bdb7c": {
          "model_module": "@jupyter-widgets/controls",
          "model_name": "DescriptionStyleModel",
          "model_module_version": "1.5.0",
          "state": {
            "_model_module": "@jupyter-widgets/controls",
            "_model_module_version": "1.5.0",
            "_model_name": "DescriptionStyleModel",
            "_view_count": null,
            "_view_module": "@jupyter-widgets/base",
            "_view_module_version": "1.2.0",
            "_view_name": "StyleView",
            "description_width": ""
          }
        },
        "9b5f4447bd8949e18ff8ee5fc8204bfc": {
          "model_module": "@jupyter-widgets/controls",
          "model_name": "HBoxModel",
          "model_module_version": "1.5.0",
          "state": {
            "_dom_classes": [],
            "_model_module": "@jupyter-widgets/controls",
            "_model_module_version": "1.5.0",
            "_model_name": "HBoxModel",
            "_view_count": null,
            "_view_module": "@jupyter-widgets/controls",
            "_view_module_version": "1.5.0",
            "_view_name": "HBoxView",
            "box_style": "",
            "children": [
              "IPY_MODEL_e4b1f94557384926b8b5ac86f66f6a7c",
              "IPY_MODEL_cd248f92eef54acf9332763176aedebf",
              "IPY_MODEL_b34b552bdd854e73a1b8baadeafeacb7"
            ],
            "layout": "IPY_MODEL_66a559f633ce405c84966be1331abce5"
          }
        },
        "e4b1f94557384926b8b5ac86f66f6a7c": {
          "model_module": "@jupyter-widgets/controls",
          "model_name": "HTMLModel",
          "model_module_version": "1.5.0",
          "state": {
            "_dom_classes": [],
            "_model_module": "@jupyter-widgets/controls",
            "_model_module_version": "1.5.0",
            "_model_name": "HTMLModel",
            "_view_count": null,
            "_view_module": "@jupyter-widgets/controls",
            "_view_module_version": "1.5.0",
            "_view_name": "HTMLView",
            "description": "",
            "description_tooltip": null,
            "layout": "IPY_MODEL_e84505a645494735920edef08d0393df",
            "placeholder": "​",
            "style": "IPY_MODEL_758faf7417244ef3bfc76769c5db4b38",
            "value": "Downloading: 100%"
          }
        },
        "cd248f92eef54acf9332763176aedebf": {
          "model_module": "@jupyter-widgets/controls",
          "model_name": "FloatProgressModel",
          "model_module_version": "1.5.0",
          "state": {
            "_dom_classes": [],
            "_model_module": "@jupyter-widgets/controls",
            "_model_module_version": "1.5.0",
            "_model_name": "FloatProgressModel",
            "_view_count": null,
            "_view_module": "@jupyter-widgets/controls",
            "_view_module_version": "1.5.0",
            "_view_name": "ProgressView",
            "bar_style": "success",
            "description": "",
            "description_tooltip": null,
            "layout": "IPY_MODEL_c8cc1ca6888c42d3be72348f9a487fe1",
            "max": 599,
            "min": 0,
            "orientation": "horizontal",
            "style": "IPY_MODEL_dceab56aa0d1470eba556309cf6f294f",
            "value": 599
          }
        },
        "b34b552bdd854e73a1b8baadeafeacb7": {
          "model_module": "@jupyter-widgets/controls",
          "model_name": "HTMLModel",
          "model_module_version": "1.5.0",
          "state": {
            "_dom_classes": [],
            "_model_module": "@jupyter-widgets/controls",
            "_model_module_version": "1.5.0",
            "_model_name": "HTMLModel",
            "_view_count": null,
            "_view_module": "@jupyter-widgets/controls",
            "_view_module_version": "1.5.0",
            "_view_name": "HTMLView",
            "description": "",
            "description_tooltip": null,
            "layout": "IPY_MODEL_9f31b5a28d394315b64c8b26860e105b",
            "placeholder": "​",
            "style": "IPY_MODEL_ff505ba6a5da40eeac26d47b8b7e0624",
            "value": " 599/599 [00:00&lt;00:00, 21.3kB/s]"
          }
        },
        "66a559f633ce405c84966be1331abce5": {
          "model_module": "@jupyter-widgets/base",
          "model_name": "LayoutModel",
          "model_module_version": "1.2.0",
          "state": {
            "_model_module": "@jupyter-widgets/base",
            "_model_module_version": "1.2.0",
            "_model_name": "LayoutModel",
            "_view_count": null,
            "_view_module": "@jupyter-widgets/base",
            "_view_module_version": "1.2.0",
            "_view_name": "LayoutView",
            "align_content": null,
            "align_items": null,
            "align_self": null,
            "border": null,
            "bottom": null,
            "display": null,
            "flex": null,
            "flex_flow": null,
            "grid_area": null,
            "grid_auto_columns": null,
            "grid_auto_flow": null,
            "grid_auto_rows": null,
            "grid_column": null,
            "grid_gap": null,
            "grid_row": null,
            "grid_template_areas": null,
            "grid_template_columns": null,
            "grid_template_rows": null,
            "height": null,
            "justify_content": null,
            "justify_items": null,
            "left": null,
            "margin": null,
            "max_height": null,
            "max_width": null,
            "min_height": null,
            "min_width": null,
            "object_fit": null,
            "object_position": null,
            "order": null,
            "overflow": null,
            "overflow_x": null,
            "overflow_y": null,
            "padding": null,
            "right": null,
            "top": null,
            "visibility": null,
            "width": null
          }
        },
        "e84505a645494735920edef08d0393df": {
          "model_module": "@jupyter-widgets/base",
          "model_name": "LayoutModel",
          "model_module_version": "1.2.0",
          "state": {
            "_model_module": "@jupyter-widgets/base",
            "_model_module_version": "1.2.0",
            "_model_name": "LayoutModel",
            "_view_count": null,
            "_view_module": "@jupyter-widgets/base",
            "_view_module_version": "1.2.0",
            "_view_name": "LayoutView",
            "align_content": null,
            "align_items": null,
            "align_self": null,
            "border": null,
            "bottom": null,
            "display": null,
            "flex": null,
            "flex_flow": null,
            "grid_area": null,
            "grid_auto_columns": null,
            "grid_auto_flow": null,
            "grid_auto_rows": null,
            "grid_column": null,
            "grid_gap": null,
            "grid_row": null,
            "grid_template_areas": null,
            "grid_template_columns": null,
            "grid_template_rows": null,
            "height": null,
            "justify_content": null,
            "justify_items": null,
            "left": null,
            "margin": null,
            "max_height": null,
            "max_width": null,
            "min_height": null,
            "min_width": null,
            "object_fit": null,
            "object_position": null,
            "order": null,
            "overflow": null,
            "overflow_x": null,
            "overflow_y": null,
            "padding": null,
            "right": null,
            "top": null,
            "visibility": null,
            "width": null
          }
        },
        "758faf7417244ef3bfc76769c5db4b38": {
          "model_module": "@jupyter-widgets/controls",
          "model_name": "DescriptionStyleModel",
          "model_module_version": "1.5.0",
          "state": {
            "_model_module": "@jupyter-widgets/controls",
            "_model_module_version": "1.5.0",
            "_model_name": "DescriptionStyleModel",
            "_view_count": null,
            "_view_module": "@jupyter-widgets/base",
            "_view_module_version": "1.2.0",
            "_view_name": "StyleView",
            "description_width": ""
          }
        },
        "c8cc1ca6888c42d3be72348f9a487fe1": {
          "model_module": "@jupyter-widgets/base",
          "model_name": "LayoutModel",
          "model_module_version": "1.2.0",
          "state": {
            "_model_module": "@jupyter-widgets/base",
            "_model_module_version": "1.2.0",
            "_model_name": "LayoutModel",
            "_view_count": null,
            "_view_module": "@jupyter-widgets/base",
            "_view_module_version": "1.2.0",
            "_view_name": "LayoutView",
            "align_content": null,
            "align_items": null,
            "align_self": null,
            "border": null,
            "bottom": null,
            "display": null,
            "flex": null,
            "flex_flow": null,
            "grid_area": null,
            "grid_auto_columns": null,
            "grid_auto_flow": null,
            "grid_auto_rows": null,
            "grid_column": null,
            "grid_gap": null,
            "grid_row": null,
            "grid_template_areas": null,
            "grid_template_columns": null,
            "grid_template_rows": null,
            "height": null,
            "justify_content": null,
            "justify_items": null,
            "left": null,
            "margin": null,
            "max_height": null,
            "max_width": null,
            "min_height": null,
            "min_width": null,
            "object_fit": null,
            "object_position": null,
            "order": null,
            "overflow": null,
            "overflow_x": null,
            "overflow_y": null,
            "padding": null,
            "right": null,
            "top": null,
            "visibility": null,
            "width": null
          }
        },
        "dceab56aa0d1470eba556309cf6f294f": {
          "model_module": "@jupyter-widgets/controls",
          "model_name": "ProgressStyleModel",
          "model_module_version": "1.5.0",
          "state": {
            "_model_module": "@jupyter-widgets/controls",
            "_model_module_version": "1.5.0",
            "_model_name": "ProgressStyleModel",
            "_view_count": null,
            "_view_module": "@jupyter-widgets/base",
            "_view_module_version": "1.2.0",
            "_view_name": "StyleView",
            "bar_color": null,
            "description_width": ""
          }
        },
        "9f31b5a28d394315b64c8b26860e105b": {
          "model_module": "@jupyter-widgets/base",
          "model_name": "LayoutModel",
          "model_module_version": "1.2.0",
          "state": {
            "_model_module": "@jupyter-widgets/base",
            "_model_module_version": "1.2.0",
            "_model_name": "LayoutModel",
            "_view_count": null,
            "_view_module": "@jupyter-widgets/base",
            "_view_module_version": "1.2.0",
            "_view_name": "LayoutView",
            "align_content": null,
            "align_items": null,
            "align_self": null,
            "border": null,
            "bottom": null,
            "display": null,
            "flex": null,
            "flex_flow": null,
            "grid_area": null,
            "grid_auto_columns": null,
            "grid_auto_flow": null,
            "grid_auto_rows": null,
            "grid_column": null,
            "grid_gap": null,
            "grid_row": null,
            "grid_template_areas": null,
            "grid_template_columns": null,
            "grid_template_rows": null,
            "height": null,
            "justify_content": null,
            "justify_items": null,
            "left": null,
            "margin": null,
            "max_height": null,
            "max_width": null,
            "min_height": null,
            "min_width": null,
            "object_fit": null,
            "object_position": null,
            "order": null,
            "overflow": null,
            "overflow_x": null,
            "overflow_y": null,
            "padding": null,
            "right": null,
            "top": null,
            "visibility": null,
            "width": null
          }
        },
        "ff505ba6a5da40eeac26d47b8b7e0624": {
          "model_module": "@jupyter-widgets/controls",
          "model_name": "DescriptionStyleModel",
          "model_module_version": "1.5.0",
          "state": {
            "_model_module": "@jupyter-widgets/controls",
            "_model_module_version": "1.5.0",
            "_model_name": "DescriptionStyleModel",
            "_view_count": null,
            "_view_module": "@jupyter-widgets/base",
            "_view_module_version": "1.2.0",
            "_view_name": "StyleView",
            "description_width": ""
          }
        },
        "94c17b7abd464ccaace5915c60d19334": {
          "model_module": "@jupyter-widgets/controls",
          "model_name": "HBoxModel",
          "model_module_version": "1.5.0",
          "state": {
            "_dom_classes": [],
            "_model_module": "@jupyter-widgets/controls",
            "_model_module_version": "1.5.0",
            "_model_name": "HBoxModel",
            "_view_count": null,
            "_view_module": "@jupyter-widgets/controls",
            "_view_module_version": "1.5.0",
            "_view_name": "HBoxView",
            "box_style": "",
            "children": [
              "IPY_MODEL_bc6a64dcc1dc4a3db81918475331fd50",
              "IPY_MODEL_9fc68e70a9d24c95a738ec2f23d3d650",
              "IPY_MODEL_4e16e9e30e674d608c47f4a1080217d8"
            ],
            "layout": "IPY_MODEL_4f06463611314fc7afd698e247d8adbb"
          }
        },
        "bc6a64dcc1dc4a3db81918475331fd50": {
          "model_module": "@jupyter-widgets/controls",
          "model_name": "HTMLModel",
          "model_module_version": "1.5.0",
          "state": {
            "_dom_classes": [],
            "_model_module": "@jupyter-widgets/controls",
            "_model_module_version": "1.5.0",
            "_model_name": "HTMLModel",
            "_view_count": null,
            "_view_module": "@jupyter-widgets/controls",
            "_view_module_version": "1.5.0",
            "_view_name": "HTMLView",
            "description": "",
            "description_tooltip": null,
            "layout": "IPY_MODEL_875e3deaec184130bc9828a66c84c90c",
            "placeholder": "​",
            "style": "IPY_MODEL_3678a68f0a06485ca9f0963ea922b73b",
            "value": "Downloading: 100%"
          }
        },
        "9fc68e70a9d24c95a738ec2f23d3d650": {
          "model_module": "@jupyter-widgets/controls",
          "model_name": "FloatProgressModel",
          "model_module_version": "1.5.0",
          "state": {
            "_dom_classes": [],
            "_model_module": "@jupyter-widgets/controls",
            "_model_module_version": "1.5.0",
            "_model_name": "FloatProgressModel",
            "_view_count": null,
            "_view_module": "@jupyter-widgets/controls",
            "_view_module_version": "1.5.0",
            "_view_name": "ProgressView",
            "bar_style": "success",
            "description": "",
            "description_tooltip": null,
            "layout": "IPY_MODEL_775a461decfe4e1399d160c502fce7f8",
            "max": 990048016,
            "min": 0,
            "orientation": "horizontal",
            "style": "IPY_MODEL_0670d06470dc4c2c950606b5b75aa814",
            "value": 990048016
          }
        },
        "4e16e9e30e674d608c47f4a1080217d8": {
          "model_module": "@jupyter-widgets/controls",
          "model_name": "HTMLModel",
          "model_module_version": "1.5.0",
          "state": {
            "_dom_classes": [],
            "_model_module": "@jupyter-widgets/controls",
            "_model_module_version": "1.5.0",
            "_model_name": "HTMLModel",
            "_view_count": null,
            "_view_module": "@jupyter-widgets/controls",
            "_view_module_version": "1.5.0",
            "_view_name": "HTMLView",
            "description": "",
            "description_tooltip": null,
            "layout": "IPY_MODEL_e8a0a24af29f480f92801fce7faa5fe2",
            "placeholder": "​",
            "style": "IPY_MODEL_ff82afd5039c47dba5b97fde538fbef2",
            "value": " 990M/990M [00:36&lt;00:00, 33.9MB/s]"
          }
        },
        "4f06463611314fc7afd698e247d8adbb": {
          "model_module": "@jupyter-widgets/base",
          "model_name": "LayoutModel",
          "model_module_version": "1.2.0",
          "state": {
            "_model_module": "@jupyter-widgets/base",
            "_model_module_version": "1.2.0",
            "_model_name": "LayoutModel",
            "_view_count": null,
            "_view_module": "@jupyter-widgets/base",
            "_view_module_version": "1.2.0",
            "_view_name": "LayoutView",
            "align_content": null,
            "align_items": null,
            "align_self": null,
            "border": null,
            "bottom": null,
            "display": null,
            "flex": null,
            "flex_flow": null,
            "grid_area": null,
            "grid_auto_columns": null,
            "grid_auto_flow": null,
            "grid_auto_rows": null,
            "grid_column": null,
            "grid_gap": null,
            "grid_row": null,
            "grid_template_areas": null,
            "grid_template_columns": null,
            "grid_template_rows": null,
            "height": null,
            "justify_content": null,
            "justify_items": null,
            "left": null,
            "margin": null,
            "max_height": null,
            "max_width": null,
            "min_height": null,
            "min_width": null,
            "object_fit": null,
            "object_position": null,
            "order": null,
            "overflow": null,
            "overflow_x": null,
            "overflow_y": null,
            "padding": null,
            "right": null,
            "top": null,
            "visibility": null,
            "width": null
          }
        },
        "875e3deaec184130bc9828a66c84c90c": {
          "model_module": "@jupyter-widgets/base",
          "model_name": "LayoutModel",
          "model_module_version": "1.2.0",
          "state": {
            "_model_module": "@jupyter-widgets/base",
            "_model_module_version": "1.2.0",
            "_model_name": "LayoutModel",
            "_view_count": null,
            "_view_module": "@jupyter-widgets/base",
            "_view_module_version": "1.2.0",
            "_view_name": "LayoutView",
            "align_content": null,
            "align_items": null,
            "align_self": null,
            "border": null,
            "bottom": null,
            "display": null,
            "flex": null,
            "flex_flow": null,
            "grid_area": null,
            "grid_auto_columns": null,
            "grid_auto_flow": null,
            "grid_auto_rows": null,
            "grid_column": null,
            "grid_gap": null,
            "grid_row": null,
            "grid_template_areas": null,
            "grid_template_columns": null,
            "grid_template_rows": null,
            "height": null,
            "justify_content": null,
            "justify_items": null,
            "left": null,
            "margin": null,
            "max_height": null,
            "max_width": null,
            "min_height": null,
            "min_width": null,
            "object_fit": null,
            "object_position": null,
            "order": null,
            "overflow": null,
            "overflow_x": null,
            "overflow_y": null,
            "padding": null,
            "right": null,
            "top": null,
            "visibility": null,
            "width": null
          }
        },
        "3678a68f0a06485ca9f0963ea922b73b": {
          "model_module": "@jupyter-widgets/controls",
          "model_name": "DescriptionStyleModel",
          "model_module_version": "1.5.0",
          "state": {
            "_model_module": "@jupyter-widgets/controls",
            "_model_module_version": "1.5.0",
            "_model_name": "DescriptionStyleModel",
            "_view_count": null,
            "_view_module": "@jupyter-widgets/base",
            "_view_module_version": "1.2.0",
            "_view_name": "StyleView",
            "description_width": ""
          }
        },
        "775a461decfe4e1399d160c502fce7f8": {
          "model_module": "@jupyter-widgets/base",
          "model_name": "LayoutModel",
          "model_module_version": "1.2.0",
          "state": {
            "_model_module": "@jupyter-widgets/base",
            "_model_module_version": "1.2.0",
            "_model_name": "LayoutModel",
            "_view_count": null,
            "_view_module": "@jupyter-widgets/base",
            "_view_module_version": "1.2.0",
            "_view_name": "LayoutView",
            "align_content": null,
            "align_items": null,
            "align_self": null,
            "border": null,
            "bottom": null,
            "display": null,
            "flex": null,
            "flex_flow": null,
            "grid_area": null,
            "grid_auto_columns": null,
            "grid_auto_flow": null,
            "grid_auto_rows": null,
            "grid_column": null,
            "grid_gap": null,
            "grid_row": null,
            "grid_template_areas": null,
            "grid_template_columns": null,
            "grid_template_rows": null,
            "height": null,
            "justify_content": null,
            "justify_items": null,
            "left": null,
            "margin": null,
            "max_height": null,
            "max_width": null,
            "min_height": null,
            "min_width": null,
            "object_fit": null,
            "object_position": null,
            "order": null,
            "overflow": null,
            "overflow_x": null,
            "overflow_y": null,
            "padding": null,
            "right": null,
            "top": null,
            "visibility": null,
            "width": null
          }
        },
        "0670d06470dc4c2c950606b5b75aa814": {
          "model_module": "@jupyter-widgets/controls",
          "model_name": "ProgressStyleModel",
          "model_module_version": "1.5.0",
          "state": {
            "_model_module": "@jupyter-widgets/controls",
            "_model_module_version": "1.5.0",
            "_model_name": "ProgressStyleModel",
            "_view_count": null,
            "_view_module": "@jupyter-widgets/base",
            "_view_module_version": "1.2.0",
            "_view_name": "StyleView",
            "bar_color": null,
            "description_width": ""
          }
        },
        "e8a0a24af29f480f92801fce7faa5fe2": {
          "model_module": "@jupyter-widgets/base",
          "model_name": "LayoutModel",
          "model_module_version": "1.2.0",
          "state": {
            "_model_module": "@jupyter-widgets/base",
            "_model_module_version": "1.2.0",
            "_model_name": "LayoutModel",
            "_view_count": null,
            "_view_module": "@jupyter-widgets/base",
            "_view_module_version": "1.2.0",
            "_view_name": "LayoutView",
            "align_content": null,
            "align_items": null,
            "align_self": null,
            "border": null,
            "bottom": null,
            "display": null,
            "flex": null,
            "flex_flow": null,
            "grid_area": null,
            "grid_auto_columns": null,
            "grid_auto_flow": null,
            "grid_auto_rows": null,
            "grid_column": null,
            "grid_gap": null,
            "grid_row": null,
            "grid_template_areas": null,
            "grid_template_columns": null,
            "grid_template_rows": null,
            "height": null,
            "justify_content": null,
            "justify_items": null,
            "left": null,
            "margin": null,
            "max_height": null,
            "max_width": null,
            "min_height": null,
            "min_width": null,
            "object_fit": null,
            "object_position": null,
            "order": null,
            "overflow": null,
            "overflow_x": null,
            "overflow_y": null,
            "padding": null,
            "right": null,
            "top": null,
            "visibility": null,
            "width": null
          }
        },
        "ff82afd5039c47dba5b97fde538fbef2": {
          "model_module": "@jupyter-widgets/controls",
          "model_name": "DescriptionStyleModel",
          "model_module_version": "1.5.0",
          "state": {
            "_model_module": "@jupyter-widgets/controls",
            "_model_module_version": "1.5.0",
            "_model_name": "DescriptionStyleModel",
            "_view_count": null,
            "_view_module": "@jupyter-widgets/base",
            "_view_module_version": "1.2.0",
            "_view_name": "StyleView",
            "description_width": ""
          }
        }
      }
    }
  },
  "cells": [
    {
      "cell_type": "markdown",
      "source": [
        "# Runtime -> Change Runtime -> GPU"
      ],
      "metadata": {
        "id": "cKI3XnG963iC"
      }
    },
    {
      "cell_type": "code",
      "execution_count": 1,
      "metadata": {
        "id": "L0zLl_aG6vJc",
        "colab": {
          "base_uri": "https://localhost:8080/"
        },
        "outputId": "1dff9c41-56cc-4ac6-ed5e-bf64dc720927"
      },
      "outputs": [
        {
          "output_type": "stream",
          "name": "stdout",
          "text": [
            "Sun Apr 24 07:25:59 2022       \n",
            "+-----------------------------------------------------------------------------+\n",
            "| NVIDIA-SMI 460.32.03    Driver Version: 460.32.03    CUDA Version: 11.2     |\n",
            "|-------------------------------+----------------------+----------------------+\n",
            "| GPU  Name        Persistence-M| Bus-Id        Disp.A | Volatile Uncorr. ECC |\n",
            "| Fan  Temp  Perf  Pwr:Usage/Cap|         Memory-Usage | GPU-Util  Compute M. |\n",
            "|                               |                      |               MIG M. |\n",
            "|===============================+======================+======================|\n",
            "|   0  Tesla P100-PCIE...  Off  | 00000000:00:04.0 Off |                    0 |\n",
            "| N/A   46C    P0    29W / 250W |      0MiB / 16280MiB |      0%      Default |\n",
            "|                               |                      |                  N/A |\n",
            "+-------------------------------+----------------------+----------------------+\n",
            "                                                                               \n",
            "+-----------------------------------------------------------------------------+\n",
            "| Processes:                                                                  |\n",
            "|  GPU   GI   CI        PID   Type   Process name                  GPU Memory |\n",
            "|        ID   ID                                                   Usage      |\n",
            "|=============================================================================|\n",
            "|  No running processes found                                                 |\n",
            "+-----------------------------------------------------------------------------+\n",
            "\u001b[K     |████████████████████████████████| 1.5 MB 5.2 MB/s \n",
            "\u001b[K     |████████████████████████████████| 895 kB 44.7 MB/s \n",
            "\u001b[K     |████████████████████████████████| 2.9 MB 36.5 MB/s \n",
            "\u001b[K     |████████████████████████████████| 2.0 MB 5.1 MB/s \n",
            "\u001b[?25h  Installing build dependencies ... \u001b[?25l\u001b[?25hdone\n",
            "  Getting requirements to build wheel ... \u001b[?25l\u001b[?25hdone\n",
            "    Preparing wheel metadata ... \u001b[?25l\u001b[?25hdone\n",
            "\u001b[K     |████████████████████████████████| 829 kB 5.2 MB/s \n",
            "\u001b[K     |████████████████████████████████| 596 kB 46.4 MB/s \n",
            "\u001b[K     |████████████████████████████████| 408 kB 64.3 MB/s \n",
            "\u001b[K     |████████████████████████████████| 136 kB 41.1 MB/s \n",
            "\u001b[K     |████████████████████████████████| 1.1 MB 57.4 MB/s \n",
            "\u001b[K     |████████████████████████████████| 271 kB 57.8 MB/s \n",
            "\u001b[K     |████████████████████████████████| 144 kB 64.3 MB/s \n",
            "\u001b[K     |████████████████████████████████| 94 kB 3.1 MB/s \n",
            "\u001b[?25h  Building wheel for pytorch-lightning (PEP 517) ... \u001b[?25l\u001b[?25hdone\n",
            "  Building wheel for future (setup.py) ... \u001b[?25l\u001b[?25hdone\n",
            "\u001b[K     |████████████████████████████████| 1.1 MB 5.0 MB/s \n",
            "\u001b[?25h"
          ]
        },
        {
          "output_type": "stream",
          "name": "stderr",
          "text": [
            "Global seed set to 0\n"
          ]
        },
        {
          "output_type": "stream",
          "name": "stdout",
          "text": [
            "1.2.6\n",
            "1.2.6\n"
          ]
        }
      ],
      "source": [
        "# check for the GPU provided in the runtime\n",
        "!nvidia-smi\n",
        "# using quiet method for controlling the log\n",
        "# for suppressing the colored errors and warning in the terminal\n",
        "!pip install --quiet transformers==4.1.1\n",
        "# pytorch lightning for smoother model training and data loading\n",
        "!pip install --quiet https://github.com/PyTorchLightning/pytorch-lightning/releases/download/1.2.6/pytorch-lightning-1.2.6.tar.gz \n",
        "# using HuggingFace tokenizers\n",
        "!pip install --quiet tokenizers==0.9.4\n",
        "# Google's sentencepiece\n",
        "!pip install --quiet sentencepiece==0.1.94\n",
        "# mostly pl is used while doing complex model training\n",
        "import pytorch_lightning as pl\n",
        "print(pl.__version__)\n",
        "# argparse makes it easier to write user friendly command line interfaces\n",
        "import argparse\n",
        "# package for faster file name matching\n",
        "import glob\n",
        "# makiing directories for data \n",
        "import os\n",
        "# reading json files as the data is present in json files\n",
        "import json\n",
        "# time module for calculating the model runtime\n",
        "import time\n",
        "# Allows writing status messages to a file\n",
        "import logging\n",
        "# generate random float numbers uniformly\n",
        "import random\n",
        "# regex module for text \n",
        "import re\n",
        "# module provides various functions which work on \n",
        "# iterators too produce complex iterators\n",
        "from itertools import chain\n",
        "from string import punctuation\n",
        "# pandas for data manipulation\n",
        "import pandas as pd\n",
        "# numpy for array operations\n",
        "import numpy as np\n",
        "# PyTorch\n",
        "import torch\n",
        "# provides various classes representing file system paths\n",
        "# with appropriate semantics\n",
        "from pathlib import Path\n",
        "from torch.utils.data import Dataset, DataLoader\n",
        "import pytorch_lightning as pl\n",
        "# splitting the data \n",
        "from sklearn.model_selection import train_test_split\n",
        "# ANSII color formatting for ouput in terminal\n",
        "from termcolor import colored\n",
        "# wrapping paragraphs into string\n",
        "import textwrap\n",
        "# model checkpoints in pretrained model\n",
        "from pytorch_lightning.callbacks import ModelCheckpoint\n",
        "'''\n",
        "optimizer - AdamW\n",
        "T5 Conditional Generator in which we'll give conditions\n",
        "T5 tokenizer because it is fast\n",
        "training the model without a learning rate\n",
        "'''\n",
        "from transformers import (\n",
        "    AdamW,\n",
        "    T5ForConditionalGeneration,\n",
        "    T5Tokenizer,\n",
        "    get_linear_schedule_with_warmup\n",
        ")\n",
        "# Seeds all the processes including numpy torch and other imported modules.\n",
        "pl.seed_everything(0)\n",
        "# check the version provided by Lightning\n",
        "import pytorch_lightning as pl\n",
        "print(pl.__version__)"
      ]
    },
    {
      "cell_type": "code",
      "source": [
        "# RuntimeError: CUDA out of memory. Tried to allocate 134.00 MiB (GPU 0; 15.90 GiB total capacity; 14.35 GiB already allocated; 29.75 MiB free; 14.76 GiB reserved in total by PyTorch) If reserved memory is >> allocated memory try setting max_split_size_mb to avoid fragmentation. See documentation for Memory Management and PYTORCH_CUDA_ALLOC_CONF\n",
        "# 이런 에러가 발생하는 이유는 batch size가 너무 크거나, 코드 상에서 메모리 누수가 발생했기 때문이라고 한다.\n",
        "# 출처 : https://beausty23.tistory.com/145\n",
        "\n",
        "import gc\n",
        "gc.collect()\n",
        "torch.cuda.empty_cache()"
      ],
      "metadata": {
        "id": "nIUPbUbORVrG"
      },
      "execution_count": null,
      "outputs": []
    },
    {
      "cell_type": "markdown",
      "source": [
        "# Downloading the Dataset"
      ],
      "metadata": {
        "id": "cUvcpoeH65ZS"
      }
    },
    {
      "cell_type": "code",
      "source": [
        "# # QA dataset from https://github.com/dmis-lab/bioasq-biobert\n",
        "# # which is in Zip format\n",
        "# !gdown --id 1mxVUywvKzvA9bvrUc11RYuOTy7MYcXHF\n",
        "# # Unzipping the folder\n",
        "# !unzip -q bio-QA.zip"
      ],
      "metadata": {
        "colab": {
          "base_uri": "https://localhost:8080/"
        },
        "id": "oBUbJLMoCMLb",
        "outputId": "2818e6c5-281f-4ca1-cd68-9f568a36548b"
      },
      "execution_count": null,
      "outputs": [
        {
          "output_type": "stream",
          "name": "stdout",
          "text": [
            "/usr/local/lib/python3.7/dist-packages/gdown/cli.py:131: FutureWarning: Option `--id` was deprecated in version 4.3.1 and will be removed in 5.0. You don't need to pass it anymore to use a file ID.\n",
            "  category=FutureWarning,\n",
            "Downloading...\n",
            "From: https://drive.google.com/uc?id=1mxVUywvKzvA9bvrUc11RYuOTy7MYcXHF\n",
            "To: /content/bio-QA.zip\n",
            "100% 5.48M/5.48M [00:00<00:00, 327MB/s]\n"
          ]
        }
      ]
    },
    {
      "cell_type": "code",
      "source": [
        "# # let's have a look at one of the files\n",
        "# with Path(\"BioASQ/BioASQ-train-factoid-4b.json\").open() as json_file:\n",
        "#   data_ = json.load(json_file)"
      ],
      "metadata": {
        "id": "6oychEfPWe2s"
      },
      "execution_count": null,
      "outputs": []
    },
    {
      "cell_type": "code",
      "source": [
        "# # let's have a look at one of the files\n",
        "# with Path(\"/content/drive/MyDrive/final_pjt/data/data.json\").open() as json_file:\n",
        "#   data = json.load(json_file)"
      ],
      "metadata": {
        "colab": {
          "base_uri": "https://localhost:8080/",
          "height": 363
        },
        "id": "gksECmPRCFXb",
        "outputId": "bea863fc-f4f7-44ed-859a-a4d859ceea7f"
      },
      "execution_count": null,
      "outputs": [
        {
          "output_type": "error",
          "ename": "KeyboardInterrupt",
          "evalue": "ignored",
          "traceback": [
            "\u001b[0;31m---------------------------------------------------------------------------\u001b[0m",
            "\u001b[0;31mKeyboardInterrupt\u001b[0m                         Traceback (most recent call last)",
            "\u001b[0;32m<ipython-input-4-15f8d27d233b>\u001b[0m in \u001b[0;36m<module>\u001b[0;34m()\u001b[0m\n\u001b[1;32m      1\u001b[0m \u001b[0;31m# let's have a look at one of the files\u001b[0m\u001b[0;34m\u001b[0m\u001b[0;34m\u001b[0m\u001b[0;34m\u001b[0m\u001b[0m\n\u001b[1;32m      2\u001b[0m \u001b[0;32mwith\u001b[0m \u001b[0mPath\u001b[0m\u001b[0;34m(\u001b[0m\u001b[0;34m\"/content/drive/MyDrive/final_pjt/data/data.json\"\u001b[0m\u001b[0;34m)\u001b[0m\u001b[0;34m.\u001b[0m\u001b[0mopen\u001b[0m\u001b[0;34m(\u001b[0m\u001b[0;34m)\u001b[0m \u001b[0;32mas\u001b[0m \u001b[0mjson_file\u001b[0m\u001b[0;34m:\u001b[0m\u001b[0;34m\u001b[0m\u001b[0;34m\u001b[0m\u001b[0m\n\u001b[0;32m----> 3\u001b[0;31m   \u001b[0mdata\u001b[0m \u001b[0;34m=\u001b[0m \u001b[0mjson\u001b[0m\u001b[0;34m.\u001b[0m\u001b[0mload\u001b[0m\u001b[0;34m(\u001b[0m\u001b[0mjson_file\u001b[0m\u001b[0;34m)\u001b[0m\u001b[0;34m\u001b[0m\u001b[0;34m\u001b[0m\u001b[0m\n\u001b[0m",
            "\u001b[0;32m/usr/lib/python3.7/json/__init__.py\u001b[0m in \u001b[0;36mload\u001b[0;34m(fp, cls, object_hook, parse_float, parse_int, parse_constant, object_pairs_hook, **kw)\u001b[0m\n\u001b[1;32m    291\u001b[0m     \u001b[0mkwarg\u001b[0m\u001b[0;34m;\u001b[0m \u001b[0motherwise\u001b[0m\u001b[0;31m \u001b[0m\u001b[0;31m`\u001b[0m\u001b[0;31m`\u001b[0m\u001b[0mJSONDecoder\u001b[0m\u001b[0;31m`\u001b[0m\u001b[0;31m`\u001b[0m \u001b[0;32mis\u001b[0m \u001b[0mused\u001b[0m\u001b[0;34m.\u001b[0m\u001b[0;34m\u001b[0m\u001b[0;34m\u001b[0m\u001b[0m\n\u001b[1;32m    292\u001b[0m     \"\"\"\n\u001b[0;32m--> 293\u001b[0;31m     return loads(fp.read(),\n\u001b[0m\u001b[1;32m    294\u001b[0m         \u001b[0mcls\u001b[0m\u001b[0;34m=\u001b[0m\u001b[0mcls\u001b[0m\u001b[0;34m,\u001b[0m \u001b[0mobject_hook\u001b[0m\u001b[0;34m=\u001b[0m\u001b[0mobject_hook\u001b[0m\u001b[0;34m,\u001b[0m\u001b[0;34m\u001b[0m\u001b[0;34m\u001b[0m\u001b[0m\n\u001b[1;32m    295\u001b[0m         \u001b[0mparse_float\u001b[0m\u001b[0;34m=\u001b[0m\u001b[0mparse_float\u001b[0m\u001b[0;34m,\u001b[0m \u001b[0mparse_int\u001b[0m\u001b[0;34m=\u001b[0m\u001b[0mparse_int\u001b[0m\u001b[0;34m,\u001b[0m\u001b[0;34m\u001b[0m\u001b[0;34m\u001b[0m\u001b[0m\n",
            "\u001b[0;32m/usr/lib/python3.7/codecs.py\u001b[0m in \u001b[0;36mdecode\u001b[0;34m(self, input, final)\u001b[0m\n\u001b[1;32m    320\u001b[0m         \u001b[0;31m# decode input (taking the buffer into account)\u001b[0m\u001b[0;34m\u001b[0m\u001b[0;34m\u001b[0m\u001b[0;34m\u001b[0m\u001b[0m\n\u001b[1;32m    321\u001b[0m         \u001b[0mdata\u001b[0m \u001b[0;34m=\u001b[0m \u001b[0mself\u001b[0m\u001b[0;34m.\u001b[0m\u001b[0mbuffer\u001b[0m \u001b[0;34m+\u001b[0m \u001b[0minput\u001b[0m\u001b[0;34m\u001b[0m\u001b[0;34m\u001b[0m\u001b[0m\n\u001b[0;32m--> 322\u001b[0;31m         \u001b[0;34m(\u001b[0m\u001b[0mresult\u001b[0m\u001b[0;34m,\u001b[0m \u001b[0mconsumed\u001b[0m\u001b[0;34m)\u001b[0m \u001b[0;34m=\u001b[0m \u001b[0mself\u001b[0m\u001b[0;34m.\u001b[0m\u001b[0m_buffer_decode\u001b[0m\u001b[0;34m(\u001b[0m\u001b[0mdata\u001b[0m\u001b[0;34m,\u001b[0m \u001b[0mself\u001b[0m\u001b[0;34m.\u001b[0m\u001b[0merrors\u001b[0m\u001b[0;34m,\u001b[0m \u001b[0mfinal\u001b[0m\u001b[0;34m)\u001b[0m\u001b[0;34m\u001b[0m\u001b[0;34m\u001b[0m\u001b[0m\n\u001b[0m\u001b[1;32m    323\u001b[0m         \u001b[0;31m# keep undecoded input until the next call\u001b[0m\u001b[0;34m\u001b[0m\u001b[0;34m\u001b[0m\u001b[0;34m\u001b[0m\u001b[0m\n\u001b[1;32m    324\u001b[0m         \u001b[0mself\u001b[0m\u001b[0;34m.\u001b[0m\u001b[0mbuffer\u001b[0m \u001b[0;34m=\u001b[0m \u001b[0mdata\u001b[0m\u001b[0;34m[\u001b[0m\u001b[0mconsumed\u001b[0m\u001b[0;34m:\u001b[0m\u001b[0;34m]\u001b[0m\u001b[0;34m\u001b[0m\u001b[0;34m\u001b[0m\u001b[0m\n",
            "\u001b[0;31mKeyboardInterrupt\u001b[0m: "
          ]
        }
      ]
    },
    {
      "cell_type": "code",
      "source": [
        "# # let's have a look at one of the files\n",
        "# with Path(\"/content/drive/MyDrive/final_pjt/data/KorQuAD_v1.0_train.json\").open() as json_file:\n",
        "#   data_ = json.load(json_file)"
      ],
      "metadata": {
        "id": "z9GmQTDHkIH5"
      },
      "execution_count": null,
      "outputs": []
    },
    {
      "cell_type": "code",
      "source": [
        "import os\n",
        "import json\n",
        "import numpy as np\n",
        "from tqdm.notebook import tqdm\n",
        "from pathlib import Path\n",
        "from transformers import BertTokenizerFast\n",
        "import tensorflow as tf"
      ],
      "metadata": {
        "id": "DG8WDlv1o81I"
      },
      "execution_count": 2,
      "outputs": []
    },
    {
      "cell_type": "code",
      "source": [
        "def read_squad(path):\n",
        "    path = Path(path)\n",
        "    with open(path, 'rb') as f:\n",
        "      data = json.load(f)\n",
        "    data_rows = []\n",
        "    for group in data['data']:\n",
        "      for passage in group['paragraphs']:\n",
        "        context = passage['context']\n",
        "        for qa in passage['qas']:\n",
        "          question = qa['question']\n",
        "          for answer in qa['answers']:\n",
        "            answer_text = answer['text']\n",
        "            answer_start = answer['answer_start']\n",
        "            answer_end = answer['answer_start'] + len(answer_text)  #Gets the end index of each answer in the paragraph\n",
        "            data_rows.append({\n",
        "                  \"question\" : question,\n",
        "                  \"context\"  : context,\n",
        "                  \"answer_text\" : answer_text,\n",
        "                  \"answer_start\" : answer_start,\n",
        "                  \"answer_end\" : answer_end\n",
        "              })\n",
        "\n",
        "    return pd.DataFrame(data_rows)\n",
        "\n",
        "df =read_squad('/content/drive/MyDrive/final_pjt/data/KorQuAD_v1.0_train.json')\n"
      ],
      "metadata": {
        "id": "pkAEBLHEo0dT"
      },
      "execution_count": null,
      "outputs": []
    },
    {
      "cell_type": "code",
      "source": [
        "df = pd.read_csv('/content/drive/MyDrive/6조_파이널PJT/data/ko1.0_add_ko2.0.csv')"
      ],
      "metadata": {
        "id": "zxmfGc_ooijH"
      },
      "execution_count": 3,
      "outputs": []
    },
    {
      "cell_type": "code",
      "source": [
        "df1 = df[:50000]\n",
        "df2 = df[50000:]\n",
        "# df2 = df[70000:]"
      ],
      "metadata": {
        "id": "M8EeloV_efo4"
      },
      "execution_count": null,
      "outputs": []
    },
    {
      "cell_type": "code",
      "source": [
        "df1.info()\n",
        "len(df1)"
      ],
      "metadata": {
        "id": "OMbC8lOYo-67",
        "colab": {
          "base_uri": "https://localhost:8080/"
        },
        "outputId": "af072db3-50c0-4bb6-9747-4033b7a85828"
      },
      "execution_count": null,
      "outputs": [
        {
          "output_type": "stream",
          "name": "stdout",
          "text": [
            "<class 'pandas.core.frame.DataFrame'>\n",
            "RangeIndex: 50000 entries, 0 to 49999\n",
            "Data columns (total 5 columns):\n",
            " #   Column        Non-Null Count  Dtype \n",
            "---  ------        --------------  ----- \n",
            " 0   question      50000 non-null  object\n",
            " 1   context       50000 non-null  object\n",
            " 2   answer_text   50000 non-null  object\n",
            " 3   answer_start  50000 non-null  int64 \n",
            " 4   answer_end    50000 non-null  int64 \n",
            "dtypes: int64(2), object(3)\n",
            "memory usage: 1.9+ MB\n"
          ]
        },
        {
          "output_type": "execute_result",
          "data": {
            "text/plain": [
              "50000"
            ]
          },
          "metadata": {},
          "execution_count": 36
        }
      ]
    },
    {
      "cell_type": "code",
      "source": [
        "df_t = df_t.drop(['Unnamed: 0'], axis = 1)"
      ],
      "metadata": {
        "id": "3noF1Tyj4lt8"
      },
      "execution_count": null,
      "outputs": []
    },
    {
      "cell_type": "code",
      "source": [
        "df_t = df_t[['question', 'context', 'answer_text', 'answer_start', 'answer_end']]"
      ],
      "metadata": {
        "id": "msdaLeOgpFF0"
      },
      "execution_count": null,
      "outputs": []
    },
    {
      "cell_type": "code",
      "source": [
        "df_t.dropna(inplace = True)"
      ],
      "metadata": {
        "id": "e0cdvl0krGnQ"
      },
      "execution_count": null,
      "outputs": []
    },
    {
      "cell_type": "code",
      "source": [
        "df_t = df_t.astype({'answer_start':int, 'answer_end':int})"
      ],
      "metadata": {
        "id": "bpXEe-6MqKAY"
      },
      "execution_count": null,
      "outputs": []
    },
    {
      "cell_type": "code",
      "source": [
        "df_t.info()"
      ],
      "metadata": {
        "colab": {
          "base_uri": "https://localhost:8080/"
        },
        "id": "JRi6xCqMpzrw",
        "outputId": "f843b7fc-374d-4399-d84d-a49322fc5c6c"
      },
      "execution_count": null,
      "outputs": [
        {
          "output_type": "stream",
          "name": "stdout",
          "text": [
            "<class 'pandas.core.frame.DataFrame'>\n",
            "Int64Index: 12296 entries, 0 to 12305\n",
            "Data columns (total 5 columns):\n",
            " #   Column        Non-Null Count  Dtype \n",
            "---  ------        --------------  ----- \n",
            " 0   question      12296 non-null  object\n",
            " 1   context       12296 non-null  object\n",
            " 2   answer_text   12296 non-null  object\n",
            " 3   answer_start  12296 non-null  int64 \n",
            " 4   answer_end    12296 non-null  int64 \n",
            "dtypes: int64(2), object(3)\n",
            "memory usage: 576.4+ KB\n"
          ]
        }
      ]
    },
    {
      "cell_type": "code",
      "source": [
        "# Data is a dictionary\n",
        "data.keys()\n",
        "# Let’s have a look at how the data is stored and in what format.\n",
        "Data['version']\n",
        "# len of each file\n",
        "len(data_['data'])\n",
        "# We have a list of dictionaries in the \"data\". We can explore the 0th element\n",
        "data['data'][0].keys()\n",
        "data['data'][0]['title']\n",
        "len(data['data'][0]['paragraphs'])\n",
        "questions = data['data'][0]['paragraphs']\n",
        "# datapoint sample\n",
        "questions[0]"
      ],
      "metadata": {
        "colab": {
          "base_uri": "https://localhost:8080/",
          "height": 248
        },
        "id": "2XMfLIa1CNbw",
        "outputId": "a4583f54-1ef9-4049-fb95-9f13d4356a47"
      },
      "execution_count": null,
      "outputs": [
        {
          "output_type": "error",
          "ename": "NameError",
          "evalue": "ignored",
          "traceback": [
            "\u001b[0;31m---------------------------------------------------------------------------\u001b[0m",
            "\u001b[0;31mNameError\u001b[0m                                 Traceback (most recent call last)",
            "\u001b[0;32m<ipython-input-10-359c635da1a8>\u001b[0m in \u001b[0;36m<module>\u001b[0;34m()\u001b[0m\n\u001b[1;32m      1\u001b[0m \u001b[0;31m# Data is a dictionary\u001b[0m\u001b[0;34m\u001b[0m\u001b[0;34m\u001b[0m\u001b[0;34m\u001b[0m\u001b[0m\n\u001b[0;32m----> 2\u001b[0;31m \u001b[0mdata\u001b[0m\u001b[0;34m.\u001b[0m\u001b[0mkeys\u001b[0m\u001b[0;34m(\u001b[0m\u001b[0;34m)\u001b[0m\u001b[0;34m\u001b[0m\u001b[0;34m\u001b[0m\u001b[0m\n\u001b[0m\u001b[1;32m      3\u001b[0m \u001b[0;31m# Let’s have a look at how the data is stored and in what format.\u001b[0m\u001b[0;34m\u001b[0m\u001b[0;34m\u001b[0m\u001b[0;34m\u001b[0m\u001b[0m\n\u001b[1;32m      4\u001b[0m \u001b[0mData\u001b[0m\u001b[0;34m[\u001b[0m\u001b[0;34m'version'\u001b[0m\u001b[0;34m]\u001b[0m\u001b[0;34m\u001b[0m\u001b[0;34m\u001b[0m\u001b[0m\n\u001b[1;32m      5\u001b[0m \u001b[0;31m# len of each file\u001b[0m\u001b[0;34m\u001b[0m\u001b[0;34m\u001b[0m\u001b[0;34m\u001b[0m\u001b[0m\n",
            "\u001b[0;31mNameError\u001b[0m: name 'data' is not defined"
          ]
        }
      ]
    },
    {
      "cell_type": "markdown",
      "source": [
        "# Function to Create Pandas Dataframes of Questions and Answers\n",
        "This function will help us read the data from the folder containing multiple JSON files and read them to a dataframe to run manipulation on it and proceed further. "
      ],
      "metadata": {
        "id": "1etHB3Me6-bm"
      }
    },
    {
      "cell_type": "code",
      "source": [
        "# def extract_questions_and_answers(factoid_path = Path):\n",
        "#   with factoid_path.open() as json_file:\n",
        "#     data = json.load(json_file)\n",
        "#     questions = data['data'][0]['paragraphs']\n",
        "#     data_rows = []\n",
        "#     for question in questions:\n",
        "#       context = question['context']\n",
        "#       for question_and_answers in question['qas']:\n",
        "#         question = question_and_answers['question']\n",
        "#         answers = question_and_answers['answers']\n",
        "#         for answer in answers:\n",
        "#           answer_text = answer['text']\n",
        "#           answer_start = answer['answer_start']\n",
        "#           answer_end = answer['answer_start'] + len(answer_text)  #Gets the end index of each answer in the paragraph\n",
        "#           data_rows.append({\n",
        "#                 \"question\" : question,\n",
        "#                 \"context\"  : context,\n",
        "#                 \"answer_text\" : answer_text,\n",
        "#                 \"answer_start\" : answer_start,\n",
        "#                 \"answer_end\" : answer_end\n",
        "#             })\n",
        "#     return pd.DataFrame(data_rows)\n",
        "# factoid_path = Path(\"BioASQ/BioASQ-train-factoid-4b.json\")\n",
        "# extract_questions_and_answers(factoid_path).head()      \n",
        "# factoid_paths = sorted(list(Path('BioASQ/').glob('BioASQ-train-*')))\n",
        "# factoid_paths\n",
        "# dfs = []\n",
        "# for factoid_path in factoid_paths:\n",
        "#   df = extract_questions_and_answers(factoid_path)\n",
        "#   dfs.append(df)\n",
        "# df = pd.concat(dfs)\n",
        "# df = df1\n",
        "df.head()\n",
        "df.shape\n",
        "# Dropping all the rows with repeated context and questions pairs.\n",
        "# df = df.drop_duplicates(subset=[\"context\"]).reset_index(drop=True)\n",
        "df.shape\n",
        "len(df.question.unique())\n",
        "len(df.context.unique())\n",
        "sample_question = df.iloc[243]\n",
        "sample_question\n",
        "# Using textcolor to visualize the answer within the context\n",
        "def color_answer(question):\n",
        "  answer_start, answer_end = question[\"answer_start\"],question[\"answer_end\"]\n",
        "  context = question['context']\n",
        "  return  colored(context[:answer_start], \"white\") + \\\n",
        "    colored(context[answer_start:answer_end + 1], \"green\") + \\\n",
        "    colored(context[answer_end+1:], \"white\")\n",
        "print(sample_question['question'])\n",
        "print()\n",
        "print(\"Answer: \")\n",
        "for wrap in textwrap.wrap(color_answer(sample_question), width = 100):\n",
        "  print(wrap)"
      ],
      "metadata": {
        "id": "sosg-bHj608t",
        "colab": {
          "base_uri": "https://localhost:8080/"
        },
        "outputId": "bb71fd05-1029-40c9-f01b-bef8cefe70c3"
      },
      "execution_count": 4,
      "outputs": [
        {
          "output_type": "stream",
          "name": "stdout",
          "text": [
            "악티늄족을 핵 연료로 이용할 때 사용해야 하는 방사능 차단 물질은 어떤 종류인가?\n",
            "\n",
            "Answer: \n",
            "\u001b[37m악티늄족을 핵 연료로 이용할 때는, 방사능원을 차단하거나 방사성 물질을 막을 수 있는 \u001b[0m\u001b[32m고급 광물(\u001b[0m\u001b[37m예로 들자면 큰 잠재적 이득이 있는 자체\n",
            "발광 결정 등)을 사용해야 한다. 그러나, 악티늄족의 강한 방사능독으로 인해 자연에서의 이동과 악티늄족에 깊은 우려가 있기도 하다. 혼합산화물핵연료(MOX)에서 화학적으로 불안정한\n",
            "형태를 가진 악티늄족의 사용과 방사능 원천을 차단하는 것으로는 현대 안전 기준에는 적절하지 않다. 현재 안정되고 내구성이 좋은 악티늄족과 관련된 물질을 제작하는 것에 도전하고\n",
            "있다. 이것은 안전한 창고에 들어있어야 하고, 사용하고 나서 최종 처분할 수 있어야 한다. 악티늄족 고체 용액의 적용의 열쇠는 바로 내구성이 좋은 결정체의 상이다.\u001b[0m\n"
          ]
        }
      ]
    },
    {
      "cell_type": "markdown",
      "source": [
        "# Tokenization\n",
        "In the following cells, we have instantiated the model and called its tokenizer. T5 tokenizer is pretty fast as compared to other BERT type tokenizers. We will run a sample of this on the text given below and do the decoding."
      ],
      "metadata": {
        "id": "DaPjX8817C0J"
      }
    },
    {
      "cell_type": "code",
      "source": [
        "# using the base T5 model having 222M params\n",
        "MODEL_NAME ='KETI-AIR/ke-t5-base' \n",
        "tokenizer = T5Tokenizer.from_pretrained(MODEL_NAME)\n",
        "sample_encoding = tokenizer('is the glass half empty or half full?', 'It depends on the initial state of the glass. If the glass starts out empty and liquid is added until it is half full, it is half full. If the glass starts out full and liquid is removed until it is half empty, it is half empty.')\n",
        "sample_encoding.keys()\n",
        "print(sample_encoding[\"input_ids\"])\n",
        "print(sample_encoding[\"attention_mask\"])\n",
        "print(len(sample_encoding['input_ids']), len(sample_encoding['attention_mask']))\n",
        "# Checking the decoding of the input ids\n",
        "preds = [\n",
        "        tokenizer.decode(input_id, skip_special_tokens=True, clean_up_tokenization_spaces=True)\n",
        "        for input_id in sample_encoding['input_ids']\n",
        "]\n",
        "preds= \" \".join(preds)\n",
        "for wrap in textwrap.wrap(preds, width = 80):\n",
        "  print(wrap)\n",
        "encoding = tokenizer(\n",
        "    sample_question['question'],\n",
        "    sample_question['context'],\n",
        "    max_length=396,\n",
        "    padding='max_length',\n",
        "    truncation=\"only_second\",\n",
        "    return_attention_mask=True,\n",
        "    add_special_tokens=True,\n",
        "    return_tensors=\"pt\"\n",
        ")\n",
        "encoding.keys()\n",
        "tokenizer.special_tokens_map\n",
        "tokenizer.eos_token, tokenizer.eos_token_id\n",
        "# Input id of 1 represents end of sequence token.\n",
        "# Text representation pf the input ids\n",
        "tokenizer.decode(encoding['input_ids'].squeeze()) "
      ],
      "metadata": {
        "id": "EyDH6lwI606g",
        "colab": {
          "base_uri": "https://localhost:8080/",
          "height": 390,
          "referenced_widgets": [
            "6e14890995f943fa88f834af606db707",
            "7e944f3f8ee44d17a988a41bf93ee8ba",
            "8924d61f33db402db4f2c14a67d624f7",
            "672adeee422d4548a70f3ad3b406df9b",
            "53b1f5ab3c224314a0b7c0dbf2066712",
            "1100ea1117ef495f9160021e00780117",
            "01dbe2af27f14c3993857b5dd0a79cca",
            "001a9056049649edad7cdfe1dffef621",
            "ce9b4feb06ef408abd03c41a661cc683",
            "697d588fa7784cc3a6f8ff042e7802b3",
            "09921fb537ee4ee9b470b1094fc9bebe",
            "538f3674a931495ca9c879b0c712becb",
            "c8385bc8e8fe4f2bbba1f3a49a676b7c",
            "0bb038a9a2f6463e85380dae131f7988",
            "24332d2b802e4cb88382cbbc6e97576a",
            "856341bbd44f41ccaff1b4aab8fb1397",
            "4b9cd74b970c42ca8b8b06679066425f",
            "74a38bdefeb5427eab58396f7952a203",
            "bb155cb59ac94693870005ca9c94988d",
            "33d994c317564d659a7f2e520309c330",
            "99eb1077c12f45759bcaab6f54e9bb14",
            "43901bd5c4f64a18844264ea4746e2ee",
            "1e52625593994442a3ac8219187bfb3a",
            "466953841a64468597efb2ae5c96ffb4",
            "8b874f04521b4f63b30199b33898a225",
            "ef62ea72117a439888a55973c55b570e",
            "df83af4f220546f286afcc167610ce70",
            "f97dd1b55adb42c694c4933098fe3db4",
            "a13557f1bf614e54b007b2668673f6e5",
            "1b4956122e744db3ba755c104fdd56cc",
            "0e748ac6afa64c84ab784f2a22e8517e",
            "59a72e28419a47b0b32f894b08f12355",
            "ccd31a9bc9954c8e82e0399e084bdb7c"
          ]
        },
        "outputId": "ad8f2c35-152c-4189-e478-0e739c9e92cd"
      },
      "execution_count": 5,
      "outputs": [
        {
          "output_type": "display_data",
          "data": {
            "text/plain": [
              "Downloading:   0%|          | 0.00/1.47M [00:00<?, ?B/s]"
            ],
            "application/vnd.jupyter.widget-view+json": {
              "version_major": 2,
              "version_minor": 0,
              "model_id": "6e14890995f943fa88f834af606db707"
            }
          },
          "metadata": {}
        },
        {
          "output_type": "display_data",
          "data": {
            "text/plain": [
              "Downloading:   0%|          | 0.00/1.79k [00:00<?, ?B/s]"
            ],
            "application/vnd.jupyter.widget-view+json": {
              "version_major": 2,
              "version_minor": 0,
              "model_id": "538f3674a931495ca9c879b0c712becb"
            }
          },
          "metadata": {}
        },
        {
          "output_type": "display_data",
          "data": {
            "text/plain": [
              "Downloading:   0%|          | 0.00/1.96k [00:00<?, ?B/s]"
            ],
            "application/vnd.jupyter.widget-view+json": {
              "version_major": 2,
              "version_minor": 0,
              "model_id": "1e52625593994442a3ac8219187bfb3a"
            }
          },
          "metadata": {}
        },
        {
          "output_type": "stream",
          "name": "stdout",
          "text": [
            "[43, 5, 12857, 1648, 19876, 117, 1648, 1479, 85, 1, 223, 26000, 46, 5, 9113, 604, 14, 5, 12857, 3, 799, 5, 12857, 9162, 176, 19876, 13, 24483, 43, 1586, 1429, 60, 43, 1648, 1479, 4, 60, 43, 1648, 1479, 3, 799, 5, 12857, 9162, 176, 1479, 13, 24483, 43, 11514, 1429, 60, 43, 1648, 19876, 4, 60, 43, 1648, 19876, 3, 1]\n",
            "[1, 1, 1, 1, 1, 1, 1, 1, 1, 1, 1, 1, 1, 1, 1, 1, 1, 1, 1, 1, 1, 1, 1, 1, 1, 1, 1, 1, 1, 1, 1, 1, 1, 1, 1, 1, 1, 1, 1, 1, 1, 1, 1, 1, 1, 1, 1, 1, 1, 1, 1, 1, 1, 1, 1, 1, 1, 1, 1, 1, 1, 1, 1]\n",
            "63 63\n",
            "is the glass half empty or half full ? </s> It depends on the initial state of\n",
            "the glass . If the glass starts out empty and liquid is added until it is half\n",
            "full , it is half full . If the glass starts out full and liquid is removed\n",
            "until it is half empty , it is half empty . </s>\n"
          ]
        },
        {
          "output_type": "execute_result",
          "data": {
            "text/plain": [
              "'악티늄족을 핵 연료로 이용할 때 사용해야 하는 방사능 차단 물질은 어떤 종류인가?</s> 악티늄족을 핵 연료로 이용할 때는, 방사능원을 차단하거나 방사성 물질을 막을 수 있는 고급 광물(예로 들자면 큰 잠재적 이득이 있는 자체 발광 결정 등)을 사용해야 한다. 그러나, 악티늄족의 강한 방사능독으로 인해 자연에서의 이동과 악티늄족에 깊은 우려가 있기도 하다. 혼합산화물핵연료(MOX)에서 화학적으로 불안정한 형태를 가진 악티늄족의 사용과 방사능 원천을 차단하는 것으로는 현대 안전 기준에는 적절하지 않다. 현재 안정되고 내구성이 좋은 악티늄족과 관련된 물질을 제작하는 것에 도전하고 있다. 이것은 안전한 창고에 들어있어야 하고, 사용하고 나서 최종 처분할 수 있어야 한다. 악티늄족 고체 용액의 적용의 열쇠는 바로 내구성이 좋은 결정체의 상이다.</s> <pad> <pad> <pad> <pad> <pad> <pad> <pad> <pad> <pad> <pad> <pad> <pad> <pad> <pad> <pad> <pad> <pad> <pad> <pad> <pad> <pad> <pad> <pad> <pad> <pad> <pad> <pad> <pad> <pad> <pad> <pad> <pad> <pad> <pad> <pad> <pad> <pad> <pad> <pad> <pad> <pad> <pad> <pad> <pad> <pad> <pad> <pad> <pad> <pad> <pad> <pad> <pad> <pad> <pad> <pad> <pad> <pad> <pad> <pad> <pad> <pad> <pad> <pad> <pad> <pad> <pad> <pad> <pad> <pad> <pad> <pad> <pad> <pad> <pad> <pad> <pad> <pad> <pad> <pad> <pad> <pad> <pad> <pad> <pad> <pad> <pad> <pad> <pad> <pad> <pad> <pad> <pad> <pad> <pad> <pad> <pad> <pad> <pad> <pad> <pad> <pad> <pad> <pad> <pad> <pad> <pad> <pad> <pad> <pad> <pad> <pad> <pad> <pad> <pad> <pad> <pad> <pad> <pad> <pad> <pad> <pad> <pad> <pad> <pad> <pad> <pad> <pad> <pad> <pad> <pad> <pad> <pad> <pad> <pad> <pad> <pad> <pad> <pad> <pad> <pad> <pad> <pad> <pad> <pad> <pad> <pad> <pad> <pad> <pad> <pad> <pad> <pad> <pad> <pad> <pad> <pad> <pad> <pad> <pad> <pad> <pad> <pad> <pad> <pad> <pad> <pad> <pad> <pad> <pad> <pad> <pad> <pad> <pad> <pad> <pad> <pad> <pad> <pad> <pad> <pad> <pad> <pad> <pad> <pad> <pad> <pad> <pad> <pad> <pad> <pad> <pad> <pad> <pad> <pad> <pad> <pad> <pad> <pad> <pad> <pad> <pad> <pad> <pad> <pad> <pad> <pad> <pad> <pad> <pad> <pad> <pad> <pad> <pad> <pad> <pad>'"
            ],
            "application/vnd.google.colaboratory.intrinsic+json": {
              "type": "string"
            }
          },
          "metadata": {},
          "execution_count": 5
        }
      ]
    },
    {
      "cell_type": "markdown",
      "source": [
        "# Creating labels for the answers\n",
        "In the following cells, We have to create necessary labels for the answers. This is required so that we can extract answers accordingly to the questions."
      ],
      "metadata": {
        "id": "g0pwP3Ij7Kc2"
      }
    },
    {
      "cell_type": "code",
      "source": [
        "answer_encoding = tokenizer(\n",
        "    sample_question['answer_text'],\n",
        "    max_length=32,\n",
        "    padding='max_length',\n",
        "    truncation=True,\n",
        "    return_attention_mask=True,\n",
        "    add_special_tokens=True,\n",
        "    return_tensors=\"pt\"\n",
        ")\n",
        "tokenizer.decode(answer_encoding['input_ids'].squeeze())\n",
        "labels = answer_encoding[\"input_ids\"]\n",
        "labels\n",
        "labels[labels == 0] = -100\n",
        "labels "
      ],
      "metadata": {
        "id": "O4Ecg1Mn604W",
        "colab": {
          "base_uri": "https://localhost:8080/"
        },
        "outputId": "0a7c1dab-c351-453b-b692-e0bc008ebac0"
      },
      "execution_count": 6,
      "outputs": [
        {
          "output_type": "execute_result",
          "data": {
            "text/plain": [
              "tensor([[ 4928, 42481,     1,  -100,  -100,  -100,  -100,  -100,  -100,  -100,\n",
              "          -100,  -100,  -100,  -100,  -100,  -100,  -100,  -100,  -100,  -100,\n",
              "          -100,  -100,  -100,  -100,  -100,  -100,  -100,  -100,  -100,  -100,\n",
              "          -100,  -100]])"
            ]
          },
          "metadata": {},
          "execution_count": 6
        }
      ]
    },
    {
      "cell_type": "markdown",
      "source": [
        "# Create dataset\n",
        "In the following cells, we have created the dataset for input in the model. This required setting the lengths, padding and tokenizer. The data has been taken for a BioQA dataset which is specifically for this task. "
      ],
      "metadata": {
        "id": "xXpr9q6j7OeR"
      }
    },
    {
      "cell_type": "code",
      "source": [
        "class BioQADataset(Dataset):\n",
        "  def __init__(\n",
        "      self,\n",
        "      data:pd.DataFrame,\n",
        "      tokenizer:T5Tokenizer,\n",
        "      source_max_token_len: int = 396,\n",
        "      target_max_token_len: int = 32,\n",
        "      ):\n",
        "    self.data =  data\n",
        "    self.tokenizer =  tokenizer\n",
        "    self.source_max_token_len =  source_max_token_len\n",
        "    self.target_max_token_len =  target_max_token_len\n",
        "  def __len__(self):\n",
        "    return len(self.data)\n",
        "  def __getitem__(self, index: int):\n",
        "    data_row = self.data.iloc[index]\n",
        "    source_encoding = tokenizer(\n",
        "      data_row['question'],\n",
        "      data_row['context'],\n",
        "      max_length=self.source_max_token_len,\n",
        "      padding='max_length',\n",
        "      truncation=\"only_second\",\n",
        "      return_attention_mask=True,\n",
        "      add_special_tokens=True,\n",
        "      return_tensors=\"pt\"\n",
        "      )\n",
        "    target_encoding = tokenizer(\n",
        "      data_row['answer_text'],\n",
        "      max_length=self.target_max_token_len,\n",
        "      padding='max_length',\n",
        "      truncation=True,\n",
        "      return_attention_mask=True,\n",
        "      add_special_tokens=True,\n",
        "      return_tensors=\"pt\"\n",
        "      )\n",
        "    labels = target_encoding['input_ids']\n",
        "    labels[labels==0] = -100\n",
        "    return dict(\n",
        "        question=data_row['question'],\n",
        "        context=data_row['context'],\n",
        "        answer_text=data_row['answer_text'],\n",
        "        input_ids=source_encoding[\"input_ids\"].flatten(),\n",
        "        attention_mask=source_encoding['attention_mask'].flatten(),\n",
        "        labels=labels.flatten()\n",
        "    )\n",
        "sample_dataset = BioQADataset(df, tokenizer)\n",
        "for data in sample_dataset:\n",
        "  print(\"Question: \", data['question'])\n",
        "  print(\"Answer text: \", data['answer_text'])\n",
        "  print(\"Input_ids: \", data['input_ids'][:10])\n",
        "  print(\"Labels: \", data['labels'][:10])\n",
        "  break "
      ],
      "metadata": {
        "id": "sJlosUyi602C",
        "colab": {
          "base_uri": "https://localhost:8080/"
        },
        "outputId": "35a0e7ad-37af-4f14-b095-04c8683bd584"
      },
      "execution_count": 7,
      "outputs": [
        {
          "output_type": "stream",
          "name": "stdout",
          "text": [
            "Question:  바그너는 괴테의 파우스트를 읽고 무엇을 쓰고자 했는가?\n",
            "Answer text:  교향곡\n",
            "Input_ids:  tensor([  396,   775, 21778, 63122,     6,  1649,  8643, 15171, 12022,  6937])\n",
            "Labels:  tensor([58337,     1,  -100,  -100,  -100,  -100,  -100,  -100,  -100,  -100])\n"
          ]
        }
      ]
    },
    {
      "cell_type": "markdown",
      "source": [
        "# Split Dataset into Train and Test\n",
        "In the following cells, we have split the data into two parts. Test size is small due to the heavy model needed large data for training."
      ],
      "metadata": {
        "id": "XnpLllfZ7UAj"
      }
    },
    {
      "cell_type": "code",
      "source": [
        "train_df, val_df = train_test_split(df, test_size=0.05)\n",
        "train_df.shape,  val_df.shape "
      ],
      "metadata": {
        "id": "ygEscQ_m60z7",
        "colab": {
          "base_uri": "https://localhost:8080/"
        },
        "outputId": "1f4cdd2d-06f5-43c8-c3f8-00173544d417"
      },
      "execution_count": 8,
      "outputs": [
        {
          "output_type": "execute_result",
          "data": {
            "text/plain": [
              "((96849, 5), (5098, 5))"
            ]
          },
          "metadata": {},
          "execution_count": 8
        }
      ]
    },
    {
      "cell_type": "code",
      "source": [
        "train_df[\"answer_text\"].str.len().max()"
      ],
      "metadata": {
        "colab": {
          "base_uri": "https://localhost:8080/"
        },
        "id": "-DV-fG7wkQW1",
        "outputId": "f16e84d3-1308-444f-f4b9-40b2cbc7ad2b"
      },
      "execution_count": null,
      "outputs": [
        {
          "output_type": "execute_result",
          "data": {
            "text/plain": [
              "1886"
            ]
          },
          "metadata": {},
          "execution_count": 9
        }
      ]
    },
    {
      "cell_type": "markdown",
      "source": [
        "# Create Pytorch Lightning Module\n",
        "In the following cells, we have created the lightning module. This is made when we have complex models. Hence Pytorch has introduced this to smoothen the process."
      ],
      "metadata": {
        "id": "xaQEOKYU7bO2"
      }
    },
    {
      "cell_type": "code",
      "source": [
        " class BioDataModule(pl.LightningDataModule):\n",
        "   def __init__(\n",
        "       self,\n",
        "       train_df: pd.DataFrame,\n",
        "       test_df: pd.DataFrame,\n",
        "       tokenizer:T5Tokenizer,\n",
        "       batch_size: int = 8,\n",
        "       source_max_token_len: int = 396,\n",
        "       target_max_token_len: int = 32,\n",
        "       ):\n",
        "     super().__init__()\n",
        "     self.train_df = train_df\n",
        "     self.test_df = test_df\n",
        "     self.tokenizer = tokenizer\n",
        "     self.batch_size = batch_size\n",
        "     self.source_max_token_len = source_max_token_len\n",
        "     self.target_max_token_len = target_max_token_len\n",
        "   def setup(self):\n",
        "     self.train_dataset = BioQADataset(\n",
        "         self.train_df,\n",
        "         self.tokenizer,\n",
        "         self.source_max_token_len,\n",
        "         self.target_max_token_len\n",
        "         )\n",
        "     self.test_dataset = BioQADataset(\n",
        "     self.test_df,\n",
        "     self.tokenizer,\n",
        "     self.source_max_token_len,\n",
        "     self.target_max_token_len\n",
        "     )\n",
        "   def train_dataloader(self):\n",
        "     return DataLoader(\n",
        "         self.train_dataset,\n",
        "         batch_size=self.batch_size,\n",
        "         shuffle=True,\n",
        "         num_workers=4\n",
        "         )\n",
        "   def val_dataloader(self):\n",
        "     return DataLoader(\n",
        "         self.test_dataset,\n",
        "         batch_size=self.batch_size,\n",
        "         num_workers=4\n",
        "         )\n",
        "   def test_dataloader(self):\n",
        "     return DataLoader(\n",
        "         self.test_dataset,\n",
        "         batch_size=1,\n",
        "         num_workers=4\n",
        "         )\n",
        " BATCH_SIZE = 4\n",
        " N_EPOCHS = 6\n",
        " data_module = BioDataModule(train_df, val_df, tokenizer, batch_size=BATCH_SIZE)\n",
        " data_module.setup() "
      ],
      "metadata": {
        "id": "7lbxwD9060x4"
      },
      "execution_count": 9,
      "outputs": []
    },
    {
      "cell_type": "markdown",
      "source": [
        "# Loading and Fine Tuning T5\n",
        "In the following cells, we have installed the model and fine tuned it to our application requirements. "
      ],
      "metadata": {
        "id": "bkXZEH9A7hLu"
      }
    },
    {
      "cell_type": "code",
      "source": [
        "model = T5ForConditionalGeneration.from_pretrained(MODEL_NAME, return_dict = True)\n",
        "# model.config\n",
        "# To check the translation from English to German built-in task \n",
        "# input_ids_translated = tokenizer(\n",
        "#     \"translate English to German : Oppertunity did not knock until I built a door\",\n",
        "#     return_tensors = 'pt'\n",
        "# ).input_ids\n",
        "# generated_ids = model.generate(input_ids = input_ids_translated)\n",
        "# generated_ids\n",
        "# pred_translated = [\n",
        "#         tokenizer.decode(gen_id, skip_special_tokens=True, clean_up_tokenization_spaces=True)\n",
        "#         for gen_id in generated_ids\n",
        "# ]\n",
        "# pred_translated\n",
        "# text = \"\".join(pred_translated)\n",
        "# input_ids_summary = tokenizer(\n",
        "#     text,\n",
        "#     return_tensors = 'pt'\n",
        "# ).input_ids\n",
        "# generated_ids_summary = model.generate(input_ids = input_ids_summary)\n",
        "# generated_ids_summary\n",
        "# pred_summary = [\n",
        "#         tokenizer.decode(gen_id, skip_special_tokens=True, clean_up_tokenization_spaces=True)\n",
        "#         for gen_id in generated_ids\n",
        "# ]\n",
        "# \" \".join(pred_summary)\n",
        "# Model config\n",
        "model.config"
      ],
      "metadata": {
        "id": "5ycrfuBs60vh",
        "colab": {
          "base_uri": "https://localhost:8080/",
          "height": 558,
          "referenced_widgets": [
            "bd8eae9c1e3b4be980c6a03ebd553d1a",
            "92d6fdaab60847c090d4f748457a4d10",
            "8c0ed00230e5432898fe0270b0ee99d2",
            "5596c051221d4b1689b0a989b5d07bc5",
            "d1c141e9d4f144a487f7ad72ea0d0442",
            "30de5dabf74c4b0c96de39d68ec7e696",
            "f9678196ccd945e0b6d1732458ca780d",
            "b03094db3de6446c888bc75579f91685",
            "755d915232c2428689a531dd68f9a634",
            "744347932f50468886602ba138348d90",
            "caeb9a961f60473a83c29c298601b034",
            "cb658ba1b5934d98bb1ccab471b1c01f",
            "ce590432ed4a44f5a058e80e823b8ab2",
            "3ad44cff822649e28724d9fe1ee65932",
            "95ccb4238e284a55a1068ae55a001ca6",
            "b0f713f898e0406cadbce0eeb04f5615",
            "39f009e457bf41b893537ac296895711",
            "83d0052d95334dd49fd0e5f4b123e593",
            "05912c507efe493197793fabd6301d32",
            "e6c097d2189f44a99bdf3e91129b9f97",
            "ba259e303d544d9f842b981ad1c41912",
            "c0765ecccefa4583bddb823e75fd261a"
          ]
        },
        "outputId": "eb141e5c-e9e1-477b-ec01-a4b033334c54"
      },
      "execution_count": null,
      "outputs": [
        {
          "output_type": "display_data",
          "data": {
            "text/plain": [
              "Downloading:   0%|          | 0.00/599 [00:00<?, ?B/s]"
            ],
            "application/vnd.jupyter.widget-view+json": {
              "version_major": 2,
              "version_minor": 0,
              "model_id": "bd8eae9c1e3b4be980c6a03ebd553d1a"
            }
          },
          "metadata": {}
        },
        {
          "output_type": "display_data",
          "data": {
            "text/plain": [
              "Downloading:   0%|          | 0.00/990M [00:00<?, ?B/s]"
            ],
            "application/vnd.jupyter.widget-view+json": {
              "version_major": 2,
              "version_minor": 0,
              "model_id": "cb658ba1b5934d98bb1ccab471b1c01f"
            }
          },
          "metadata": {}
        },
        {
          "output_type": "execute_result",
          "data": {
            "text/plain": [
              "T5Config {\n",
              "  \"_name_or_path\": \"KETI-AIR/ke-t5-base\",\n",
              "  \"architectures\": [\n",
              "    \"T5ForConditionalGeneration\"\n",
              "  ],\n",
              "  \"d_ff\": 2048,\n",
              "  \"d_kv\": 64,\n",
              "  \"d_model\": 768,\n",
              "  \"decoder_start_token_id\": 0,\n",
              "  \"dropout_rate\": 0.1,\n",
              "  \"eos_token_id\": 1,\n",
              "  \"feed_forward_proj\": \"gated-gelu\",\n",
              "  \"initializer_factor\": 1.0,\n",
              "  \"is_encoder_decoder\": true,\n",
              "  \"layer_norm_epsilon\": 1e-06,\n",
              "  \"model_type\": \"t5\",\n",
              "  \"n_positions\": 512,\n",
              "  \"num_decoder_layers\": 12,\n",
              "  \"num_heads\": 12,\n",
              "  \"num_layers\": 12,\n",
              "  \"pad_token_id\": 0,\n",
              "  \"relative_attention_num_buckets\": 32,\n",
              "  \"transformers_version\": \"4.4.2\",\n",
              "  \"use_cache\": true,\n",
              "  \"vocab_size\": 64128\n",
              "}"
            ]
          },
          "metadata": {},
          "execution_count": 17
        }
      ]
    },
    {
      "cell_type": "markdown",
      "source": [
        "# Building the PyTorch lightning module using T5ForConditionalGeneration model\n",
        "In the following cells, we have leveraged a T5 Conditional Generator which will produce text based on some condition (this is going to be our application task – QA)."
      ],
      "metadata": {
        "id": "EQ_pI2j-7wZW"
      }
    },
    {
      "cell_type": "code",
      "source": [
        "class BioQAModel(pl.LightningModule):\n",
        "  def __init__(self):\n",
        "    super().__init__()\n",
        "    self.model = T5ForConditionalGeneration.from_pretrained(MODEL_NAME, return_dict=True)\n",
        "  def forward(self, input_ids, attention_mask, labels=None):\n",
        "    output = self.model(\n",
        "        input_ids, \n",
        "        attention_mask=attention_mask,\n",
        "        labels=labels)\n",
        "    return output.loss, output.logits\n",
        "  def training_step(self, batch, batch_idx):\n",
        "    input_ids = batch['input_ids']\n",
        "    attention_mask=batch['attention_mask']\n",
        "    labels = batch['labels']\n",
        "    loss, outputs = self(input_ids, attention_mask, labels)\n",
        "    self.log(\"train_loss\", loss, prog_bar=True, logger=True)\n",
        "    return {\"loss\": loss, \"predictions\":outputs, \"labels\": labels}\n",
        "  def validation_step(self, batch, batch_idx):\n",
        "    input_ids = batch['input_ids']\n",
        "    attention_mask=batch['attention_mask']\n",
        "    labels = batch['labels']\n",
        "    loss, outputs = self(input_ids, attention_mask, labels)\n",
        "    self.log(\"val_loss\", loss, prog_bar=True, logger=True)\n",
        "    return loss\n",
        "  def test_step(self, batch, batch_idx):\n",
        "    input_ids = batch['input_ids']\n",
        "    attention_mask=batch['attention_mask']\n",
        "    labels = batch['labels']\n",
        "    loss, outputs = self(input_ids, attention_mask, labels)\n",
        "    self.log(\"test_loss\", loss, prog_bar=True, logger=True)\n",
        "    return loss\n",
        "  def configure_optimizers(self):\n",
        "    optimizer = AdamW(self.parameters(), lr=0.0001)\n",
        "    return optimizer\n",
        "model = BioQAModel()"
      ],
      "metadata": {
        "id": "iBcI-dJq60td",
        "colab": {
          "base_uri": "https://localhost:8080/",
          "height": 81,
          "referenced_widgets": [
            "9b5f4447bd8949e18ff8ee5fc8204bfc",
            "e4b1f94557384926b8b5ac86f66f6a7c",
            "cd248f92eef54acf9332763176aedebf",
            "b34b552bdd854e73a1b8baadeafeacb7",
            "66a559f633ce405c84966be1331abce5",
            "e84505a645494735920edef08d0393df",
            "758faf7417244ef3bfc76769c5db4b38",
            "c8cc1ca6888c42d3be72348f9a487fe1",
            "dceab56aa0d1470eba556309cf6f294f",
            "9f31b5a28d394315b64c8b26860e105b",
            "ff505ba6a5da40eeac26d47b8b7e0624",
            "94c17b7abd464ccaace5915c60d19334",
            "bc6a64dcc1dc4a3db81918475331fd50",
            "9fc68e70a9d24c95a738ec2f23d3d650",
            "4e16e9e30e674d608c47f4a1080217d8",
            "4f06463611314fc7afd698e247d8adbb",
            "875e3deaec184130bc9828a66c84c90c",
            "3678a68f0a06485ca9f0963ea922b73b",
            "775a461decfe4e1399d160c502fce7f8",
            "0670d06470dc4c2c950606b5b75aa814",
            "e8a0a24af29f480f92801fce7faa5fe2",
            "ff82afd5039c47dba5b97fde538fbef2"
          ]
        },
        "outputId": "c6eb4420-f055-4f11-c7e1-abf229317b7c"
      },
      "execution_count": 10,
      "outputs": [
        {
          "output_type": "display_data",
          "data": {
            "text/plain": [
              "Downloading:   0%|          | 0.00/599 [00:00<?, ?B/s]"
            ],
            "application/vnd.jupyter.widget-view+json": {
              "version_major": 2,
              "version_minor": 0,
              "model_id": "9b5f4447bd8949e18ff8ee5fc8204bfc"
            }
          },
          "metadata": {}
        },
        {
          "output_type": "display_data",
          "data": {
            "text/plain": [
              "Downloading:   0%|          | 0.00/990M [00:00<?, ?B/s]"
            ],
            "application/vnd.jupyter.widget-view+json": {
              "version_major": 2,
              "version_minor": 0,
              "model_id": "94c17b7abd464ccaace5915c60d19334"
            }
          },
          "metadata": {}
        }
      ]
    },
    {
      "cell_type": "markdown",
      "source": [
        "# Using Trainer from PyTorch-Lightning to Finetune Model Using our Dataset\n",
        "We have used a trainer module to test the model and fine-tune it in the following cells. This is helpful when the model is huge, and you want to get a warmup of the model without changing the learning rate. "
      ],
      "metadata": {
        "id": "NRtV7DP-725H"
      }
    },
    {
      "cell_type": "code",
      "source": [
        "model = BioQAModel()\n",
        "# To record the best performing model using checkpoint\n",
        "checkpoint_callback = ModelCheckpoint(\n",
        "    dirpath=\"/content/drive/MyDrive/final_pjt/ET5/model\",\n",
        "    filename=\"best-checkpoint-large\",\n",
        "    save_top_k=1,\n",
        "    verbose=True,\n",
        "    monitor=\"val_loss\",\n",
        "    mode=\"min\"\n",
        ")\n",
        "#logger = TensorBoardLogger(\"training-logs\", name=\"bio-qa\")\n",
        "#logger = TensorBoardLogger(\"training-logs\", name=\"bio-qa\")\n",
        "trainer = pl.Trainer(\n",
        "    #logger = logger,\n",
        "    checkpoint_callback=checkpoint_callback,\n",
        "    max_epochs=N_EPOCHS,\n",
        "    gpus=1,\n",
        "    progress_bar_refresh_rate = 30\n",
        ") "
      ],
      "metadata": {
        "id": "YbY2efAh60rG",
        "colab": {
          "base_uri": "https://localhost:8080/"
        },
        "outputId": "92daf965-60ec-410a-e6e2-34baecb094ff"
      },
      "execution_count": null,
      "outputs": [
        {
          "output_type": "stream",
          "name": "stderr",
          "text": [
            "/usr/local/lib/python3.7/dist-packages/pytorch_lightning/utilities/distributed.py:52: UserWarning: Checkpoint directory /content/drive/MyDrive/final_pjt/ET5/model exists and is not empty.\n",
            "  warnings.warn(*args, **kwargs)\n",
            "GPU available: True, used: True\n",
            "TPU available: False, using: 0 TPU cores\n"
          ]
        }
      ]
    },
    {
      "cell_type": "markdown",
      "source": [
        "# Loading Tensorboard\n",
        "In the following cells, we have used a Tensorboard for seeing how the model is progressing against time and epochs. This is very helpful when running huge models. "
      ],
      "metadata": {
        "id": "zPhiHkXq76UI"
      }
    },
    {
      "cell_type": "code",
      "source": [
        "%load_ext tensorboard\n",
        "%tensorboard --logdir ./lightning_logs\n",
        "#!rm --rf lightning_logs\n",
        "trainer.fit(model, data_module)\n",
        "trainer.test()  # evaluate the model according to the last checkpoint"
      ],
      "metadata": {
        "id": "3NrlOviV76GC"
      },
      "execution_count": null,
      "outputs": []
    },
    {
      "cell_type": "markdown",
      "source": [
        "# Predictions"
      ],
      "metadata": {
        "id": "TMMTQHrf7_7Y"
      }
    },
    {
      "cell_type": "code",
      "source": [
        "trained_model = BioQAModel.load_from_checkpoint(\"/content/drive/MyDrive/final_pjt/ET5/model/best-checkpoint-large-v1.ckpt\")\n",
        "# trained_model = BioQAModel.load_from_checkpoint('/content/ke-t5/checkpoints/best-checkpoint.ckpt')\n",
        "trained_model.freeze() # "
      ],
      "metadata": {
        "id": "OCWi4Qwh76Df"
      },
      "execution_count": 11,
      "outputs": []
    },
    {
      "cell_type": "markdown",
      "source": [
        "# Generate Answers for the Questions in the Validation Set\n",
        "In the following cells, we have tried and tested some questions whose answers were saved with us in the valid dataset against the predicted values given by the model. As you’ll notice the T5 model is so powerful that it will predict exact values."
      ],
      "metadata": {
        "id": "DAV2X1Er8DzN"
      }
    },
    {
      "cell_type": "code",
      "source": [
        "# 키워드 추출\n",
        "\n",
        "def key_generate_answer(question):\n",
        "  source_encoding=tokenizer(\n",
        "      question,\n",
        "      key_test(input('키워드 : ')),\n",
        "      max_length = 396,\n",
        "      padding=\"max_length\",\n",
        "      truncation=\"only_second\",\n",
        "      return_attention_mask=True,\n",
        "      add_special_tokens=True,\n",
        "      return_tensors=\"pt\"\n",
        "  )\n",
        "  generated_ids = trained_model.model.generate(\n",
        "      input_ids=source_encoding[\"input_ids\"],\n",
        "      attention_mask=source_encoding[\"attention_mask\"],\n",
        "      num_beams=1,  # greedy search\n",
        "      max_length=80,\n",
        "      repetition_penalty=2.5,\n",
        "      early_stopping=True,\n",
        "      use_cache=True)\n",
        "  preds = [\n",
        "          tokenizer.decode(generated_id, skip_special_tokens=True, clean_up_tokenization_spaces=True)\n",
        "          for generated_id in generated_ids\n",
        "  ]\n",
        "  return \"\".join(preds)"
      ],
      "metadata": {
        "id": "HNYHw9ZczhYm"
      },
      "execution_count": 136,
      "outputs": []
    },
    {
      "cell_type": "code",
      "source": [
        "key_generate_answer(input('질문 : '))"
      ],
      "metadata": {
        "colab": {
          "base_uri": "https://localhost:8080/",
          "height": 72
        },
        "id": "g7uun897z8OC",
        "outputId": "69beaf1a-1c33-4d35-adc1-a1c543e3b62d"
      },
      "execution_count": 137,
      "outputs": [
        {
          "name": "stdout",
          "output_type": "stream",
          "text": [
            "질문 : 남한산성을 훼손시킨 것은 누구인가?\n",
            "키워드 : 남한산성\n"
          ]
        },
        {
          "output_type": "execute_result",
          "data": {
            "text/plain": [
              "'김훈'"
            ],
            "application/vnd.google.colaboratory.intrinsic+json": {
              "type": "string"
            }
          },
          "metadata": {},
          "execution_count": 137
        }
      ]
    },
    {
      "cell_type": "code",
      "source": [
        "# 질문 토큰화 - test 함수 사용\n",
        "\n",
        "def generate_answer(question):\n",
        "  source_encoding=tokenizer(\n",
        "      question,\n",
        "      test(question),\n",
        "      max_length = 396,\n",
        "      padding=\"max_length\",\n",
        "      truncation=\"only_second\",\n",
        "      return_attention_mask=True,\n",
        "      add_special_tokens=True,\n",
        "      return_tensors=\"pt\"\n",
        "  )\n",
        "  generated_ids = trained_model.model.generate(\n",
        "      input_ids=source_encoding[\"input_ids\"],\n",
        "      attention_mask=source_encoding[\"attention_mask\"],\n",
        "      num_beams=1,  # greedy search\n",
        "      max_length=80,\n",
        "      repetition_penalty=2.5,\n",
        "      early_stopping=True,\n",
        "      use_cache=True)\n",
        "  preds = [\n",
        "          tokenizer.decode(generated_id, skip_special_tokens=True, clean_up_tokenization_spaces=True)\n",
        "          for generated_id in generated_ids\n",
        "  ]\n",
        "  return \"\".join(preds)"
      ],
      "metadata": {
        "id": "7gwozAB376BZ"
      },
      "execution_count": 108,
      "outputs": []
    },
    {
      "cell_type": "code",
      "source": [
        "# sample_question = val_df.iloc[20]\n",
        "# sample_question[\"question\"]\n",
        "# sample_question[\"answer_text\"]  # Label Answer\n",
        "# generate_answer(sample_question)  # Predicted answer\n",
        "# sample_question = val_df.iloc[7]\n",
        "# sample_question[\"answer_text\"]\n",
        "generate_answer(input('질문 : '))"
      ],
      "metadata": {
        "colab": {
          "base_uri": "https://localhost:8080/",
          "height": 565
        },
        "id": "Bl_9inbiEzC5",
        "outputId": "a92a735b-55d6-430c-a0d0-eb805d78c629"
      },
      "execution_count": 135,
      "outputs": [
        {
          "output_type": "error",
          "ename": "KeyboardInterrupt",
          "evalue": "ignored",
          "traceback": [
            "\u001b[0;31m---------------------------------------------------------------------------\u001b[0m",
            "\u001b[0;31mKeyboardInterrupt\u001b[0m                         Traceback (most recent call last)",
            "\u001b[0;32m/usr/local/lib/python3.7/dist-packages/ipykernel/kernelbase.py\u001b[0m in \u001b[0;36m_input_request\u001b[0;34m(self, prompt, ident, parent, password)\u001b[0m\n\u001b[1;32m    728\u001b[0m             \u001b[0;32mtry\u001b[0m\u001b[0;34m:\u001b[0m\u001b[0;34m\u001b[0m\u001b[0;34m\u001b[0m\u001b[0m\n\u001b[0;32m--> 729\u001b[0;31m                 \u001b[0mident\u001b[0m\u001b[0;34m,\u001b[0m \u001b[0mreply\u001b[0m \u001b[0;34m=\u001b[0m \u001b[0mself\u001b[0m\u001b[0;34m.\u001b[0m\u001b[0msession\u001b[0m\u001b[0;34m.\u001b[0m\u001b[0mrecv\u001b[0m\u001b[0;34m(\u001b[0m\u001b[0mself\u001b[0m\u001b[0;34m.\u001b[0m\u001b[0mstdin_socket\u001b[0m\u001b[0;34m,\u001b[0m \u001b[0;36m0\u001b[0m\u001b[0;34m)\u001b[0m\u001b[0;34m\u001b[0m\u001b[0;34m\u001b[0m\u001b[0m\n\u001b[0m\u001b[1;32m    730\u001b[0m             \u001b[0;32mexcept\u001b[0m \u001b[0mException\u001b[0m\u001b[0;34m:\u001b[0m\u001b[0;34m\u001b[0m\u001b[0;34m\u001b[0m\u001b[0m\n",
            "\u001b[0;32m/usr/local/lib/python3.7/dist-packages/jupyter_client/session.py\u001b[0m in \u001b[0;36mrecv\u001b[0;34m(self, socket, mode, content, copy)\u001b[0m\n\u001b[1;32m    802\u001b[0m         \u001b[0;32mtry\u001b[0m\u001b[0;34m:\u001b[0m\u001b[0;34m\u001b[0m\u001b[0;34m\u001b[0m\u001b[0m\n\u001b[0;32m--> 803\u001b[0;31m             \u001b[0mmsg_list\u001b[0m \u001b[0;34m=\u001b[0m \u001b[0msocket\u001b[0m\u001b[0;34m.\u001b[0m\u001b[0mrecv_multipart\u001b[0m\u001b[0;34m(\u001b[0m\u001b[0mmode\u001b[0m\u001b[0;34m,\u001b[0m \u001b[0mcopy\u001b[0m\u001b[0;34m=\u001b[0m\u001b[0mcopy\u001b[0m\u001b[0;34m)\u001b[0m\u001b[0;34m\u001b[0m\u001b[0;34m\u001b[0m\u001b[0m\n\u001b[0m\u001b[1;32m    804\u001b[0m         \u001b[0;32mexcept\u001b[0m \u001b[0mzmq\u001b[0m\u001b[0;34m.\u001b[0m\u001b[0mZMQError\u001b[0m \u001b[0;32mas\u001b[0m \u001b[0me\u001b[0m\u001b[0;34m:\u001b[0m\u001b[0;34m\u001b[0m\u001b[0;34m\u001b[0m\u001b[0m\n",
            "\u001b[0;32m/usr/local/lib/python3.7/dist-packages/zmq/sugar/socket.py\u001b[0m in \u001b[0;36mrecv_multipart\u001b[0;34m(self, flags, copy, track)\u001b[0m\n\u001b[1;32m    624\u001b[0m         \"\"\"\n\u001b[0;32m--> 625\u001b[0;31m         \u001b[0mparts\u001b[0m \u001b[0;34m=\u001b[0m \u001b[0;34m[\u001b[0m\u001b[0mself\u001b[0m\u001b[0;34m.\u001b[0m\u001b[0mrecv\u001b[0m\u001b[0;34m(\u001b[0m\u001b[0mflags\u001b[0m\u001b[0;34m,\u001b[0m \u001b[0mcopy\u001b[0m\u001b[0;34m=\u001b[0m\u001b[0mcopy\u001b[0m\u001b[0;34m,\u001b[0m \u001b[0mtrack\u001b[0m\u001b[0;34m=\u001b[0m\u001b[0mtrack\u001b[0m\u001b[0;34m)\u001b[0m\u001b[0;34m]\u001b[0m\u001b[0;34m\u001b[0m\u001b[0;34m\u001b[0m\u001b[0m\n\u001b[0m\u001b[1;32m    626\u001b[0m         \u001b[0;31m# have first part already, only loop while more to receive\u001b[0m\u001b[0;34m\u001b[0m\u001b[0;34m\u001b[0m\u001b[0;34m\u001b[0m\u001b[0m\n",
            "\u001b[0;32mzmq/backend/cython/socket.pyx\u001b[0m in \u001b[0;36mzmq.backend.cython.socket.Socket.recv\u001b[0;34m()\u001b[0m\n",
            "\u001b[0;32mzmq/backend/cython/socket.pyx\u001b[0m in \u001b[0;36mzmq.backend.cython.socket.Socket.recv\u001b[0;34m()\u001b[0m\n",
            "\u001b[0;32mzmq/backend/cython/socket.pyx\u001b[0m in \u001b[0;36mzmq.backend.cython.socket._recv_copy\u001b[0;34m()\u001b[0m\n",
            "\u001b[0;32m/usr/local/lib/python3.7/dist-packages/zmq/backend/cython/checkrc.pxd\u001b[0m in \u001b[0;36mzmq.backend.cython.checkrc._check_rc\u001b[0;34m()\u001b[0m\n",
            "\u001b[0;31mKeyboardInterrupt\u001b[0m: ",
            "\nDuring handling of the above exception, another exception occurred:\n",
            "\u001b[0;31mKeyboardInterrupt\u001b[0m                         Traceback (most recent call last)",
            "\u001b[0;32m<ipython-input-135-fe46a5c82fce>\u001b[0m in \u001b[0;36m<module>\u001b[0;34m()\u001b[0m\n\u001b[1;32m      5\u001b[0m \u001b[0;31m# sample_question = val_df.iloc[7]\u001b[0m\u001b[0;34m\u001b[0m\u001b[0;34m\u001b[0m\u001b[0;34m\u001b[0m\u001b[0m\n\u001b[1;32m      6\u001b[0m \u001b[0;31m# sample_question[\"answer_text\"]\u001b[0m\u001b[0;34m\u001b[0m\u001b[0;34m\u001b[0m\u001b[0;34m\u001b[0m\u001b[0m\n\u001b[0;32m----> 7\u001b[0;31m \u001b[0mgenerate_answer\u001b[0m\u001b[0;34m(\u001b[0m\u001b[0minput\u001b[0m\u001b[0;34m(\u001b[0m\u001b[0;34m'질문 : '\u001b[0m\u001b[0;34m)\u001b[0m\u001b[0;34m)\u001b[0m\u001b[0;34m\u001b[0m\u001b[0;34m\u001b[0m\u001b[0m\n\u001b[0m",
            "\u001b[0;32m/usr/local/lib/python3.7/dist-packages/ipykernel/kernelbase.py\u001b[0m in \u001b[0;36mraw_input\u001b[0;34m(self, prompt)\u001b[0m\n\u001b[1;32m    702\u001b[0m             \u001b[0mself\u001b[0m\u001b[0;34m.\u001b[0m\u001b[0m_parent_ident\u001b[0m\u001b[0;34m,\u001b[0m\u001b[0;34m\u001b[0m\u001b[0;34m\u001b[0m\u001b[0m\n\u001b[1;32m    703\u001b[0m             \u001b[0mself\u001b[0m\u001b[0;34m.\u001b[0m\u001b[0m_parent_header\u001b[0m\u001b[0;34m,\u001b[0m\u001b[0;34m\u001b[0m\u001b[0;34m\u001b[0m\u001b[0m\n\u001b[0;32m--> 704\u001b[0;31m             \u001b[0mpassword\u001b[0m\u001b[0;34m=\u001b[0m\u001b[0;32mFalse\u001b[0m\u001b[0;34m,\u001b[0m\u001b[0;34m\u001b[0m\u001b[0;34m\u001b[0m\u001b[0m\n\u001b[0m\u001b[1;32m    705\u001b[0m         )\n\u001b[1;32m    706\u001b[0m \u001b[0;34m\u001b[0m\u001b[0m\n",
            "\u001b[0;32m/usr/local/lib/python3.7/dist-packages/ipykernel/kernelbase.py\u001b[0m in \u001b[0;36m_input_request\u001b[0;34m(self, prompt, ident, parent, password)\u001b[0m\n\u001b[1;32m    732\u001b[0m             \u001b[0;32mexcept\u001b[0m \u001b[0mKeyboardInterrupt\u001b[0m\u001b[0;34m:\u001b[0m\u001b[0;34m\u001b[0m\u001b[0;34m\u001b[0m\u001b[0m\n\u001b[1;32m    733\u001b[0m                 \u001b[0;31m# re-raise KeyboardInterrupt, to truncate traceback\u001b[0m\u001b[0;34m\u001b[0m\u001b[0;34m\u001b[0m\u001b[0;34m\u001b[0m\u001b[0m\n\u001b[0;32m--> 734\u001b[0;31m                 \u001b[0;32mraise\u001b[0m \u001b[0mKeyboardInterrupt\u001b[0m\u001b[0;34m\u001b[0m\u001b[0;34m\u001b[0m\u001b[0m\n\u001b[0m\u001b[1;32m    735\u001b[0m             \u001b[0;32melse\u001b[0m\u001b[0;34m:\u001b[0m\u001b[0;34m\u001b[0m\u001b[0;34m\u001b[0m\u001b[0m\n\u001b[1;32m    736\u001b[0m                 \u001b[0;32mbreak\u001b[0m\u001b[0;34m\u001b[0m\u001b[0;34m\u001b[0m\u001b[0m\n",
            "\u001b[0;31mKeyboardInterrupt\u001b[0m: "
          ]
        }
      ]
    },
    {
      "cell_type": "code",
      "source": [
        "# 질문 토큰화 - val_test 함수 사용\n",
        "\n",
        "def val_generate_answer(question):\n",
        "  source_encoding=tokenizer(\n",
        "      question,\n",
        "      val_test(question),\n",
        "      max_length = 396,\n",
        "      padding=\"max_length\",\n",
        "      truncation=\"only_second\",\n",
        "      return_attention_mask=True,\n",
        "      add_special_tokens=True,\n",
        "      return_tensors=\"pt\"\n",
        "  )\n",
        "  generated_ids = trained_model.model.generate(\n",
        "      input_ids=source_encoding[\"input_ids\"],\n",
        "      attention_mask=source_encoding[\"attention_mask\"],\n",
        "      num_beams=1,  # greedy search\n",
        "      max_length=80,\n",
        "      repetition_penalty=2.5,\n",
        "      early_stopping=True,\n",
        "      use_cache=True)\n",
        "  preds = [\n",
        "          tokenizer.decode(generated_id, skip_special_tokens=True, clean_up_tokenization_spaces=True)\n",
        "          for generated_id in generated_ids\n",
        "  ]\n",
        "  return \"\".join(preds)"
      ],
      "metadata": {
        "id": "Xk1px95ordeR"
      },
      "execution_count": 110,
      "outputs": []
    },
    {
      "cell_type": "code",
      "source": [
        "val_generate_answer(input('질문 : '))"
      ],
      "metadata": {
        "colab": {
          "base_uri": "https://localhost:8080/",
          "height": 54
        },
        "id": "aLfnvczdrqyp",
        "outputId": "1f689c1e-f8fb-46d3-b563-6001f341bb69"
      },
      "execution_count": 115,
      "outputs": [
        {
          "name": "stdout",
          "output_type": "stream",
          "text": [
            "질문 : 남한산성을 훼손시킨 것은 누구인가?\n"
          ]
        },
        {
          "output_type": "execute_result",
          "data": {
            "text/plain": [
              "'이자영의 보고'"
            ],
            "application/vnd.google.colaboratory.intrinsic+json": {
              "type": "string"
            }
          },
          "metadata": {},
          "execution_count": 115
        }
      ]
    },
    {
      "cell_type": "markdown",
      "source": [
        "# 사용자 질문 받으면 올바른 context에 접근하게 하는 알고리즘 만들기"
      ],
      "metadata": {
        "id": "UrDxEz55sZQY"
      }
    },
    {
      "cell_type": "markdown",
      "source": [
        "### 데이터 로드"
      ],
      "metadata": {
        "id": "HbU6O9w2qI09"
      }
    },
    {
      "cell_type": "code",
      "source": [
        "import pandas as pd\n",
        "\n",
        "test_df = pd.read_csv('/content/drive/MyDrive/6조_파이널PJT/data/data_add_title.csv')"
      ],
      "metadata": {
        "id": "TcIZuupbMN91"
      },
      "execution_count": 13,
      "outputs": []
    },
    {
      "cell_type": "code",
      "source": [
        "test_df.sample(10, ignore_index = True)"
      ],
      "metadata": {
        "colab": {
          "base_uri": "https://localhost:8080/",
          "height": 581
        },
        "id": "crNvfL0oAmfX",
        "outputId": "4f2d34f9-67ef-41ca-87dd-ac82b9174dca"
      },
      "execution_count": 63,
      "outputs": [
        {
          "output_type": "execute_result",
          "data": {
            "text/plain": [
              "                               question  \\\n",
              "0          북송의 4대 황제로 재위한 인종의 생모는 누구일까?   \n",
              "1           뵘식 클라리넷은 몇 년도 만국박람회에서 소개됐니?   \n",
              "2  롤링 스톤 독자들에 의해 역대 몇 번째 위대한 드러머가 되었는가?   \n",
              "3                   폴란드 남부 지역을 병합한 나라는?   \n",
              "4                            윤소정의 데뷔작은?   \n",
              "5                  인천 서구 연희동의 인구는 몇명인가?   \n",
              "6                 전쟁이 끝나고 사회에 형성된 분위기는?   \n",
              "7              에드워드 흑태자의 가족관계는 어떻게 되는가?   \n",
              "8                   남한산성을 훼손시킨 것은 누구인가?   \n",
              "9    허구연 해설위원은 결승 홈런을 날렸던 전준우를 뭐라고 불렀어?   \n",
              "\n",
              "                                             context  \\\n",
              "0  송 진종 宋 眞宗 968년 12월 23일 1022년 3월 23일 은 중국 북송의 제...   \n",
              "1  클라리넷 독일어 klarinette 영어 clarinet 이탈리아어 clarinet...   \n",
              "2  리처드 스타키 경 sir richard starkey mbe 1940년 7월 7일 ...   \n",
              "3  폴란드의 역사에 대해 설명한다 원래 지금의 폴란드 땅에는 게르만족들이 살고 있었다 ...   \n",
              "4  윤소정 尹素貞 1944년 7월 4일 2017년 6월 16일 은 대한민국의 배우이다 ...   \n",
              "5  인천 서구의 행정구역은 21행정동 21법정동으로 구성되어 있다 서구의 면적은 137...   \n",
              "6  에르제 hergé 1907년 5월 22일 1983년 3월 3일 는 벨기에 브뤼셀 출...   \n",
              "7  에드워드 흑태자 edward the black prince 1330년 6월 15일1...   \n",
              "8  세계유산목록에 따른 정식명칭 유네스코에 의해 구분된 지역 남한산성 南漢山城 은 대한...   \n",
              "9  2008년 2차 2라운드 롯데 자이언츠 전준우 田峻玗 1986년 2월 25일 는 k...   \n",
              "\n",
              "                                         answer_text  answer_start  \\\n",
              "0                                            장의황후 이씨          6390   \n",
              "1                                              1889년          6554   \n",
              "2                                                5번째          3040   \n",
              "3                                              오스트리아         16032   \n",
              "4                                          이별 그리고 사랑          4885   \n",
              "5                                              45903          1218   \n",
              "6                                            포스트모더니즘          6999   \n",
              "7  1361년 에드워드는 당고모에 해당하는 켄트의 조안과 결혼했다 당시 왕족으로서는 드...          6729   \n",
              "8                                                일본군          4219   \n",
              "9                                          공포의 8번 타자          5727   \n",
              "\n",
              "   answer_end         title  \n",
              "0        6406         북송_진종  \n",
              "1        6559          클라리넷  \n",
              "2        3043         링고_스타  \n",
              "3       16037       폴란드의_역사  \n",
              "4        4901           윤소정  \n",
              "5        1224  인천_서구의_행정_구역  \n",
              "6        7006           에르제  \n",
              "7        7301      에드워드_흑태자  \n",
              "8        4229          남한산성  \n",
              "9        5736           전준우  "
            ],
            "text/html": [
              "\n",
              "  <div id=\"df-eb4dfb08-2e52-46d8-9381-304ca3adfae4\">\n",
              "    <div class=\"colab-df-container\">\n",
              "      <div>\n",
              "<style scoped>\n",
              "    .dataframe tbody tr th:only-of-type {\n",
              "        vertical-align: middle;\n",
              "    }\n",
              "\n",
              "    .dataframe tbody tr th {\n",
              "        vertical-align: top;\n",
              "    }\n",
              "\n",
              "    .dataframe thead th {\n",
              "        text-align: right;\n",
              "    }\n",
              "</style>\n",
              "<table border=\"1\" class=\"dataframe\">\n",
              "  <thead>\n",
              "    <tr style=\"text-align: right;\">\n",
              "      <th></th>\n",
              "      <th>question</th>\n",
              "      <th>context</th>\n",
              "      <th>answer_text</th>\n",
              "      <th>answer_start</th>\n",
              "      <th>answer_end</th>\n",
              "      <th>title</th>\n",
              "    </tr>\n",
              "  </thead>\n",
              "  <tbody>\n",
              "    <tr>\n",
              "      <th>0</th>\n",
              "      <td>북송의 4대 황제로 재위한 인종의 생모는 누구일까?</td>\n",
              "      <td>송 진종 宋 眞宗 968년 12월 23일 1022년 3월 23일 은 중국 북송의 제...</td>\n",
              "      <td>장의황후 이씨</td>\n",
              "      <td>6390</td>\n",
              "      <td>6406</td>\n",
              "      <td>북송_진종</td>\n",
              "    </tr>\n",
              "    <tr>\n",
              "      <th>1</th>\n",
              "      <td>뵘식 클라리넷은 몇 년도 만국박람회에서 소개됐니?</td>\n",
              "      <td>클라리넷 독일어 klarinette 영어 clarinet 이탈리아어 clarinet...</td>\n",
              "      <td>1889년</td>\n",
              "      <td>6554</td>\n",
              "      <td>6559</td>\n",
              "      <td>클라리넷</td>\n",
              "    </tr>\n",
              "    <tr>\n",
              "      <th>2</th>\n",
              "      <td>롤링 스톤 독자들에 의해 역대 몇 번째 위대한 드러머가 되었는가?</td>\n",
              "      <td>리처드 스타키 경 sir richard starkey mbe 1940년 7월 7일 ...</td>\n",
              "      <td>5번째</td>\n",
              "      <td>3040</td>\n",
              "      <td>3043</td>\n",
              "      <td>링고_스타</td>\n",
              "    </tr>\n",
              "    <tr>\n",
              "      <th>3</th>\n",
              "      <td>폴란드 남부 지역을 병합한 나라는?</td>\n",
              "      <td>폴란드의 역사에 대해 설명한다 원래 지금의 폴란드 땅에는 게르만족들이 살고 있었다 ...</td>\n",
              "      <td>오스트리아</td>\n",
              "      <td>16032</td>\n",
              "      <td>16037</td>\n",
              "      <td>폴란드의_역사</td>\n",
              "    </tr>\n",
              "    <tr>\n",
              "      <th>4</th>\n",
              "      <td>윤소정의 데뷔작은?</td>\n",
              "      <td>윤소정 尹素貞 1944년 7월 4일 2017년 6월 16일 은 대한민국의 배우이다 ...</td>\n",
              "      <td>이별 그리고 사랑</td>\n",
              "      <td>4885</td>\n",
              "      <td>4901</td>\n",
              "      <td>윤소정</td>\n",
              "    </tr>\n",
              "    <tr>\n",
              "      <th>5</th>\n",
              "      <td>인천 서구 연희동의 인구는 몇명인가?</td>\n",
              "      <td>인천 서구의 행정구역은 21행정동 21법정동으로 구성되어 있다 서구의 면적은 137...</td>\n",
              "      <td>45903</td>\n",
              "      <td>1218</td>\n",
              "      <td>1224</td>\n",
              "      <td>인천_서구의_행정_구역</td>\n",
              "    </tr>\n",
              "    <tr>\n",
              "      <th>6</th>\n",
              "      <td>전쟁이 끝나고 사회에 형성된 분위기는?</td>\n",
              "      <td>에르제 hergé 1907년 5월 22일 1983년 3월 3일 는 벨기에 브뤼셀 출...</td>\n",
              "      <td>포스트모더니즘</td>\n",
              "      <td>6999</td>\n",
              "      <td>7006</td>\n",
              "      <td>에르제</td>\n",
              "    </tr>\n",
              "    <tr>\n",
              "      <th>7</th>\n",
              "      <td>에드워드 흑태자의 가족관계는 어떻게 되는가?</td>\n",
              "      <td>에드워드 흑태자 edward the black prince 1330년 6월 15일1...</td>\n",
              "      <td>1361년 에드워드는 당고모에 해당하는 켄트의 조안과 결혼했다 당시 왕족으로서는 드...</td>\n",
              "      <td>6729</td>\n",
              "      <td>7301</td>\n",
              "      <td>에드워드_흑태자</td>\n",
              "    </tr>\n",
              "    <tr>\n",
              "      <th>8</th>\n",
              "      <td>남한산성을 훼손시킨 것은 누구인가?</td>\n",
              "      <td>세계유산목록에 따른 정식명칭 유네스코에 의해 구분된 지역 남한산성 南漢山城 은 대한...</td>\n",
              "      <td>일본군</td>\n",
              "      <td>4219</td>\n",
              "      <td>4229</td>\n",
              "      <td>남한산성</td>\n",
              "    </tr>\n",
              "    <tr>\n",
              "      <th>9</th>\n",
              "      <td>허구연 해설위원은 결승 홈런을 날렸던 전준우를 뭐라고 불렀어?</td>\n",
              "      <td>2008년 2차 2라운드 롯데 자이언츠 전준우 田峻玗 1986년 2월 25일 는 k...</td>\n",
              "      <td>공포의 8번 타자</td>\n",
              "      <td>5727</td>\n",
              "      <td>5736</td>\n",
              "      <td>전준우</td>\n",
              "    </tr>\n",
              "  </tbody>\n",
              "</table>\n",
              "</div>\n",
              "      <button class=\"colab-df-convert\" onclick=\"convertToInteractive('df-eb4dfb08-2e52-46d8-9381-304ca3adfae4')\"\n",
              "              title=\"Convert this dataframe to an interactive table.\"\n",
              "              style=\"display:none;\">\n",
              "        \n",
              "  <svg xmlns=\"http://www.w3.org/2000/svg\" height=\"24px\"viewBox=\"0 0 24 24\"\n",
              "       width=\"24px\">\n",
              "    <path d=\"M0 0h24v24H0V0z\" fill=\"none\"/>\n",
              "    <path d=\"M18.56 5.44l.94 2.06.94-2.06 2.06-.94-2.06-.94-.94-2.06-.94 2.06-2.06.94zm-11 1L8.5 8.5l.94-2.06 2.06-.94-2.06-.94L8.5 2.5l-.94 2.06-2.06.94zm10 10l.94 2.06.94-2.06 2.06-.94-2.06-.94-.94-2.06-.94 2.06-2.06.94z\"/><path d=\"M17.41 7.96l-1.37-1.37c-.4-.4-.92-.59-1.43-.59-.52 0-1.04.2-1.43.59L10.3 9.45l-7.72 7.72c-.78.78-.78 2.05 0 2.83L4 21.41c.39.39.9.59 1.41.59.51 0 1.02-.2 1.41-.59l7.78-7.78 2.81-2.81c.8-.78.8-2.07 0-2.86zM5.41 20L4 18.59l7.72-7.72 1.47 1.35L5.41 20z\"/>\n",
              "  </svg>\n",
              "      </button>\n",
              "      \n",
              "  <style>\n",
              "    .colab-df-container {\n",
              "      display:flex;\n",
              "      flex-wrap:wrap;\n",
              "      gap: 12px;\n",
              "    }\n",
              "\n",
              "    .colab-df-convert {\n",
              "      background-color: #E8F0FE;\n",
              "      border: none;\n",
              "      border-radius: 50%;\n",
              "      cursor: pointer;\n",
              "      display: none;\n",
              "      fill: #1967D2;\n",
              "      height: 32px;\n",
              "      padding: 0 0 0 0;\n",
              "      width: 32px;\n",
              "    }\n",
              "\n",
              "    .colab-df-convert:hover {\n",
              "      background-color: #E2EBFA;\n",
              "      box-shadow: 0px 1px 2px rgba(60, 64, 67, 0.3), 0px 1px 3px 1px rgba(60, 64, 67, 0.15);\n",
              "      fill: #174EA6;\n",
              "    }\n",
              "\n",
              "    [theme=dark] .colab-df-convert {\n",
              "      background-color: #3B4455;\n",
              "      fill: #D2E3FC;\n",
              "    }\n",
              "\n",
              "    [theme=dark] .colab-df-convert:hover {\n",
              "      background-color: #434B5C;\n",
              "      box-shadow: 0px 1px 3px 1px rgba(0, 0, 0, 0.15);\n",
              "      filter: drop-shadow(0px 1px 2px rgba(0, 0, 0, 0.3));\n",
              "      fill: #FFFFFF;\n",
              "    }\n",
              "  </style>\n",
              "\n",
              "      <script>\n",
              "        const buttonEl =\n",
              "          document.querySelector('#df-eb4dfb08-2e52-46d8-9381-304ca3adfae4 button.colab-df-convert');\n",
              "        buttonEl.style.display =\n",
              "          google.colab.kernel.accessAllowed ? 'block' : 'none';\n",
              "\n",
              "        async function convertToInteractive(key) {\n",
              "          const element = document.querySelector('#df-eb4dfb08-2e52-46d8-9381-304ca3adfae4');\n",
              "          const dataTable =\n",
              "            await google.colab.kernel.invokeFunction('convertToInteractive',\n",
              "                                                     [key], {});\n",
              "          if (!dataTable) return;\n",
              "\n",
              "          const docLinkHtml = 'Like what you see? Visit the ' +\n",
              "            '<a target=\"_blank\" href=https://colab.research.google.com/notebooks/data_table.ipynb>data table notebook</a>'\n",
              "            + ' to learn more about interactive tables.';\n",
              "          element.innerHTML = '';\n",
              "          dataTable['output_type'] = 'display_data';\n",
              "          await google.colab.output.renderOutput(dataTable, element);\n",
              "          const docLink = document.createElement('div');\n",
              "          docLink.innerHTML = docLinkHtml;\n",
              "          element.appendChild(docLink);\n",
              "        }\n",
              "      </script>\n",
              "    </div>\n",
              "  </div>\n",
              "  "
            ]
          },
          "metadata": {},
          "execution_count": 63
        }
      ]
    },
    {
      "cell_type": "code",
      "source": [
        "val_df = pd.read_csv('/content/drive/MyDrive/6조_파이널PJT/data/val_df.csv')"
      ],
      "metadata": {
        "id": "UtAVcK-VwvaU"
      },
      "execution_count": 70,
      "outputs": []
    },
    {
      "cell_type": "code",
      "source": [
        "val_df.sample(10, ignore_index = True)"
      ],
      "metadata": {
        "colab": {
          "base_uri": "https://localhost:8080/",
          "height": 459
        },
        "id": "0tFHP0Sgn48g",
        "outputId": "0d69748f-8218-4031-bcdc-f10508784389"
      },
      "execution_count": 73,
      "outputs": [
        {
          "output_type": "execute_result",
          "data": {
            "text/plain": [
              "                                            question  \\\n",
              "0                                 리베리오가 사망한 때는 언제인가?   \n",
              "1                              아우구스투스가 창설한 황제의 친위대는?   \n",
              "2                     괴벨스가 예술비평에 대해 반대를 표명한 해는 언제인가?   \n",
              "3                       서울에서 핵안보정상회의가 열린 것은 몇 년도입니까?   \n",
              "4  암살단파가 명성을 얻기 시작한 것은 이란계 지도자가 파티마조와 결별하고 이란과 시리...   \n",
              "5               사나칸이 세이프 가드의 모습일 때 자아는 무엇에 의해 통제되는가?   \n",
              "6                                    사랑은 뭐길래의 방송연도는?   \n",
              "7  2017년 12월 개봉한 영화 <1987>에서 유일한 허구 인물인 87학번 신입생 ...   \n",
              "8                      메건 폭스가 오른쪽 엄지 손가락에 앓고 있는 질환은?   \n",
              "9                                닉 제닝스가 맡은 역할은 무엇인가?   \n",
              "\n",
              "                                             context  answer_text  \\\n",
              "0  366년 9월 24일 리베리오가 선종하자 로마 교회는 두 파벌로 분열되었다. 하나는...  366년 9월 24일   \n",
              "1  아우구스투스의 통치는 로마의 평화라 불리는 태평성대를 이루었다. 계속되는 변방에서의...       로마 근위대   \n",
              "2   안톤 브루크너 안톤 브루크너     브루크너는 여기로 연결됩니다. 다른 뜻에 대해...        1936년   \n",
              "3   2012년 핵안보정상회의 2012년 핵안보정상회의     2012 서울 핵안보정상...         2012   \n",
              "4  암살단파(Hashshashin)는 '산상의 노인'이라 불렸던 이란계 지도자가 11세...           요새   \n",
              "5  만화상 짧게 등장하는 단발머리 소녀의 모습의 상위 세이프 가드로, 키리이를 세이프 ...    중앙 세이프 가드   \n",
              "6  1997년 CCTV 채널1에서 방영된 드라마 《사랑은 뭐길래》 이후 일어난 한류 열...        1997년   \n",
              "7  2017년 12월 박종철 고문치사 사건부터 6월 항쟁까지 이어지는 한국 현대사를 담...          김태리   \n",
              "8  폭스는 또한 오른손 엄지 손가락이 단지증을 앓고 있다고한다. 2010년에는 강박 장...          단지증   \n",
              "9  곧 워드와 그의 제작 팀은 스토리보드와 각본 제작을 시작하였다. 그러나 카툰 네트워...        미술 감독   \n",
              "\n",
              "   answer_start  answer_end  \n",
              "0             0          11  \n",
              "1           243         249  \n",
              "2         17009       17014  \n",
              "3           418         422  \n",
              "4            79          81  \n",
              "5           368         377  \n",
              "6             0           5  \n",
              "7            80          83  \n",
              "8            19          22  \n",
              "9           423         428  "
            ],
            "text/html": [
              "\n",
              "  <div id=\"df-e9d44174-e87e-445c-a870-deb7dd2c3386\">\n",
              "    <div class=\"colab-df-container\">\n",
              "      <div>\n",
              "<style scoped>\n",
              "    .dataframe tbody tr th:only-of-type {\n",
              "        vertical-align: middle;\n",
              "    }\n",
              "\n",
              "    .dataframe tbody tr th {\n",
              "        vertical-align: top;\n",
              "    }\n",
              "\n",
              "    .dataframe thead th {\n",
              "        text-align: right;\n",
              "    }\n",
              "</style>\n",
              "<table border=\"1\" class=\"dataframe\">\n",
              "  <thead>\n",
              "    <tr style=\"text-align: right;\">\n",
              "      <th></th>\n",
              "      <th>question</th>\n",
              "      <th>context</th>\n",
              "      <th>answer_text</th>\n",
              "      <th>answer_start</th>\n",
              "      <th>answer_end</th>\n",
              "    </tr>\n",
              "  </thead>\n",
              "  <tbody>\n",
              "    <tr>\n",
              "      <th>0</th>\n",
              "      <td>리베리오가 사망한 때는 언제인가?</td>\n",
              "      <td>366년 9월 24일 리베리오가 선종하자 로마 교회는 두 파벌로 분열되었다. 하나는...</td>\n",
              "      <td>366년 9월 24일</td>\n",
              "      <td>0</td>\n",
              "      <td>11</td>\n",
              "    </tr>\n",
              "    <tr>\n",
              "      <th>1</th>\n",
              "      <td>아우구스투스가 창설한 황제의 친위대는?</td>\n",
              "      <td>아우구스투스의 통치는 로마의 평화라 불리는 태평성대를 이루었다. 계속되는 변방에서의...</td>\n",
              "      <td>로마 근위대</td>\n",
              "      <td>243</td>\n",
              "      <td>249</td>\n",
              "    </tr>\n",
              "    <tr>\n",
              "      <th>2</th>\n",
              "      <td>괴벨스가 예술비평에 대해 반대를 표명한 해는 언제인가?</td>\n",
              "      <td>안톤 브루크너 안톤 브루크너     브루크너는 여기로 연결됩니다. 다른 뜻에 대해...</td>\n",
              "      <td>1936년</td>\n",
              "      <td>17009</td>\n",
              "      <td>17014</td>\n",
              "    </tr>\n",
              "    <tr>\n",
              "      <th>3</th>\n",
              "      <td>서울에서 핵안보정상회의가 열린 것은 몇 년도입니까?</td>\n",
              "      <td>2012년 핵안보정상회의 2012년 핵안보정상회의     2012 서울 핵안보정상...</td>\n",
              "      <td>2012</td>\n",
              "      <td>418</td>\n",
              "      <td>422</td>\n",
              "    </tr>\n",
              "    <tr>\n",
              "      <th>4</th>\n",
              "      <td>암살단파가 명성을 얻기 시작한 것은 이란계 지도자가 파티마조와 결별하고 이란과 시리...</td>\n",
              "      <td>암살단파(Hashshashin)는 '산상의 노인'이라 불렸던 이란계 지도자가 11세...</td>\n",
              "      <td>요새</td>\n",
              "      <td>79</td>\n",
              "      <td>81</td>\n",
              "    </tr>\n",
              "    <tr>\n",
              "      <th>5</th>\n",
              "      <td>사나칸이 세이프 가드의 모습일 때 자아는 무엇에 의해 통제되는가?</td>\n",
              "      <td>만화상 짧게 등장하는 단발머리 소녀의 모습의 상위 세이프 가드로, 키리이를 세이프 ...</td>\n",
              "      <td>중앙 세이프 가드</td>\n",
              "      <td>368</td>\n",
              "      <td>377</td>\n",
              "    </tr>\n",
              "    <tr>\n",
              "      <th>6</th>\n",
              "      <td>사랑은 뭐길래의 방송연도는?</td>\n",
              "      <td>1997년 CCTV 채널1에서 방영된 드라마 《사랑은 뭐길래》 이후 일어난 한류 열...</td>\n",
              "      <td>1997년</td>\n",
              "      <td>0</td>\n",
              "      <td>5</td>\n",
              "    </tr>\n",
              "    <tr>\n",
              "      <th>7</th>\n",
              "      <td>2017년 12월 개봉한 영화 &lt;1987&gt;에서 유일한 허구 인물인 87학번 신입생 ...</td>\n",
              "      <td>2017년 12월 박종철 고문치사 사건부터 6월 항쟁까지 이어지는 한국 현대사를 담...</td>\n",
              "      <td>김태리</td>\n",
              "      <td>80</td>\n",
              "      <td>83</td>\n",
              "    </tr>\n",
              "    <tr>\n",
              "      <th>8</th>\n",
              "      <td>메건 폭스가 오른쪽 엄지 손가락에 앓고 있는 질환은?</td>\n",
              "      <td>폭스는 또한 오른손 엄지 손가락이 단지증을 앓고 있다고한다. 2010년에는 강박 장...</td>\n",
              "      <td>단지증</td>\n",
              "      <td>19</td>\n",
              "      <td>22</td>\n",
              "    </tr>\n",
              "    <tr>\n",
              "      <th>9</th>\n",
              "      <td>닉 제닝스가 맡은 역할은 무엇인가?</td>\n",
              "      <td>곧 워드와 그의 제작 팀은 스토리보드와 각본 제작을 시작하였다. 그러나 카툰 네트워...</td>\n",
              "      <td>미술 감독</td>\n",
              "      <td>423</td>\n",
              "      <td>428</td>\n",
              "    </tr>\n",
              "  </tbody>\n",
              "</table>\n",
              "</div>\n",
              "      <button class=\"colab-df-convert\" onclick=\"convertToInteractive('df-e9d44174-e87e-445c-a870-deb7dd2c3386')\"\n",
              "              title=\"Convert this dataframe to an interactive table.\"\n",
              "              style=\"display:none;\">\n",
              "        \n",
              "  <svg xmlns=\"http://www.w3.org/2000/svg\" height=\"24px\"viewBox=\"0 0 24 24\"\n",
              "       width=\"24px\">\n",
              "    <path d=\"M0 0h24v24H0V0z\" fill=\"none\"/>\n",
              "    <path d=\"M18.56 5.44l.94 2.06.94-2.06 2.06-.94-2.06-.94-.94-2.06-.94 2.06-2.06.94zm-11 1L8.5 8.5l.94-2.06 2.06-.94-2.06-.94L8.5 2.5l-.94 2.06-2.06.94zm10 10l.94 2.06.94-2.06 2.06-.94-2.06-.94-.94-2.06-.94 2.06-2.06.94z\"/><path d=\"M17.41 7.96l-1.37-1.37c-.4-.4-.92-.59-1.43-.59-.52 0-1.04.2-1.43.59L10.3 9.45l-7.72 7.72c-.78.78-.78 2.05 0 2.83L4 21.41c.39.39.9.59 1.41.59.51 0 1.02-.2 1.41-.59l7.78-7.78 2.81-2.81c.8-.78.8-2.07 0-2.86zM5.41 20L4 18.59l7.72-7.72 1.47 1.35L5.41 20z\"/>\n",
              "  </svg>\n",
              "      </button>\n",
              "      \n",
              "  <style>\n",
              "    .colab-df-container {\n",
              "      display:flex;\n",
              "      flex-wrap:wrap;\n",
              "      gap: 12px;\n",
              "    }\n",
              "\n",
              "    .colab-df-convert {\n",
              "      background-color: #E8F0FE;\n",
              "      border: none;\n",
              "      border-radius: 50%;\n",
              "      cursor: pointer;\n",
              "      display: none;\n",
              "      fill: #1967D2;\n",
              "      height: 32px;\n",
              "      padding: 0 0 0 0;\n",
              "      width: 32px;\n",
              "    }\n",
              "\n",
              "    .colab-df-convert:hover {\n",
              "      background-color: #E2EBFA;\n",
              "      box-shadow: 0px 1px 2px rgba(60, 64, 67, 0.3), 0px 1px 3px 1px rgba(60, 64, 67, 0.15);\n",
              "      fill: #174EA6;\n",
              "    }\n",
              "\n",
              "    [theme=dark] .colab-df-convert {\n",
              "      background-color: #3B4455;\n",
              "      fill: #D2E3FC;\n",
              "    }\n",
              "\n",
              "    [theme=dark] .colab-df-convert:hover {\n",
              "      background-color: #434B5C;\n",
              "      box-shadow: 0px 1px 3px 1px rgba(0, 0, 0, 0.15);\n",
              "      filter: drop-shadow(0px 1px 2px rgba(0, 0, 0, 0.3));\n",
              "      fill: #FFFFFF;\n",
              "    }\n",
              "  </style>\n",
              "\n",
              "      <script>\n",
              "        const buttonEl =\n",
              "          document.querySelector('#df-e9d44174-e87e-445c-a870-deb7dd2c3386 button.colab-df-convert');\n",
              "        buttonEl.style.display =\n",
              "          google.colab.kernel.accessAllowed ? 'block' : 'none';\n",
              "\n",
              "        async function convertToInteractive(key) {\n",
              "          const element = document.querySelector('#df-e9d44174-e87e-445c-a870-deb7dd2c3386');\n",
              "          const dataTable =\n",
              "            await google.colab.kernel.invokeFunction('convertToInteractive',\n",
              "                                                     [key], {});\n",
              "          if (!dataTable) return;\n",
              "\n",
              "          const docLinkHtml = 'Like what you see? Visit the ' +\n",
              "            '<a target=\"_blank\" href=https://colab.research.google.com/notebooks/data_table.ipynb>data table notebook</a>'\n",
              "            + ' to learn more about interactive tables.';\n",
              "          element.innerHTML = '';\n",
              "          dataTable['output_type'] = 'display_data';\n",
              "          await google.colab.output.renderOutput(dataTable, element);\n",
              "          const docLink = document.createElement('div');\n",
              "          docLink.innerHTML = docLinkHtml;\n",
              "          element.appendChild(docLink);\n",
              "        }\n",
              "      </script>\n",
              "    </div>\n",
              "  </div>\n",
              "  "
            ]
          },
          "metadata": {},
          "execution_count": 73
        }
      ]
    },
    {
      "cell_type": "markdown",
      "source": [
        "## 1. 키워드 문자 받기"
      ],
      "metadata": {
        "id": "eRCnwCt5p_WF"
      }
    },
    {
      "cell_type": "code",
      "source": [
        "# 키워드 문자 받기\n",
        "\n",
        "def key_test(keyword):\n",
        "  key_df = test_df.query(f'title.str.contains(\"{keyword}\")', engine = 'python')\n",
        "  # key_context = key_df.query(f'context.str.contains(\"{question}\")', engine = 'python')\n",
        "  use_context = key_df.drop_duplicates(['context'], ignore_index = True)\n",
        "\n",
        "  context_li = []\n",
        "  for i in range(len(use_context)):\n",
        "    context_li.append(use_context['context'][i])\n",
        "  \n",
        "  context = \" \".join(context_li)\n",
        "\n",
        "  return context_li[0]"
      ],
      "metadata": {
        "id": "xQpriixtMU9n"
      },
      "execution_count": 169,
      "outputs": []
    },
    {
      "cell_type": "code",
      "source": [
        "key_test(input('키워드 : '))"
      ],
      "metadata": {
        "colab": {
          "base_uri": "https://localhost:8080/",
          "height": 201
        },
        "id": "1jBpeld4ySHH",
        "outputId": "10fa015b-d3af-4ade-8be7-1a7659aa9e2f"
      },
      "execution_count": 170,
      "outputs": [
        {
          "name": "stdout",
          "output_type": "stream",
          "text": [
            "키워드 : 남한산성\n"
          ]
        },
        {
          "output_type": "execute_result",
          "data": {
            "text/plain": [
              "'남한산성 은 2017년 10월 3일에 개봉한 대한민국의 영화이다 황동혁 감독이 소설가 김훈의 동명 소설을 영화화한 것으로 병자호란 당시 남한산성에 갇힌 인조가 청나라에 항복하기까지의 과정을 그리며 정치에 대해 메시지를 던진다 1636년 병자호란 당시 남한산성에 피난하게 된 인조는 사방이 청군에 포위되어 고립무원의 처지에 놓인다 남한산성에는 자원도 풍부하지 못해 50일가량 견딜 수 있다 청에 저항하는 50일 남짓 대신들의 의견도 첨예하게 갈린다 이조판서 최명길 이병헌 은 치욕을 당하더라도 청에게 항복해 백성을 지켜야 한다고 주장했고 예조판서 김상헌 김윤석 은 청에 끝까지 맞서 싸워야 한다고 주장한다 그 속에서 청군의 압박은 점점 심해진다 남한산성에 갇혀 결국 청에 항복하기까지의 47일 동안 주화파와 척화파의 대립 속에서 번민하는 임금과 저마다의 충 忠 을 따르고자 하는 신하들 전쟁으로 고통받는 백성들 등 다양한 인간군상이 묘사된다 2016년 11월 제작이 시작되어 2017년 4월까지 촬영되었다 제작비는 총 150억 원 정도가 사용되었다 황동혁 감독은 소설에 충실한 영화를 만들기 위해 액션사극이나 퓨전사극 풍을 배제하고 정통사극의 분위기로 인물과 이야기에 집중했으며 화면 구성과 음악에서도 레버넌트 죽음에서 돌아온 자와 같이 절제된 느낌을 내려했다고 말한다 영화를 통해 인물들과 그들의 간절함 민초들의 생명력과 노력을 보여주고 싶었다면서 그래서 이 영화의 결말이 인조의 치욕스러운 모습이 아닌 서날쇠의 힘찬 망치소리와 봄의 풍경 속으로 뛰어드는 아이 나루의 모습이었던 거죠 라고 말했다 남한산성은 대한민국에서 2017년 10월 3일에 개봉했다 추석 연휴 기간과 맞물려 개봉 이틀만에 역대 최단기간으로 100만 관객을 넘었으며 개봉 후 4일만에 200만 관객을 돌파했다 그러나 추석 연휴 이후 관객수 증가 추세가 감소하여 영화의 손익분기점인 500만 관객에도 미치지 못하면서 상업적으로는 실패했다는 평가를 받는다 남한산성은 대체로 긍정적인 평가를 받았다 이동진 평론가는 5점 만점에 35점을 주며 태산 같은 말의 무게를 묵묵히 지고 간다 라는 평을 남겼다 병자호란이라는 역사적 사건을 토대로 하고 있지만 소설이 원작이고 영화적 상상력이 덧붙여졌기 때문에 역사와 다르게 묘사된 부분도 있다 가령 영화에서 김상헌은 인조가 청에 항복할 때 칼로 배를 찔러 할복 자살하는 것으로 묘사되나 실제로는 목을 매는 방식으로 자살 시도를 하다 실패하고 1652년 82세까지 산다 영화 속 김상헌의 자결은 감독의 의도로 황동혁 감독은 영화적으로는 첫 장면에서 그가 사공을 베었던 칼로 자결하게 하는 게 맞겠다고 생각했다”고 말했다'"
            ],
            "application/vnd.google.colaboratory.intrinsic+json": {
              "type": "string"
            }
          },
          "metadata": {},
          "execution_count": 170
        }
      ]
    },
    {
      "cell_type": "code",
      "source": [
        "from sklearn.feature_extraction.text import TfidfVectorizer\n",
        "\n",
        "sent=(key_test(input('키워드 : ')),\n",
        "      \"남한산성을 훼손시킨 것은 누구인가?\")\n",
        "      \n",
        "tfidf_vectorizer=TfidfVectorizer()\n",
        "tfidf_matrix=tfidf_vectorizer.fit_transform(sent)"
      ],
      "metadata": {
        "colab": {
          "base_uri": "https://localhost:8080/"
        },
        "id": "NNs2zPrz1q_p",
        "outputId": "ce9cb016-cf8b-4b5d-968b-8747ec6975dc"
      },
      "execution_count": 171,
      "outputs": [
        {
          "name": "stdout",
          "output_type": "stream",
          "text": [
            "키워드 : 남한산성\n"
          ]
        }
      ]
    },
    {
      "cell_type": "code",
      "source": [
        "from sklearn.metrics.pairwise import cosine_similarity\n",
        "\n",
        "cosine_similarity(tfidf_matrix[0:1],tfidf_matrix[1:2])"
      ],
      "metadata": {
        "colab": {
          "base_uri": "https://localhost:8080/"
        },
        "id": "AwgwWHD25jWJ",
        "outputId": "1d806968-6a9f-4f08-d8fb-a8e110a7e2ce"
      },
      "execution_count": 172,
      "outputs": [
        {
          "output_type": "execute_result",
          "data": {
            "text/plain": [
              "array([[0.]])"
            ]
          },
          "metadata": {},
          "execution_count": 172
        }
      ]
    },
    {
      "cell_type": "markdown",
      "source": [
        "## 2. 질문 토큰화"
      ],
      "metadata": {
        "id": "Ukr1B_ZvqSsZ"
      }
    },
    {
      "cell_type": "markdown",
      "source": [
        "- 토큰화 함수 불러오기"
      ],
      "metadata": {
        "id": "9tP61FG7q74b"
      }
    },
    {
      "cell_type": "code",
      "source": [
        "# !pip install JPype1-0.63-cp36-cp36m-xin_amd64.whl\n",
        "!pip install konlpy"
      ],
      "metadata": {
        "id": "jj5YeNI72YWA",
        "colab": {
          "base_uri": "https://localhost:8080/"
        },
        "outputId": "96df0ad4-9024-47c2-a392-a60506f75517"
      },
      "execution_count": 18,
      "outputs": [
        {
          "output_type": "stream",
          "name": "stdout",
          "text": [
            "Collecting konlpy\n",
            "  Downloading konlpy-0.6.0-py2.py3-none-any.whl (19.4 MB)\n",
            "\u001b[K     |████████████████████████████████| 19.4 MB 4.7 MB/s \n",
            "\u001b[?25hCollecting JPype1>=0.7.0\n",
            "  Downloading JPype1-1.3.0-cp37-cp37m-manylinux_2_5_x86_64.manylinux1_x86_64.whl (448 kB)\n",
            "\u001b[K     |████████████████████████████████| 448 kB 48.0 MB/s \n",
            "\u001b[?25hRequirement already satisfied: numpy>=1.6 in /usr/local/lib/python3.7/dist-packages (from konlpy) (1.21.6)\n",
            "Requirement already satisfied: lxml>=4.1.0 in /usr/local/lib/python3.7/dist-packages (from konlpy) (4.2.6)\n",
            "Requirement already satisfied: typing-extensions in /usr/local/lib/python3.7/dist-packages (from JPype1>=0.7.0->konlpy) (4.1.1)\n",
            "Installing collected packages: JPype1, konlpy\n",
            "Successfully installed JPype1-1.3.0 konlpy-0.6.0\n"
          ]
        }
      ]
    },
    {
      "cell_type": "code",
      "source": [
        "from konlpy.tag import Okt\n",
        "okt = Okt()"
      ],
      "metadata": {
        "id": "QdYXTfsqtoGr"
      },
      "execution_count": 19,
      "outputs": []
    },
    {
      "cell_type": "code",
      "source": [
        "token = okt.phrases(input('질문 : '))\n",
        "# token = okt.nouns(input('질문 : '))"
      ],
      "metadata": {
        "colab": {
          "base_uri": "https://localhost:8080/"
        },
        "id": "LyvezUId2jB2",
        "outputId": "e60d3d2e-1a68-4875-a929-542951f1bdea"
      },
      "execution_count": 118,
      "outputs": [
        {
          "name": "stdout",
          "output_type": "stream",
          "text": [
            "질문 : 남한산성을 훼손시킨 것은 누구인가?\n"
          ]
        }
      ]
    },
    {
      "cell_type": "code",
      "source": [
        "token[:]"
      ],
      "metadata": {
        "colab": {
          "base_uri": "https://localhost:8080/"
        },
        "id": "quaMC_EsHjDT",
        "outputId": "6981be72-a069-4e40-93ca-b08844d86b43"
      },
      "execution_count": 37,
      "outputs": [
        {
          "output_type": "execute_result",
          "data": {
            "text/plain": [
              "['로마인들', '지중해']"
            ]
          },
          "metadata": {},
          "execution_count": 37
        }
      ]
    },
    {
      "cell_type": "code",
      "source": [
        "token_len = len(token) - (len(token)-2)\n",
        "token = token[:token_len]\n",
        "token"
      ],
      "metadata": {
        "colab": {
          "base_uri": "https://localhost:8080/"
        },
        "id": "hXMvtXoUlS_R",
        "outputId": "9710bccd-5e41-4da6-f10d-8c308110cfd2"
      },
      "execution_count": 119,
      "outputs": [
        {
          "output_type": "execute_result",
          "data": {
            "text/plain": [
              "['남한산성', '훼손']"
            ]
          },
          "metadata": {},
          "execution_count": 119
        }
      ]
    },
    {
      "cell_type": "code",
      "source": [
        "test_df.query(f'title.str.contains(\"{token[0]}|{token[1]}\")', engine = 'python')"
      ],
      "metadata": {
        "id": "KrciBODv4sko",
        "colab": {
          "base_uri": "https://localhost:8080/",
          "height": 641
        },
        "outputId": "f91323cd-8332-4742-bad4-35691b12c15d"
      },
      "execution_count": 121,
      "outputs": [
        {
          "output_type": "execute_result",
          "data": {
            "text/plain": [
              "                                                question  \\\n",
              "18954                  산케이 신문 지국장 명예훼손 혐의 사건의 발생 과정이 뭐야?   \n",
              "26106                영화 남한산성을 통해 대종상 촬영상을 수상한 인물은 누구일까요?   \n",
              "50292                       남한산성이 축조된 지역의 지리적 특징은 무엇일까요?   \n",
              "50293                               4장대중 훼손이 가장 심한 구조물은?   \n",
              "50294                           남한산성 내의 지수당을 세운 사람의 이름은?   \n",
              "...                                                  ...   \n",
              "77114                     장경사에서 가장 화려한 고건축 양식으로 지어진 건물은?   \n",
              "77115  남한산성 안에 있던 9개의 사찰 중 당시의 모습으로 현존하고 있는 유일한 사찰의 이름은?   \n",
              "77116        병자호란 당시 남한산성이 함몰 위기에 놓였을때 어영별장으로 있던 자의 이름은?   \n",
              "77117  남한산성 내에 존재했던 9개의 사찰 가운데 당시의 모습으로 남아있는 현존하는 유일한...   \n",
              "77118             장경사 건물 중 가장 화려하게 지여진 고건축 양식을 보여주는 건물은?   \n",
              "\n",
              "                                                 context  \\\n",
              "18954  산케이 신문 지국장 명예훼손 혐의 사건 한국 한자産経新聞支局長名譽毁損嫌疑事件 은 2...   \n",
              "26106  남한산성 은 2017년 10월 3일에 개봉한 대한민국의 영화이다 황동혁 감독이 소설...   \n",
              "50292  세계유산목록에 따른 정식명칭 유네스코에 의해 구분된 지역 남한산성 南漢山城 은 대한...   \n",
              "50293  세계유산목록에 따른 정식명칭 유네스코에 의해 구분된 지역 남한산성 南漢山城 은 대한...   \n",
              "50294  세계유산목록에 따른 정식명칭 유네스코에 의해 구분된 지역 남한산성 南漢山城 은 대한...   \n",
              "...                                                  ...   \n",
              "77114  세계유산목록에 따른 정식명칭 유네스코에 의해 구분된 지역 남한산성 南漢山城 은 대한...   \n",
              "77115  세계유산목록에 따른 정식명칭 유네스코에 의해 구분된 지역 남한산성 南漢山城 은 대한...   \n",
              "77116  세계유산목록에 따른 정식명칭 유네스코에 의해 구분된 지역 남한산성 南漢山城 은 대한...   \n",
              "77117  세계유산목록에 따른 정식명칭 유네스코에 의해 구분된 지역 남한산성 南漢山城 은 대한...   \n",
              "77118  세계유산목록에 따른 정식명칭 유네스코에 의해 구분된 지역 남한산성 南漢山城 은 대한...   \n",
              "\n",
              "                                             answer_text  answer_start  \\\n",
              "18954  세월호 침몰 사고가 발행한 후 2014년 8월 3일 당시 산케이 신문 서울 지국장이...          1415   \n",
              "26106                                                김지용          7355   \n",
              "50292  이곳은 망월봉에서 북동쪽으로 뻗어나간 능선이 남쪽과 북쪽으로 갈라지는 지점이다 북쪽...         33234   \n",
              "50293                                                북장대         32852   \n",
              "50294                                            이세화 李世華         38541   \n",
              "...                                                  ...           ...   \n",
              "77114                                                대웅전         42044   \n",
              "77115                                                장경사         41730   \n",
              "77116                                                이기축         41959   \n",
              "77117                                                장경사         41730   \n",
              "77118                                                대웅전         42002   \n",
              "\n",
              "       answer_end                  title  \n",
              "18954        2289  산케이_신문_지국장_명예훼손_혐의_사건  \n",
              "26106        7358              남한산성_(영화)  \n",
              "50292       33563                   남한산성  \n",
              "50293       32855                   남한산성  \n",
              "50294       38549                   남한산성  \n",
              "...           ...                    ...  \n",
              "77114       42047                   남한산성  \n",
              "77115       41733                   남한산성  \n",
              "77116       41962                   남한산성  \n",
              "77117       41733                   남한산성  \n",
              "77118       42005                   남한산성  \n",
              "\n",
              "[123 rows x 6 columns]"
            ],
            "text/html": [
              "\n",
              "  <div id=\"df-3eec001a-ab57-4ef9-b2bd-ad4e4262d20c\">\n",
              "    <div class=\"colab-df-container\">\n",
              "      <div>\n",
              "<style scoped>\n",
              "    .dataframe tbody tr th:only-of-type {\n",
              "        vertical-align: middle;\n",
              "    }\n",
              "\n",
              "    .dataframe tbody tr th {\n",
              "        vertical-align: top;\n",
              "    }\n",
              "\n",
              "    .dataframe thead th {\n",
              "        text-align: right;\n",
              "    }\n",
              "</style>\n",
              "<table border=\"1\" class=\"dataframe\">\n",
              "  <thead>\n",
              "    <tr style=\"text-align: right;\">\n",
              "      <th></th>\n",
              "      <th>question</th>\n",
              "      <th>context</th>\n",
              "      <th>answer_text</th>\n",
              "      <th>answer_start</th>\n",
              "      <th>answer_end</th>\n",
              "      <th>title</th>\n",
              "    </tr>\n",
              "  </thead>\n",
              "  <tbody>\n",
              "    <tr>\n",
              "      <th>18954</th>\n",
              "      <td>산케이 신문 지국장 명예훼손 혐의 사건의 발생 과정이 뭐야?</td>\n",
              "      <td>산케이 신문 지국장 명예훼손 혐의 사건 한국 한자産経新聞支局長名譽毁損嫌疑事件 은 2...</td>\n",
              "      <td>세월호 침몰 사고가 발행한 후 2014년 8월 3일 당시 산케이 신문 서울 지국장이...</td>\n",
              "      <td>1415</td>\n",
              "      <td>2289</td>\n",
              "      <td>산케이_신문_지국장_명예훼손_혐의_사건</td>\n",
              "    </tr>\n",
              "    <tr>\n",
              "      <th>26106</th>\n",
              "      <td>영화 남한산성을 통해 대종상 촬영상을 수상한 인물은 누구일까요?</td>\n",
              "      <td>남한산성 은 2017년 10월 3일에 개봉한 대한민국의 영화이다 황동혁 감독이 소설...</td>\n",
              "      <td>김지용</td>\n",
              "      <td>7355</td>\n",
              "      <td>7358</td>\n",
              "      <td>남한산성_(영화)</td>\n",
              "    </tr>\n",
              "    <tr>\n",
              "      <th>50292</th>\n",
              "      <td>남한산성이 축조된 지역의 지리적 특징은 무엇일까요?</td>\n",
              "      <td>세계유산목록에 따른 정식명칭 유네스코에 의해 구분된 지역 남한산성 南漢山城 은 대한...</td>\n",
              "      <td>이곳은 망월봉에서 북동쪽으로 뻗어나간 능선이 남쪽과 북쪽으로 갈라지는 지점이다 북쪽...</td>\n",
              "      <td>33234</td>\n",
              "      <td>33563</td>\n",
              "      <td>남한산성</td>\n",
              "    </tr>\n",
              "    <tr>\n",
              "      <th>50293</th>\n",
              "      <td>4장대중 훼손이 가장 심한 구조물은?</td>\n",
              "      <td>세계유산목록에 따른 정식명칭 유네스코에 의해 구분된 지역 남한산성 南漢山城 은 대한...</td>\n",
              "      <td>북장대</td>\n",
              "      <td>32852</td>\n",
              "      <td>32855</td>\n",
              "      <td>남한산성</td>\n",
              "    </tr>\n",
              "    <tr>\n",
              "      <th>50294</th>\n",
              "      <td>남한산성 내의 지수당을 세운 사람의 이름은?</td>\n",
              "      <td>세계유산목록에 따른 정식명칭 유네스코에 의해 구분된 지역 남한산성 南漢山城 은 대한...</td>\n",
              "      <td>이세화 李世華</td>\n",
              "      <td>38541</td>\n",
              "      <td>38549</td>\n",
              "      <td>남한산성</td>\n",
              "    </tr>\n",
              "    <tr>\n",
              "      <th>...</th>\n",
              "      <td>...</td>\n",
              "      <td>...</td>\n",
              "      <td>...</td>\n",
              "      <td>...</td>\n",
              "      <td>...</td>\n",
              "      <td>...</td>\n",
              "    </tr>\n",
              "    <tr>\n",
              "      <th>77114</th>\n",
              "      <td>장경사에서 가장 화려한 고건축 양식으로 지어진 건물은?</td>\n",
              "      <td>세계유산목록에 따른 정식명칭 유네스코에 의해 구분된 지역 남한산성 南漢山城 은 대한...</td>\n",
              "      <td>대웅전</td>\n",
              "      <td>42044</td>\n",
              "      <td>42047</td>\n",
              "      <td>남한산성</td>\n",
              "    </tr>\n",
              "    <tr>\n",
              "      <th>77115</th>\n",
              "      <td>남한산성 안에 있던 9개의 사찰 중 당시의 모습으로 현존하고 있는 유일한 사찰의 이름은?</td>\n",
              "      <td>세계유산목록에 따른 정식명칭 유네스코에 의해 구분된 지역 남한산성 南漢山城 은 대한...</td>\n",
              "      <td>장경사</td>\n",
              "      <td>41730</td>\n",
              "      <td>41733</td>\n",
              "      <td>남한산성</td>\n",
              "    </tr>\n",
              "    <tr>\n",
              "      <th>77116</th>\n",
              "      <td>병자호란 당시 남한산성이 함몰 위기에 놓였을때 어영별장으로 있던 자의 이름은?</td>\n",
              "      <td>세계유산목록에 따른 정식명칭 유네스코에 의해 구분된 지역 남한산성 南漢山城 은 대한...</td>\n",
              "      <td>이기축</td>\n",
              "      <td>41959</td>\n",
              "      <td>41962</td>\n",
              "      <td>남한산성</td>\n",
              "    </tr>\n",
              "    <tr>\n",
              "      <th>77117</th>\n",
              "      <td>남한산성 내에 존재했던 9개의 사찰 가운데 당시의 모습으로 남아있는 현존하는 유일한...</td>\n",
              "      <td>세계유산목록에 따른 정식명칭 유네스코에 의해 구분된 지역 남한산성 南漢山城 은 대한...</td>\n",
              "      <td>장경사</td>\n",
              "      <td>41730</td>\n",
              "      <td>41733</td>\n",
              "      <td>남한산성</td>\n",
              "    </tr>\n",
              "    <tr>\n",
              "      <th>77118</th>\n",
              "      <td>장경사 건물 중 가장 화려하게 지여진 고건축 양식을 보여주는 건물은?</td>\n",
              "      <td>세계유산목록에 따른 정식명칭 유네스코에 의해 구분된 지역 남한산성 南漢山城 은 대한...</td>\n",
              "      <td>대웅전</td>\n",
              "      <td>42002</td>\n",
              "      <td>42005</td>\n",
              "      <td>남한산성</td>\n",
              "    </tr>\n",
              "  </tbody>\n",
              "</table>\n",
              "<p>123 rows × 6 columns</p>\n",
              "</div>\n",
              "      <button class=\"colab-df-convert\" onclick=\"convertToInteractive('df-3eec001a-ab57-4ef9-b2bd-ad4e4262d20c')\"\n",
              "              title=\"Convert this dataframe to an interactive table.\"\n",
              "              style=\"display:none;\">\n",
              "        \n",
              "  <svg xmlns=\"http://www.w3.org/2000/svg\" height=\"24px\"viewBox=\"0 0 24 24\"\n",
              "       width=\"24px\">\n",
              "    <path d=\"M0 0h24v24H0V0z\" fill=\"none\"/>\n",
              "    <path d=\"M18.56 5.44l.94 2.06.94-2.06 2.06-.94-2.06-.94-.94-2.06-.94 2.06-2.06.94zm-11 1L8.5 8.5l.94-2.06 2.06-.94-2.06-.94L8.5 2.5l-.94 2.06-2.06.94zm10 10l.94 2.06.94-2.06 2.06-.94-2.06-.94-.94-2.06-.94 2.06-2.06.94z\"/><path d=\"M17.41 7.96l-1.37-1.37c-.4-.4-.92-.59-1.43-.59-.52 0-1.04.2-1.43.59L10.3 9.45l-7.72 7.72c-.78.78-.78 2.05 0 2.83L4 21.41c.39.39.9.59 1.41.59.51 0 1.02-.2 1.41-.59l7.78-7.78 2.81-2.81c.8-.78.8-2.07 0-2.86zM5.41 20L4 18.59l7.72-7.72 1.47 1.35L5.41 20z\"/>\n",
              "  </svg>\n",
              "      </button>\n",
              "      \n",
              "  <style>\n",
              "    .colab-df-container {\n",
              "      display:flex;\n",
              "      flex-wrap:wrap;\n",
              "      gap: 12px;\n",
              "    }\n",
              "\n",
              "    .colab-df-convert {\n",
              "      background-color: #E8F0FE;\n",
              "      border: none;\n",
              "      border-radius: 50%;\n",
              "      cursor: pointer;\n",
              "      display: none;\n",
              "      fill: #1967D2;\n",
              "      height: 32px;\n",
              "      padding: 0 0 0 0;\n",
              "      width: 32px;\n",
              "    }\n",
              "\n",
              "    .colab-df-convert:hover {\n",
              "      background-color: #E2EBFA;\n",
              "      box-shadow: 0px 1px 2px rgba(60, 64, 67, 0.3), 0px 1px 3px 1px rgba(60, 64, 67, 0.15);\n",
              "      fill: #174EA6;\n",
              "    }\n",
              "\n",
              "    [theme=dark] .colab-df-convert {\n",
              "      background-color: #3B4455;\n",
              "      fill: #D2E3FC;\n",
              "    }\n",
              "\n",
              "    [theme=dark] .colab-df-convert:hover {\n",
              "      background-color: #434B5C;\n",
              "      box-shadow: 0px 1px 3px 1px rgba(0, 0, 0, 0.15);\n",
              "      filter: drop-shadow(0px 1px 2px rgba(0, 0, 0, 0.3));\n",
              "      fill: #FFFFFF;\n",
              "    }\n",
              "  </style>\n",
              "\n",
              "      <script>\n",
              "        const buttonEl =\n",
              "          document.querySelector('#df-3eec001a-ab57-4ef9-b2bd-ad4e4262d20c button.colab-df-convert');\n",
              "        buttonEl.style.display =\n",
              "          google.colab.kernel.accessAllowed ? 'block' : 'none';\n",
              "\n",
              "        async function convertToInteractive(key) {\n",
              "          const element = document.querySelector('#df-3eec001a-ab57-4ef9-b2bd-ad4e4262d20c');\n",
              "          const dataTable =\n",
              "            await google.colab.kernel.invokeFunction('convertToInteractive',\n",
              "                                                     [key], {});\n",
              "          if (!dataTable) return;\n",
              "\n",
              "          const docLinkHtml = 'Like what you see? Visit the ' +\n",
              "            '<a target=\"_blank\" href=https://colab.research.google.com/notebooks/data_table.ipynb>data table notebook</a>'\n",
              "            + ' to learn more about interactive tables.';\n",
              "          element.innerHTML = '';\n",
              "          dataTable['output_type'] = 'display_data';\n",
              "          await google.colab.output.renderOutput(dataTable, element);\n",
              "          const docLink = document.createElement('div');\n",
              "          docLink.innerHTML = docLinkHtml;\n",
              "          element.appendChild(docLink);\n",
              "        }\n",
              "      </script>\n",
              "    </div>\n",
              "  </div>\n",
              "  "
            ]
          },
          "metadata": {},
          "execution_count": 121
        }
      ]
    },
    {
      "cell_type": "markdown",
      "source": [
        "### 1) test_df 기반 코드(title - 있음)"
      ],
      "metadata": {
        "id": "az9x_EzMq4kW"
      }
    },
    {
      "cell_type": "code",
      "source": [
        "# test_df 기반 코드(title - 있음)\n",
        "\n",
        "def test(user_question):\n",
        "  token_li = okt.phrases(user_question)\n",
        "  token_len = len(token_li) - (len(token_li)-2)\n",
        "  token = token_li[:token_len]\n",
        "\n",
        "  key_title = test_df.query(f'title.str.contains(\"{token[0]}|{token[1]}\")', engine = 'python')\n",
        "  if len(key_title) == 0:\n",
        "    key_question = test_df.query(f'question.str.contains(\"{token[0]}|{token[1]}\")', engine = 'python')\n",
        "    if len(key_question) == 0:\n",
        "     key_context = test_df.query(f'context.str.contains(\"{token[0]}|{token[1]}\")', engine = 'python')\n",
        "    else:\n",
        "     key_context = key_question.query(f'context.str.contains(\"{token[0]}|{token[1]}\")', engine = 'python')\n",
        "     if len(key_context) == 0:\n",
        "      use_context = key_question.drop_duplicates(['context'], ignore_index = True)\n",
        "     else:\n",
        "      use_context = key_context.drop_duplicates(['context'], ignore_index = True)\n",
        "\n",
        "  else:\n",
        "    key_question = key_title.query(f'question.str.contains(\"{token[0]}|{token[1]}\")', engine = 'python')\n",
        "    if len(key_question) == 0:\n",
        "      key_context = key_title.query(f'context.str.contains(\"{token[0]}|{token[1]}\")', engine = 'python')\n",
        "    else:\n",
        "      key_context = key_question.query(f'context.str.contains(\"{token[0]}|{token[1]}\")', engine = 'python')\n",
        "      if len(key_context) == 0:\n",
        "        use_context = key_question.drop_duplicates(['context'], ignore_index = True)\n",
        "      else:\n",
        "        use_context = key_context.drop_duplicates(['context'], ignore_index = True)\n",
        "\n",
        "\n",
        "  context_li = []\n",
        "  for i in range(len(use_context)):\n",
        "    context_li.append(use_context['context'][i])\n",
        "  \n",
        "  context = \" \".join(context_li)\n",
        "\n",
        "  return context"
      ],
      "metadata": {
        "id": "pJA-g80joxkx"
      },
      "execution_count": 97,
      "outputs": []
    },
    {
      "cell_type": "code",
      "source": [
        "# 바그너가 처음 교향곡을 작곡한 장소는?\n",
        "test(input('질문 : '))"
      ],
      "metadata": {
        "id": "71rhmBhPpqJS"
      },
      "execution_count": null,
      "outputs": []
    },
    {
      "cell_type": "markdown",
      "source": [
        "### 2) val_df 기반 코드(title - 없음)"
      ],
      "metadata": {
        "id": "PBkn0oI4qhW1"
      }
    },
    {
      "cell_type": "code",
      "source": [
        "# val_df 기반 코드(title - 없음)\n",
        "\n",
        "def val_test(user_question):\n",
        "  token_li = okt.phrases(user_question)\n",
        "  token_len = len(token_li) - (len(token_li)-2)\n",
        "  token = token_li[:token_len]\n",
        "  \n",
        "  key_question = val_df.query(f'question.str.contains(\"{token[0]}|{token[1]}\")', engine = 'python')\n",
        "  if len(key_question) == 0:\n",
        "    key_context = val_df.query(f'context.str.contains(\"{token[0]}|{token[1]}\")', engine = 'python')\n",
        "  else:\n",
        "    key_context = key_question.query(f'context.str.contains(\"{token[0]}|{token[1]}\")', engine = 'python')\n",
        "    if len(key_context) == 0:\n",
        "      use_context = key_question.drop_duplicates(['context'], ignore_index = True)\n",
        "    else:\n",
        "      use_context = key_context.drop_duplicates(['context'], ignore_index = True)\n",
        "\n",
        "\n",
        "  context_li = []\n",
        "  for i in range(len(use_context)):\n",
        "    context_li.append(use_context['context'][i])\n",
        "  \n",
        "  context = \" \".join(context_li)\n",
        "\n",
        "  return context"
      ],
      "metadata": {
        "id": "gRBIyssWokMm"
      },
      "execution_count": 95,
      "outputs": []
    },
    {
      "cell_type": "code",
      "source": [
        "# 바그너가 처음 교향곡을 작곡한 장소는?\n",
        "val_test(input('질문 : '))"
      ],
      "metadata": {
        "colab": {
          "base_uri": "https://localhost:8080/",
          "height": 164
        },
        "id": "1G3fyecesy7W",
        "outputId": "50dcda4a-82b2-4a5e-b0c8-25ee6cc7a61f"
      },
      "execution_count": 117,
      "outputs": [
        {
          "name": "stdout",
          "output_type": "stream",
          "text": [
            "질문 : 남한산성을 훼손시킨 것은 누구인가?\n"
          ]
        },
        {
          "output_type": "execute_result",
          "data": {
            "text/plain": [
              "'전략 거점으로서 남한산성의 중요성은 조선 태종 때 본격화되었다. 1401년 요동을 다녀온 이자영의 보고에 의거, 명나라가 조선을 침략할 지도 모른다는 위기감이 고조되자 태종은 국경과 내륙을 막론하고 고을 별로 산성을 쌓고 기존의 산성을 개축하여 산성 중심의 방어체제를 구축하기 시작했다. 남한산성도 이러한 국방정책에 따라 세종 때에 군사시설로 이용하기 시작했다. 아직 태종 때부터 세종 때까지 남한산성이 개축되었다는 기록은 발견되지 않았으나, 《세종실록지리지》에서 남한산성에 대해 비교적 상세하게 현황을 파악한 기록이 있는데, 이 기록은 남한산성을 이용하기 위해 현황을 파악한 것으로 볼 수 있으며, 따라서 이를 통해 당시 개축이나 수리는 안했어도 군사기지로 이용하기 시작했음을 알 수 있다. 2006 년 1 월 1 일 호주에서 명예 훼손 혐의로 고소 될 수있는 권리를 엄격히 제한하는 호주의 통일적인 명예 훼손 법 개혁이 있었다. (명예 훼손 법령 Defamation Act 2005 (빅), 9 페이지 참조). 이로 인해 주 및 테리토리의 명예 훼손 관련 법이 비슷하다. 명예 훼손의 일반 금지 규정에서 제외 된 유일한 기업은 비영리 법인 또는 직원 수가 10 명 미만이며, 다른 회사와 제휴하지 않은 비영리 법인 이다. 그러나 원고는 명예 훼손이 악의로 만들어졌으며, 경제적 손실을 초래했음을 입증해야 명예훼손 죄로 고소가 가능하다, 또한, 회사는 여전히 명예 훼손보다 더 큰 중상모략을 통해 입은 거짓 소송에 대해는 명예 훼손으로 고소 할 수 있다.'"
            ],
            "application/vnd.google.colaboratory.intrinsic+json": {
              "type": "string"
            }
          },
          "metadata": {},
          "execution_count": 117
        }
      ]
    },
    {
      "cell_type": "code",
      "source": [
        ""
      ],
      "metadata": {
        "id": "n6T-60MNHsMX"
      },
      "execution_count": 117,
      "outputs": []
    }
  ]
}
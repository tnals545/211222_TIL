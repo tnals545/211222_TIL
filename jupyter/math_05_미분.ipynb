{
 "cells": [
  {
   "cell_type": "code",
   "execution_count": 1,
   "id": "6b3b274f",
   "metadata": {},
   "outputs": [],
   "source": [
    "from sympy import symbols"
   ]
  },
  {
   "cell_type": "markdown",
   "id": "cc39bfea",
   "metadata": {},
   "source": [
    "### 평균변화율 함수"
   ]
  },
  {
   "cell_type": "code",
   "execution_count": 22,
   "id": "94ff2079",
   "metadata": {},
   "outputs": [],
   "source": [
    "def average(a, b):\n",
    "    x = symbols('x')\n",
    "    \n",
    "    fx = 2 * x ** 2 + 4 * x +7 # 2x^2+4x+7 함수 정의\n",
    "    fb = fx.subs(x, b)        # 함수 b에 대입\n",
    "    fa = fx.subs(x, a)        # 함수 a에 대입\n",
    "    \n",
    "    result = (fb - fa) / (b - a)\n",
    "    return result"
   ]
  },
  {
   "cell_type": "code",
   "execution_count": null,
   "id": "1f465089",
   "metadata": {},
   "outputs": [],
   "source": [
    "def average(a, b):\n",
    "    x = symbols('x')\n",
    "    m = max(a, b)   # 최댓값\n",
    "    n = min(a, b)   # 최솟값\n",
    "    \n",
    "    fx = 2 * x ** 2 + 4 * x +7 # 2x^2+4x+7 함수 정의\n",
    "    fb = fx.subs(x, m)        # 함수 m에 대입\n",
    "    fa = fx.subs(x, n)        # 함수 n에 대입\n",
    "    \n",
    "    result = (fb - fa) / (m - n)\n",
    "    return result"
   ]
  },
  {
   "cell_type": "code",
   "execution_count": 23,
   "id": "b2d76977",
   "metadata": {},
   "outputs": [
    {
     "name": "stdout",
     "output_type": "stream",
     "text": [
      "10\n"
     ]
    }
   ],
   "source": [
    "print(average(3, 0))"
   ]
  },
  {
   "cell_type": "code",
   "execution_count": 6,
   "id": "6c99a7fc",
   "metadata": {},
   "outputs": [
    {
     "name": "stdout",
     "output_type": "stream",
     "text": [
      "104\n"
     ]
    }
   ],
   "source": [
    "print(average(20, 30))"
   ]
  },
  {
   "cell_type": "markdown",
   "id": "0f4ff6be",
   "metadata": {},
   "source": [
    "### 순간변화율 함수"
   ]
  },
  {
   "cell_type": "code",
   "execution_count": 7,
   "id": "179ea611",
   "metadata": {},
   "outputs": [],
   "source": [
    "from sympy import Derivative, symbols"
   ]
  },
  {
   "cell_type": "code",
   "execution_count": 8,
   "id": "428ec66a",
   "metadata": {},
   "outputs": [],
   "source": [
    "# 평균변화율을 구할 수 있는 함수를 정의\n",
    "\n",
    "x = symbols('x')\n",
    "fx = 2 * x ** 2 + 4 * x +7"
   ]
  },
  {
   "cell_type": "code",
   "execution_count": 9,
   "id": "13f7555e",
   "metadata": {},
   "outputs": [
    {
     "data": {
      "text/latex": [
       "$\\displaystyle 4 x + 4$"
      ],
      "text/plain": [
       "4*x + 4"
      ]
     },
     "execution_count": 9,
     "metadata": {},
     "output_type": "execute_result"
    }
   ],
   "source": [
    "Derivative(fx, x).doit()"
   ]
  },
  {
   "cell_type": "code",
   "execution_count": 10,
   "id": "4204652d",
   "metadata": {},
   "outputs": [],
   "source": [
    "f_prime = Derivative(fx, x).doit()"
   ]
  },
  {
   "cell_type": "code",
   "execution_count": 11,
   "id": "3e3d1c53",
   "metadata": {},
   "outputs": [
    {
     "data": {
      "text/latex": [
       "$\\displaystyle 16$"
      ],
      "text/plain": [
       "16"
      ]
     },
     "execution_count": 11,
     "metadata": {},
     "output_type": "execute_result"
    }
   ],
   "source": [
    "f_prime.subs({x:3}) # 미분계수 f_prime 3"
   ]
  },
  {
   "cell_type": "markdown",
   "id": "41dc8801",
   "metadata": {},
   "source": [
    "### 다항함수의 미분법"
   ]
  },
  {
   "cell_type": "code",
   "execution_count": 12,
   "id": "386a1109",
   "metadata": {},
   "outputs": [],
   "source": [
    "import sympy as sym"
   ]
  },
  {
   "cell_type": "code",
   "execution_count": 13,
   "id": "e948424f",
   "metadata": {},
   "outputs": [
    {
     "name": "stdout",
     "output_type": "stream",
     "text": [
      "6*x**2 + 6*x + 1\n"
     ]
    }
   ],
   "source": [
    "x = sym.Symbol('x')\n",
    "a = sym.diff((2 * x ** 3 + 3 * x ** 2 + x + 1), x)\n",
    "print(a)"
   ]
  },
  {
   "cell_type": "code",
   "execution_count": null,
   "id": "4e62c6f5",
   "metadata": {},
   "outputs": [],
   "source": []
  }
 ],
 "metadata": {
  "kernelspec": {
   "display_name": "Python 3 (ipykernel)",
   "language": "python",
   "name": "python3"
  },
  "language_info": {
   "codemirror_mode": {
    "name": "ipython",
    "version": 3
   },
   "file_extension": ".py",
   "mimetype": "text/x-python",
   "name": "python",
   "nbconvert_exporter": "python",
   "pygments_lexer": "ipython3",
   "version": "3.9.7"
  }
 },
 "nbformat": 4,
 "nbformat_minor": 5
}

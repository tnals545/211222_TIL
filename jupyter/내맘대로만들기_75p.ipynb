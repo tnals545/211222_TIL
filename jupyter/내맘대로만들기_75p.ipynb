{
 "cells": [
  {
   "cell_type": "code",
   "execution_count": 126,
   "id": "30105c9e",
   "metadata": {
    "scrolled": true
   },
   "outputs": [
    {
     "data": {
      "text/html": [
       "<div>\n",
       "<style scoped>\n",
       "    .dataframe tbody tr th:only-of-type {\n",
       "        vertical-align: middle;\n",
       "    }\n",
       "\n",
       "    .dataframe tbody tr th {\n",
       "        vertical-align: top;\n",
       "    }\n",
       "\n",
       "    .dataframe thead th {\n",
       "        text-align: right;\n",
       "    }\n",
       "</style>\n",
       "<table border=\"1\" class=\"dataframe\">\n",
       "  <thead>\n",
       "    <tr style=\"text-align: right;\">\n",
       "      <th></th>\n",
       "      <th>최저기온(℃)</th>\n",
       "      <th>최고기온(℃)</th>\n",
       "    </tr>\n",
       "    <tr>\n",
       "      <th>일시</th>\n",
       "      <th></th>\n",
       "      <th></th>\n",
       "    </tr>\n",
       "  </thead>\n",
       "  <tbody>\n",
       "    <tr>\n",
       "      <th>2008-11</th>\n",
       "      <td>-7.2</td>\n",
       "      <td>18.4</td>\n",
       "    </tr>\n",
       "    <tr>\n",
       "      <th>2009-11</th>\n",
       "      <td>-4.3</td>\n",
       "      <td>21.8</td>\n",
       "    </tr>\n",
       "    <tr>\n",
       "      <th>2010-11</th>\n",
       "      <td>-5.2</td>\n",
       "      <td>17.4</td>\n",
       "    </tr>\n",
       "    <tr>\n",
       "      <th>2011-11</th>\n",
       "      <td>-5.5</td>\n",
       "      <td>25.9</td>\n",
       "    </tr>\n",
       "    <tr>\n",
       "      <th>2012-11</th>\n",
       "      <td>-3.0</td>\n",
       "      <td>15.7</td>\n",
       "    </tr>\n",
       "    <tr>\n",
       "      <th>2013-11</th>\n",
       "      <td>-6.4</td>\n",
       "      <td>20.7</td>\n",
       "    </tr>\n",
       "    <tr>\n",
       "      <th>2014-11</th>\n",
       "      <td>-3.1</td>\n",
       "      <td>22.9</td>\n",
       "    </tr>\n",
       "    <tr>\n",
       "      <th>2015-11</th>\n",
       "      <td>-7.3</td>\n",
       "      <td>21.0</td>\n",
       "    </tr>\n",
       "    <tr>\n",
       "      <th>2016-11</th>\n",
       "      <td>-6.2</td>\n",
       "      <td>18.6</td>\n",
       "    </tr>\n",
       "    <tr>\n",
       "      <th>2017-11</th>\n",
       "      <td>-6.6</td>\n",
       "      <td>18.4</td>\n",
       "    </tr>\n",
       "    <tr>\n",
       "      <th>2018-11</th>\n",
       "      <td>-3.1</td>\n",
       "      <td>19.4</td>\n",
       "    </tr>\n",
       "    <tr>\n",
       "      <th>2019-11</th>\n",
       "      <td>-4.6</td>\n",
       "      <td>22.1</td>\n",
       "    </tr>\n",
       "    <tr>\n",
       "      <th>2020-11</th>\n",
       "      <td>-3.6</td>\n",
       "      <td>20.0</td>\n",
       "    </tr>\n",
       "    <tr>\n",
       "      <th>2021-11</th>\n",
       "      <td>-3.7</td>\n",
       "      <td>21.3</td>\n",
       "    </tr>\n",
       "  </tbody>\n",
       "</table>\n",
       "</div>"
      ],
      "text/plain": [
       "         최저기온(℃)  최고기온(℃)\n",
       "일시                       \n",
       "2008-11     -7.2     18.4\n",
       "2009-11     -4.3     21.8\n",
       "2010-11     -5.2     17.4\n",
       "2011-11     -5.5     25.9\n",
       "2012-11     -3.0     15.7\n",
       "2013-11     -6.4     20.7\n",
       "2014-11     -3.1     22.9\n",
       "2015-11     -7.3     21.0\n",
       "2016-11     -6.2     18.6\n",
       "2017-11     -6.6     18.4\n",
       "2018-11     -3.1     19.4\n",
       "2019-11     -4.6     22.1\n",
       "2020-11     -3.6     20.0\n",
       "2021-11     -3.7     21.3"
      ]
     },
     "execution_count": 126,
     "metadata": {},
     "output_type": "execute_result"
    }
   ],
   "source": [
    "import pandas as pd\n",
    "import numpy as np\n",
    "from pandas import Series, DataFrame\n",
    "import matplotlib.pyplot as plt\n",
    "\n",
    "df = pd.read_csv('../data/seoul.csv', encoding='CP949')\n",
    "df_date = df.iloc[:, 2].str[-2:]\n",
    "idx = df_date[df_date == '11'].index.tolist()\n",
    "df_low = df.iloc[idx, [2, -2]]\n",
    "df_high = df.iloc[idx, -5]\n",
    "data = pd.concat([df_min, df_max], axis = 1)\n",
    "data = data.set_index(data['일시']).drop(['일시'], axis = 1)\n",
    "data"
   ]
  },
  {
   "cell_type": "code",
   "execution_count": 127,
   "id": "cfb39fa4",
   "metadata": {},
   "outputs": [
    {
     "data": {
      "image/png": "[encoded data removed]",
      "text/plain": [
       "<Figure size 432x288 with 1 Axes>"
      ]
     },
     "metadata": {
      "needs_background": "light"
     },
     "output_type": "display_data"
    }
   ],
   "source": [
    "plt.rc('font', family='Malgun Gothic')\n",
    "plt.rcParams['axes.unicode_minus'] = False # 한글폰트 사용시 - 부호 표현하기\n",
    "plt.title('내 생일 기온 변화 그래프')\n",
    "\n",
    "plt.plot(data, 'orange')\n",
    "plt.xlabel('연도', loc='right') # {‘left’, ‘center’, ‘right’} >> xlabel 위치지정\n",
    "plt.ylabel('온도', loc='top') # {‘bottom’, ‘center’, ‘top’} >> ylabel 위치지정\n",
    "plt.xticks(rotation=45)\n",
    "plt.show()"
   ]
  },
  {
   "cell_type": "code",
   "execution_count": null,
   "id": "bc343477",
   "metadata": {},
   "outputs": [],
   "source": []
  }
 ],
 "metadata": {
  "kernelspec": {
   "display_name": "Python 3 (ipykernel)",
   "language": "python",
   "name": "python3"
  },
  "language_info": {
   "codemirror_mode": {
    "name": "ipython",
    "version": 3
   },
   "file_extension": ".py",
   "mimetype": "text/x-python",
   "name": "python",
   "nbconvert_exporter": "python",
   "pygments_lexer": "ipython3",
   "version": "3.9.7"
  }
 },
 "nbformat": 4,
 "nbformat_minor": 5
}

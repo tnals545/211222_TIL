{
 "cells": [
  {
   "cell_type": "code",
   "execution_count": 2,
   "id": "bffe57bf",
   "metadata": {},
   "outputs": [],
   "source": [
    "from sympy import Symbol, solve"
   ]
  },
  {
   "cell_type": "code",
   "execution_count": 3,
   "id": "cf36a574",
   "metadata": {},
   "outputs": [],
   "source": [
    "x = Symbol('x')"
   ]
  },
  {
   "cell_type": "code",
   "execution_count": 4,
   "id": "817d48d2",
   "metadata": {},
   "outputs": [
    {
     "data": {
      "text/latex": [
       "$\\displaystyle x$"
      ],
      "text/plain": [
       "x"
      ]
     },
     "execution_count": 4,
     "metadata": {},
     "output_type": "execute_result"
    }
   ],
   "source": [
    "x"
   ]
  },
  {
   "cell_type": "code",
   "execution_count": 5,
   "id": "3bad52a1",
   "metadata": {},
   "outputs": [],
   "source": [
    "equation = 2 * x - 6"
   ]
  },
  {
   "cell_type": "code",
   "execution_count": 6,
   "id": "0a91560e",
   "metadata": {},
   "outputs": [
    {
     "data": {
      "text/plain": [
       "[3]"
      ]
     },
     "execution_count": 6,
     "metadata": {},
     "output_type": "execute_result"
    }
   ],
   "source": [
    "solve(equation)"
   ]
  },
  {
   "cell_type": "code",
   "execution_count": 9,
   "id": "efcce452",
   "metadata": {},
   "outputs": [],
   "source": [
    "k = Symbol('k')\n",
    "equation_2 = k + 4 - 2"
   ]
  },
  {
   "cell_type": "code",
   "execution_count": 10,
   "id": "1865c028",
   "metadata": {},
   "outputs": [
    {
     "data": {
      "text/plain": [
       "[-2]"
      ]
     },
     "execution_count": 10,
     "metadata": {},
     "output_type": "execute_result"
    }
   ],
   "source": [
    "solve(equation_2)"
   ]
  },
  {
   "cell_type": "code",
   "execution_count": 11,
   "id": "00ff7bc2",
   "metadata": {},
   "outputs": [
    {
     "name": "stdout",
     "output_type": "stream",
     "text": [
      "x\n",
      "y\n"
     ]
    }
   ],
   "source": [
    "# 방정식과 부등식\n",
    "\n",
    "x = Symbol('x')\n",
    "y = Symbol('y')\n",
    "print(x)\n",
    "print(y)"
   ]
  },
  {
   "cell_type": "code",
   "execution_count": 12,
   "id": "98ab90fd",
   "metadata": {},
   "outputs": [],
   "source": [
    "equation_3 = 3*x+y-2\n",
    "equation_4 = x-2*y-3"
   ]
  },
  {
   "cell_type": "code",
   "execution_count": 13,
   "id": "6091a753",
   "metadata": {},
   "outputs": [
    {
     "data": {
      "text/plain": [
       "[{x: 1, y: -1}]"
      ]
     },
     "execution_count": 13,
     "metadata": {},
     "output_type": "execute_result"
    }
   ],
   "source": [
    "solve((equation_3, equation_4), dict = True)"
   ]
  },
  {
   "cell_type": "code",
   "execution_count": null,
   "id": "20f9638c",
   "metadata": {},
   "outputs": [],
   "source": []
  }
 ],
 "metadata": {
  "kernelspec": {
   "display_name": "Python 3 (ipykernel)",
   "language": "python",
   "name": "python3"
  },
  "language_info": {
   "codemirror_mode": {
    "name": "ipython",
    "version": 3
   },
   "file_extension": ".py",
   "mimetype": "text/x-python",
   "name": "python",
   "nbconvert_exporter": "python",
   "pygments_lexer": "ipython3",
   "version": "3.9.7"
  }
 },
 "nbformat": 4,
 "nbformat_minor": 5
}

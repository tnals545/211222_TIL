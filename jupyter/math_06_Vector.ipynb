{
 "cells": [
  {
   "cell_type": "code",
   "execution_count": 1,
   "id": "4bb002b1",
   "metadata": {},
   "outputs": [
    {
     "name": "stdout",
     "output_type": "stream",
     "text": [
      "[1 2 3]\n"
     ]
    }
   ],
   "source": [
    "import numpy as np\n",
    "\n",
    "x = np.array([1, 2, 3])\n",
    "print(x)"
   ]
  },
  {
   "cell_type": "code",
   "execution_count": 2,
   "id": "2d7801e3",
   "metadata": {},
   "outputs": [
    {
     "data": {
      "text/plain": [
       "array([[1, 2, 3]])"
      ]
     },
     "execution_count": 2,
     "metadata": {},
     "output_type": "execute_result"
    }
   ],
   "source": [
    "# 크기가 (1, 3)인 2차원\n",
    "np.array([[1, 2, 3]])"
   ]
  },
  {
   "cell_type": "code",
   "execution_count": 3,
   "id": "af65741a",
   "metadata": {},
   "outputs": [
    {
     "data": {
      "text/plain": [
       "array([[1],\n",
       "       [2],\n",
       "       [3]])"
      ]
     },
     "execution_count": 3,
     "metadata": {},
     "output_type": "execute_result"
    }
   ],
   "source": [
    "# 크기가 (1, 3)인 2차원 열벡터\n",
    "np.array([[1], [2], [3]])"
   ]
  },
  {
   "cell_type": "code",
   "execution_count": 4,
   "id": "dd33cd8f",
   "metadata": {},
   "outputs": [],
   "source": [
    "from scipy import linalg\n",
    "s = np.array([2, 3, 1])"
   ]
  },
  {
   "cell_type": "code",
   "execution_count": 5,
   "id": "927c0e7a",
   "metadata": {},
   "outputs": [
    {
     "data": {
      "text/plain": [
       "array([0.53452248, 0.80178373, 0.26726124])"
      ]
     },
     "execution_count": 5,
     "metadata": {},
     "output_type": "execute_result"
    }
   ],
   "source": [
    "# 단위 벡터\n",
    "\n",
    "s / linalg.norm(s)"
   ]
  },
  {
   "cell_type": "code",
   "execution_count": 6,
   "id": "fa0f4f2b",
   "metadata": {},
   "outputs": [
    {
     "data": {
      "text/plain": [
       "array([ 0.31622777, -0.9486833 ])"
      ]
     },
     "execution_count": 6,
     "metadata": {},
     "output_type": "execute_result"
    }
   ],
   "source": [
    "# Norm\n",
    "x = np.array([1, -3])\n",
    "x / linalg.norm(x)"
   ]
  },
  {
   "cell_type": "code",
   "execution_count": 7,
   "id": "b571a3cb",
   "metadata": {},
   "outputs": [
    {
     "data": {
      "text/plain": [
       "array([ 0.31622777, -0.9486833 ])"
      ]
     },
     "execution_count": 7,
     "metadata": {},
     "output_type": "execute_result"
    }
   ],
   "source": [
    "# Norm 2\n",
    "x / (x ** 2).sum() ** 0.5"
   ]
  },
  {
   "cell_type": "code",
   "execution_count": 9,
   "id": "03b7e726",
   "metadata": {},
   "outputs": [
    {
     "data": {
      "text/plain": [
       "array([0., 0., 0., 0., 0.])"
      ]
     },
     "execution_count": 9,
     "metadata": {},
     "output_type": "execute_result"
    }
   ],
   "source": [
    "# 영벡터(zeros())\n",
    "np.zeros(5) # 실수로 반환"
   ]
  },
  {
   "cell_type": "code",
   "execution_count": 10,
   "id": "a8380359",
   "metadata": {},
   "outputs": [
    {
     "data": {
      "text/plain": [
       "(5,)"
      ]
     },
     "execution_count": 10,
     "metadata": {},
     "output_type": "execute_result"
    }
   ],
   "source": [
    "np.zeros(5).shape"
   ]
  },
  {
   "cell_type": "code",
   "execution_count": 11,
   "id": "c14a6a9c",
   "metadata": {},
   "outputs": [
    {
     "data": {
      "text/plain": [
       "array([[0., 0.],\n",
       "       [0., 0.]])"
      ]
     },
     "execution_count": 11,
     "metadata": {},
     "output_type": "execute_result"
    }
   ],
   "source": [
    "s = (2, 2)\n",
    "np.zeros(s)"
   ]
  },
  {
   "cell_type": "code",
   "execution_count": 12,
   "id": "b6bdc047",
   "metadata": {},
   "outputs": [
    {
     "data": {
      "text/plain": [
       "2"
      ]
     },
     "execution_count": 12,
     "metadata": {},
     "output_type": "execute_result"
    }
   ],
   "source": [
    "# 선형 독립, 선형 종속\n",
    "# Rank\n",
    "\n",
    "#matrix_rank()\n",
    "\n",
    "x = np.array([[2, 7], [5, 1]])\n",
    "np.linalg.matrix_rank(x)"
   ]
  },
  {
   "cell_type": "code",
   "execution_count": 13,
   "id": "f3772e68",
   "metadata": {},
   "outputs": [
    {
     "data": {
      "text/plain": [
       "1"
      ]
     },
     "execution_count": 13,
     "metadata": {},
     "output_type": "execute_result"
    }
   ],
   "source": [
    "x_2 = np.array([[2, 4], [3, 6]])\n",
    "np.linalg.matrix_rank(x_2)"
   ]
  },
  {
   "cell_type": "code",
   "execution_count": 14,
   "id": "21d6c3ee",
   "metadata": {},
   "outputs": [
    {
     "data": {
      "text/plain": [
       "2"
      ]
     },
     "execution_count": 14,
     "metadata": {},
     "output_type": "execute_result"
    }
   ],
   "source": [
    "x_3 = np.array([[1, 2], [3, 5]])\n",
    "np.linalg.matrix_rank(x_3)"
   ]
  },
  {
   "cell_type": "code",
   "execution_count": 18,
   "id": "18cbc097",
   "metadata": {},
   "outputs": [
    {
     "data": {
      "text/plain": [
       "[5, 4]"
      ]
     },
     "execution_count": 18,
     "metadata": {},
     "output_type": "execute_result"
    }
   ],
   "source": [
    "# 벡터의 내적과 외적\n",
    "\n",
    "x = [2, 3]\n",
    "y = [3, 1]\n",
    "\n",
    "# 벡터의 덧셈, 뺄셈(zip 함수 활용)\n",
    "\n",
    "[i + j for i, j in zip(x, y)]"
   ]
  },
  {
   "cell_type": "code",
   "execution_count": 21,
   "id": "afc603bb",
   "metadata": {},
   "outputs": [
    {
     "name": "stdout",
     "output_type": "stream",
     "text": [
      "[-1, 2]\n"
     ]
    }
   ],
   "source": [
    "z_2 = [i - j for i, j in zip(x, y)]\n",
    "print(z_2)"
   ]
  },
  {
   "cell_type": "code",
   "execution_count": 22,
   "id": "47046a34",
   "metadata": {},
   "outputs": [
    {
     "name": "stdout",
     "output_type": "stream",
     "text": [
      "[24, 32]\n"
     ]
    }
   ],
   "source": [
    "# 벡터의 곱셈(inner product, outer product)\n",
    "\n",
    "x = [3, 4]\n",
    "c = 8\n",
    "\n",
    "z = [c * i for i in x]\n",
    "print(z)"
   ]
  },
  {
   "cell_type": "code",
   "execution_count": 23,
   "id": "b59ba622",
   "metadata": {},
   "outputs": [
    {
     "data": {
      "text/plain": [
       "72"
      ]
     },
     "execution_count": 23,
     "metadata": {},
     "output_type": "execute_result"
    }
   ],
   "source": [
    "# 내적(inner product)\n",
    "\n",
    "u = np.array([6, 6])\n",
    "v = np.array([12, 0])\n",
    "\n",
    "np.dot(u, v)"
   ]
  },
  {
   "cell_type": "code",
   "execution_count": 16,
   "id": "3409e18f",
   "metadata": {},
   "outputs": [
    {
     "data": {
      "text/plain": [
       "[(1, 4), (2, 5), (3, 6)]"
      ]
     },
     "execution_count": 16,
     "metadata": {},
     "output_type": "execute_result"
    }
   ],
   "source": [
    "# zip 함수\n",
    "\n",
    "list(zip([1, 2, 3], [4, 5, 6]))"
   ]
  },
  {
   "cell_type": "code",
   "execution_count": 17,
   "id": "3e30fb42",
   "metadata": {},
   "outputs": [
    {
     "data": {
      "text/plain": [
       "[(1, 4, 7), (2, 5, 8), (3, 6, 9)]"
      ]
     },
     "execution_count": 17,
     "metadata": {},
     "output_type": "execute_result"
    }
   ],
   "source": [
    "list(zip([1, 2, 3], [4, 5, 6], [7, 8, 9]))"
   ]
  },
  {
   "cell_type": "code",
   "execution_count": 4,
   "id": "b0c46327",
   "metadata": {},
   "outputs": [],
   "source": [
    "# 벡터의 내적 원리\n",
    "\n",
    "import numpy as np\n",
    "\n",
    "A = np.arange(1 * 2 * 3).reshape((1, 2, 3))\n",
    "B1 = np.arange(1 * 2 * 3).reshape((1, 2, 3))\n",
    "B2 = np.arange(1 * 2 * 3).reshape((1, 3, 2))\n",
    "B3 = np.arange(1 * 2 * 3).reshape((2, 1, 3))\n",
    "B4 = np.arange(1 * 2 * 3).reshape((2, 3, 1))\n",
    "B5 = np.arange(1 * 2 * 3).reshape((3, 1, 2))\n",
    "B6 = np.arange(1 * 2 * 3).reshape((3, 2, 1))"
   ]
  },
  {
   "cell_type": "code",
   "execution_count": 11,
   "id": "4d2b1a4f",
   "metadata": {},
   "outputs": [],
   "source": [
    "# np.dot(A, B1) # ValueError 발생"
   ]
  },
  {
   "cell_type": "code",
   "execution_count": 6,
   "id": "b946a8cf",
   "metadata": {},
   "outputs": [
    {
     "data": {
      "text/plain": [
       "array([[[[10, 13]],\n",
       "\n",
       "        [[28, 40]]]])"
      ]
     },
     "execution_count": 6,
     "metadata": {},
     "output_type": "execute_result"
    }
   ],
   "source": [
    "np.dot(A, B2)"
   ]
  },
  {
   "cell_type": "code",
   "execution_count": 12,
   "id": "9a915e25",
   "metadata": {},
   "outputs": [],
   "source": [
    "#  np.dot(A, B3) # ValueError 발생"
   ]
  },
  {
   "cell_type": "code",
   "execution_count": 8,
   "id": "b52a1bd8",
   "metadata": {},
   "outputs": [
    {
     "data": {
      "text/plain": [
       "array([[[[ 5],\n",
       "         [14]],\n",
       "\n",
       "        [[14],\n",
       "         [50]]]])"
      ]
     },
     "execution_count": 8,
     "metadata": {},
     "output_type": "execute_result"
    }
   ],
   "source": [
    "np.dot(A, B4)"
   ]
  },
  {
   "cell_type": "code",
   "execution_count": 13,
   "id": "ea27f670",
   "metadata": {},
   "outputs": [],
   "source": [
    "# np.dot(A, B5) # ValueError 발생"
   ]
  },
  {
   "cell_type": "code",
   "execution_count": 14,
   "id": "13d3d85c",
   "metadata": {},
   "outputs": [],
   "source": [
    "# np.dot(A, B6) # ValueError 발생"
   ]
  },
  {
   "cell_type": "code",
   "execution_count": 18,
   "id": "76a85aec",
   "metadata": {},
   "outputs": [
    {
     "name": "stdout",
     "output_type": "stream",
     "text": [
      "-75\n"
     ]
    }
   ],
   "source": [
    "# dot-product (내적)\n",
    "import numpy as np\n",
    "\n",
    "u = np.array([3, -6])\n",
    "v = np.array([-7, 9])\n",
    "\n",
    "uv = np.dot(u, v)\n",
    "print(uv)"
   ]
  },
  {
   "cell_type": "code",
   "execution_count": 20,
   "id": "a6bb42c9",
   "metadata": {},
   "outputs": [],
   "source": [
    "# 외적(cross() 함수 적용)\n",
    "\n",
    "a = (1, 3, 5)\n",
    "b = (2, 4, 6)\n",
    "\n",
    "def cross(a, b):\n",
    "    c = [a[1] * b[2] - a[2] * b[1],\n",
    "        a[2] * b[0] - a[0] * b[2],\n",
    "        a[0] * b[1] - a[1] * b[0]]\n",
    "    return c"
   ]
  },
  {
   "cell_type": "code",
   "execution_count": 21,
   "id": "05063898",
   "metadata": {},
   "outputs": [
    {
     "data": {
      "text/plain": [
       "[-2, 4, -2]"
      ]
     },
     "execution_count": 21,
     "metadata": {},
     "output_type": "execute_result"
    }
   ],
   "source": [
    "cross(a, b)"
   ]
  },
  {
   "cell_type": "code",
   "execution_count": 22,
   "id": "d743100e",
   "metadata": {},
   "outputs": [
    {
     "name": "stdout",
     "output_type": "stream",
     "text": [
      "[-2  4 -2]\n"
     ]
    }
   ],
   "source": [
    "# numpy 이용 벡터 외적 구하기\n",
    "import numpy as np\n",
    "\n",
    "print(np.cross(a, b))"
   ]
  },
  {
   "cell_type": "code",
   "execution_count": 23,
   "id": "7d4e1df7",
   "metadata": {},
   "outputs": [
    {
     "name": "stdout",
     "output_type": "stream",
     "text": [
      "[1 2]\n"
     ]
    }
   ],
   "source": [
    "# 직교 벡터\n",
    "import numpy as np\n",
    "\n",
    "# 크기가 (1, 2)인 2차원 배열\n",
    "\n",
    "a = np.array([1, 2])\n",
    "print(a)"
   ]
  },
  {
   "cell_type": "code",
   "execution_count": 24,
   "id": "9193510e",
   "metadata": {},
   "outputs": [
    {
     "data": {
      "text/plain": [
       "2.23606797749979"
      ]
     },
     "execution_count": 24,
     "metadata": {},
     "output_type": "execute_result"
    }
   ],
   "source": [
    "np.linalg.norm(a) # a의 길이"
   ]
  },
  {
   "cell_type": "code",
   "execution_count": 25,
   "id": "d94ac5a5",
   "metadata": {},
   "outputs": [
    {
     "data": {
      "text/plain": [
       "3.0"
      ]
     },
     "execution_count": 25,
     "metadata": {},
     "output_type": "execute_result"
    }
   ],
   "source": [
    "# L1 norm\n",
    "\n",
    "np.linalg.norm(a, ord = 1)"
   ]
  },
  {
   "cell_type": "code",
   "execution_count": 26,
   "id": "ea946512",
   "metadata": {},
   "outputs": [
    {
     "data": {
      "text/plain": [
       "2.23606797749979"
      ]
     },
     "execution_count": 26,
     "metadata": {},
     "output_type": "execute_result"
    }
   ],
   "source": [
    "# L2 norm\n",
    "\n",
    "np.linalg.norm(a, ord = 2)"
   ]
  },
  {
   "cell_type": "code",
   "execution_count": 27,
   "id": "0d7d4b23",
   "metadata": {},
   "outputs": [
    {
     "name": "stdout",
     "output_type": "stream",
     "text": [
      "Euclidean distance:  5.196152422706632\n"
     ]
    }
   ],
   "source": [
    "# 유클리디언 거리 구하기\n",
    "\n",
    "from scipy.spatial import distance\n",
    "\n",
    "p1 = (1, 2, 3)\n",
    "p2 = (4, 5, 6)\n",
    "\n",
    "# p1, p2 사이 유클리디언 거리\n",
    "d = distance.euclidean(p1, p2)\n",
    "print('Euclidean distance: ', d)"
   ]
  },
  {
   "cell_type": "code",
   "execution_count": 28,
   "id": "b76e32b3",
   "metadata": {},
   "outputs": [
    {
     "data": {
      "text/plain": [
       "9"
      ]
     },
     "execution_count": 28,
     "metadata": {},
     "output_type": "execute_result"
    }
   ],
   "source": [
    "# 맨해튼 거리\n",
    "\n",
    "from math import *\n",
    "\n",
    "p1 = (1, 2, 3)\n",
    "p2 = (4, 5, 6)\n",
    "\n",
    "# p1, p2 사이 맨해튼 거리\n",
    "def manhattan_distance(x, y):\n",
    "    return sum(abs(a - b) for a, b in zip(x, y))\n",
    "\n",
    "manhattan_distance(p1, p2)"
   ]
  },
  {
   "cell_type": "code",
   "execution_count": 29,
   "id": "86f0f594",
   "metadata": {},
   "outputs": [
    {
     "name": "stdout",
     "output_type": "stream",
     "text": [
      "0.5773502691896258\n",
      "0.8838834764831843\n",
      "0.8164965809277259\n"
     ]
    }
   ],
   "source": [
    "# 코사인(cos) 유사도 - 문서 유사도\n",
    "from numpy import dot\n",
    "from numpy.linalg import norm\n",
    "import numpy as np\n",
    "\n",
    "def cos_sim(A, B):\n",
    "    return dot(A, B) / (norm(A) * norm(B))\n",
    "\n",
    "doc1 = np.array([1, 1, 1, 1, 0])\n",
    "doc2 = np.array([1, 0, 1, 0, 1])\n",
    "doc3 = np.array([2, 1, 1, 1, 1])\n",
    "\n",
    "print(cos_sim(doc1, doc2))\n",
    "print(cos_sim(doc1, doc3)) # 문서 1과 문서 3 유사도가 가장 높음\n",
    "print(cos_sim(doc2, doc3))"
   ]
  },
  {
   "cell_type": "code",
   "execution_count": null,
   "id": "cfbc75fb",
   "metadata": {},
   "outputs": [],
   "source": []
  }
 ],
 "metadata": {
  "kernelspec": {
   "display_name": "Python 3 (ipykernel)",
   "language": "python",
   "name": "python3"
  },
  "language_info": {
   "codemirror_mode": {
    "name": "ipython",
    "version": 3
   },
   "file_extension": ".py",
   "mimetype": "text/x-python",
   "name": "python",
   "nbconvert_exporter": "python",
   "pygments_lexer": "ipython3",
   "version": "3.9.7"
  }
 },
 "nbformat": 4,
 "nbformat_minor": 5
}
